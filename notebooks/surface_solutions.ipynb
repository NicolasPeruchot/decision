{
   "cells": [
      {
         "cell_type": "code",
         "execution_count": 1,
         "metadata": {},
         "outputs": [],
         "source": [
            "from tqdm import tqdm\n",
            "import time\n",
            "import json\n",
            "from enum import Enum\n",
            "from gurobipy import Model, GRB, quicksum, max_\n",
            "import numpy as np\n",
            "import pandas as pd\n",
            "from random import randint\n",
            "import plotly.graph_objs as go\n"
         ]
      },
      {
         "cell_type": "code",
         "execution_count": 2,
         "metadata": {},
         "outputs": [],
         "source": [
            "class DATASET(Enum):\n",
            "    TOY = \"toy\"\n",
            "    MEDIUM = \"medium\"\n",
            "    LARGE = \"large\""
         ]
      },
      {
         "attachments": {},
         "cell_type": "markdown",
         "metadata": {},
         "source": [
            "# Fonctions pour préparer le modèle\n"
         ]
      },
      {
         "cell_type": "code",
         "execution_count": 3,
         "metadata": {},
         "outputs": [],
         "source": [
            "def load_data(name):\n",
            "    \"\"\"name must be an instance of DATASET like DATASET.TOY for example\"\"\"\n",
            "    if not isinstance(name, DATASET):\n",
            "        raise TypeError(\"direction must be an instance of DATASET Enum\")\n",
            "    with open(f\"../data/{name.value}_instance.json\", \"r\") as f:\n",
            "        data = json.load(f)\n",
            "    return data\n",
            "\n",
            "\n",
            "def get_dims(data):\n",
            "    return (\n",
            "        len(data[\"staff\"]),\n",
            "        data[\"horizon\"],\n",
            "        len(data[\"qualifications\"]),\n",
            "        len(data[\"jobs\"]),\n",
            "    )\n",
            "\n",
            "def get_qualification_index(list_qualifications, qualification): # qualification is \"A\", \"B\", \"C\" ...\n",
            "    return list_qualifications.index(qualification)"
         ]
      },
      {
         "cell_type": "code",
         "execution_count": 4,
         "metadata": {},
         "outputs": [],
         "source": [
            "def init_model():\n",
            "    m = Model(\"Project modelling\")\n",
            "    return m"
         ]
      },
      {
         "cell_type": "code",
         "execution_count": 5,
         "metadata": {},
         "outputs": [],
         "source": [
            "def create_decision_variables(model, n_staff, horizon, n_qualifs, n_jobs):\n",
            "    X = model.addVars(n_staff, horizon, n_qualifs, n_jobs, vtype=GRB.BINARY, name=\"assignements\")\n",
            "    J = model.addVars(n_jobs, vtype=GRB.BINARY, name=\"completion\")\n",
            "    E_D = model.addVars(n_jobs, lb=0, ub=horizon, vtype=GRB.INTEGER, name=\"end_dates\")\n",
            "    L = model.addVars(n_jobs, lb=0, ub=horizon + 1, vtype=GRB.INTEGER, name=\"n_days_late\")\n",
            "    # profit \n",
            "    profit = model.addVar(lb =0, vtype = GRB.INTEGER, name = \"profit\")\n",
            "    # for max(days spent on project) variable\n",
            "    S_D = model.addVars(n_jobs, lb=0, ub=horizon, vtype=GRB.INTEGER, name=\"start_dates\")\n",
            "    spans = model.addVars(n_jobs, lb=0, ub=horizon, vtype=GRB.INTEGER, name=\"spans\")\n",
            "    max_days = model.addVar(lb=0, ub=horizon, vtype=GRB.INTEGER, name=\"max_jobs\")\n",
            "    # for max(projects affected) variable \n",
            "    n_jobs_per_person = model.addVars(n_staff, lb=0, ub=n_jobs, vtype=GRB.INTEGER, name=\"n_jobs_per_person\")\n",
            "    jobs_worked_on_by_person = model.addVars(n_staff, n_jobs, vtype=GRB.BINARY, name=\"jobs_worked_on_by_person\")\n",
            "    n_worked_days_per_job_and_person = model.addVars(n_staff, n_jobs,lb=0, ub=horizon, vtype=GRB.INTEGER, name=\"n_worked_days_per_job_and_person\")\n",
            "    max_jobs = model.addVar(lb=0, ub=n_jobs, vtype=GRB.INTEGER, name=\"max_jobs\")\n",
            "    return model, X, J, S_D, E_D, L, n_jobs_per_person, jobs_worked_on_by_person, n_worked_days_per_job_and_person, max_jobs, max_days, spans, profit\n"
         ]
      },
      {
         "cell_type": "code",
         "execution_count": 6,
         "metadata": {},
         "outputs": [],
         "source": [
            "def add_constraints_start_dates(model, X, S_D, n_staff, horizon, n_qualifs, n_jobs):\n",
            "    # model.addConstrs(\n",
            "    #     (X[i, j, k, l] == 1) >> (X[i, j, k, l] * j >= S_D[l]) \n",
            "    #     for i in range(n_staff)\n",
            "    #     for j in range(horizon)\n",
            "    #     for k in range(n_qualifs)\n",
            "    #     for l in range(n_jobs)\n",
            "    # )\n",
            "    model.addConstrs(\n",
            "        S_D[l] <= X[i, j, k, l] * j + (1 - X[i, j, k, l]) * horizon\n",
            "        for i in range(n_staff)\n",
            "        for j in range(horizon) \n",
            "        for k in range(n_qualifs)\n",
            "        for l in range(n_jobs)\n",
            "    )"
         ]
      },
      {
         "cell_type": "code",
         "execution_count": 7,
         "metadata": {},
         "outputs": [],
         "source": [
            "def add_constraints_end_dates(model, X, E_D, n_staff, horizon, n_qualifs, n_jobs):\n",
            "    model.addConstrs(\n",
            "        X[i, j, k, l] * j <= E_D[l] \n",
            "        for i in range(n_staff)\n",
            "        for j in range(horizon)\n",
            "        for k in range(n_qualifs)\n",
            "        for l in range(n_jobs)\n",
            "    )"
         ]
      },
      {
         "cell_type": "code",
         "execution_count": 8,
         "metadata": {},
         "outputs": [],
         "source": [
            "def add_constraints_lateness(model, E_D, L, jobs, n_staff, horizon, n_qualifs, n_jobs):\n",
            "    model.addConstrs(\n",
            "        E_D[l] - jobs[l][\"due_date\"] <= L[l] for l in range(n_jobs)\n",
            "    )"
         ]
      },
      {
         "cell_type": "code",
         "execution_count": 9,
         "metadata": {},
         "outputs": [],
         "source": [
            "def add_constraints_worked_days_below_required_days(model, X, jobs, qualifications, n_staff, horizon, n_jobs):\n",
            "    model.addConstrs(quicksum(X[i,j,get_qualification_index(qualifications, k),l] for i in range(n_staff) for j in range(horizon)) <= jobs[l][\"working_days_per_qualification\"][k] \n",
            "                     for l in range(n_jobs) \n",
            "                     for k in jobs[l][\"working_days_per_qualification\"].keys())\n",
            "    "
         ]
      },
      {
         "cell_type": "code",
         "execution_count": 10,
         "metadata": {},
         "outputs": [],
         "source": [
            "def add_constraints_worked_days_above_required_days(model, X, J, jobs, qualifications, n_staff, horizon, n_jobs):\n",
            "    model.addConstrs(quicksum(X[i,j,get_qualification_index(qualifications, k),l] for i in range(n_staff) for j in range(horizon)) >= J[l]* jobs[l][\"working_days_per_qualification\"][k] \n",
            "                     for l in range(n_jobs) \n",
            "                     for k in jobs[l][\"working_days_per_qualification\"].keys())\n",
            "\n",
            "    # for l in range(n_jobs): \n",
            "    #     for quali,njk in data[\"jobs\"][l][\"working_days_per_qualification\"].items():\n",
            "    #         model.addConstr(J[l]*njk <= quicksum([X[i,j,get_qualification_index(qualifications, quali),l] for i in range(n_staff) for j in range(horizon)]))"
         ]
      },
      {
         "cell_type": "code",
         "execution_count": 11,
         "metadata": {},
         "outputs": [],
         "source": [
            "def add_constraints_employees_working_only_one_day(model, X, J, data, n_staff, n_jobs, horizon, n_qualifs):\n",
            "    model.addConstrs(quicksum(X[i,j,k,l] for l in range(n_jobs) for k in range (n_qualifs)) <= 1 \n",
            "                     for i in range(n_staff) \n",
            "                     for j in range(horizon))"
         ]
      },
      {
         "cell_type": "code",
         "execution_count": 12,
         "metadata": {},
         "outputs": [],
         "source": [
            "def in_qualification(data, i, k):\n",
            "    return data[\"qualifications\"][k] in data[\"staff\"][i][\"qualifications\"]\n",
            "\n",
            "\n",
            "def add_qualification_constraints(model, n_staff, horizon, n_qualifs, n_jobs, X, data):\n",
            "    model.addConstrs(\n",
            "        X[i, j, k, l] == 0\n",
            "        for i in range(n_staff)\n",
            "        for j in range(horizon)\n",
            "        for k in range(n_qualifs)\n",
            "        for l in range(n_jobs)\n",
            "        if not in_qualification(data, i, k)\n",
            "    )\n",
            "\n",
            "\n",
            "def in_vacation(i, j, data):\n",
            "    data = {l: data[\"staff\"][l] for l in range(len(data[\"staff\"]))}\n",
            "    data = data[i][\"vacations\"]\n",
            "    return j in data\n",
            "\n",
            "\n",
            "def add_vacation_constraints(model, n_staff, horizon, n_qualifs, n_jobs, X, data):\n",
            "    model.addConstrs(\n",
            "        X[i, j, k, l] == 0\n",
            "        for i in range(n_staff)\n",
            "        for j in range(horizon)\n",
            "        for k in range(n_qualifs)\n",
            "        for l in range(n_jobs)\n",
            "        if in_vacation(i, j, data)\n",
            "    )"
         ]
      },
      {
         "cell_type": "code",
         "execution_count": 13,
         "metadata": {},
         "outputs": [],
         "source": [
            "def add_constraint_profit(model, J, L, profit, jobs):\n",
            "    model.addConstr(profit == quicksum( (J[index_job] * job[\"gain\"] - job[\"daily_penalty\"] * L[index_job]) for index_job, job in enumerate(jobs)))"
         ]
      },
      {
         "cell_type": "code",
         "execution_count": 14,
         "metadata": {},
         "outputs": [],
         "source": [
            "def add_constraints_n_worked_days_per_jobs_person(model, X, n_worked_days_per_job_and_person, n_staff, n_jobs, horizon, n_qualifs):\n",
            "    model.addConstrs( n_worked_days_per_job_and_person[i, l] == quicksum( X[i,j,k,l] for j in range(horizon) for k in range(n_qualifs)) \n",
            "        for i in range(n_staff) \n",
            "        for l in range(n_jobs)\n",
            "    )\n",
            "\n",
            "def add_constraints_jobs_worked_on_by_person(model, jobs_worked_on_by_person, n_worked_days_per_job_and_person, n_staff, n_jobs):\n",
            "    model.addConstrs((jobs_worked_on_by_person[i, l] == 0) >> (n_worked_days_per_job_and_person[i,l] == 0) \n",
            "        for i in range(n_staff) \n",
            "        for l in range(n_jobs)\n",
            "    ) \n",
            "    # model.addConstrs((jobs_worked_on_by_person[i, l] <= n_worked_days_per_job_and_person[i,l]) \n",
            "    #     for i in range(n_staff) \n",
            "    #     for l in range(n_jobs)\n",
            "    # ) \n",
            "    model.addConstrs((jobs_worked_on_by_person[i, l] == 1) >> (n_worked_days_per_job_and_person[i,l] >= 1) \n",
            "        for i in range(n_staff) \n",
            "        for l in range(n_jobs)\n",
            "    )\n",
            "    # model.addConstrs((n_worked_days_per_job_and_person[i, l] <= jobs_worked_on_by_person[i,l]*n_jobs) \n",
            "    #     for i in range(n_staff) \n",
            "    #     for l in range(n_jobs)\n",
            "    # ) \n",
            "\n",
            "def add_constraints_n_jobs_per_person(model, n_jobs_per_person, jobs_worked_on_by_person, n_staff, n_jobs):\n",
            "    model.addConstrs(n_jobs_per_person[i] == quicksum( jobs_worked_on_by_person[i, l] for l in range(n_jobs) ) for i in range(n_staff))\n",
            "\n",
            "def add_constraint_max_jobs(model, max_jobs, n_jobs_per_person, jobs_worked_on_by_person, n_staff):\n",
            "    model.addConstr(max_jobs == max_([n_jobs_per_person[i] for i in range(n_staff)]))"
         ]
      },
      {
         "cell_type": "code",
         "execution_count": 15,
         "metadata": {},
         "outputs": [],
         "source": [
            "def add_constraint_spans(model, spans, E_D, S_D, n_jobs):\n",
            "    model.addConstrs((spans[l] == (E_D[l] - S_D[l])+1) for l in range(n_jobs))\n",
            "\n",
            "def add_constraint_max_days(model, max_days, spans, n_jobs):\n",
            "    for l in range(n_jobs):\n",
            "        model.addConstr(max_days >= spans[l]) \n",
            "    # model.addConstr(max_days == max_([spans[l] for l in range(n_jobs)]))"
         ]
      },
      {
         "cell_type": "code",
         "execution_count": 16,
         "metadata": {},
         "outputs": [],
         "source": [
            "def add_profit_as_first_objective(model, J, L, jobs):\n",
            "    model.setObjective(\n",
            "        quicksum( (J[index_job] * job[\"gain\"] - job[\"daily_penalty\"] * L[index_job]) for index_job, job in enumerate(jobs)),\n",
            "        GRB.MAXIMIZE\n",
            "    )\n",
            "    return model\n",
            "\n",
            "## add pouieme des autres"
         ]
      },
      {
         "cell_type": "code",
         "execution_count": 17,
         "metadata": {},
         "outputs": [],
         "source": [
            "def add_minimax_jobs_as_second_objective(model, max_jobs):\n",
            "    model.setObjective(\n",
            "        max_jobs,\n",
            "        GRB.MINIMIZE\n",
            "    )\n",
            "    return model"
         ]
      },
      {
         "cell_type": "code",
         "execution_count": 18,
         "metadata": {},
         "outputs": [],
         "source": [
            "def add_minimax_days_spent_as_third_objective(model, max_days):\n",
            "    model.setObjective(\n",
            "        max_days,\n",
            "        GRB.MINIMIZE\n",
            "    )\n",
            "    return model"
         ]
      },
      {
         "cell_type": "code",
         "execution_count": 19,
         "metadata": {},
         "outputs": [],
         "source": [
            "def add_mono_objective(model, profit, max_days, max_jobs):\n",
            "    model.setObjective(\n",
            "        10 * profit - max_days - max_jobs,\n",
            "        GRB.MAXIMIZE\n",
            "    )\n",
            "    return model, profit, max_days, max_jobs"
         ]
      },
      {
         "attachments": {},
         "cell_type": "markdown",
         "metadata": {},
         "source": [
            "# Surface"
         ]
      },
      {
         "cell_type": "code",
         "execution_count": 20,
         "metadata": {},
         "outputs": [],
         "source": [
            "def prepare_model(data):\n",
            "    n_staff, horizon, n_qualifs, n_jobs = get_dims(data)\n",
            "\n",
            "    # Instanciation du modèle\n",
            "    model = init_model()\n",
            "    \n",
            "    # Création des variables : binaires dans X et J, entières de 0 à horizon + 3\n",
            "    model, X, J, S_D, E_D, L, n_jobs_per_person, jobs_worked_on_by_person, n_worked_days_per_job_and_person, max_jobs, max_days, spans, profit = create_decision_variables(model, n_staff, horizon, n_qualifs, n_jobs)\n",
            "    \n",
            "    # maj du modèle\n",
            "    model.update()\n",
            "    \n",
            "    # Ajout des constraintes\n",
            "    \n",
            "    add_constraints_employees_working_only_one_day(model, X ,J,data,n_staff,n_jobs,horizon, n_qualifs)\n",
            "    add_qualification_constraints(model, n_staff, horizon, n_qualifs, n_jobs, X, data)\n",
            "    add_vacation_constraints(model, n_staff, horizon, n_qualifs, n_jobs, X, data)\n",
            "    \n",
            "    add_constraints_start_dates(model, X, S_D, n_staff, horizon, n_qualifs, n_jobs)\n",
            "    add_constraints_end_dates(model, X, E_D, n_staff, horizon, n_qualifs, n_jobs)\n",
            "    add_constraints_lateness(model, E_D, L, data[\"jobs\"], n_staff, horizon, n_qualifs, n_jobs)\n",
            "    \n",
            "    add_constraints_worked_days_below_required_days(model, X, data[\"jobs\"], data[\"qualifications\"], n_staff, horizon, n_jobs)\n",
            "    add_constraints_worked_days_above_required_days(model, X , J, data[\"jobs\"], data[\"qualifications\"], n_staff, horizon, n_jobs)\n",
            "    \n",
            "    add_constraints_n_worked_days_per_jobs_person(model, X, n_worked_days_per_job_and_person, n_staff, n_jobs, horizon, n_qualifs)\n",
            "    add_constraints_jobs_worked_on_by_person(model, jobs_worked_on_by_person, n_worked_days_per_job_and_person, n_staff, n_jobs)\n",
            "    add_constraints_n_jobs_per_person(model, n_jobs_per_person, jobs_worked_on_by_person, n_staff, n_jobs)\n",
            "    add_constraint_spans(model, spans, E_D, S_D, n_jobs)\n",
            "    \n",
            "    add_constraint_profit(model, J, L, profit, data[\"jobs\"])\n",
            "    add_constraint_max_jobs(model, max_jobs, n_jobs_per_person, jobs_worked_on_by_person, n_staff)\n",
            "    add_constraint_max_days(model, max_days, spans, n_jobs)\n",
            "    \n",
            "    \n",
            "    # Fonctions Objectifs\n",
            "    \n",
            "    # model = add_minimax_jobs_as_second_objective(model, max_jobs)\n",
            "    # model = add_minimax_days_spent_as_third_objective(model, max_days)\n",
            "    # model = add_profit_as_first_objective(model, J, L, data[\"jobs\"])\n",
            "    \n",
            "    model, profit, max_days, max_jobs = add_mono_objective(model, profit, max_days, max_jobs)\n",
            "    \n",
            "    # maj du modèle\n",
            "    model.update()\n",
            "    \n",
            "    # Paramétrage (mode mute)\n",
            "    model.params.outputflag = 0\n",
            "\n",
            "    return model, profit, max_days, max_jobs"
         ]
      },
      {
         "cell_type": "code",
         "execution_count": 44,
         "metadata": {},
         "outputs": [],
         "source": [
            "def main(dataset):\n",
            "    data = load_data(dataset)\n",
            "    n_staff, horizon, n_qualifs, n_jobs = get_dims(data)\n",
            "    points = []\n",
            "    for i in tqdm(range(horizon, -1, -1)):\n",
            "        for j in range(n_jobs, -1, -1):\n",
            "            print(j, \" / \", n_jobs)\n",
            "            model, profit, max_days, max_jobs = prepare_model(data)\n",
            "            model.addConstr(max_jobs <= j)\n",
            "            model.addConstr(max_days <= i)\n",
            "            model.update()\n",
            "            model.optimize()\n",
            "            point = np.array([round(i), round(j), round(profit.X)])\n",
            "            points.append(point)\n",
            "    points = np.array(points)\n",
            "    return points\n",
            "\n",
            "    \n",
            "    "
         ]
      },
      {
         "cell_type": "code",
         "execution_count": 45,
         "metadata": {},
         "outputs": [
            {
               "name": "stderr",
               "output_type": "stream",
               "text": [
                  "  0%|          | 0/6 [00:00<?, ?it/s]"
               ]
            },
            {
               "name": "stdout",
               "output_type": "stream",
               "text": [
                  "5  /  5\n",
                  "4  /  5\n",
                  "3  /  5\n",
                  "2  /  5\n"
               ]
            },
            {
               "name": "stderr",
               "output_type": "stream",
               "text": [
                  " 17%|█▋        | 1/6 [00:00<00:03,  1.46it/s]"
               ]
            },
            {
               "name": "stdout",
               "output_type": "stream",
               "text": [
                  "1  /  5\n",
                  "0  /  5\n",
                  "5  /  5\n",
                  "4  /  5\n",
                  "3  /  5\n",
                  "2  /  5\n"
               ]
            },
            {
               "name": "stderr",
               "output_type": "stream",
               "text": [
                  " 33%|███▎      | 2/6 [00:01<00:02,  1.54it/s]"
               ]
            },
            {
               "name": "stdout",
               "output_type": "stream",
               "text": [
                  "1  /  5\n",
                  "0  /  5\n",
                  "5  /  5\n",
                  "4  /  5\n",
                  "3  /  5\n",
                  "2  /  5\n"
               ]
            },
            {
               "name": "stderr",
               "output_type": "stream",
               "text": [
                  " 50%|█████     | 3/6 [00:01<00:01,  1.51it/s]"
               ]
            },
            {
               "name": "stdout",
               "output_type": "stream",
               "text": [
                  "1  /  5\n",
                  "0  /  5\n",
                  "5  /  5\n",
                  "4  /  5\n",
                  "3  /  5\n",
                  "2  /  5\n",
                  "1  /  5\n"
               ]
            },
            {
               "name": "stderr",
               "output_type": "stream",
               "text": [
                  " 67%|██████▋   | 4/6 [00:02<00:01,  1.30it/s]"
               ]
            },
            {
               "name": "stdout",
               "output_type": "stream",
               "text": [
                  "0  /  5\n",
                  "5  /  5\n",
                  "4  /  5\n",
                  "3  /  5\n",
                  "2  /  5\n",
                  "1  /  5\n"
               ]
            },
            {
               "name": "stderr",
               "output_type": "stream",
               "text": [
                  " 83%|████████▎ | 5/6 [00:03<00:00,  1.44it/s]"
               ]
            },
            {
               "name": "stdout",
               "output_type": "stream",
               "text": [
                  "0  /  5\n",
                  "5  /  5\n",
                  "4  /  5\n",
                  "3  /  5\n",
                  "2  /  5\n",
                  "1  /  5\n",
                  "0  /  5\n"
               ]
            },
            {
               "name": "stderr",
               "output_type": "stream",
               "text": [
                  "100%|██████████| 6/6 [00:03<00:00,  1.64it/s]"
               ]
            },
            {
               "name": "stdout",
               "output_type": "stream",
               "text": [
                  "[[ 5  5 70]\n",
                  " [ 5  4 70]\n",
                  " [ 5  3 70]\n",
                  " [ 5  2 67]\n",
                  " [ 5  1 45]\n",
                  " [ 5  0  0]\n",
                  " [ 4  5 70]\n",
                  " [ 4  4 70]\n",
                  " [ 4  3 70]\n",
                  " [ 4  2 67]\n",
                  " [ 4  1 45]\n",
                  " [ 4  0  0]\n",
                  " [ 3  5 70]\n",
                  " [ 3  4 70]\n",
                  " [ 3  3 70]\n",
                  " [ 3  2 65]\n",
                  " [ 3  1 42]\n",
                  " [ 3  0  0]\n",
                  " [ 2  5 70]\n",
                  " [ 2  4 70]\n",
                  " [ 2  3 70]\n",
                  " [ 2  2 55]\n",
                  " [ 2  1 30]\n",
                  " [ 2  0  0]\n",
                  " [ 1  5 65]\n",
                  " [ 1  4 65]\n",
                  " [ 1  3 55]\n",
                  " [ 1  2 40]\n",
                  " [ 1  1 20]\n",
                  " [ 1  0  0]\n",
                  " [ 0  5  0]\n",
                  " [ 0  4  0]\n",
                  " [ 0  3  0]\n",
                  " [ 0  2  0]\n",
                  " [ 0  1  0]\n",
                  " [ 0  0  0]]\n"
               ]
            },
            {
               "name": "stderr",
               "output_type": "stream",
               "text": [
                  "\n"
               ]
            }
         ],
         "source": [
            "dataset = DATASET.MEDIUM\n",
            "data = load_data(dataset)\n",
            "n_staff, horizon, n_qualifs, n_jobs = get_dims(data)\n",
            "points = main(dataset)\n",
            "print(points)"
         ]
      },
      {
         "attachments": {},
         "cell_type": "markdown",
         "metadata": {},
         "source": [
            "# Visualisation"
         ]
      },
      {
         "cell_type": "code",
         "execution_count": 46,
         "metadata": {},
         "outputs": [
            {
               "name": "stdout",
               "output_type": "stream",
               "text": [
                  "[5 5 5 5 5 5 4 4 4 4 4 4 3 3 3 3 3 3 2 2 2 2 2 2 1 1 1 1 1 1 0 0 0 0 0 0]\n"
               ]
            }
         ],
         "source": [
            "print(points[:,0])"
         ]
      },
      {
         "cell_type": "code",
         "execution_count": 48,
         "metadata": {},
         "outputs": [
            {
               "name": "stdout",
               "output_type": "stream",
               "text": [
                  "[[5. 4. 3. 2. 1. 0.]\n",
                  " [5. 4. 3. 2. 1. 0.]\n",
                  " [5. 4. 3. 2. 1. 0.]\n",
                  " [5. 4. 3. 2. 1. 0.]\n",
                  " [5. 4. 3. 2. 1. 0.]\n",
                  " [5. 4. 3. 2. 1. 0.]]\n",
                  "[[5. 5. 5. 5. 5. 5.]\n",
                  " [4. 4. 4. 4. 4. 4.]\n",
                  " [3. 3. 3. 3. 3. 3.]\n",
                  " [2. 2. 2. 2. 2. 2.]\n",
                  " [1. 1. 1. 1. 1. 1.]\n",
                  " [0. 0. 0. 0. 0. 0.]]\n",
                  "[[70 70 70 67 45  0]\n",
                  " [70 70 70 67 45  0]\n",
                  " [70 70 70 65 42  0]\n",
                  " [70 70 70 55 30  0]\n",
                  " [65 65 55 40 20  0]\n",
                  " [ 0  0  0  0  0  0]]\n"
               ]
            },
            {
               "data": {
                  "application/vnd.plotly.v1+json": {
                     "config": {
                        "plotlyServerURL": "https://plotly.com"
                     },
                     "data": [
                        {
                           "type": "surface",
                           "x": [
                              [
                                 5,
                                 4,
                                 3,
                                 2,
                                 1,
                                 0
                              ],
                              [
                                 5,
                                 4,
                                 3,
                                 2,
                                 1,
                                 0
                              ],
                              [
                                 5,
                                 4,
                                 3,
                                 2,
                                 1,
                                 0
                              ],
                              [
                                 5,
                                 4,
                                 3,
                                 2,
                                 1,
                                 0
                              ],
                              [
                                 5,
                                 4,
                                 3,
                                 2,
                                 1,
                                 0
                              ],
                              [
                                 5,
                                 4,
                                 3,
                                 2,
                                 1,
                                 0
                              ]
                           ],
                           "y": [
                              [
                                 5,
                                 5,
                                 5,
                                 5,
                                 5,
                                 5
                              ],
                              [
                                 4,
                                 4,
                                 4,
                                 4,
                                 4,
                                 4
                              ],
                              [
                                 3,
                                 3,
                                 3,
                                 3,
                                 3,
                                 3
                              ],
                              [
                                 2,
                                 2,
                                 2,
                                 2,
                                 2,
                                 2
                              ],
                              [
                                 1,
                                 1,
                                 1,
                                 1,
                                 1,
                                 1
                              ],
                              [
                                 0,
                                 0,
                                 0,
                                 0,
                                 0,
                                 0
                              ]
                           ],
                           "z": [
                              [
                                 70,
                                 70,
                                 70,
                                 67,
                                 45,
                                 0
                              ],
                              [
                                 70,
                                 70,
                                 70,
                                 67,
                                 45,
                                 0
                              ],
                              [
                                 70,
                                 70,
                                 70,
                                 65,
                                 42,
                                 0
                              ],
                              [
                                 70,
                                 70,
                                 70,
                                 55,
                                 30,
                                 0
                              ],
                              [
                                 65,
                                 65,
                                 55,
                                 40,
                                 20,
                                 0
                              ],
                              [
                                 0,
                                 0,
                                 0,
                                 0,
                                 0,
                                 0
                              ]
                           ]
                        }
                     ],
                     "layout": {
                        "scene": {
                           "xaxis": {
                              "title": {
                                 "text": "Days"
                              }
                           },
                           "yaxis": {
                              "title": {
                                 "text": "Jobs"
                              }
                           },
                           "zaxis": {
                              "title": {
                                 "text": "Benefit"
                              }
                           }
                        },
                        "template": {
                           "data": {
                              "bar": [
                                 {
                                    "error_x": {
                                       "color": "#2a3f5f"
                                    },
                                    "error_y": {
                                       "color": "#2a3f5f"
                                    },
                                    "marker": {
                                       "line": {
                                          "color": "#E5ECF6",
                                          "width": 0.5
                                       },
                                       "pattern": {
                                          "fillmode": "overlay",
                                          "size": 10,
                                          "solidity": 0.2
                                       }
                                    },
                                    "type": "bar"
                                 }
                              ],
                              "barpolar": [
                                 {
                                    "marker": {
                                       "line": {
                                          "color": "#E5ECF6",
                                          "width": 0.5
                                       },
                                       "pattern": {
                                          "fillmode": "overlay",
                                          "size": 10,
                                          "solidity": 0.2
                                       }
                                    },
                                    "type": "barpolar"
                                 }
                              ],
                              "carpet": [
                                 {
                                    "aaxis": {
                                       "endlinecolor": "#2a3f5f",
                                       "gridcolor": "white",
                                       "linecolor": "white",
                                       "minorgridcolor": "white",
                                       "startlinecolor": "#2a3f5f"
                                    },
                                    "baxis": {
                                       "endlinecolor": "#2a3f5f",
                                       "gridcolor": "white",
                                       "linecolor": "white",
                                       "minorgridcolor": "white",
                                       "startlinecolor": "#2a3f5f"
                                    },
                                    "type": "carpet"
                                 }
                              ],
                              "choropleth": [
                                 {
                                    "colorbar": {
                                       "outlinewidth": 0,
                                       "ticks": ""
                                    },
                                    "type": "choropleth"
                                 }
                              ],
                              "contour": [
                                 {
                                    "colorbar": {
                                       "outlinewidth": 0,
                                       "ticks": ""
                                    },
                                    "colorscale": [
                                       [
                                          0,
                                          "#0d0887"
                                       ],
                                       [
                                          0.1111111111111111,
                                          "#46039f"
                                       ],
                                       [
                                          0.2222222222222222,
                                          "#7201a8"
                                       ],
                                       [
                                          0.3333333333333333,
                                          "#9c179e"
                                       ],
                                       [
                                          0.4444444444444444,
                                          "#bd3786"
                                       ],
                                       [
                                          0.5555555555555556,
                                          "#d8576b"
                                       ],
                                       [
                                          0.6666666666666666,
                                          "#ed7953"
                                       ],
                                       [
                                          0.7777777777777778,
                                          "#fb9f3a"
                                       ],
                                       [
                                          0.8888888888888888,
                                          "#fdca26"
                                       ],
                                       [
                                          1,
                                          "#f0f921"
                                       ]
                                    ],
                                    "type": "contour"
                                 }
                              ],
                              "contourcarpet": [
                                 {
                                    "colorbar": {
                                       "outlinewidth": 0,
                                       "ticks": ""
                                    },
                                    "type": "contourcarpet"
                                 }
                              ],
                              "heatmap": [
                                 {
                                    "colorbar": {
                                       "outlinewidth": 0,
                                       "ticks": ""
                                    },
                                    "colorscale": [
                                       [
                                          0,
                                          "#0d0887"
                                       ],
                                       [
                                          0.1111111111111111,
                                          "#46039f"
                                       ],
                                       [
                                          0.2222222222222222,
                                          "#7201a8"
                                       ],
                                       [
                                          0.3333333333333333,
                                          "#9c179e"
                                       ],
                                       [
                                          0.4444444444444444,
                                          "#bd3786"
                                       ],
                                       [
                                          0.5555555555555556,
                                          "#d8576b"
                                       ],
                                       [
                                          0.6666666666666666,
                                          "#ed7953"
                                       ],
                                       [
                                          0.7777777777777778,
                                          "#fb9f3a"
                                       ],
                                       [
                                          0.8888888888888888,
                                          "#fdca26"
                                       ],
                                       [
                                          1,
                                          "#f0f921"
                                       ]
                                    ],
                                    "type": "heatmap"
                                 }
                              ],
                              "heatmapgl": [
                                 {
                                    "colorbar": {
                                       "outlinewidth": 0,
                                       "ticks": ""
                                    },
                                    "colorscale": [
                                       [
                                          0,
                                          "#0d0887"
                                       ],
                                       [
                                          0.1111111111111111,
                                          "#46039f"
                                       ],
                                       [
                                          0.2222222222222222,
                                          "#7201a8"
                                       ],
                                       [
                                          0.3333333333333333,
                                          "#9c179e"
                                       ],
                                       [
                                          0.4444444444444444,
                                          "#bd3786"
                                       ],
                                       [
                                          0.5555555555555556,
                                          "#d8576b"
                                       ],
                                       [
                                          0.6666666666666666,
                                          "#ed7953"
                                       ],
                                       [
                                          0.7777777777777778,
                                          "#fb9f3a"
                                       ],
                                       [
                                          0.8888888888888888,
                                          "#fdca26"
                                       ],
                                       [
                                          1,
                                          "#f0f921"
                                       ]
                                    ],
                                    "type": "heatmapgl"
                                 }
                              ],
                              "histogram": [
                                 {
                                    "marker": {
                                       "pattern": {
                                          "fillmode": "overlay",
                                          "size": 10,
                                          "solidity": 0.2
                                       }
                                    },
                                    "type": "histogram"
                                 }
                              ],
                              "histogram2d": [
                                 {
                                    "colorbar": {
                                       "outlinewidth": 0,
                                       "ticks": ""
                                    },
                                    "colorscale": [
                                       [
                                          0,
                                          "#0d0887"
                                       ],
                                       [
                                          0.1111111111111111,
                                          "#46039f"
                                       ],
                                       [
                                          0.2222222222222222,
                                          "#7201a8"
                                       ],
                                       [
                                          0.3333333333333333,
                                          "#9c179e"
                                       ],
                                       [
                                          0.4444444444444444,
                                          "#bd3786"
                                       ],
                                       [
                                          0.5555555555555556,
                                          "#d8576b"
                                       ],
                                       [
                                          0.6666666666666666,
                                          "#ed7953"
                                       ],
                                       [
                                          0.7777777777777778,
                                          "#fb9f3a"
                                       ],
                                       [
                                          0.8888888888888888,
                                          "#fdca26"
                                       ],
                                       [
                                          1,
                                          "#f0f921"
                                       ]
                                    ],
                                    "type": "histogram2d"
                                 }
                              ],
                              "histogram2dcontour": [
                                 {
                                    "colorbar": {
                                       "outlinewidth": 0,
                                       "ticks": ""
                                    },
                                    "colorscale": [
                                       [
                                          0,
                                          "#0d0887"
                                       ],
                                       [
                                          0.1111111111111111,
                                          "#46039f"
                                       ],
                                       [
                                          0.2222222222222222,
                                          "#7201a8"
                                       ],
                                       [
                                          0.3333333333333333,
                                          "#9c179e"
                                       ],
                                       [
                                          0.4444444444444444,
                                          "#bd3786"
                                       ],
                                       [
                                          0.5555555555555556,
                                          "#d8576b"
                                       ],
                                       [
                                          0.6666666666666666,
                                          "#ed7953"
                                       ],
                                       [
                                          0.7777777777777778,
                                          "#fb9f3a"
                                       ],
                                       [
                                          0.8888888888888888,
                                          "#fdca26"
                                       ],
                                       [
                                          1,
                                          "#f0f921"
                                       ]
                                    ],
                                    "type": "histogram2dcontour"
                                 }
                              ],
                              "mesh3d": [
                                 {
                                    "colorbar": {
                                       "outlinewidth": 0,
                                       "ticks": ""
                                    },
                                    "type": "mesh3d"
                                 }
                              ],
                              "parcoords": [
                                 {
                                    "line": {
                                       "colorbar": {
                                          "outlinewidth": 0,
                                          "ticks": ""
                                       }
                                    },
                                    "type": "parcoords"
                                 }
                              ],
                              "pie": [
                                 {
                                    "automargin": true,
                                    "type": "pie"
                                 }
                              ],
                              "scatter": [
                                 {
                                    "fillpattern": {
                                       "fillmode": "overlay",
                                       "size": 10,
                                       "solidity": 0.2
                                    },
                                    "type": "scatter"
                                 }
                              ],
                              "scatter3d": [
                                 {
                                    "line": {
                                       "colorbar": {
                                          "outlinewidth": 0,
                                          "ticks": ""
                                       }
                                    },
                                    "marker": {
                                       "colorbar": {
                                          "outlinewidth": 0,
                                          "ticks": ""
                                       }
                                    },
                                    "type": "scatter3d"
                                 }
                              ],
                              "scattercarpet": [
                                 {
                                    "marker": {
                                       "colorbar": {
                                          "outlinewidth": 0,
                                          "ticks": ""
                                       }
                                    },
                                    "type": "scattercarpet"
                                 }
                              ],
                              "scattergeo": [
                                 {
                                    "marker": {
                                       "colorbar": {
                                          "outlinewidth": 0,
                                          "ticks": ""
                                       }
                                    },
                                    "type": "scattergeo"
                                 }
                              ],
                              "scattergl": [
                                 {
                                    "marker": {
                                       "colorbar": {
                                          "outlinewidth": 0,
                                          "ticks": ""
                                       }
                                    },
                                    "type": "scattergl"
                                 }
                              ],
                              "scattermapbox": [
                                 {
                                    "marker": {
                                       "colorbar": {
                                          "outlinewidth": 0,
                                          "ticks": ""
                                       }
                                    },
                                    "type": "scattermapbox"
                                 }
                              ],
                              "scatterpolar": [
                                 {
                                    "marker": {
                                       "colorbar": {
                                          "outlinewidth": 0,
                                          "ticks": ""
                                       }
                                    },
                                    "type": "scatterpolar"
                                 }
                              ],
                              "scatterpolargl": [
                                 {
                                    "marker": {
                                       "colorbar": {
                                          "outlinewidth": 0,
                                          "ticks": ""
                                       }
                                    },
                                    "type": "scatterpolargl"
                                 }
                              ],
                              "scatterternary": [
                                 {
                                    "marker": {
                                       "colorbar": {
                                          "outlinewidth": 0,
                                          "ticks": ""
                                       }
                                    },
                                    "type": "scatterternary"
                                 }
                              ],
                              "surface": [
                                 {
                                    "colorbar": {
                                       "outlinewidth": 0,
                                       "ticks": ""
                                    },
                                    "colorscale": [
                                       [
                                          0,
                                          "#0d0887"
                                       ],
                                       [
                                          0.1111111111111111,
                                          "#46039f"
                                       ],
                                       [
                                          0.2222222222222222,
                                          "#7201a8"
                                       ],
                                       [
                                          0.3333333333333333,
                                          "#9c179e"
                                       ],
                                       [
                                          0.4444444444444444,
                                          "#bd3786"
                                       ],
                                       [
                                          0.5555555555555556,
                                          "#d8576b"
                                       ],
                                       [
                                          0.6666666666666666,
                                          "#ed7953"
                                       ],
                                       [
                                          0.7777777777777778,
                                          "#fb9f3a"
                                       ],
                                       [
                                          0.8888888888888888,
                                          "#fdca26"
                                       ],
                                       [
                                          1,
                                          "#f0f921"
                                       ]
                                    ],
                                    "type": "surface"
                                 }
                              ],
                              "table": [
                                 {
                                    "cells": {
                                       "fill": {
                                          "color": "#EBF0F8"
                                       },
                                       "line": {
                                          "color": "white"
                                       }
                                    },
                                    "header": {
                                       "fill": {
                                          "color": "#C8D4E3"
                                       },
                                       "line": {
                                          "color": "white"
                                       }
                                    },
                                    "type": "table"
                                 }
                              ]
                           },
                           "layout": {
                              "annotationdefaults": {
                                 "arrowcolor": "#2a3f5f",
                                 "arrowhead": 0,
                                 "arrowwidth": 1
                              },
                              "autotypenumbers": "strict",
                              "coloraxis": {
                                 "colorbar": {
                                    "outlinewidth": 0,
                                    "ticks": ""
                                 }
                              },
                              "colorscale": {
                                 "diverging": [
                                    [
                                       0,
                                       "#8e0152"
                                    ],
                                    [
                                       0.1,
                                       "#c51b7d"
                                    ],
                                    [
                                       0.2,
                                       "#de77ae"
                                    ],
                                    [
                                       0.3,
                                       "#f1b6da"
                                    ],
                                    [
                                       0.4,
                                       "#fde0ef"
                                    ],
                                    [
                                       0.5,
                                       "#f7f7f7"
                                    ],
                                    [
                                       0.6,
                                       "#e6f5d0"
                                    ],
                                    [
                                       0.7,
                                       "#b8e186"
                                    ],
                                    [
                                       0.8,
                                       "#7fbc41"
                                    ],
                                    [
                                       0.9,
                                       "#4d9221"
                                    ],
                                    [
                                       1,
                                       "#276419"
                                    ]
                                 ],
                                 "sequential": [
                                    [
                                       0,
                                       "#0d0887"
                                    ],
                                    [
                                       0.1111111111111111,
                                       "#46039f"
                                    ],
                                    [
                                       0.2222222222222222,
                                       "#7201a8"
                                    ],
                                    [
                                       0.3333333333333333,
                                       "#9c179e"
                                    ],
                                    [
                                       0.4444444444444444,
                                       "#bd3786"
                                    ],
                                    [
                                       0.5555555555555556,
                                       "#d8576b"
                                    ],
                                    [
                                       0.6666666666666666,
                                       "#ed7953"
                                    ],
                                    [
                                       0.7777777777777778,
                                       "#fb9f3a"
                                    ],
                                    [
                                       0.8888888888888888,
                                       "#fdca26"
                                    ],
                                    [
                                       1,
                                       "#f0f921"
                                    ]
                                 ],
                                 "sequentialminus": [
                                    [
                                       0,
                                       "#0d0887"
                                    ],
                                    [
                                       0.1111111111111111,
                                       "#46039f"
                                    ],
                                    [
                                       0.2222222222222222,
                                       "#7201a8"
                                    ],
                                    [
                                       0.3333333333333333,
                                       "#9c179e"
                                    ],
                                    [
                                       0.4444444444444444,
                                       "#bd3786"
                                    ],
                                    [
                                       0.5555555555555556,
                                       "#d8576b"
                                    ],
                                    [
                                       0.6666666666666666,
                                       "#ed7953"
                                    ],
                                    [
                                       0.7777777777777778,
                                       "#fb9f3a"
                                    ],
                                    [
                                       0.8888888888888888,
                                       "#fdca26"
                                    ],
                                    [
                                       1,
                                       "#f0f921"
                                    ]
                                 ]
                              },
                              "colorway": [
                                 "#636efa",
                                 "#EF553B",
                                 "#00cc96",
                                 "#ab63fa",
                                 "#FFA15A",
                                 "#19d3f3",
                                 "#FF6692",
                                 "#B6E880",
                                 "#FF97FF",
                                 "#FECB52"
                              ],
                              "font": {
                                 "color": "#2a3f5f"
                              },
                              "geo": {
                                 "bgcolor": "white",
                                 "lakecolor": "white",
                                 "landcolor": "#E5ECF6",
                                 "showlakes": true,
                                 "showland": true,
                                 "subunitcolor": "white"
                              },
                              "hoverlabel": {
                                 "align": "left"
                              },
                              "hovermode": "closest",
                              "mapbox": {
                                 "style": "light"
                              },
                              "paper_bgcolor": "white",
                              "plot_bgcolor": "#E5ECF6",
                              "polar": {
                                 "angularaxis": {
                                    "gridcolor": "white",
                                    "linecolor": "white",
                                    "ticks": ""
                                 },
                                 "bgcolor": "#E5ECF6",
                                 "radialaxis": {
                                    "gridcolor": "white",
                                    "linecolor": "white",
                                    "ticks": ""
                                 }
                              },
                              "scene": {
                                 "xaxis": {
                                    "backgroundcolor": "#E5ECF6",
                                    "gridcolor": "white",
                                    "gridwidth": 2,
                                    "linecolor": "white",
                                    "showbackground": true,
                                    "ticks": "",
                                    "zerolinecolor": "white"
                                 },
                                 "yaxis": {
                                    "backgroundcolor": "#E5ECF6",
                                    "gridcolor": "white",
                                    "gridwidth": 2,
                                    "linecolor": "white",
                                    "showbackground": true,
                                    "ticks": "",
                                    "zerolinecolor": "white"
                                 },
                                 "zaxis": {
                                    "backgroundcolor": "#E5ECF6",
                                    "gridcolor": "white",
                                    "gridwidth": 2,
                                    "linecolor": "white",
                                    "showbackground": true,
                                    "ticks": "",
                                    "zerolinecolor": "white"
                                 }
                              },
                              "shapedefaults": {
                                 "line": {
                                    "color": "#2a3f5f"
                                 }
                              },
                              "ternary": {
                                 "aaxis": {
                                    "gridcolor": "white",
                                    "linecolor": "white",
                                    "ticks": ""
                                 },
                                 "baxis": {
                                    "gridcolor": "white",
                                    "linecolor": "white",
                                    "ticks": ""
                                 },
                                 "bgcolor": "#E5ECF6",
                                 "caxis": {
                                    "gridcolor": "white",
                                    "linecolor": "white",
                                    "ticks": ""
                                 }
                              },
                              "title": {
                                 "x": 0.05
                              },
                              "xaxis": {
                                 "automargin": true,
                                 "gridcolor": "white",
                                 "linecolor": "white",
                                 "ticks": "",
                                 "title": {
                                    "standoff": 15
                                 },
                                 "zerolinecolor": "white",
                                 "zerolinewidth": 2
                              },
                              "yaxis": {
                                 "automargin": true,
                                 "gridcolor": "white",
                                 "linecolor": "white",
                                 "ticks": "",
                                 "title": {
                                    "standoff": 15
                                 },
                                 "zerolinecolor": "white",
                                 "zerolinewidth": 2
                              }
                           }
                        }
                     }
                  }
               },
               "metadata": {},
               "output_type": "display_data"
            }
         ],
         "source": [
            "Z = np.array(points[:,2]).reshape(horizon+1,n_jobs+1)\n",
            "\n",
            "X=np.linspace(horizon,0,horizon +1)\n",
            "Y = np.linspace(n_jobs,0,n_jobs +1)\n",
            "X, Y = np.meshgrid(X,Y)\n",
            "\n",
            "print(X)\n",
            "print(Y)\n",
            "print(Z)\n",
            "\n",
            "\n",
            "fig = go.Figure(data=[go.Surface(x=X, y=Y, z=Z)])\n",
            "fig.update_layout(scene=dict(xaxis_title=\"Days\", yaxis_title=\"Jobs\", zaxis_title=\"Benefit\"))\n",
            "fig.show()"
         ]
      },
      {
         "cell_type": "code",
         "execution_count": null,
         "metadata": {},
         "outputs": [],
         "source": []
      }
   ],
   "metadata": {
      "kernelspec": {
         "display_name": "venv",
         "language": "python",
         "name": "python3"
      },
      "language_info": {
         "codemirror_mode": {
            "name": "ipython",
            "version": 3
         },
         "file_extension": ".py",
         "mimetype": "text/x-python",
         "name": "python",
         "nbconvert_exporter": "python",
         "pygments_lexer": "ipython3",
         "version": "3.10.6"
      },
      "orig_nbformat": 4,
      "vscode": {
         "interpreter": {
            "hash": "2c0aa0b7aa1f748432f95ffe17aa1c95c6cdf69e66fe0de77b2aa7e0c5c42b69"
         }
      }
   },
   "nbformat": 4,
   "nbformat_minor": 2
}
