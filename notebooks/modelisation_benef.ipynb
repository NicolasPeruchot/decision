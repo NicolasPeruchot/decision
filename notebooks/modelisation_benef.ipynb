{
 "cells": [
  {
   "cell_type": "code",
   "execution_count": 111,
   "metadata": {},
   "outputs": [],
   "source": [
    "import json\n",
    "from enum import Enum\n",
    "from gurobipy import Model, GRB, quicksum\n",
    "import numpy as np\n",
    "\n"
   ]
  },
  {
   "cell_type": "code",
   "execution_count": 112,
   "metadata": {},
   "outputs": [],
   "source": [
    "class DATASET(Enum):\n",
    "    TOY = \"toy\"\n",
    "    MEDIUM = \"medium\"\n",
    "    LARGE = \"large\""
   ]
  },
  {
   "cell_type": "code",
   "execution_count": 113,
   "metadata": {},
   "outputs": [],
   "source": [
    "def load_data(name):\n",
    "    \"\"\"name must be an instance of DATASET like DATASET.TOY for example\"\"\"\n",
    "    if not isinstance(name, DATASET):\n",
    "        raise TypeError(\"direction must be an instance of DATASET Enum\")\n",
    "    with open(f\"../data/{name.value}_instance.json\", \"r\") as f:\n",
    "        data = json.load(f)\n",
    "    return data\n",
    "\n",
    "\n",
    "def get_dims(data):\n",
    "    return (\n",
    "        len(data[\"staff\"]),\n",
    "        data[\"horizon\"],\n",
    "        len(data[\"qualifications\"]),\n",
    "        len(data[\"jobs\"]),\n",
    "    )\n",
    "\n",
    "def get_qualification_index(list_qualifications, qualification): # qualification is \"A\", \"B\", \"C\" ...\n",
    "    return list_qualifications.index(qualification)"
   ]
  },
  {
   "cell_type": "code",
   "execution_count": null,
   "metadata": {},
   "outputs": [],
   "source": []
  },
  {
   "cell_type": "code",
   "execution_count": 114,
   "metadata": {},
   "outputs": [],
   "source": [
    "def init_model():\n",
    "    m = Model(\"Project modelling\")\n",
    "    return m"
   ]
  },
  {
   "cell_type": "code",
   "execution_count": 115,
   "metadata": {},
   "outputs": [],
   "source": [
    "def create_decision_variables(model, n_staff, horizon, n_qualifs, n_jobs):\n",
    "    X = model.addVars(n_staff, horizon, n_qualifs, n_jobs, vtype=GRB.BINARY, name=\"assignements\")\n",
    "    J = model.addVars(n_jobs, vtype=GRB.BINARY, name=\"completion\")\n",
    "    D = model.addVars(n_jobs, lb=0, ub=horizon + 1, vtype=GRB.INTEGER, name=\"end_dates\")\n",
    "    L = model.addVars(n_jobs, lb=0, ub=horizon + 1, vtype=GRB.INTEGER, name=\"nb_dates_late\")\n",
    "    return model, X, J, D, L\n"
   ]
  },
  {
   "cell_type": "code",
   "execution_count": 116,
   "metadata": {},
   "outputs": [],
   "source": [
    "def add_constraints_end_dates(model, X, D, n_staff, horizon, n_qualifs, n_jobs):\n",
    "    model.addConstrs(\n",
    "        X[i, j, k, l] * j <= D[l] \n",
    "        for i in range(n_staff)\n",
    "        for j in range(horizon)\n",
    "        for k in range(n_qualifs)\n",
    "        for l in range(n_jobs)\n",
    "    )"
   ]
  },
  {
   "cell_type": "code",
   "execution_count": 117,
   "metadata": {},
   "outputs": [],
   "source": [
    "def add_constraints_lateness(model, D, L, jobs, n_staff, horizon, n_qualifs, n_jobs):\n",
    "    model.addConstrs(\n",
    "        D[l] - jobs[l][\"due_date\"] <= L[l] for l in range(n_jobs)\n",
    "    )"
   ]
  },
  {
   "cell_type": "code",
   "execution_count": 118,
   "metadata": {},
   "outputs": [],
   "source": [
    "def add_constraints_worked_days_below_required_days(model, X, jobs, qualifications, n_staff, horizon, n_jobs):\n",
    "    model.addConstrs(quicksum(X[i,j,get_qualification_index(qualifications, k),l] for i in range(n_staff) for j in range(horizon)) <= jobs[l][\"working_days_per_qualification\"][k] for l in range(n_jobs) for k in jobs[l][\"working_days_per_qualification\"].keys())\n",
    "    "
   ]
  },
  {
   "cell_type": "code",
   "execution_count": 125,
   "metadata": {},
   "outputs": [],
   "source": [
    "def add_constraints_worked_days_above_required_days(model, X ,J,data,n_staff,n_jobs,horizon):\n",
    "    for l in range(n_jobs): \n",
    "        for quali,njk in data[\"jobs\"][l][\"working_days_per_qualification\"].items():\n",
    "            model.addConstr(J[l]*njk <= quicksum([X[i,j,get_qualification_index(data[\"qualifications\"], quali),l] for i in range(n_staff) for j in range(horizon)]))"
   ]
  },
  {
   "cell_type": "code",
   "execution_count": 126,
   "metadata": {},
   "outputs": [],
   "source": [
    "def in_qualification(i, k, data):\n",
    "    data = {l : data[\"staff\"][l] for l in range(len(data[\"staff\"]))}\n",
    "    data = data[i][\"qualifications\"]\n",
    "    return k in data\n",
    "\n",
    "\n",
    "def add_qualification_constraints(model, n_staff, horizon, n_qualifs, n_jobs, X, data):\n",
    "    model.addConstrs(\n",
    "        X[i, j, k, l] == 0\n",
    "        for i in range(n_staff)\n",
    "        for j in range(horizon)\n",
    "        for k in range(n_qualifs)\n",
    "        for l in range(n_jobs)\n",
    "        if not in_qualification(i, k, data)\n",
    "    )\n",
    "\n",
    "\n",
    "def in_vacation(i, j, data):\n",
    "    data = {l: data[\"staff\"][l] for l in range(len(data[\"staff\"]))}\n",
    "    data = data[i][\"vacations\"]\n",
    "    return j in data\n",
    "\n",
    "\n",
    "def add_vacation_constraints(model, n_staff, horizon, n_qualifs, n_jobs, X, data):\n",
    "    model.addConstrs(\n",
    "        X[i, j, k, l] == 0\n",
    "        for i in range(n_staff)\n",
    "        for j in range(horizon)\n",
    "        for k in range(n_qualifs)\n",
    "        for l in range(n_jobs)\n",
    "        if in_vacation(i, j, data)\n",
    "    )"
   ]
  },
  {
   "cell_type": "code",
   "execution_count": 127,
   "metadata": {},
   "outputs": [],
   "source": [
    "def add_constraint_employees_working_only_one_day(model, X ,J,data,n_staff,n_jobs,horizon, n_qualifs):\n",
    "    model.addConstrs(quicksum(X[i,j,k,l] for l in range(n_jobs) for k in range (n_qualifs)) <= 1 for i in range(n_staff) for j in range(horizon))"
   ]
  },
  {
   "cell_type": "code",
   "execution_count": 131,
   "metadata": {},
   "outputs": [],
   "source": [
    "def add_profit_as_first_objective(model, J, L, jobs):\n",
    "\n",
    "    benef = sum(\n",
    "        [\n",
    "            J[index_job] * (job[\"gain\"] - job[\"daily_penalty\"] * L[index_job])\n",
    "            for index_job, job in enumerate(jobs)\n",
    "        ]\n",
    "    )\n",
    "\n",
    "    model.setObjective(benef, GRB.MAXIMIZE)"
   ]
  },
  {
   "cell_type": "code",
   "execution_count": 132,
   "metadata": {},
   "outputs": [],
   "source": [
    "def main():\n",
    "    # Importing data\n",
    "    data = load_data(DATASET.TOY)\n",
    "    n_staff, horizon, n_qualifs, n_jobs = get_dims(data)\n",
    "\n",
    "    # Instanciation du modèle\n",
    "    model = init_model()\n",
    "\n",
    "    # Création des variables : binaires dans X et J, entières de 0 à horizon + 3\n",
    "    model, X, J, D, L = create_decision_variables(model, n_staff, horizon, n_qualifs, n_jobs)\n",
    "\n",
    "    # maj du modèle\n",
    "    model.update()\n",
    "\n",
    "    # Ajout des constraintes\n",
    "\n",
    "    add_constraint_employees_working_only_one_day(model, X ,J,data,n_staff,n_jobs,horizon, n_qualifs)\n",
    "    add_qualification_constraints(model, n_staff, horizon, n_qualifs, n_jobs, X, data)\n",
    "    add_vacation_constraints(model, n_staff, horizon, n_qualifs, n_jobs, X, data)\n",
    "\n",
    "    add_constraints_end_dates(model, X, D, n_staff, horizon, n_qualifs, n_jobs)\n",
    "    add_constraints_lateness(model, D, L, data[\"jobs\"], n_staff, horizon, n_qualifs, n_jobs)\n",
    "\n",
    "    add_constraints_worked_days_below_required_days(model, X, data[\"jobs\"], data[\"qualifications\"], n_staff, horizon, n_jobs)\n",
    "    add_constraints_worked_days_above_required_days(model, X ,J,data,n_staff,n_jobs,horizon)\n",
    "\n",
    "    # Fonction Objectif\n",
    "    add_profit_as_first_objective(model, J, L, data[\"jobs\"])\n",
    "\n",
    "    # Paramétrage (mode mute)\n",
    "    # model.params.outputflag = 0\n",
    "\n",
    "    # Résolution du PL\n",
    "    model.optimize()"
   ]
  },
  {
   "cell_type": "code",
   "execution_count": 133,
   "metadata": {},
   "outputs": [
    {
     "name": "stdout",
     "output_type": "stream",
     "text": [
      "Gurobi Optimizer version 10.0.0 build v10.0.0rc2 (win64)\n",
      "\n",
      "CPU model: AMD Ryzen 5 5600H with Radeon Graphics, instruction set [SSE2|AVX|AVX2]\n",
      "Thread count: 6 physical cores, 12 logical processors, using up to 12 threads\n",
      "\n",
      "Optimize a model with 520 rows, 240 columns and 1205 nonzeros\n",
      "Model fingerprint: 0xc0e66a65\n",
      "Model has 5 quadratic objective terms\n",
      "Variable types: 0 continuous, 240 integer (230 binary)\n",
      "Coefficient statistics:\n",
      "  Matrix range     [1e+00, 4e+00]\n",
      "  Objective range  [1e+01, 2e+01]\n",
      "  QObjective range [6e+00, 6e+00]\n",
      "  Bounds range     [1e+00, 6e+00]\n",
      "  RHS range        [1e+00, 5e+00]\n",
      "Found heuristic solution: objective -0.0000000\n",
      "Presolve removed 520 rows and 240 columns\n",
      "Presolve time: 0.01s\n",
      "Presolve: All rows and columns removed\n",
      "\n",
      "Explored 0 nodes (0 simplex iterations) in 0.02 seconds (0.00 work units)\n",
      "Thread count was 1 (of 12 available processors)\n",
      "\n",
      "Solution count 1: -0 \n",
      "No other solutions better than -0\n",
      "\n",
      "Optimal solution found (tolerance 1.00e-04)\n",
      "Best objective -0.000000000000e+00, best bound -0.000000000000e+00, gap 0.0000%\n"
     ]
    }
   ],
   "source": [
    "main()"
   ]
  },
  {
   "cell_type": "code",
   "execution_count": null,
   "metadata": {},
   "outputs": [],
   "source": [
    "# # Objective Function 1: Maximize Profits\n",
    "# model.setObjective(sum(profit[j]*y[j] for j in projects) - sum(penalty[i,j]*x[i,j,k] for i in staff for j in qualifications for k in working_days), GRB.MAXIMIZE)\n",
    "\n",
    "# # Objective Function 2: Minimize Number of Projects per Employee\n",
    "# model.setObjective(sum(x[i,j,k] for i in staff for j in qualifications for k in working_days) , GRB.MINIMIZE)\n",
    "# model.setObjective(sum(x[i,j,k] for i in staff for j in qualifications for k in working_days) , GRB.MINIMIZE)\n",
    "\n",
    "# # Objective Function 3: Minimize Length of Longest Project\n",
    "# model.setObjective(max(duration[j] for j in projects), GRB.MINIMIZE)"
   ]
  }
 ],
 "metadata": {
  "kernelspec": {
   "display_name": "base",
   "language": "python",
   "name": "python3"
  },
  "language_info": {
   "codemirror_mode": {
    "name": "ipython",
    "version": 3
   },
   "file_extension": ".py",
   "mimetype": "text/x-python",
   "name": "python",
   "nbconvert_exporter": "python",
   "pygments_lexer": "ipython3",
   "version": "3.9.13 (main, Aug 25 2022, 23:51:50) [MSC v.1916 64 bit (AMD64)]"
  },
  "orig_nbformat": 4,
  "vscode": {
   "interpreter": {
    "hash": "b28994c5a928968583f09e2df007a98e881f3ff9338db31e6d108d2714b0f296"
   }
  }
 },
 "nbformat": 4,
 "nbformat_minor": 2
}
