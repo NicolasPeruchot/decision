{
   "cells": [
      {
         "cell_type": "code",
         "execution_count": 67,
         "metadata": {},
         "outputs": [],
         "source": [
            "import json\n",
            "from enum import Enum\n",
            "from gurobipy import Model, GRB, quicksum, max_\n",
            "import numpy as np\n",
            "import pandas as pd\n",
            "from random import randint\n"
         ]
      },
      {
         "cell_type": "code",
         "execution_count": 68,
         "metadata": {},
         "outputs": [],
         "source": [
            "class DATASET(Enum):\n",
            "    TOY = \"toy\"\n",
            "    MEDIUM = \"medium\"\n",
            "    LARGE = \"large\""
         ]
      },
      {
         "cell_type": "code",
         "execution_count": 69,
         "metadata": {},
         "outputs": [],
         "source": [
            "def load_data(name):\n",
            "    \"\"\"name must be an instance of DATASET like DATASET.TOY for example\"\"\"\n",
            "    if not isinstance(name, DATASET):\n",
            "        raise TypeError(\"direction must be an instance of DATASET Enum\")\n",
            "    with open(f\"../data/{name.value}_instance.json\", \"r\") as f:\n",
            "        data = json.load(f)\n",
            "    return data\n",
            "\n",
            "\n",
            "def get_dims(data):\n",
            "    return (\n",
            "        len(data[\"staff\"]),\n",
            "        data[\"horizon\"],\n",
            "        len(data[\"qualifications\"]),\n",
            "        len(data[\"jobs\"]),\n",
            "    )\n",
            "\n",
            "def get_qualification_index(list_qualifications, qualification): # qualification is \"A\", \"B\", \"C\" ...\n",
            "    return list_qualifications.index(qualification)"
         ]
      },
      {
         "cell_type": "code",
         "execution_count": 70,
         "metadata": {},
         "outputs": [],
         "source": [
            "def init_model():\n",
            "    m = Model(\"Project modelling\")\n",
            "    return m"
         ]
      },
      {
         "cell_type": "code",
         "execution_count": 71,
         "metadata": {},
         "outputs": [],
         "source": [
            "def create_decision_variables(model, n_staff, horizon, n_qualifs, n_jobs):\n",
            "    X = model.addVars(n_staff, horizon, n_qualifs, n_jobs, vtype=GRB.BINARY, name=\"assignements\")\n",
            "    J = model.addVars(n_jobs, vtype=GRB.BINARY, name=\"completion\")\n",
            "    E_D = model.addVars(n_jobs, lb=0, ub=horizon + 1, vtype=GRB.INTEGER, name=\"end_dates\")\n",
            "    L = model.addVars(n_jobs, lb=0, ub=horizon + 1, vtype=GRB.INTEGER, name=\"n_days_late\")\n",
            "    # for max(days spent on project) variable\n",
            "    S_D = model.addVars(n_jobs, lb=0, ub=horizon + 1, vtype=GRB.INTEGER, name=\"start_dates\")\n",
            "    max_days = model.addVar(lb=0, ub=horizon, vtype=GRB.INTEGER, name=\"max_jobs\")\n",
            "    # for max(projects affected) variable \n",
            "    n_jobs_per_person = model.addVars(n_staff, lb=0, ub=n_jobs, vtype=GRB.INTEGER, name=\"n_jobs_per_person\")\n",
            "    jobs_worked_on_by_person = model.addVars(n_staff, n_jobs, vtype=GRB.BINARY, name=\"jobs_worked_on_by_person\")\n",
            "    n_worked_days_per_job_and_person = model.addVars(n_staff, n_jobs,lb=0, ub=horizon, vtype=GRB.INTEGER, name=\"n_worked_days_per_job_and_person\")\n",
            "    max_jobs = model.addVar(lb=0, ub=n_jobs, vtype=GRB.INTEGER, name=\"max_jobs\")\n",
            "    return model, X, J, S_D, E_D, L, n_jobs_per_person, jobs_worked_on_by_person, n_worked_days_per_job_and_person, max_jobs, max_days\n"
         ]
      },
      {
         "cell_type": "code",
         "execution_count": 72,
         "metadata": {},
         "outputs": [],
         "source": [
            "def add_constraints_start_dates(model, X, S_D, n_staff, horizon, n_qualifs, n_jobs):\n",
            "    model.addConstrs(\n",
            "        X[i, j, k, l] * j >= S_D[l] \n",
            "        for i in range(n_staff)\n",
            "        for j in range(horizon)\n",
            "        for k in range(n_qualifs)\n",
            "        for l in range(n_jobs)\n",
            "    )"
         ]
      },
      {
         "cell_type": "code",
         "execution_count": 73,
         "metadata": {},
         "outputs": [],
         "source": [
            "def add_constraints_end_dates(model, X, E_D, n_staff, horizon, n_qualifs, n_jobs):\n",
            "    model.addConstrs(\n",
            "        X[i, j, k, l] * j <= E_D[l] \n",
            "        for i in range(n_staff)\n",
            "        for j in range(horizon)\n",
            "        for k in range(n_qualifs)\n",
            "        for l in range(n_jobs)\n",
            "    )"
         ]
      },
      {
         "cell_type": "code",
         "execution_count": 74,
         "metadata": {},
         "outputs": [],
         "source": [
            "def add_constraints_lateness(model, E_D, L, jobs, n_staff, horizon, n_qualifs, n_jobs):\n",
            "    model.addConstrs(\n",
            "        E_D[l] - jobs[l][\"due_date\"] <= L[l] for l in range(n_jobs)\n",
            "    )"
         ]
      },
      {
         "cell_type": "code",
         "execution_count": 75,
         "metadata": {},
         "outputs": [],
         "source": [
            "def add_constraints_worked_days_below_required_days(model, X, jobs, qualifications, n_staff, horizon, n_jobs):\n",
            "    model.addConstrs(quicksum(X[i,j,get_qualification_index(qualifications, k),l] for i in range(n_staff) for j in range(horizon)) <= jobs[l][\"working_days_per_qualification\"][k] for l in range(n_jobs) for k in jobs[l][\"working_days_per_qualification\"].keys())\n",
            "    "
         ]
      },
      {
         "cell_type": "code",
         "execution_count": 76,
         "metadata": {},
         "outputs": [],
         "source": [
            "def add_constraints_worked_days_above_required_days(model, X, J, jobs, qualifications, n_staff, horizon, n_jobs):\n",
            "    model.addConstrs(quicksum(X[i,j,get_qualification_index(qualifications, k),l] for i in range(n_staff) for j in range(horizon)) >= J[l]* jobs[l][\"working_days_per_qualification\"][k] for l in range(n_jobs) for k in jobs[l][\"working_days_per_qualification\"].keys())\n",
            "\n",
            "    # for l in range(n_jobs): \n",
            "    #     for quali,njk in data[\"jobs\"][l][\"working_days_per_qualification\"].items():\n",
            "    #         model.addConstr(J[l]*njk <= quicksum([X[i,j,get_qualification_index(qualifications, quali),l] for i in range(n_staff) for j in range(horizon)]))"
         ]
      },
      {
         "cell_type": "code",
         "execution_count": 77,
         "metadata": {},
         "outputs": [],
         "source": [
            "def in_qualification(data, i, k):\n",
            "    return data[\"qualifications\"][k] in data[\"staff\"][i][\"qualifications\"]\n",
            "\n",
            "\n",
            "def add_qualification_constraints(model, n_staff, horizon, n_qualifs, n_jobs, X, data):\n",
            "    model.addConstrs(\n",
            "        X[i, j, k, l] == 0\n",
            "        for i in range(n_staff)\n",
            "        for j in range(horizon)\n",
            "        for k in range(n_qualifs)\n",
            "        for l in range(n_jobs)\n",
            "        if not in_qualification(data, i, k)\n",
            "    )\n",
            "\n",
            "\n",
            "def in_vacation(i, j, data):\n",
            "    data = {l: data[\"staff\"][l] for l in range(len(data[\"staff\"]))}\n",
            "    data = data[i][\"vacations\"]\n",
            "    return j in data\n",
            "\n",
            "\n",
            "def add_vacation_constraints(model, n_staff, horizon, n_qualifs, n_jobs, X, data):\n",
            "    model.addConstrs(\n",
            "        X[i, j, k, l] == 0\n",
            "        for i in range(n_staff)\n",
            "        for j in range(horizon)\n",
            "        for k in range(n_qualifs)\n",
            "        for l in range(n_jobs)\n",
            "        if in_vacation(i, j, data)\n",
            "    )"
         ]
      },
      {
         "cell_type": "code",
         "execution_count": 78,
         "metadata": {},
         "outputs": [],
         "source": [
            "def add_constraints_employees_working_only_one_day(model, X, J, data, n_staff, n_jobs, horizon, n_qualifs):\n",
            "    model.addConstrs(quicksum(X[i,j,k,l] for l in range(n_jobs) for k in range (n_qualifs)) <= 1 for i in range(n_staff) for j in range(horizon))"
         ]
      },
      {
         "cell_type": "code",
         "execution_count": 79,
         "metadata": {},
         "outputs": [],
         "source": [
            "def add_constraints_n_worked_days_per_jobs_person(model, X, n_worked_days_per_job_and_person, n_staff, n_jobs, horizon, n_qualifs):\n",
            "    model.addConstrs( n_worked_days_per_job_and_person[i, l] == quicksum( X[i,j,k,l] for j in range(horizon) for k in range(n_qualifs)) \n",
            "        for i in range(n_staff) \n",
            "        for l in range(n_jobs)\n",
            "    )\n",
            "\n",
            "def add_constraints_jobs_worked_on_by_person(model, jobs_worked_on_by_person, n_worked_days_per_job_and_person, n_staff, n_jobs):\n",
            "    model.addConstrs((jobs_worked_on_by_person[i, l] == 0) >> (n_worked_days_per_job_and_person[i,l] == 0) \n",
            "        for i in range(n_staff) \n",
            "        for l in range(n_jobs)\n",
            "    )\n",
            "    model.addConstrs((jobs_worked_on_by_person[i, l] == 1) >> (n_worked_days_per_job_and_person[i,l] >= 1) \n",
            "        for i in range(n_staff) \n",
            "        for l in range(n_jobs)\n",
            "    )\n",
            "\n",
            "def add_constraints_n_jobs_per_person(model, n_jobs_per_person, jobs_worked_on_by_person, n_staff, n_jobs):\n",
            "    model.addConstrs(n_jobs_per_person[i] == quicksum( jobs_worked_on_by_person[i, l] for l in range(n_jobs) ) for i in range(n_staff))\n",
            "\n",
            "def add_constraint_max_jobs(model, max_jobs, n_jobs_per_person, jobs_worked_on_by_person, n_staff):\n",
            "    model.addConstr(max_jobs == max_([n_jobs_per_person[i] for i in range(n_staff)]))"
         ]
      },
      {
         "cell_type": "code",
         "execution_count": 80,
         "metadata": {},
         "outputs": [],
         "source": [
            "def add_constraint_max_days(model, max_days, J, E_D, S_D, n_jobs):\n",
            "    model.addConstr(max_days == max_([(E_D[l] - S_D[l]) for l in range(n_jobs)]))"
         ]
      },
      {
         "cell_type": "code",
         "execution_count": 81,
         "metadata": {},
         "outputs": [],
         "source": [
            "def add_profit_as_first_objective(model, J, L, jobs):\n",
            "    model.setObjective(\n",
            "        quicksum( (J[index_job] * job[\"gain\"] - job[\"daily_penalty\"] * L[index_job]) for index_job, job in enumerate(jobs)),\n",
            "        GRB.MAXIMIZE\n",
            "    )\n",
            "    return model\n",
            "\n",
            "## add pouieme des autres"
         ]
      },
      {
         "cell_type": "code",
         "execution_count": 82,
         "metadata": {},
         "outputs": [],
         "source": [
            "def add_minimax_jobs_as_second_objective(model, max_jobs):\n",
            "    model.setObjective(\n",
            "        max_jobs,\n",
            "        GRB.MINIMIZE\n",
            "    )\n",
            "    return model"
         ]
      },
      {
         "cell_type": "code",
         "execution_count": 83,
         "metadata": {},
         "outputs": [],
         "source": [
            "def add_minimax_days_spent_as_third_objective(model, max_days):\n",
            "    model.setObjective(\n",
            "        max_days,\n",
            "        GRB.MINIMIZE\n",
            "    )\n",
            "    return model"
         ]
      },
      {
         "cell_type": "code",
         "execution_count": 84,
         "metadata": {},
         "outputs": [],
         "source": [
            "def add_mono_objective(model, J, L, jobs, max_days, max_jobs):\n",
            "    profit = quicksum( (J[index_job] * job[\"gain\"] - job[\"daily_penalty\"] * L[index_job]) for index_job, job in enumerate(jobs))\n",
            "    model.setObjective(\n",
            "        10 * profit - max_days - max_jobs,\n",
            "        GRB.MAXIMIZE\n",
            "    )\n",
            "    return model"
         ]
      },
      {
         "cell_type": "code",
         "execution_count": 85,
         "metadata": {},
         "outputs": [
            {
               "name": "stdout",
               "output_type": "stream",
               "text": [
                  "697.0\n",
                  "<class 'float'>\n",
                  "-0.0 days\n",
                  "3.0 jobs\n",
                  "{0: <gurobi.Var completion[0] (value 1.0)>, 1: <gurobi.Var completion[1] (value 1.0)>, 2: <gurobi.Var completion[2] (value 1.0)>, 3: <gurobi.Var completion[3] (value 1.0)>, 4: <gurobi.Var completion[4] (value -0.0)>} completion\n",
                  "\n",
                  "\n",
                  "{0: <gurobi.Var end_dates[0] (value 3.0)>, 1: <gurobi.Var end_dates[1] (value 3.0)>, 2: <gurobi.Var end_dates[2] (value 4.0)>, 3: <gurobi.Var end_dates[3] (value 3.0)>, 4: <gurobi.Var end_dates[4] (value 4.0)>} end_dates\n",
                  "\n",
                  "\n",
                  "{0: <gurobi.Var start_dates[0] (value -0.0)>, 1: <gurobi.Var start_dates[1] (value -0.0)>, 2: <gurobi.Var start_dates[2] (value -0.0)>, 3: <gurobi.Var start_dates[3] (value -0.0)>, 4: <gurobi.Var start_dates[4] (value -0.0)>} start_dates\n"
               ]
            }
         ],
         "source": [
            "# Importing data\n",
            "data = load_data(DATASET.TOY)\n",
            "n_staff, horizon, n_qualifs, n_jobs = get_dims(data)\n",
            "\n",
            "# Instanciation du modèle\n",
            "model = init_model()\n",
            "\n",
            "# Création des variables : binaires dans X et J, entières de 0 à horizon + 3\n",
            "model, X, J, S_D, E_D, L, n_jobs_per_person, jobs_worked_on_by_person, n_worked_days_per_job_and_person, max_jobs, max_days = create_decision_variables(model, n_staff, horizon, n_qualifs, n_jobs)\n",
            "\n",
            "# maj du modèle\n",
            "model.update()\n",
            "\n",
            "# Ajout des constraintes\n",
            "\n",
            "add_constraints_employees_working_only_one_day(model, X ,J,data,n_staff,n_jobs,horizon, n_qualifs)\n",
            "add_qualification_constraints(model, n_staff, horizon, n_qualifs, n_jobs, X, data)\n",
            "add_vacation_constraints(model, n_staff, horizon, n_qualifs, n_jobs, X, data)\n",
            "\n",
            "# add_constraints_start_dates(model, X, E_D, n_staff, horizon, n_qualifs, n_jobs)\n",
            "add_constraints_end_dates(model, X, E_D, n_staff, horizon, n_qualifs, n_jobs)\n",
            "add_constraints_lateness(model, E_D, L, data[\"jobs\"], n_staff, horizon, n_qualifs, n_jobs)\n",
            "\n",
            "add_constraints_worked_days_below_required_days(model, X, data[\"jobs\"], data[\"qualifications\"], n_staff, horizon, n_jobs)\n",
            "add_constraints_worked_days_above_required_days(model, X , J, data[\"jobs\"], data[\"qualifications\"], n_staff, horizon, n_jobs)\n",
            "\n",
            "add_constraints_n_worked_days_per_jobs_person(model, X, n_worked_days_per_job_and_person, n_staff, n_jobs, horizon, n_qualifs)\n",
            "add_constraints_jobs_worked_on_by_person(model, jobs_worked_on_by_person, n_worked_days_per_job_and_person, n_staff, n_jobs)\n",
            "add_constraints_n_jobs_per_person(model, n_jobs_per_person, jobs_worked_on_by_person, n_staff, n_jobs)\n",
            "\n",
            "add_constraint_max_jobs(model, max_jobs, n_jobs_per_person, jobs_worked_on_by_person, n_staff)\n",
            "\n",
            "# maj du modèle\n",
            "model.update()\n",
            "\n",
            "# Fonctions Objectifs\n",
            "\n",
            "# model = add_minimax_jobs_as_second_objective(model, max_jobs)\n",
            "# model = add_minimax_days_spent_as_third_objective(model, max_days)\n",
            "# model = add_profit_as_first_objective(model, J, L, data[\"jobs\"])\n",
            "\n",
            "model = add_mono_objective(model, J, L, data[\"jobs\"], max_days, max_jobs)\n",
            "\n",
            "# maj du modèle\n",
            "model.update()\n",
            "\n",
            "# Paramétrage (mode mute)\n",
            "model.params.outputflag = 0\n",
            "\n",
            "# Résolution du PL\n",
            "model.optimize()\n",
            "\n",
            "print(model.ObjVal)\n",
            "print(type(model.ObjVal))\n",
            "print(max_days.X, \"days\")\n",
            "print(max_jobs.X, \"jobs\")\n",
            "# print(n_jobs_per_person, \"n_jobs_per_person\")\n",
            "# print(max_jobs, \"max_jobs\")\n",
            "print(J, \"completion\")\n",
            "print(\"\\n\")\n",
            "print(E_D, \"end_dates\")\n",
            "print(\"\\n\")\n",
            "print(S_D, \"start_dates\")\n"
         ]
      },
      {
         "cell_type": "code",
         "execution_count": 86,
         "metadata": {},
         "outputs": [
            {
               "data": {
                  "text/html": [
                     "<style type=\"text/css\">\n",
                     "#T_06e2b_row0_col0, #T_06e2b_row0_col1, #T_06e2b_row1_col2 {\n",
                     "  background-color: #0978DD;\n",
                     "}\n",
                     "#T_06e2b_row0_col2, #T_06e2b_row0_col3, #T_06e2b_row2_col1 {\n",
                     "  background-color: #715B30;\n",
                     "}\n",
                     "#T_06e2b_row0_col4, #T_06e2b_row1_col4, #T_06e2b_row2_col3 {\n",
                     "  background-color: #C51635;\n",
                     "}\n",
                     "#T_06e2b_row1_col0, #T_06e2b_row1_col3, #T_06e2b_row2_col0 {\n",
                     "  background-color: #55D06A;\n",
                     "}\n",
                     "#T_06e2b_row1_col1, #T_06e2b_row2_col2, #T_06e2b_row2_col4 {\n",
                     "  background-color: black;\n",
                     "}\n",
                     "</style>\n",
                     "<table id=\"T_06e2b\">\n",
                     "  <thead>\n",
                     "    <tr>\n",
                     "      <th class=\"blank level0\" >&nbsp;</th>\n",
                     "      <th id=\"T_06e2b_level0_col0\" class=\"col_heading level0 col0\" >0</th>\n",
                     "      <th id=\"T_06e2b_level0_col1\" class=\"col_heading level0 col1\" >1</th>\n",
                     "      <th id=\"T_06e2b_level0_col2\" class=\"col_heading level0 col2\" >2</th>\n",
                     "      <th id=\"T_06e2b_level0_col3\" class=\"col_heading level0 col3\" >3</th>\n",
                     "      <th id=\"T_06e2b_level0_col4\" class=\"col_heading level0 col4\" >4</th>\n",
                     "    </tr>\n",
                     "  </thead>\n",
                     "  <tbody>\n",
                     "    <tr>\n",
                     "      <th id=\"T_06e2b_level0_row0\" class=\"row_heading level0 row0\" >Olivia</th>\n",
                     "      <td id=\"T_06e2b_row0_col0\" class=\"data row0 col0\" >B</td>\n",
                     "      <td id=\"T_06e2b_row0_col1\" class=\"data row0 col1\" >B</td>\n",
                     "      <td id=\"T_06e2b_row0_col2\" class=\"data row0 col2\" >B</td>\n",
                     "      <td id=\"T_06e2b_row0_col3\" class=\"data row0 col3\" >A</td>\n",
                     "      <td id=\"T_06e2b_row0_col4\" class=\"data row0 col4\" >C</td>\n",
                     "    </tr>\n",
                     "    <tr>\n",
                     "      <th id=\"T_06e2b_level0_row1\" class=\"row_heading level0 row1\" >Liam</th>\n",
                     "      <td id=\"T_06e2b_row1_col0\" class=\"data row1 col0\" >B</td>\n",
                     "      <td id=\"T_06e2b_row1_col1\" class=\"data row1 col1\" ></td>\n",
                     "      <td id=\"T_06e2b_row1_col2\" class=\"data row1 col2\" >A</td>\n",
                     "      <td id=\"T_06e2b_row1_col3\" class=\"data row1 col3\" >B</td>\n",
                     "      <td id=\"T_06e2b_row1_col4\" class=\"data row1 col4\" >A</td>\n",
                     "    </tr>\n",
                     "    <tr>\n",
                     "      <th id=\"T_06e2b_level0_row2\" class=\"row_heading level0 row2\" >Emma</th>\n",
                     "      <td id=\"T_06e2b_row2_col0\" class=\"data row2 col0\" >C</td>\n",
                     "      <td id=\"T_06e2b_row2_col1\" class=\"data row2 col1\" >C</td>\n",
                     "      <td id=\"T_06e2b_row2_col2\" class=\"data row2 col2\" ></td>\n",
                     "      <td id=\"T_06e2b_row2_col3\" class=\"data row2 col3\" >C</td>\n",
                     "      <td id=\"T_06e2b_row2_col4\" class=\"data row2 col4\" ></td>\n",
                     "    </tr>\n",
                     "  </tbody>\n",
                     "</table>\n"
                  ],
                  "text/plain": [
                     "<pandas.io.formats.style.Styler at 0x1a9926bee80>"
                  ]
               },
               "execution_count": 86,
               "metadata": {},
               "output_type": "execute_result"
            }
         ],
         "source": [
            "## affichage solutions\n",
            "\n",
            "def format_df(styler):\n",
            "    color = []\n",
            "    for i in range(n_jobs):\n",
            "        color.append('#%06X' % randint(0, 0xFFFFFF))\n",
            "    styler.applymap(lambda x: f\"background-color: {color[x[1]]}\" if x[0]!=-1 else \"background-color: black\")\n",
            "    styler.format(lambda x: data[\"qualifications\"][x[0]] if x[0]!=-1 else \"\")\n",
            "    return styler\n",
            "\n",
            "staffos = {i:[] for i in range(n_staff)}\n",
            "for i in range(n_staff):\n",
            "    for j in range(horizon):\n",
            "        done = False\n",
            "        for k in range(n_qualifs):\n",
            "            for l in range(n_jobs):\n",
            "                if X[(i, j, k, l)].X==1:\n",
            "                    staffos[i].append([k,l])\n",
            "                    done = True\n",
            "        if done==False:\n",
            "            staffos[i].append([-1,-1])\n",
            "            \n",
            "df=pd.DataFrame(staffos).T\n",
            "df.index=[data[\"staff\"][i][\"name\"] for i in range(n_staff)]\n",
            "\n",
            "    \n",
            "df.style.pipe(format_df)"
         ]
      },
      {
         "cell_type": "code",
         "execution_count": 18,
         "metadata": {},
         "outputs": [],
         "source": [
            "# # Objective Function 1: Maximize Profits\n",
            "# model.setObjective(sum(profit[j]*y[j] for j in projects) - sum(penalty[i,j]*x[i,j,k] for i in staff for j in qualifications for k in working_days), GRB.MAXIMIZE)\n",
            "\n",
            "# # Objective Function 2: Minimize Number of Projects per Employee\n",
            "# model.setObjective(sum(x[i,j,k] for i in staff for j in qualifications for k in working_days) , GRB.MINIMIZE)\n",
            "# model.setObjective(sum(x[i,j,k] for i in staff for j in qualifications for k in working_days) , GRB.MINIMIZE)\n",
            "\n",
            "# # Objective Function 3: Minimize Length of Longest Project\n",
            "# model.setObjective(max(duration[j] for j in projects), GRB.MINIMIZE)"
         ]
      },
      {
         "cell_type": "code",
         "execution_count": null,
         "metadata": {},
         "outputs": [],
         "source": []
      },
      {
         "cell_type": "code",
         "execution_count": null,
         "metadata": {},
         "outputs": [],
         "source": []
      }
   ],
   "metadata": {
      "kernelspec": {
         "display_name": "base",
         "language": "python",
         "name": "python3"
      },
      "language_info": {
         "codemirror_mode": {
            "name": "ipython",
            "version": 3
         },
         "file_extension": ".py",
         "mimetype": "text/x-python",
         "name": "python",
         "nbconvert_exporter": "python",
         "pygments_lexer": "ipython3",
         "version": "3.9.13"
      },
      "orig_nbformat": 4,
      "vscode": {
         "interpreter": {
            "hash": "b28994c5a928968583f09e2df007a98e881f3ff9338db31e6d108d2714b0f296"
         }
      }
   },
   "nbformat": 4,
   "nbformat_minor": 2
}
