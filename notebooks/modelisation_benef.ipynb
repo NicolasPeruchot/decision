{
 "cells": [
  {
   "cell_type": "code",
   "execution_count": 1,
   "metadata": {},
   "outputs": [],
   "source": [
    "import gurobipy\n",
    "import numpy as np"
   ]
  },
  {
   "attachments": {},
   "cell_type": "markdown",
   "metadata": {},
   "source": [
    "## 3 objectifs : \n",
    "Maximiser le bénéfice.\n",
    "\n",
    "Celui qui est sur le plus de projet, il faut qu’il soir sur le moins de projet possible (min max).\n",
    "\n",
    "Il faut chercher à minimiser le temps de réalisation du projet le plus long (min max).\n",
    "\n",
    "\n",
    "## Variables : \n",
    "\n",
    "variables binaires Xiyz : est ce que X travaille le jour i sur le job y avec la compétence Z\n",
    "stockés dans des matrices horizon_jours * nombre de qualifications * nombre de job\n",
    "\n",
    "### bénéfice (pseudo code) :\n",
    "bénéfice = somme sur tous les jobs (cste_rem * var_{le projet est réalisé} - cste_pénalité * {nombre dejours de retard})"
   ]
  },
  {
   "cell_type": "code",
   "execution_count": null,
   "metadata": {},
   "outputs": [],
   "source": [
    "\n",
    "# def get_job_matrix(num_job, staff_variables):\n",
    "#     job_staff_variables = [var[:,:,num_job] for var in staff_variables]\n",
    "#     matrix_project = np.zeros(5,3,5)\n",
    "#     for staff in range(len(job_staff_variables)):\n",
    "#         matrix_project += job_staff_variables[staff]\n",
    "\n",
    "# def is_job_done(num_job, vars, deadline, working_days_per_qualification):\n",
    "#     matrix_project = get_job_matrix(num_job, vars)\n",
    "#     for qualification in range(len(vars[0])):\n",
    "#         if np.sum(matrix_project[:, qualification]) < working_days_per_qualification[qualification]:\n",
    "#             return 0\n",
    "#     return 1\n",
    "\n",
    "# def get_termination_day(num_job, vars, deadline, working_days_per_qualification):\n",
    "#     matrix_project = get_job_matrix(num_job, vars)\n",
    "#     s = list(np.sum(matrix_project, axis=1))\n",
    "#     for i in range(s, -1):\n",
    "#         if s[i] != 0 :\n",
    "#             return i\n",
    "\n",
    "# benef = sum ( [job.gain * is_job_done(job, vars) - job.daily_penalty * max(get_termination_day(job-job.dealine), 0) for job in jobs])\n",
    "\n",
    "\n"
   ]
  },
  {
   "cell_type": "code",
   "execution_count": null,
   "metadata": {},
   "outputs": [],
   "source": [
    "def init_model():\n",
    "    m = Model(\"P1 modelling\")\n",
    "    return m\n",
    "\n",
    "def create_decision_variables(model, nb_staff, horizon, nb_qualification, nb_jobs):\n",
    "    X = model.addMVar((nb_staff, horizon, nb_qualification, nb_jobs), vtype=GRB.BINARY, name = \"X\")\n",
    "    P = model.addMVar(nb_jobs, vtype=GRB.BINARY, name = \"P\")\n",
    "    return model, X, P\n",
    "\n",
    "def add_constraint_between_X_and_P(model, X, P):\n",
    "    for job in P : \n",
    "        model.addGenConstrIndicator(P[job], True, x1 + 2*x2 + x4 == 1.0 + x5)\n",
    "        model.addGenConstrIndicator(P[job], True, x1 + 2*x2 + x4 == 1.0 + x5)\n",
    "\n"
   ]
  },
  {
   "cell_type": "code",
   "execution_count": 1,
   "metadata": {},
   "outputs": [
    {
     "name": "stdout",
     "output_type": "stream",
     "text": [
      "Set parameter Username\n",
      "Academic license - for non-commercial use only - expires 2023-12-10\n",
      "La solution optimale est (v0, v1) = (4.0, 6.0) avec pour objectif z = 10.0\n"
     ]
    }
   ],
   "source": [
    "from gurobipy import *\n",
    "# Instanciation du modèle\n",
    "m = Model(\"P1 modelling\")\n",
    "# Création de 2 variables continues v0 et v1\n",
    "v0 = m.addVar(lb=0)\n",
    "v1 = m.addVar(lb=0)\n",
    "\n",
    "# maj du modèle\n",
    "m.update()\n",
    "# Ajout de 3 constraintes \n",
    "m.addConstr(2*v0 + v1 <= 14)\n",
    "m.addConstr(-v0 + 2*v1 <= 8)\n",
    "m.addConstr(2*v0 - v1 <= 10)\n",
    "# Fonction Objectif\n",
    "m.setObjective(v0 + v1, GRB.MAXIMIZE)         \n",
    "# Paramétrage (mode mute)\n",
    "m.params.outputflag = 0\n",
    "# Résolution du PL\n",
    "m.optimize()\n",
    "print(\"La solution optimale est (v0, v1) = {} avec pour objectif z = {}\".format((v0.x, v1.x), m.objVal))"
   ]
  }
 ],
 "metadata": {
  "kernelspec": {
   "display_name": "base",
   "language": "python",
   "name": "python3"
  },
  "language_info": {
   "codemirror_mode": {
    "name": "ipython",
    "version": 3
   },
   "file_extension": ".py",
   "mimetype": "text/x-python",
   "name": "python",
   "nbconvert_exporter": "python",
   "pygments_lexer": "ipython3",
   "version": "3.9.13 (main, Aug 25 2022, 23:51:50) [MSC v.1916 64 bit (AMD64)]"
  },
  "orig_nbformat": 4,
  "vscode": {
   "interpreter": {
    "hash": "b28994c5a928968583f09e2df007a98e881f3ff9338db31e6d108d2714b0f296"
   }
  }
 },
 "nbformat": 4,
 "nbformat_minor": 2
}
