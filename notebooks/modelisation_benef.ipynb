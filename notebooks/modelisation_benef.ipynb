{
 "cells": [
  {
   "cell_type": "code",
   "execution_count": 1,
   "metadata": {},
   "outputs": [],
   "source": [
    "import json\n",
    "from enum import Enum\n",
    "from gurobipy import Model, GRB, quicksum\n",
    "import numpy as np\n",
    "import pandas as pd\n",
    "from random import randint\n"
   ]
  },
  {
   "cell_type": "code",
   "execution_count": 2,
   "metadata": {},
   "outputs": [],
   "source": [
    "class DATASET(Enum):\n",
    "    TOY = \"toy\"\n",
    "    MEDIUM = \"medium\"\n",
    "    LARGE = \"large\""
   ]
  },
  {
   "cell_type": "code",
   "execution_count": 3,
   "metadata": {},
   "outputs": [],
   "source": [
    "def load_data(name):\n",
    "    \"\"\"name must be an instance of DATASET like DATASET.TOY for example\"\"\"\n",
    "    if not isinstance(name, DATASET):\n",
    "        raise TypeError(\"direction must be an instance of DATASET Enum\")\n",
    "    with open(f\"../data/{name.value}_instance.json\", \"r\") as f:\n",
    "        data = json.load(f)\n",
    "    return data\n",
    "\n",
    "\n",
    "def get_dims(data):\n",
    "    return (\n",
    "        len(data[\"staff\"]),\n",
    "        data[\"horizon\"],\n",
    "        len(data[\"qualifications\"]),\n",
    "        len(data[\"jobs\"]),\n",
    "    )\n",
    "\n",
    "def get_qualification_index(list_qualifications, qualification): # qualification is \"A\", \"B\", \"C\" ...\n",
    "    return list_qualifications.index(qualification)"
   ]
  },
  {
   "cell_type": "code",
   "execution_count": 4,
   "metadata": {},
   "outputs": [],
   "source": [
    "def init_model():\n",
    "    m = Model(\"Project modelling\")\n",
    "    return m"
   ]
  },
  {
   "cell_type": "code",
   "execution_count": 5,
   "metadata": {},
   "outputs": [],
   "source": [
    "def create_decision_variables(model, n_staff, horizon, n_qualifs, n_jobs):\n",
    "    X = model.addVars(n_staff, horizon, n_qualifs, n_jobs, vtype=GRB.BINARY, name=\"assignements\")\n",
    "    J = model.addVars(n_jobs, vtype=GRB.BINARY, name=\"completion\")\n",
    "    D = model.addVars(n_jobs, lb=0, ub=horizon + 1, vtype=GRB.INTEGER, name=\"end_dates\")\n",
    "    L = model.addVars(n_jobs, lb=0, ub=horizon + 1, vtype=GRB.INTEGER, name=\"nb_dates_late\")\n",
    "    return model, X, J, D, L\n"
   ]
  },
  {
   "cell_type": "code",
   "execution_count": 6,
   "metadata": {},
   "outputs": [],
   "source": [
    "def add_constraints_end_dates(model, X, D, n_staff, horizon, n_qualifs, n_jobs):\n",
    "    model.addConstrs(\n",
    "        X[i, j, k, l] * j <= D[l] \n",
    "        for i in range(n_staff)\n",
    "        for j in range(horizon)\n",
    "        for k in range(n_qualifs)\n",
    "        for l in range(n_jobs)\n",
    "    )"
   ]
  },
  {
   "cell_type": "code",
   "execution_count": 7,
   "metadata": {},
   "outputs": [],
   "source": [
    "def add_constraints_lateness(model, D, L, jobs, n_staff, horizon, n_qualifs, n_jobs):\n",
    "    model.addConstrs(\n",
    "        D[l] - jobs[l][\"due_date\"] <= L[l] for l in range(n_jobs)\n",
    "    )"
   ]
  },
  {
   "cell_type": "code",
   "execution_count": 8,
   "metadata": {},
   "outputs": [],
   "source": [
    "def add_constraints_worked_days_below_required_days(model, X, jobs, qualifications, n_staff, horizon, n_jobs):\n",
    "    model.addConstrs(quicksum(X[i,j,get_qualification_index(qualifications, k),l] for i in range(n_staff) for j in range(horizon)) <= jobs[l][\"working_days_per_qualification\"][k] for l in range(n_jobs) for k in jobs[l][\"working_days_per_qualification\"].keys())\n",
    "    "
   ]
  },
  {
   "cell_type": "code",
   "execution_count": 9,
   "metadata": {},
   "outputs": [],
   "source": [
    "def add_constraints_worked_days_above_required_days(model, X, J, jobs, qualifications, n_staff, horizon, n_jobs):\n",
    "    model.addConstrs(quicksum(X[i,j,get_qualification_index(qualifications, k),l] for i in range(n_staff) for j in range(horizon)) >= J[l]* jobs[l][\"working_days_per_qualification\"][k] for l in range(n_jobs) for k in jobs[l][\"working_days_per_qualification\"].keys())\n",
    "\n",
    "    # for l in range(n_jobs): \n",
    "    #     for quali,njk in data[\"jobs\"][l][\"working_days_per_qualification\"].items():\n",
    "    #         model.addConstr(J[l]*njk <= quicksum([X[i,j,get_qualification_index(qualifications, quali),l] for i in range(n_staff) for j in range(horizon)]))"
   ]
  },
  {
   "cell_type": "code",
   "execution_count": 10,
   "metadata": {},
   "outputs": [],
   "source": [
    "def in_qualification(data, i, k):\n",
    "    return data[\"qualifications\"][k] in data[\"staff\"][i][\"qualifications\"]\n",
    "\n",
    "\n",
    "def add_qualification_constraints(model, n_staff, horizon, n_qualifs, n_jobs, X, data):\n",
    "    model.addConstrs(\n",
    "        X[i, j, k, l] == 0\n",
    "        for i in range(n_staff)\n",
    "        for j in range(horizon)\n",
    "        for k in range(n_qualifs)\n",
    "        for l in range(n_jobs)\n",
    "        if not in_qualification(data, i, k)\n",
    "    )\n",
    "\n",
    "\n",
    "def in_vacation(i, j, data):\n",
    "    data = {l: data[\"staff\"][l] for l in range(len(data[\"staff\"]))}\n",
    "    data = data[i][\"vacations\"]\n",
    "    return j in data\n",
    "\n",
    "\n",
    "def add_vacation_constraints(model, n_staff, horizon, n_qualifs, n_jobs, X, data):\n",
    "    model.addConstrs(\n",
    "        X[i, j, k, l] == 0\n",
    "        for i in range(n_staff)\n",
    "        for j in range(horizon)\n",
    "        for k in range(n_qualifs)\n",
    "        for l in range(n_jobs)\n",
    "        if in_vacation(i, j, data)\n",
    "    )"
   ]
  },
  {
   "cell_type": "code",
   "execution_count": 11,
   "metadata": {},
   "outputs": [],
   "source": [
    "def add_constraint_employees_working_only_one_day(model, X, J, data, n_staff, n_jobs, horizon, n_qualifs):\n",
    "    model.addConstrs(quicksum(X[i,j,k,l] for l in range(n_jobs) for k in range (n_qualifs)) <= 1 for i in range(n_staff) for j in range(horizon))"
   ]
  },
  {
   "cell_type": "code",
   "execution_count": 12,
   "metadata": {},
   "outputs": [],
   "source": [
    "def add_profit_as_first_objective(model, J, L, jobs):\n",
    "    model.setObjective(\n",
    "        quicksum( (J[index_job] * job[\"gain\"] - job[\"daily_penalty\"] * L[index_job]) for index_job, job in enumerate(jobs)),\n",
    "        GRB.MAXIMIZE\n",
    "    )\n",
    "    return model"
   ]
  },
  {
   "cell_type": "code",
   "execution_count": 13,
   "metadata": {},
   "outputs": [
    {
     "name": "stdout",
     "output_type": "stream",
     "text": [
      "Restricted license - for non-production use only - expires 2024-10-28\n",
      "True\n",
      "Gurobi Optimizer version 10.0.0 build v10.0.0rc2 (linux64)\n",
      "\n",
      "CPU model: 11th Gen Intel(R) Core(TM) i5-1135G7 @ 2.40GHz, instruction set [SSE2|AVX|AVX2|AVX512]\n",
      "Thread count: 4 physical cores, 8 logical processors, using up to 8 threads\n",
      "\n",
      "Optimize a model with 370 rows, 240 columns and 1055 nonzeros\n",
      "Model fingerprint: 0xcb56a9c0\n",
      "Variable types: 0 continuous, 240 integer (230 binary)\n",
      "Coefficient statistics:\n",
      "  Matrix range     [1e+00, 4e+00]\n",
      "  Objective range  [3e+00, 2e+01]\n",
      "  Bounds range     [1e+00, 6e+00]\n",
      "  RHS range        [1e+00, 5e+00]\n",
      "Found heuristic solution: objective -0.0000000\n",
      "Presolve removed 329 rows and 142 columns\n",
      "Presolve time: 0.00s\n",
      "Presolved: 41 rows, 98 columns, 304 nonzeros\n",
      "Variable types: 0 continuous, 98 integer (98 binary)\n",
      "Found heuristic solution: objective 20.0000000\n",
      "\n",
      "Root relaxation: objective 7.500000e+01, 57 iterations, 0.00 seconds (0.00 work units)\n",
      "\n",
      "    Nodes    |    Current Node    |     Objective Bounds      |     Work\n",
      " Expl Unexpl |  Obj  Depth IntInf | Incumbent    BestBd   Gap | It/Node Time\n",
      "\n",
      "     0     0   75.00000    0    1   20.00000   75.00000   275%     -    0s\n",
      "H    0     0                      70.0000000   75.00000  7.14%     -    0s\n",
      "     0     0 infeasible    0        70.00000   70.00000  0.00%     -    0s\n",
      "\n",
      "Cutting planes:\n",
      "  Gomory: 1\n",
      "\n",
      "Explored 1 nodes (64 simplex iterations) in 0.02 seconds (0.00 work units)\n",
      "Thread count was 8 (of 8 available processors)\n",
      "\n",
      "Solution count 3: 70 20 -0 \n",
      "\n",
      "Optimal solution found (tolerance 1.00e-04)\n",
      "Best objective 7.000000000000e+01, best bound 7.000000000000e+01, gap 0.0000%\n"
     ]
    },
    {
     "data": {
      "text/html": [
       "<style type=\"text/css\">\n",
       "#T_ba7f9_row0_col0, #T_ba7f9_row1_col0, #T_ba7f9_row1_col2 {\n",
       "  background-color: #F748CE;\n",
       "}\n",
       "#T_ba7f9_row0_col1, #T_ba7f9_row1_col3, #T_ba7f9_row2_col1 {\n",
       "  background-color: #359C33;\n",
       "}\n",
       "#T_ba7f9_row0_col2, #T_ba7f9_row0_col3, #T_ba7f9_row2_col0 {\n",
       "  background-color: #E7D629;\n",
       "}\n",
       "#T_ba7f9_row0_col4, #T_ba7f9_row1_col4, #T_ba7f9_row2_col4 {\n",
       "  background-color: #7102FF;\n",
       "}\n",
       "#T_ba7f9_row1_col1, #T_ba7f9_row2_col2 {\n",
       "  background-color: black;\n",
       "}\n",
       "#T_ba7f9_row2_col3 {\n",
       "  background-color: #9FDCE6;\n",
       "}\n",
       "</style>\n",
       "<table id=\"T_ba7f9\">\n",
       "  <thead>\n",
       "    <tr>\n",
       "      <th class=\"blank level0\" >&nbsp;</th>\n",
       "      <th id=\"T_ba7f9_level0_col0\" class=\"col_heading level0 col0\" >0</th>\n",
       "      <th id=\"T_ba7f9_level0_col1\" class=\"col_heading level0 col1\" >1</th>\n",
       "      <th id=\"T_ba7f9_level0_col2\" class=\"col_heading level0 col2\" >2</th>\n",
       "      <th id=\"T_ba7f9_level0_col3\" class=\"col_heading level0 col3\" >3</th>\n",
       "      <th id=\"T_ba7f9_level0_col4\" class=\"col_heading level0 col4\" >4</th>\n",
       "    </tr>\n",
       "  </thead>\n",
       "  <tbody>\n",
       "    <tr>\n",
       "      <th id=\"T_ba7f9_level0_row0\" class=\"row_heading level0 row0\" >Olivia</th>\n",
       "      <td id=\"T_ba7f9_row0_col0\" class=\"data row0 col0\" >B</td>\n",
       "      <td id=\"T_ba7f9_row0_col1\" class=\"data row0 col1\" >A</td>\n",
       "      <td id=\"T_ba7f9_row0_col2\" class=\"data row0 col2\" >B</td>\n",
       "      <td id=\"T_ba7f9_row0_col3\" class=\"data row0 col3\" >B</td>\n",
       "      <td id=\"T_ba7f9_row0_col4\" class=\"data row0 col4\" >C</td>\n",
       "    </tr>\n",
       "    <tr>\n",
       "      <th id=\"T_ba7f9_level0_row1\" class=\"row_heading level0 row1\" >Liam</th>\n",
       "      <td id=\"T_ba7f9_row1_col0\" class=\"data row1 col0\" >B</td>\n",
       "      <td id=\"T_ba7f9_row1_col1\" class=\"data row1 col1\" ></td>\n",
       "      <td id=\"T_ba7f9_row1_col2\" class=\"data row1 col2\" >A</td>\n",
       "      <td id=\"T_ba7f9_row1_col3\" class=\"data row1 col3\" >B</td>\n",
       "      <td id=\"T_ba7f9_row1_col4\" class=\"data row1 col4\" >A</td>\n",
       "    </tr>\n",
       "    <tr>\n",
       "      <th id=\"T_ba7f9_level0_row2\" class=\"row_heading level0 row2\" >Emma</th>\n",
       "      <td id=\"T_ba7f9_row2_col0\" class=\"data row2 col0\" >C</td>\n",
       "      <td id=\"T_ba7f9_row2_col1\" class=\"data row2 col1\" >C</td>\n",
       "      <td id=\"T_ba7f9_row2_col2\" class=\"data row2 col2\" ></td>\n",
       "      <td id=\"T_ba7f9_row2_col3\" class=\"data row2 col3\" >C</td>\n",
       "      <td id=\"T_ba7f9_row2_col4\" class=\"data row2 col4\" >C</td>\n",
       "    </tr>\n",
       "  </tbody>\n",
       "</table>\n"
      ],
      "text/plain": [
       "<pandas.io.formats.style.Styler at 0x7fac5413a2f0>"
      ]
     },
     "execution_count": 13,
     "metadata": {},
     "output_type": "execute_result"
    }
   ],
   "source": [
    "\n",
    "# Importing data\n",
    "data = load_data(DATASET.TOY)\n",
    "n_staff, horizon, n_qualifs, n_jobs = get_dims(data)\n",
    "\n",
    "# Instanciation du modèle\n",
    "model = init_model()\n",
    "\n",
    "# Création des variables : binaires dans X et J, entières de 0 à horizon + 3\n",
    "model, X, J, D, L = create_decision_variables(model, n_staff, horizon, n_qualifs, n_jobs)\n",
    "\n",
    "# maj du modèle\n",
    "model.update()\n",
    "\n",
    "print(in_qualification(data, 1, 1))\n",
    "\n",
    "# Ajout des constraintes\n",
    "\n",
    "add_constraint_employees_working_only_one_day(model, X ,J,data,n_staff,n_jobs,horizon, n_qualifs)\n",
    "add_qualification_constraints(model, n_staff, horizon, n_qualifs, n_jobs, X, data)\n",
    "add_vacation_constraints(model, n_staff, horizon, n_qualifs, n_jobs, X, data)\n",
    "\n",
    "add_constraints_end_dates(model, X, D, n_staff, horizon, n_qualifs, n_jobs)\n",
    "add_constraints_lateness(model, D, L, data[\"jobs\"], n_staff, horizon, n_qualifs, n_jobs)\n",
    "\n",
    "add_constraints_worked_days_below_required_days(model, X, data[\"jobs\"], data[\"qualifications\"], n_staff, horizon, n_jobs)\n",
    "add_constraints_worked_days_above_required_days(model, X , J, data[\"jobs\"], data[\"qualifications\"], n_staff, horizon, n_jobs)\n",
    "\n",
    "# maj du modèle\n",
    "model.update()\n",
    "\n",
    "# Fonction Objectif\n",
    "model = add_profit_as_first_objective(model, J, L, data[\"jobs\"])\n",
    "\n",
    "# maj du modèle\n",
    "model.update()\n",
    "\n",
    "# Paramétrage (mode mute)\n",
    "# model.params.outputflag = 0\n",
    "\n",
    "# Résolution du PL\n",
    "model.optimize()\n",
    "\n",
    "staffos = {i:[] for i in range(n_staff)}\n",
    "for i in range(n_staff):\n",
    "    for j in range(horizon):\n",
    "        done = False\n",
    "        for k in range(n_qualifs):\n",
    "            for l in range(n_jobs):\n",
    "                if X[(i, j, k, l)].X==1:\n",
    "                    staffos[i].append([k,l])\n",
    "                    done = True\n",
    "        if done==False:\n",
    "            staffos[i].append([-1,-1])\n",
    "            \n",
    "df=pd.DataFrame(staffos).T\n",
    "df.index=[data[\"staff\"][i][\"name\"] for i in range(n_staff)]\n",
    "def format_df(styler):\n",
    "    color = []\n",
    "    for i in range(n_jobs):\n",
    "        color.append('#%06X' % randint(0, 0xFFFFFF))\n",
    "    styler.applymap(lambda x: f\"background-color: {color[x[1]]}\" if x[0]!=-1 else \"background-color: black\")\n",
    "    styler.format(lambda x: data[\"qualifications\"][x[0]] if x[0]!=-1 else \"\")\n",
    "    return styler\n",
    "    \n",
    "df.style.pipe(format_df)\n",
    "\n"
   ]
  },
  {
   "cell_type": "code",
   "execution_count": 14,
   "metadata": {},
   "outputs": [],
   "source": [
    "# # Objective Function 1: Maximize Profits\n",
    "# model.setObjective(sum(profit[j]*y[j] for j in projects) - sum(penalty[i,j]*x[i,j,k] for i in staff for j in qualifications for k in working_days), GRB.MAXIMIZE)\n",
    "\n",
    "# # Objective Function 2: Minimize Number of Projects per Employee\n",
    "# model.setObjective(sum(x[i,j,k] for i in staff for j in qualifications for k in working_days) , GRB.MINIMIZE)\n",
    "# model.setObjective(sum(x[i,j,k] for i in staff for j in qualifications for k in working_days) , GRB.MINIMIZE)\n",
    "\n",
    "# # Objective Function 3: Minimize Length of Longest Project\n",
    "# model.setObjective(max(duration[j] for j in projects), GRB.MINIMIZE)"
   ]
  }
 ],
 "metadata": {
  "kernelspec": {
   "display_name": "venv",
   "language": "python",
   "name": "python3"
  },
  "language_info": {
   "codemirror_mode": {
    "name": "ipython",
    "version": 3
   },
   "file_extension": ".py",
   "mimetype": "text/x-python",
   "name": "python",
   "nbconvert_exporter": "python",
   "pygments_lexer": "ipython3",
   "version": "3.10.6"
  },
  "orig_nbformat": 4,
  "vscode": {
   "interpreter": {
    "hash": "2c0aa0b7aa1f748432f95ffe17aa1c95c6cdf69e66fe0de77b2aa7e0c5c42b69"
   }
  }
 },
 "nbformat": 4,
 "nbformat_minor": 2
}
