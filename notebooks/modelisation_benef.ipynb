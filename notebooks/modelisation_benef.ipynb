{
 "cells": [
  {
   "cell_type": "code",
   "execution_count": 48,
   "metadata": {},
   "outputs": [],
   "source": [
    "import json\n",
    "from enum import Enum\n",
    "from gurobipy import Model, GRB, quicksum\n",
    "import numpy as np\n",
    "\n"
   ]
  },
  {
   "cell_type": "code",
   "execution_count": 49,
   "metadata": {},
   "outputs": [],
   "source": [
    "class DATASET(Enum):\n",
    "    TOY = \"toy\"\n",
    "    MEDIUM = \"medium\"\n",
    "    LARGE = \"large\""
   ]
  },
  {
   "cell_type": "code",
   "execution_count": 50,
   "metadata": {},
   "outputs": [],
   "source": [
    "def load_data(name):\n",
    "    \"\"\"name must be an instance of DATASET like DATASET.TOY for example\"\"\"\n",
    "    if not isinstance(name, DATASET):\n",
    "        raise TypeError(\"direction must be an instance of DATASET Enum\")\n",
    "    with open(f\"../data/{name.value}_instance.json\", \"r\") as f:\n",
    "        data = json.load(f)\n",
    "    return data\n",
    "\n",
    "\n",
    "def get_dims(data):\n",
    "    return (\n",
    "        len(data[\"staff\"]),\n",
    "        data[\"horizon\"],\n",
    "        len(data[\"qualifications\"]),\n",
    "        len(data[\"jobs\"]),\n",
    "    )"
   ]
  },
  {
   "cell_type": "code",
   "execution_count": 51,
   "metadata": {},
   "outputs": [],
   "source": [
    "def init_model():\n",
    "    m = Model(\"Project modelling\")\n",
    "    return m"
   ]
  },
  {
   "cell_type": "code",
   "execution_count": 52,
   "metadata": {},
   "outputs": [],
   "source": [
    "def create_decision_variables(model, n_staff, horizon, n_qualifs, n_jobs):\n",
    "    X = model.addVars(n_staff, horizon, n_qualifs, n_jobs, vtype=GRB.BINARY, name=\"assignements\")\n",
    "    J = model.addVars(n_jobs, vtype=GRB.BINARY, name=\"completion\")\n",
    "    D = model.addVars(n_jobs, lb=0, ub=horizon + 1, vtype=GRB.INTEGER, name=\"end_dates\")\n",
    "    L = model.addVars(n_jobs, lb=0, ub=horizon + 1, vtype=GRB.INTEGER, name=\"nb_dates_late\")\n",
    "    return model, X, J, D, L\n"
   ]
  },
  {
   "cell_type": "code",
   "execution_count": 53,
   "metadata": {},
   "outputs": [],
   "source": [
    "def add_constraints_for_J(model, X, J, jobs, qualifications):\n",
    "    for index_job in range(len(J)):\n",
    "        model.addGenConstrIndicator(\n",
    "            J[index_job],\n",
    "            True,\n",
    "            (\n",
    "                sum(X[:, :, index_k, index_job])\n",
    "                >= jobs[index_job][\"working_days_per_qualification\"][k]\n",
    "                for index_k, k in enumerate(qualifications)\n",
    "            ),\n",
    "        )\n",
    "        model.addGenConstrIndicator(\n",
    "            J[index_job],\n",
    "            False,\n",
    "            not (\n",
    "                sum(X[:, :, index_k, index_job])\n",
    "                >= jobs[index_job][\"working_days_per_qualification\"][k]\n",
    "                for index_k, k in enumerate(qualifications)\n",
    "            ),\n",
    "        )\n",
    "\n",
    "\n",
    "def add_constraints_for_D(model, X, J, D, horizon):\n",
    "    for index_job in range(len(J)):\n",
    "\n",
    "        start_date = min([j for j in range(horizon) if sum(X[:, j, :, index_job]) >= 0])\n",
    "        end_date = max([j for j in range(horizon) if sum(X[:, j, :, index_job]) >= 0])\n",
    "        range = end_date - start_date + 1\n",
    "\n",
    "        model.addGenConstrIndicator(\n",
    "            J[index_job],\n",
    "            True,\n",
    "            D[index_job, :] == [start_date, end_date, range],\n",
    "        )\n",
    "        model.addGenConstrIndicator(J[index_job], False, D[index_job, :] == [0, horizon + 1, 0])"
   ]
  },
  {
   "cell_type": "code",
   "execution_count": 61,
   "metadata": {},
   "outputs": [],
   "source": [
    "def add_constraints_end_dates(model, X, D, jobs, qualifications, n_staff, horizon, n_qualifs, n_jobs):\n",
    "    model.addConstrs(\n",
    "        X[i, j, k, l] * j <= D[l] \n",
    "        for i in range(n_staff)\n",
    "        for j in range(horizon)\n",
    "        for k in range(n_qualifs)\n",
    "        for l in range(n_jobs)\n",
    "    )"
   ]
  },
  {
   "cell_type": "code",
   "execution_count": 55,
   "metadata": {},
   "outputs": [],
   "source": [
    "def add_constraints_lateness(model, D, L, jobs, n_staff, horizon, n_qualifs, n_jobs):\n",
    "        model.addConstrs(\n",
    "            D[l] - jobs[l][\"due_date\"] <= L[l] for l in range(n_jobs)\n",
    "        )"
   ]
  },
  {
   "cell_type": "code",
   "execution_count": 56,
   "metadata": {},
   "outputs": [],
   "source": [
    "def in_qualification(i, k, data):\n",
    "    data = {l : data[\"staff\"][l] for l in range(len(data[\"staff\"]))}\n",
    "    data = data[i][\"qualifications\"]\n",
    "    return k in data\n",
    "\n",
    "\n",
    "def add_qualification_constraints(model, n_staff, horizon, n_qualifs, n_jobs, X, data):\n",
    "    model.addConstrs(\n",
    "        X[i, j, k, l] == 0\n",
    "        for i in range(n_staff)\n",
    "        for j in range(horizon)\n",
    "        for k in range(n_qualifs)\n",
    "        for l in range(n_jobs)\n",
    "        if not in_qualification(i, k, data)\n",
    "    )\n",
    "\n",
    "\n",
    "def in_vacation(i, j, data):\n",
    "    data = {l: data[\"staff\"][l] for l in range(len(data[\"staff\"]))}\n",
    "    data = data[i][\"vacations\"]\n",
    "    return j in data\n",
    "\n",
    "\n",
    "def add_vacation_constraints(model, n_staff, horizon, n_qualifs, n_jobs, X, data):\n",
    "    model.addConstrs(\n",
    "        X[i, j, k, l] == 0\n",
    "        for i in range(n_staff)\n",
    "        for j in range(horizon)\n",
    "        for k in range(n_qualifs)\n",
    "        for l in range(n_jobs)\n",
    "        if in_vacation(i, j, data)\n",
    "    )"
   ]
  },
  {
   "cell_type": "code",
   "execution_count": 57,
   "metadata": {},
   "outputs": [],
   "source": [
    "def min_nb_projet_per_staff(model, n_staff, horizon, n_qualifs, n_jobs):\n",
    "    obj1 = quicksum(M(i, j, k, l) for j in horizon for k in n_qualifs)\n",
    "    obj1 = quicksum()"
   ]
  },
  {
   "cell_type": "code",
   "execution_count": 58,
   "metadata": {},
   "outputs": [],
   "source": [
    "def add_profit_as_first_objective(model, J, D, jobs):\n",
    "\n",
    "    benef = sum(\n",
    "        [\n",
    "            J[index_job] * (job.gain - job.daily_penalty * max(D[index_job, 1] - job.due_date, 0))\n",
    "            for index_job, job in enumerate(jobs)\n",
    "        ]\n",
    "    )\n",
    "\n",
    "    model.setObjective(benef, GRB.MAXIMIZE)"
   ]
  },
  {
   "cell_type": "code",
   "execution_count": 59,
   "metadata": {},
   "outputs": [],
   "source": [
    "def main():\n",
    "    # Importing data\n",
    "    data = load_data(DATASET.TOY)\n",
    "    n_staff, horizon, n_qualifs, n_jobs = get_dims(data)\n",
    "\n",
    "    # Instanciation du modèle\n",
    "    model = init_model()\n",
    "\n",
    "    # Création des variables : binaires dans X et J, entières de 0 à horizon + 3\n",
    "    model, X, J, D, L = create_decision_variables(model, n_staff, horizon, n_qualifs, n_jobs)\n",
    "\n",
    "    # maj du modèle\n",
    "    model.update()\n",
    "\n",
    "    # Ajout des 3 constraintes\n",
    "    add_qualification_constraints(model, n_staff, horizon, n_qualifs, n_jobs, X, data)\n",
    "    add_vacation_constraints(model, n_staff, horizon, n_qualifs, n_jobs, X, data)\n",
    "    add_constraints_end_dates(model, X, D, data[\"jobs\"], data[\"qualifications\"], n_staff, horizon, n_qualifs, n_jobs)\n",
    "    add_constraints_for_D(model, X, J, D, horizon)\n",
    "\n",
    "    # Fonction Objectif\n",
    "    add_profit_as_first_objective(model, J, D, data[\"jobs\"])\n",
    "\n",
    "    # Paramétrage (mode mute)\n",
    "    # model.params.outputflag = 0\n",
    "\n",
    "    # Résolution du PL\n",
    "    model.optimize()"
   ]
  },
  {
   "cell_type": "code",
   "execution_count": 62,
   "metadata": {},
   "outputs": [
    {
     "ename": "UnboundLocalError",
     "evalue": "local variable 'range' referenced before assignment",
     "output_type": "error",
     "traceback": [
      "\u001b[1;31m---------------------------------------------------------------------------\u001b[0m",
      "\u001b[1;31mUnboundLocalError\u001b[0m                         Traceback (most recent call last)",
      "Cell \u001b[1;32mIn [62], line 1\u001b[0m\n\u001b[1;32m----> 1\u001b[0m main()\n",
      "Cell \u001b[1;32mIn [59], line 19\u001b[0m, in \u001b[0;36mmain\u001b[1;34m()\u001b[0m\n\u001b[0;32m     17\u001b[0m add_vacation_constraints(model, n_staff, horizon, n_qualifs, n_jobs, X, data)\n\u001b[0;32m     18\u001b[0m add_constraints_end_dates(model, X, D, data[\u001b[39m\"\u001b[39m\u001b[39mjobs\u001b[39m\u001b[39m\"\u001b[39m], data[\u001b[39m\"\u001b[39m\u001b[39mqualifications\u001b[39m\u001b[39m\"\u001b[39m], n_staff, horizon, n_qualifs, n_jobs)\n\u001b[1;32m---> 19\u001b[0m add_constraints_for_D(model, X, J, D, horizon)\n\u001b[0;32m     21\u001b[0m \u001b[39m# Fonction Objectif\u001b[39;00m\n\u001b[0;32m     22\u001b[0m add_profit_as_first_objective(model, J, D, data[\u001b[39m\"\u001b[39m\u001b[39mjobs\u001b[39m\u001b[39m\"\u001b[39m])\n",
      "Cell \u001b[1;32mIn [53], line 24\u001b[0m, in \u001b[0;36madd_constraints_for_D\u001b[1;34m(model, X, J, D, horizon)\u001b[0m\n\u001b[0;32m     23\u001b[0m \u001b[39mdef\u001b[39;00m \u001b[39madd_constraints_for_D\u001b[39m(model, X, J, D, horizon):\n\u001b[1;32m---> 24\u001b[0m     \u001b[39mfor\u001b[39;00m index_job \u001b[39min\u001b[39;00m \u001b[39mrange\u001b[39;49m(\u001b[39mlen\u001b[39m(J)):\n\u001b[0;32m     26\u001b[0m         start_date \u001b[39m=\u001b[39m \u001b[39mmin\u001b[39m([j \u001b[39mfor\u001b[39;00m j \u001b[39min\u001b[39;00m \u001b[39mrange\u001b[39m(horizon) \u001b[39mif\u001b[39;00m \u001b[39msum\u001b[39m(X[:, j, :, index_job]) \u001b[39m>\u001b[39m\u001b[39m=\u001b[39m \u001b[39m0\u001b[39m])\n\u001b[0;32m     27\u001b[0m         end_date \u001b[39m=\u001b[39m \u001b[39mmax\u001b[39m([j \u001b[39mfor\u001b[39;00m j \u001b[39min\u001b[39;00m \u001b[39mrange\u001b[39m(horizon) \u001b[39mif\u001b[39;00m \u001b[39msum\u001b[39m(X[:, j, :, index_job]) \u001b[39m>\u001b[39m\u001b[39m=\u001b[39m \u001b[39m0\u001b[39m])\n",
      "\u001b[1;31mUnboundLocalError\u001b[0m: local variable 'range' referenced before assignment"
     ]
    }
   ],
   "source": [
    "main()"
   ]
  },
  {
   "cell_type": "code",
   "execution_count": null,
   "metadata": {},
   "outputs": [],
   "source": []
  }
 ],
 "metadata": {
  "kernelspec": {
   "display_name": "base",
   "language": "python",
   "name": "python3"
  },
  "language_info": {
   "codemirror_mode": {
    "name": "ipython",
    "version": 3
   },
   "file_extension": ".py",
   "mimetype": "text/x-python",
   "name": "python",
   "nbconvert_exporter": "python",
   "pygments_lexer": "ipython3",
   "version": "3.9.13"
  },
  "orig_nbformat": 4,
  "vscode": {
   "interpreter": {
    "hash": "b28994c5a928968583f09e2df007a98e881f3ff9338db31e6d108d2714b0f296"
   }
  }
 },
 "nbformat": 4,
 "nbformat_minor": 2
}
