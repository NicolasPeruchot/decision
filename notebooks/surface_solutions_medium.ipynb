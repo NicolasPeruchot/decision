{
   "cells": [
      {
         "cell_type": "code",
         "execution_count": 1,
         "metadata": {},
         "outputs": [],
         "source": [
            "from tqdm import tqdm\n",
            "import time\n",
            "import json\n",
            "from enum import Enum\n",
            "from gurobipy import Model, GRB, quicksum, max_\n",
            "import pandas as pd\n",
            "from random import randint\n",
            "import plotly.graph_objs as go\n",
            "import numpy as np\n",
            "from numpy import array\n"
         ]
      },
      {
         "cell_type": "code",
         "execution_count": 2,
         "metadata": {},
         "outputs": [],
         "source": [
            "class DATASET(Enum):\n",
            "    TOY = \"toy\"\n",
            "    MEDIUM = \"medium\"\n",
            "    LARGE = \"large\""
         ]
      },
      {
         "attachments": {},
         "cell_type": "markdown",
         "metadata": {},
         "source": [
            "# Fonctions pour préparer le modèle\n"
         ]
      },
      {
         "cell_type": "code",
         "execution_count": 3,
         "metadata": {},
         "outputs": [],
         "source": [
            "def load_data(name):\n",
            "    \"\"\"name must be an instance of DATASET like DATASET.TOY for example\"\"\"\n",
            "    if not isinstance(name, DATASET):\n",
            "        raise TypeError(\"direction must be an instance of DATASET Enum\")\n",
            "    with open(f\"../data/{name.value}_instance.json\", \"r\") as f:\n",
            "        data = json.load(f)\n",
            "    return data\n",
            "\n",
            "\n",
            "def get_dims(data):\n",
            "    return (\n",
            "        len(data[\"staff\"]),\n",
            "        data[\"horizon\"],\n",
            "        len(data[\"qualifications\"]),\n",
            "        len(data[\"jobs\"]),\n",
            "    )\n",
            "\n",
            "def get_qualification_index(list_qualifications, qualification): # qualification is \"A\", \"B\", \"C\" ...\n",
            "    return list_qualifications.index(qualification)"
         ]
      },
      {
         "cell_type": "code",
         "execution_count": 4,
         "metadata": {},
         "outputs": [],
         "source": [
            "def init_model():\n",
            "    m = Model(\"Project modelling\")\n",
            "    return m"
         ]
      },
      {
         "cell_type": "code",
         "execution_count": 5,
         "metadata": {},
         "outputs": [],
         "source": [
            "def create_decision_variables(model, n_staff, horizon, n_qualifs, n_jobs):\n",
            "    X = model.addVars(n_staff, horizon, n_qualifs, n_jobs, vtype=GRB.BINARY, name=\"assignements\")\n",
            "    J = model.addVars(n_jobs, vtype=GRB.BINARY, name=\"completion\")\n",
            "    E_D = model.addVars(n_jobs, lb=0, ub=horizon, vtype=GRB.INTEGER, name=\"end_dates\")\n",
            "    L = model.addVars(n_jobs, lb=0, ub=horizon + 1, vtype=GRB.INTEGER, name=\"n_days_late\")\n",
            "    # profit \n",
            "    profit = model.addVar(lb =0, vtype = GRB.INTEGER, name = \"profit\")\n",
            "    # for max(days spent on project) variable\n",
            "    S_D = model.addVars(n_jobs, lb=0, ub=horizon, vtype=GRB.INTEGER, name=\"start_dates\")\n",
            "    spans = model.addVars(n_jobs, lb=0, ub=horizon, vtype=GRB.INTEGER, name=\"spans\")\n",
            "    max_days = model.addVar(lb=0, ub=horizon, vtype=GRB.INTEGER, name=\"max_jobs\")\n",
            "    # for max(projects affected) variable \n",
            "    n_jobs_per_person = model.addVars(n_staff, lb=0, ub=n_jobs, vtype=GRB.INTEGER, name=\"n_jobs_per_person\")\n",
            "    jobs_worked_on_by_person = model.addVars(n_staff, n_jobs, vtype=GRB.BINARY, name=\"jobs_worked_on_by_person\")\n",
            "    n_worked_days_per_job_and_person = model.addVars(n_staff, n_jobs,lb=0, ub=horizon, vtype=GRB.INTEGER, name=\"n_worked_days_per_job_and_person\")\n",
            "    max_jobs = model.addVar(lb=0, ub=n_jobs, vtype=GRB.INTEGER, name=\"max_jobs\")\n",
            "    return model, X, J, S_D, E_D, L, n_jobs_per_person, jobs_worked_on_by_person, n_worked_days_per_job_and_person, max_jobs, max_days, spans, profit\n"
         ]
      },
      {
         "cell_type": "code",
         "execution_count": 6,
         "metadata": {},
         "outputs": [],
         "source": [
            "def add_constraints_start_dates(model, X, S_D, n_staff, horizon, n_qualifs, n_jobs):\n",
            "    # model.addConstrs(\n",
            "    #     (X[i, j, k, l] == 1) >> (X[i, j, k, l] * j >= S_D[l]) \n",
            "    #     for i in range(n_staff)\n",
            "    #     for j in range(horizon)\n",
            "    #     for k in range(n_qualifs)\n",
            "    #     for l in range(n_jobs)\n",
            "    # )\n",
            "    model.addConstrs(\n",
            "        S_D[l] <= X[i, j, k, l] * j + (1 - X[i, j, k, l]) * horizon\n",
            "        for i in range(n_staff)\n",
            "        for j in range(horizon) \n",
            "        for k in range(n_qualifs)\n",
            "        for l in range(n_jobs)\n",
            "    )"
         ]
      },
      {
         "cell_type": "code",
         "execution_count": 7,
         "metadata": {},
         "outputs": [],
         "source": [
            "def add_constraints_end_dates(model, X, E_D, n_staff, horizon, n_qualifs, n_jobs):\n",
            "    model.addConstrs(\n",
            "        X[i, j, k, l] * j <= E_D[l] \n",
            "        for i in range(n_staff)\n",
            "        for j in range(horizon)\n",
            "        for k in range(n_qualifs)\n",
            "        for l in range(n_jobs)\n",
            "    )"
         ]
      },
      {
         "cell_type": "code",
         "execution_count": 8,
         "metadata": {},
         "outputs": [],
         "source": [
            "def add_constraints_lateness(model, E_D, L, jobs, n_staff, horizon, n_qualifs, n_jobs):\n",
            "    model.addConstrs(\n",
            "        E_D[l] +1 - jobs[l][\"due_date\"] <= L[l] for l in range(n_jobs)\n",
            "    )"
         ]
      },
      {
         "cell_type": "code",
         "execution_count": 9,
         "metadata": {},
         "outputs": [],
         "source": [
            "def add_constraints_worked_days_below_required_days(model, X, jobs, qualifications, n_staff, horizon, n_jobs):\n",
            "    model.addConstrs(quicksum(X[i,j,get_qualification_index(qualifications, k),l] for i in range(n_staff) for j in range(horizon)) <= jobs[l][\"working_days_per_qualification\"][k] \n",
            "                     for l in range(n_jobs) \n",
            "                     for k in jobs[l][\"working_days_per_qualification\"].keys())\n",
            "    "
         ]
      },
      {
         "cell_type": "code",
         "execution_count": 11,
         "metadata": {},
         "outputs": [],
         "source": [
            "def add_constraints_worked_days_above_required_days(model, X, J, jobs, qualifications, n_staff, horizon, n_jobs):\n",
            "    model.addConstrs(quicksum(X[i,j,get_qualification_index(qualifications, k),l] for i in range(n_staff) for j in range(horizon)) >= J[l]* jobs[l][\"working_days_per_qualification\"][k] \n",
            "                     for l in range(n_jobs) \n",
            "                     for k in jobs[l][\"working_days_per_qualification\"].keys())\n",
            "\n",
            "    # for l in range(n_jobs): \n",
            "    #     for quali,njk in data[\"jobs\"][l][\"working_days_per_qualification\"].items():\n",
            "    #         model.addConstr(J[l]*njk <= quicksum([X[i,j,get_qualification_index(qualifications, quali),l] for i in range(n_staff) for j in range(horizon)]))"
         ]
      },
      {
         "cell_type": "code",
         "execution_count": 12,
         "metadata": {},
         "outputs": [],
         "source": [
            "def add_constraints_employees_working_only_one_day(model, X, J, data, n_staff, n_jobs, horizon, n_qualifs):\n",
            "    model.addConstrs(quicksum(X[i,j,k,l] for l in range(n_jobs) for k in range (n_qualifs)) <= 1 \n",
            "                     for i in range(n_staff) \n",
            "                     for j in range(horizon))"
         ]
      },
      {
         "cell_type": "code",
         "execution_count": 13,
         "metadata": {},
         "outputs": [],
         "source": [
            "def in_qualification(data, i, k):\n",
            "    return data[\"qualifications\"][k] in data[\"staff\"][i][\"qualifications\"]\n",
            "\n",
            "\n",
            "def add_qualification_constraints(model, n_staff, horizon, n_qualifs, n_jobs, X, data):\n",
            "    model.addConstrs(\n",
            "        X[i, j, k, l] == 0\n",
            "        for i in range(n_staff)\n",
            "        for j in range(horizon)\n",
            "        for k in range(n_qualifs)\n",
            "        for l in range(n_jobs)\n",
            "        if not in_qualification(data, i, k)\n",
            "    )\n",
            "\n",
            "\n",
            "def in_vacation(i, j, data):\n",
            "    data = {l: data[\"staff\"][l] for l in range(len(data[\"staff\"]))}\n",
            "    data = data[i][\"vacations\"]\n",
            "    return j in data\n",
            "\n",
            "\n",
            "def add_vacation_constraints(model, n_staff, horizon, n_qualifs, n_jobs, X, data):\n",
            "    model.addConstrs(\n",
            "        X[i, j, k, l] == 0\n",
            "        for i in range(n_staff)\n",
            "        for j in range(horizon)\n",
            "        for k in range(n_qualifs)\n",
            "        for l in range(n_jobs)\n",
            "        if in_vacation(i, j, data)\n",
            "    )"
         ]
      },
      {
         "cell_type": "code",
         "execution_count": 14,
         "metadata": {},
         "outputs": [],
         "source": [
            "def add_constraint_profit(model, J, L, profit, jobs):\n",
            "    model.addConstr(profit == quicksum( (J[index_job] * job[\"gain\"] - job[\"daily_penalty\"] * L[index_job]) for index_job, job in enumerate(jobs)))"
         ]
      },
      {
         "cell_type": "code",
         "execution_count": 15,
         "metadata": {},
         "outputs": [],
         "source": [
            "def add_constraints_n_worked_days_per_jobs_person(model, X, n_worked_days_per_job_and_person, n_staff, n_jobs, horizon, n_qualifs):\n",
            "    model.addConstrs( n_worked_days_per_job_and_person[i, l] == quicksum( X[i,j,k,l] for j in range(horizon) for k in range(n_qualifs)) \n",
            "        for i in range(n_staff) \n",
            "        for l in range(n_jobs)\n",
            "    )\n",
            "\n",
            "def add_constraints_jobs_worked_on_by_person(model, jobs_worked_on_by_person, n_worked_days_per_job_and_person, n_staff, n_jobs):\n",
            "    model.addConstrs((jobs_worked_on_by_person[i, l] == 0) >> (n_worked_days_per_job_and_person[i,l] == 0) \n",
            "        for i in range(n_staff) \n",
            "        for l in range(n_jobs)\n",
            "    ) \n",
            "    # model.addConstrs((jobs_worked_on_by_person[i, l] <= n_worked_days_per_job_and_person[i,l]) \n",
            "    #     for i in range(n_staff) \n",
            "    #     for l in range(n_jobs)\n",
            "    # ) \n",
            "    model.addConstrs((jobs_worked_on_by_person[i, l] == 1) >> (n_worked_days_per_job_and_person[i,l] >= 1) \n",
            "        for i in range(n_staff) \n",
            "        for l in range(n_jobs)\n",
            "    )\n",
            "    # model.addConstrs((n_worked_days_per_job_and_person[i, l] <= jobs_worked_on_by_person[i,l]*n_jobs) \n",
            "    #     for i in range(n_staff) \n",
            "    #     for l in range(n_jobs)\n",
            "    # ) \n",
            "\n",
            "def add_constraints_n_jobs_per_person(model, n_jobs_per_person, jobs_worked_on_by_person, n_staff, n_jobs):\n",
            "    model.addConstrs(n_jobs_per_person[i] == quicksum( jobs_worked_on_by_person[i, l] for l in range(n_jobs) ) for i in range(n_staff))\n",
            "\n",
            "def add_constraint_max_jobs(model, max_jobs, n_jobs_per_person, jobs_worked_on_by_person, n_staff):\n",
            "    model.addConstr(max_jobs == max_([n_jobs_per_person[i] for i in range(n_staff)]))"
         ]
      },
      {
         "cell_type": "code",
         "execution_count": 16,
         "metadata": {},
         "outputs": [],
         "source": [
            "def add_constraint_spans(model, spans, E_D, S_D, n_jobs):\n",
            "    model.addConstrs((spans[l] == (E_D[l] - S_D[l])+1) for l in range(n_jobs))\n",
            "\n",
            "def add_constraint_max_days(model, max_days, spans, n_jobs):\n",
            "    for l in range(n_jobs):\n",
            "        model.addConstr(max_days >= spans[l]) \n",
            "    # model.addConstr(max_days == max_([spans[l] for l in range(n_jobs)]))"
         ]
      },
      {
         "cell_type": "code",
         "execution_count": 17,
         "metadata": {},
         "outputs": [],
         "source": [
            "def add_profit_as_first_objective(model, J, L, jobs):\n",
            "    model.setObjective(\n",
            "        quicksum( (J[index_job] * job[\"gain\"] - job[\"daily_penalty\"] * L[index_job]) for index_job, job in enumerate(jobs)),\n",
            "        GRB.MAXIMIZE\n",
            "    )\n",
            "    return model\n",
            "\n",
            "## add pouieme des autres"
         ]
      },
      {
         "cell_type": "code",
         "execution_count": 18,
         "metadata": {},
         "outputs": [],
         "source": [
            "def add_minimax_jobs_as_second_objective(model, max_jobs):\n",
            "    model.setObjective(\n",
            "        max_jobs,\n",
            "        GRB.MINIMIZE\n",
            "    )\n",
            "    return model"
         ]
      },
      {
         "cell_type": "code",
         "execution_count": 19,
         "metadata": {},
         "outputs": [],
         "source": [
            "def add_minimax_days_spent_as_third_objective(model, max_days):\n",
            "    model.setObjective(\n",
            "        max_days,\n",
            "        GRB.MINIMIZE\n",
            "    )\n",
            "    return model"
         ]
      },
      {
         "cell_type": "code",
         "execution_count": 20,
         "metadata": {},
         "outputs": [],
         "source": [
            "def add_mono_objective(model, profit, max_days, max_jobs):\n",
            "    model.setObjective(\n",
            "        10 * profit - max_days - max_jobs,\n",
            "        GRB.MAXIMIZE\n",
            "    )\n",
            "    return model, profit, max_days, max_jobs"
         ]
      },
      {
         "attachments": {},
         "cell_type": "markdown",
         "metadata": {},
         "source": [
            "# Surface"
         ]
      },
      {
         "cell_type": "code",
         "execution_count": 21,
         "metadata": {},
         "outputs": [],
         "source": [
            "def prepare_model(data):\n",
            "    n_staff, horizon, n_qualifs, n_jobs = get_dims(data)\n",
            "\n",
            "    # Instanciation du modèle\n",
            "    model = init_model()\n",
            "    \n",
            "    # Création des variables : binaires dans X et J, entières de 0 à horizon + 3\n",
            "    model, X, J, S_D, E_D, L, n_jobs_per_person, jobs_worked_on_by_person, n_worked_days_per_job_and_person, max_jobs, max_days, spans, profit = create_decision_variables(model, n_staff, horizon, n_qualifs, n_jobs)\n",
            "    \n",
            "    # maj du modèle\n",
            "    model.update()\n",
            "    \n",
            "    # Ajout des constraintes\n",
            "    \n",
            "    add_constraints_employees_working_only_one_day(model, X ,J,data,n_staff,n_jobs,horizon, n_qualifs)\n",
            "    add_qualification_constraints(model, n_staff, horizon, n_qualifs, n_jobs, X, data)\n",
            "    add_vacation_constraints(model, n_staff, horizon, n_qualifs, n_jobs, X, data)\n",
            "    \n",
            "    add_constraints_start_dates(model, X, S_D, n_staff, horizon, n_qualifs, n_jobs)\n",
            "    add_constraints_end_dates(model, X, E_D, n_staff, horizon, n_qualifs, n_jobs)\n",
            "    add_constraints_lateness(model, E_D, L, data[\"jobs\"], n_staff, horizon, n_qualifs, n_jobs)\n",
            "    \n",
            "    add_constraints_worked_days_below_required_days(model, X, data[\"jobs\"], data[\"qualifications\"], n_staff, horizon, n_jobs)\n",
            "    add_constraints_worked_days_above_required_days(model, X , J, data[\"jobs\"], data[\"qualifications\"], n_staff, horizon, n_jobs)\n",
            "    \n",
            "    add_constraints_n_worked_days_per_jobs_person(model, X, n_worked_days_per_job_and_person, n_staff, n_jobs, horizon, n_qualifs)\n",
            "    add_constraints_jobs_worked_on_by_person(model, jobs_worked_on_by_person, n_worked_days_per_job_and_person, n_staff, n_jobs)\n",
            "    add_constraints_n_jobs_per_person(model, n_jobs_per_person, jobs_worked_on_by_person, n_staff, n_jobs)\n",
            "    add_constraint_spans(model, spans, E_D, S_D, n_jobs)\n",
            "    \n",
            "    add_constraint_profit(model, J, L, profit, data[\"jobs\"])\n",
            "    add_constraint_max_jobs(model, max_jobs, n_jobs_per_person, jobs_worked_on_by_person, n_staff)\n",
            "    add_constraint_max_days(model, max_days, spans, n_jobs)\n",
            "    \n",
            "    \n",
            "    # Fonctions Objectifs\n",
            "    \n",
            "    # model = add_minimax_jobs_as_second_objective(model, max_jobs)\n",
            "    # model = add_minimax_days_spent_as_third_objective(model, max_days)\n",
            "    # model = add_profit_as_first_objective(model, J, L, data[\"jobs\"])\n",
            "    \n",
            "    model, profit, max_days, max_jobs = add_mono_objective(model, profit, max_days, max_jobs)\n",
            "    \n",
            "    # maj du modèle\n",
            "    model.update()\n",
            "    \n",
            "    # Paramétrage (mode mute)\n",
            "    # model.params.outputflag = 0\n",
            "\n",
            "    return model, profit, max_days, max_jobs"
         ]
      },
      {
         "cell_type": "code",
         "execution_count": 22,
         "metadata": {},
         "outputs": [],
         "source": [
            "def run_one_step(data, n_jobs, points, step):\n",
            "    for j in tqdm(range(n_jobs, -1, -1)):\n",
            "        # print(j, \" / \", n_jobs)\n",
            "        model, profit, max_days, max_jobs = prepare_model(data)\n",
            "        model.addConstr(max_jobs <= j)\n",
            "        model.addConstr(max_days <= step)\n",
            "        model.update()\n",
            "        model.optimize()\n",
            "        point = np.array([round(step), round(j), round(profit.X)])\n",
            "        points.append(point)\n",
            "    return points"
         ]
      },
      {
         "attachments": {},
         "cell_type": "markdown",
         "metadata": {},
         "source": [
            "# Computing points"
         ]
      },
      {
         "cell_type": "code",
         "execution_count": 23,
         "metadata": {},
         "outputs": [
            {
               "name": "stdout",
               "output_type": "stream",
               "text": [
                  "[]\n"
               ]
            }
         ],
         "source": [
            "dataset = DATASET.MEDIUM\n",
            "data = load_data(dataset)\n",
            "n_staff, horizon, n_qualifs, n_jobs = get_dims(data)\n",
            "points = []\n",
            "# points = run_one_step(data, n_jobs, points, 22)\n",
            "print(points)    \n",
            "    "
         ]
      },
      {
         "cell_type": "code",
         "execution_count": 23,
         "metadata": {},
         "outputs": [
            {
               "name": "stderr",
               "output_type": "stream",
               "text": [
                  "100%|██████████| 16/16 [04:51<00:00, 18.19s/it]"
               ]
            },
            {
               "name": "stdout",
               "output_type": "stream",
               "text": [
                  "[array([ 22,  15, 413]), array([ 22,  14, 413]), array([ 22,  13, 413]), array([ 22,  12, 413]), array([ 22,  11, 413]), array([ 22,  10, 413]), array([ 22,   9, 413]), array([ 22,   8, 413]), array([ 22,   7, 413]), array([ 22,   6, 413]), array([ 22,   5, 413]), array([ 22,   4, 405]), array([ 22,   3, 384]), array([ 22,   2, 326]), array([ 22,   1, 194]), array([22,  0,  0]), array([ 21,  15, 413]), array([ 21,  14, 413]), array([ 21,  13, 413]), array([ 21,  12, 413]), array([ 21,  11, 413]), array([ 21,  10, 413]), array([ 21,   9, 413]), array([ 21,   8, 413]), array([ 21,   7, 413]), array([ 21,   6, 413]), array([ 21,   5, 413]), array([ 21,   4, 405]), array([ 21,   3, 384]), array([ 21,   2, 326]), array([ 21,   1, 194]), array([21,  0,  0])]\n"
               ]
            },
            {
               "name": "stderr",
               "output_type": "stream",
               "text": [
                  "\n"
               ]
            }
         ],
         "source": [
            "points = run_one_step(data, n_jobs, points, 21)\n",
            "print(points)"
         ]
      },
      {
         "cell_type": "code",
         "execution_count": 24,
         "metadata": {},
         "outputs": [
            {
               "name": "stderr",
               "output_type": "stream",
               "text": [
                  "100%|██████████| 16/16 [03:57<00:00, 14.85s/it]"
               ]
            },
            {
               "name": "stdout",
               "output_type": "stream",
               "text": [
                  "[array([ 22,  15, 413]), array([ 22,  14, 413]), array([ 22,  13, 413]), array([ 22,  12, 413]), array([ 22,  11, 413]), array([ 22,  10, 413]), array([ 22,   9, 413]), array([ 22,   8, 413]), array([ 22,   7, 413]), array([ 22,   6, 413]), array([ 22,   5, 413]), array([ 22,   4, 405]), array([ 22,   3, 384]), array([ 22,   2, 326]), array([ 22,   1, 194]), array([22,  0,  0]), array([ 21,  15, 413]), array([ 21,  14, 413]), array([ 21,  13, 413]), array([ 21,  12, 413]), array([ 21,  11, 413]), array([ 21,  10, 413]), array([ 21,   9, 413]), array([ 21,   8, 413]), array([ 21,   7, 413]), array([ 21,   6, 413]), array([ 21,   5, 413]), array([ 21,   4, 405]), array([ 21,   3, 384]), array([ 21,   2, 326]), array([ 21,   1, 194]), array([21,  0,  0]), array([ 20,  15, 413]), array([ 20,  14, 413]), array([ 20,  13, 413]), array([ 20,  12, 413]), array([ 20,  11, 413]), array([ 20,  10, 413]), array([ 20,   9, 413]), array([ 20,   8, 413]), array([ 20,   7, 413]), array([ 20,   6, 413]), array([ 20,   5, 413]), array([ 20,   4, 405]), array([ 20,   3, 384]), array([ 20,   2, 326]), array([ 20,   1, 194]), array([20,  0,  0])]\n"
               ]
            },
            {
               "name": "stderr",
               "output_type": "stream",
               "text": [
                  "\n"
               ]
            }
         ],
         "source": [
            "points = run_one_step(data, n_jobs, points, 20)\n",
            "print(points)"
         ]
      },
      {
         "cell_type": "code",
         "execution_count": 25,
         "metadata": {},
         "outputs": [
            {
               "name": "stderr",
               "output_type": "stream",
               "text": [
                  "100%|██████████| 16/16 [04:15<00:00, 15.98s/it]"
               ]
            },
            {
               "name": "stdout",
               "output_type": "stream",
               "text": [
                  "[array([ 22,  15, 413]), array([ 22,  14, 413]), array([ 22,  13, 413]), array([ 22,  12, 413]), array([ 22,  11, 413]), array([ 22,  10, 413]), array([ 22,   9, 413]), array([ 22,   8, 413]), array([ 22,   7, 413]), array([ 22,   6, 413]), array([ 22,   5, 413]), array([ 22,   4, 405]), array([ 22,   3, 384]), array([ 22,   2, 326]), array([ 22,   1, 194]), array([22,  0,  0]), array([ 21,  15, 413]), array([ 21,  14, 413]), array([ 21,  13, 413]), array([ 21,  12, 413]), array([ 21,  11, 413]), array([ 21,  10, 413]), array([ 21,   9, 413]), array([ 21,   8, 413]), array([ 21,   7, 413]), array([ 21,   6, 413]), array([ 21,   5, 413]), array([ 21,   4, 405]), array([ 21,   3, 384]), array([ 21,   2, 326]), array([ 21,   1, 194]), array([21,  0,  0]), array([ 20,  15, 413]), array([ 20,  14, 413]), array([ 20,  13, 413]), array([ 20,  12, 413]), array([ 20,  11, 413]), array([ 20,  10, 413]), array([ 20,   9, 413]), array([ 20,   8, 413]), array([ 20,   7, 413]), array([ 20,   6, 413]), array([ 20,   5, 413]), array([ 20,   4, 405]), array([ 20,   3, 384]), array([ 20,   2, 326]), array([ 20,   1, 194]), array([20,  0,  0]), array([ 19,  15, 413]), array([ 19,  14, 413]), array([ 19,  13, 413]), array([ 19,  12, 413]), array([ 19,  11, 413]), array([ 19,  10, 413]), array([ 19,   9, 413]), array([ 19,   8, 413]), array([ 19,   7, 413]), array([ 19,   6, 413]), array([ 19,   5, 413]), array([ 19,   4, 405]), array([ 19,   3, 384]), array([ 19,   2, 326]), array([ 19,   1, 194]), array([19,  0,  0])]\n"
               ]
            },
            {
               "name": "stderr",
               "output_type": "stream",
               "text": [
                  "\n"
               ]
            }
         ],
         "source": [
            "points = run_one_step(data, n_jobs, points, 19)\n",
            "print(points)"
         ]
      },
      {
         "cell_type": "code",
         "execution_count": 26,
         "metadata": {},
         "outputs": [
            {
               "name": "stderr",
               "output_type": "stream",
               "text": [
                  "100%|██████████| 16/16 [04:33<00:00, 17.12s/it]"
               ]
            },
            {
               "name": "stdout",
               "output_type": "stream",
               "text": [
                  "[array([ 22,  15, 413]), array([ 22,  14, 413]), array([ 22,  13, 413]), array([ 22,  12, 413]), array([ 22,  11, 413]), array([ 22,  10, 413]), array([ 22,   9, 413]), array([ 22,   8, 413]), array([ 22,   7, 413]), array([ 22,   6, 413]), array([ 22,   5, 413]), array([ 22,   4, 405]), array([ 22,   3, 384]), array([ 22,   2, 326]), array([ 22,   1, 194]), array([22,  0,  0]), array([ 21,  15, 413]), array([ 21,  14, 413]), array([ 21,  13, 413]), array([ 21,  12, 413]), array([ 21,  11, 413]), array([ 21,  10, 413]), array([ 21,   9, 413]), array([ 21,   8, 413]), array([ 21,   7, 413]), array([ 21,   6, 413]), array([ 21,   5, 413]), array([ 21,   4, 405]), array([ 21,   3, 384]), array([ 21,   2, 326]), array([ 21,   1, 194]), array([21,  0,  0]), array([ 20,  15, 413]), array([ 20,  14, 413]), array([ 20,  13, 413]), array([ 20,  12, 413]), array([ 20,  11, 413]), array([ 20,  10, 413]), array([ 20,   9, 413]), array([ 20,   8, 413]), array([ 20,   7, 413]), array([ 20,   6, 413]), array([ 20,   5, 413]), array([ 20,   4, 405]), array([ 20,   3, 384]), array([ 20,   2, 326]), array([ 20,   1, 194]), array([20,  0,  0]), array([ 19,  15, 413]), array([ 19,  14, 413]), array([ 19,  13, 413]), array([ 19,  12, 413]), array([ 19,  11, 413]), array([ 19,  10, 413]), array([ 19,   9, 413]), array([ 19,   8, 413]), array([ 19,   7, 413]), array([ 19,   6, 413]), array([ 19,   5, 413]), array([ 19,   4, 405]), array([ 19,   3, 384]), array([ 19,   2, 326]), array([ 19,   1, 194]), array([19,  0,  0]), array([ 18,  15, 413]), array([ 18,  14, 413]), array([ 18,  13, 413]), array([ 18,  12, 413]), array([ 18,  11, 413]), array([ 18,  10, 413]), array([ 18,   9, 413]), array([ 18,   8, 413]), array([ 18,   7, 413]), array([ 18,   6, 413]), array([ 18,   5, 413]), array([ 18,   4, 405]), array([ 18,   3, 384]), array([ 18,   2, 326]), array([ 18,   1, 194]), array([18,  0,  0])]\n"
               ]
            },
            {
               "name": "stderr",
               "output_type": "stream",
               "text": [
                  "\n"
               ]
            }
         ],
         "source": [
            "points = run_one_step(data, n_jobs, points, 18)\n",
            "print(points)"
         ]
      },
      {
         "cell_type": "code",
         "execution_count": 27,
         "metadata": {},
         "outputs": [
            {
               "name": "stderr",
               "output_type": "stream",
               "text": [
                  "100%|██████████| 16/16 [04:10<00:00, 15.65s/it]"
               ]
            },
            {
               "name": "stdout",
               "output_type": "stream",
               "text": [
                  "[array([ 22,  15, 413]), array([ 22,  14, 413]), array([ 22,  13, 413]), array([ 22,  12, 413]), array([ 22,  11, 413]), array([ 22,  10, 413]), array([ 22,   9, 413]), array([ 22,   8, 413]), array([ 22,   7, 413]), array([ 22,   6, 413]), array([ 22,   5, 413]), array([ 22,   4, 405]), array([ 22,   3, 384]), array([ 22,   2, 326]), array([ 22,   1, 194]), array([22,  0,  0]), array([ 21,  15, 413]), array([ 21,  14, 413]), array([ 21,  13, 413]), array([ 21,  12, 413]), array([ 21,  11, 413]), array([ 21,  10, 413]), array([ 21,   9, 413]), array([ 21,   8, 413]), array([ 21,   7, 413]), array([ 21,   6, 413]), array([ 21,   5, 413]), array([ 21,   4, 405]), array([ 21,   3, 384]), array([ 21,   2, 326]), array([ 21,   1, 194]), array([21,  0,  0]), array([ 20,  15, 413]), array([ 20,  14, 413]), array([ 20,  13, 413]), array([ 20,  12, 413]), array([ 20,  11, 413]), array([ 20,  10, 413]), array([ 20,   9, 413]), array([ 20,   8, 413]), array([ 20,   7, 413]), array([ 20,   6, 413]), array([ 20,   5, 413]), array([ 20,   4, 405]), array([ 20,   3, 384]), array([ 20,   2, 326]), array([ 20,   1, 194]), array([20,  0,  0]), array([ 19,  15, 413]), array([ 19,  14, 413]), array([ 19,  13, 413]), array([ 19,  12, 413]), array([ 19,  11, 413]), array([ 19,  10, 413]), array([ 19,   9, 413]), array([ 19,   8, 413]), array([ 19,   7, 413]), array([ 19,   6, 413]), array([ 19,   5, 413]), array([ 19,   4, 405]), array([ 19,   3, 384]), array([ 19,   2, 326]), array([ 19,   1, 194]), array([19,  0,  0]), array([ 18,  15, 413]), array([ 18,  14, 413]), array([ 18,  13, 413]), array([ 18,  12, 413]), array([ 18,  11, 413]), array([ 18,  10, 413]), array([ 18,   9, 413]), array([ 18,   8, 413]), array([ 18,   7, 413]), array([ 18,   6, 413]), array([ 18,   5, 413]), array([ 18,   4, 405]), array([ 18,   3, 384]), array([ 18,   2, 326]), array([ 18,   1, 194]), array([18,  0,  0]), array([ 17,  15, 413]), array([ 17,  14, 413]), array([ 17,  13, 413]), array([ 17,  12, 413]), array([ 17,  11, 413]), array([ 17,  10, 413]), array([ 17,   9, 413]), array([ 17,   8, 413]), array([ 17,   7, 413]), array([ 17,   6, 413]), array([ 17,   5, 413]), array([ 17,   4, 405]), array([ 17,   3, 384]), array([ 17,   2, 326]), array([ 17,   1, 194]), array([17,  0,  0])]\n"
               ]
            },
            {
               "name": "stderr",
               "output_type": "stream",
               "text": [
                  "\n"
               ]
            }
         ],
         "source": [
            "points = run_one_step(data, n_jobs, points, 17)\n",
            "print(points)"
         ]
      },
      {
         "cell_type": "code",
         "execution_count": 28,
         "metadata": {},
         "outputs": [
            {
               "name": "stderr",
               "output_type": "stream",
               "text": [
                  "100%|██████████| 16/16 [03:45<00:00, 14.10s/it]"
               ]
            },
            {
               "name": "stdout",
               "output_type": "stream",
               "text": [
                  "[array([ 22,  15, 413]), array([ 22,  14, 413]), array([ 22,  13, 413]), array([ 22,  12, 413]), array([ 22,  11, 413]), array([ 22,  10, 413]), array([ 22,   9, 413]), array([ 22,   8, 413]), array([ 22,   7, 413]), array([ 22,   6, 413]), array([ 22,   5, 413]), array([ 22,   4, 405]), array([ 22,   3, 384]), array([ 22,   2, 326]), array([ 22,   1, 194]), array([22,  0,  0]), array([ 21,  15, 413]), array([ 21,  14, 413]), array([ 21,  13, 413]), array([ 21,  12, 413]), array([ 21,  11, 413]), array([ 21,  10, 413]), array([ 21,   9, 413]), array([ 21,   8, 413]), array([ 21,   7, 413]), array([ 21,   6, 413]), array([ 21,   5, 413]), array([ 21,   4, 405]), array([ 21,   3, 384]), array([ 21,   2, 326]), array([ 21,   1, 194]), array([21,  0,  0]), array([ 20,  15, 413]), array([ 20,  14, 413]), array([ 20,  13, 413]), array([ 20,  12, 413]), array([ 20,  11, 413]), array([ 20,  10, 413]), array([ 20,   9, 413]), array([ 20,   8, 413]), array([ 20,   7, 413]), array([ 20,   6, 413]), array([ 20,   5, 413]), array([ 20,   4, 405]), array([ 20,   3, 384]), array([ 20,   2, 326]), array([ 20,   1, 194]), array([20,  0,  0]), array([ 19,  15, 413]), array([ 19,  14, 413]), array([ 19,  13, 413]), array([ 19,  12, 413]), array([ 19,  11, 413]), array([ 19,  10, 413]), array([ 19,   9, 413]), array([ 19,   8, 413]), array([ 19,   7, 413]), array([ 19,   6, 413]), array([ 19,   5, 413]), array([ 19,   4, 405]), array([ 19,   3, 384]), array([ 19,   2, 326]), array([ 19,   1, 194]), array([19,  0,  0]), array([ 18,  15, 413]), array([ 18,  14, 413]), array([ 18,  13, 413]), array([ 18,  12, 413]), array([ 18,  11, 413]), array([ 18,  10, 413]), array([ 18,   9, 413]), array([ 18,   8, 413]), array([ 18,   7, 413]), array([ 18,   6, 413]), array([ 18,   5, 413]), array([ 18,   4, 405]), array([ 18,   3, 384]), array([ 18,   2, 326]), array([ 18,   1, 194]), array([18,  0,  0]), array([ 17,  15, 413]), array([ 17,  14, 413]), array([ 17,  13, 413]), array([ 17,  12, 413]), array([ 17,  11, 413]), array([ 17,  10, 413]), array([ 17,   9, 413]), array([ 17,   8, 413]), array([ 17,   7, 413]), array([ 17,   6, 413]), array([ 17,   5, 413]), array([ 17,   4, 405]), array([ 17,   3, 384]), array([ 17,   2, 326]), array([ 17,   1, 194]), array([17,  0,  0]), array([ 16,  15, 413]), array([ 16,  14, 413]), array([ 16,  13, 413]), array([ 16,  12, 413]), array([ 16,  11, 413]), array([ 16,  10, 413]), array([ 16,   9, 413]), array([ 16,   8, 413]), array([ 16,   7, 413]), array([ 16,   6, 413]), array([ 16,   5, 413]), array([ 16,   4, 405]), array([ 16,   3, 384]), array([ 16,   2, 326]), array([ 16,   1, 194]), array([16,  0,  0])]\n"
               ]
            },
            {
               "name": "stderr",
               "output_type": "stream",
               "text": [
                  "\n"
               ]
            }
         ],
         "source": [
            "points = run_one_step(data, n_jobs, points, 16)\n",
            "print(points)"
         ]
      },
      {
         "cell_type": "code",
         "execution_count": 29,
         "metadata": {},
         "outputs": [
            {
               "name": "stderr",
               "output_type": "stream",
               "text": [
                  "100%|██████████| 16/16 [04:05<00:00, 15.32s/it]"
               ]
            },
            {
               "name": "stdout",
               "output_type": "stream",
               "text": [
                  "[array([ 22,  15, 413]), array([ 22,  14, 413]), array([ 22,  13, 413]), array([ 22,  12, 413]), array([ 22,  11, 413]), array([ 22,  10, 413]), array([ 22,   9, 413]), array([ 22,   8, 413]), array([ 22,   7, 413]), array([ 22,   6, 413]), array([ 22,   5, 413]), array([ 22,   4, 405]), array([ 22,   3, 384]), array([ 22,   2, 326]), array([ 22,   1, 194]), array([22,  0,  0]), array([ 21,  15, 413]), array([ 21,  14, 413]), array([ 21,  13, 413]), array([ 21,  12, 413]), array([ 21,  11, 413]), array([ 21,  10, 413]), array([ 21,   9, 413]), array([ 21,   8, 413]), array([ 21,   7, 413]), array([ 21,   6, 413]), array([ 21,   5, 413]), array([ 21,   4, 405]), array([ 21,   3, 384]), array([ 21,   2, 326]), array([ 21,   1, 194]), array([21,  0,  0]), array([ 20,  15, 413]), array([ 20,  14, 413]), array([ 20,  13, 413]), array([ 20,  12, 413]), array([ 20,  11, 413]), array([ 20,  10, 413]), array([ 20,   9, 413]), array([ 20,   8, 413]), array([ 20,   7, 413]), array([ 20,   6, 413]), array([ 20,   5, 413]), array([ 20,   4, 405]), array([ 20,   3, 384]), array([ 20,   2, 326]), array([ 20,   1, 194]), array([20,  0,  0]), array([ 19,  15, 413]), array([ 19,  14, 413]), array([ 19,  13, 413]), array([ 19,  12, 413]), array([ 19,  11, 413]), array([ 19,  10, 413]), array([ 19,   9, 413]), array([ 19,   8, 413]), array([ 19,   7, 413]), array([ 19,   6, 413]), array([ 19,   5, 413]), array([ 19,   4, 405]), array([ 19,   3, 384]), array([ 19,   2, 326]), array([ 19,   1, 194]), array([19,  0,  0]), array([ 18,  15, 413]), array([ 18,  14, 413]), array([ 18,  13, 413]), array([ 18,  12, 413]), array([ 18,  11, 413]), array([ 18,  10, 413]), array([ 18,   9, 413]), array([ 18,   8, 413]), array([ 18,   7, 413]), array([ 18,   6, 413]), array([ 18,   5, 413]), array([ 18,   4, 405]), array([ 18,   3, 384]), array([ 18,   2, 326]), array([ 18,   1, 194]), array([18,  0,  0]), array([ 17,  15, 413]), array([ 17,  14, 413]), array([ 17,  13, 413]), array([ 17,  12, 413]), array([ 17,  11, 413]), array([ 17,  10, 413]), array([ 17,   9, 413]), array([ 17,   8, 413]), array([ 17,   7, 413]), array([ 17,   6, 413]), array([ 17,   5, 413]), array([ 17,   4, 405]), array([ 17,   3, 384]), array([ 17,   2, 326]), array([ 17,   1, 194]), array([17,  0,  0]), array([ 16,  15, 413]), array([ 16,  14, 413]), array([ 16,  13, 413]), array([ 16,  12, 413]), array([ 16,  11, 413]), array([ 16,  10, 413]), array([ 16,   9, 413]), array([ 16,   8, 413]), array([ 16,   7, 413]), array([ 16,   6, 413]), array([ 16,   5, 413]), array([ 16,   4, 405]), array([ 16,   3, 384]), array([ 16,   2, 326]), array([ 16,   1, 194]), array([16,  0,  0]), array([ 15,  15, 413]), array([ 15,  14, 413]), array([ 15,  13, 413]), array([ 15,  12, 413]), array([ 15,  11, 413]), array([ 15,  10, 413]), array([ 15,   9, 413]), array([ 15,   8, 413]), array([ 15,   7, 413]), array([ 15,   6, 413]), array([ 15,   5, 413]), array([ 15,   4, 405]), array([ 15,   3, 384]), array([ 15,   2, 326]), array([ 15,   1, 194]), array([15,  0,  0])]\n"
               ]
            },
            {
               "name": "stderr",
               "output_type": "stream",
               "text": [
                  "\n"
               ]
            }
         ],
         "source": [
            "points = run_one_step(data, n_jobs, points, 15)\n",
            "print(points)"
         ]
      },
      {
         "cell_type": "code",
         "execution_count": 30,
         "metadata": {},
         "outputs": [
            {
               "name": "stderr",
               "output_type": "stream",
               "text": [
                  "100%|██████████| 16/16 [05:01<00:00, 18.85s/it]"
               ]
            },
            {
               "name": "stdout",
               "output_type": "stream",
               "text": [
                  "[array([ 22,  15, 413]), array([ 22,  14, 413]), array([ 22,  13, 413]), array([ 22,  12, 413]), array([ 22,  11, 413]), array([ 22,  10, 413]), array([ 22,   9, 413]), array([ 22,   8, 413]), array([ 22,   7, 413]), array([ 22,   6, 413]), array([ 22,   5, 413]), array([ 22,   4, 405]), array([ 22,   3, 384]), array([ 22,   2, 326]), array([ 22,   1, 194]), array([22,  0,  0]), array([ 21,  15, 413]), array([ 21,  14, 413]), array([ 21,  13, 413]), array([ 21,  12, 413]), array([ 21,  11, 413]), array([ 21,  10, 413]), array([ 21,   9, 413]), array([ 21,   8, 413]), array([ 21,   7, 413]), array([ 21,   6, 413]), array([ 21,   5, 413]), array([ 21,   4, 405]), array([ 21,   3, 384]), array([ 21,   2, 326]), array([ 21,   1, 194]), array([21,  0,  0]), array([ 20,  15, 413]), array([ 20,  14, 413]), array([ 20,  13, 413]), array([ 20,  12, 413]), array([ 20,  11, 413]), array([ 20,  10, 413]), array([ 20,   9, 413]), array([ 20,   8, 413]), array([ 20,   7, 413]), array([ 20,   6, 413]), array([ 20,   5, 413]), array([ 20,   4, 405]), array([ 20,   3, 384]), array([ 20,   2, 326]), array([ 20,   1, 194]), array([20,  0,  0]), array([ 19,  15, 413]), array([ 19,  14, 413]), array([ 19,  13, 413]), array([ 19,  12, 413]), array([ 19,  11, 413]), array([ 19,  10, 413]), array([ 19,   9, 413]), array([ 19,   8, 413]), array([ 19,   7, 413]), array([ 19,   6, 413]), array([ 19,   5, 413]), array([ 19,   4, 405]), array([ 19,   3, 384]), array([ 19,   2, 326]), array([ 19,   1, 194]), array([19,  0,  0]), array([ 18,  15, 413]), array([ 18,  14, 413]), array([ 18,  13, 413]), array([ 18,  12, 413]), array([ 18,  11, 413]), array([ 18,  10, 413]), array([ 18,   9, 413]), array([ 18,   8, 413]), array([ 18,   7, 413]), array([ 18,   6, 413]), array([ 18,   5, 413]), array([ 18,   4, 405]), array([ 18,   3, 384]), array([ 18,   2, 326]), array([ 18,   1, 194]), array([18,  0,  0]), array([ 17,  15, 413]), array([ 17,  14, 413]), array([ 17,  13, 413]), array([ 17,  12, 413]), array([ 17,  11, 413]), array([ 17,  10, 413]), array([ 17,   9, 413]), array([ 17,   8, 413]), array([ 17,   7, 413]), array([ 17,   6, 413]), array([ 17,   5, 413]), array([ 17,   4, 405]), array([ 17,   3, 384]), array([ 17,   2, 326]), array([ 17,   1, 194]), array([17,  0,  0]), array([ 16,  15, 413]), array([ 16,  14, 413]), array([ 16,  13, 413]), array([ 16,  12, 413]), array([ 16,  11, 413]), array([ 16,  10, 413]), array([ 16,   9, 413]), array([ 16,   8, 413]), array([ 16,   7, 413]), array([ 16,   6, 413]), array([ 16,   5, 413]), array([ 16,   4, 405]), array([ 16,   3, 384]), array([ 16,   2, 326]), array([ 16,   1, 194]), array([16,  0,  0]), array([ 15,  15, 413]), array([ 15,  14, 413]), array([ 15,  13, 413]), array([ 15,  12, 413]), array([ 15,  11, 413]), array([ 15,  10, 413]), array([ 15,   9, 413]), array([ 15,   8, 413]), array([ 15,   7, 413]), array([ 15,   6, 413]), array([ 15,   5, 413]), array([ 15,   4, 405]), array([ 15,   3, 384]), array([ 15,   2, 326]), array([ 15,   1, 194]), array([15,  0,  0]), array([ 14,  15, 413]), array([ 14,  14, 413]), array([ 14,  13, 413]), array([ 14,  12, 413]), array([ 14,  11, 413]), array([ 14,  10, 413]), array([ 14,   9, 413]), array([ 14,   8, 413]), array([ 14,   7, 413]), array([ 14,   6, 413]), array([ 14,   5, 413]), array([ 14,   4, 405]), array([ 14,   3, 384]), array([ 14,   2, 326]), array([ 14,   1, 194]), array([14,  0,  0])]\n"
               ]
            },
            {
               "name": "stderr",
               "output_type": "stream",
               "text": [
                  "\n"
               ]
            }
         ],
         "source": [
            "points = run_one_step(data, n_jobs, points, 14)\n",
            "print(points)"
         ]
      },
      {
         "cell_type": "code",
         "execution_count": 31,
         "metadata": {},
         "outputs": [
            {
               "name": "stderr",
               "output_type": "stream",
               "text": [
                  "100%|██████████| 16/16 [03:32<00:00, 13.26s/it]"
               ]
            },
            {
               "name": "stdout",
               "output_type": "stream",
               "text": [
                  "[array([ 22,  15, 413]), array([ 22,  14, 413]), array([ 22,  13, 413]), array([ 22,  12, 413]), array([ 22,  11, 413]), array([ 22,  10, 413]), array([ 22,   9, 413]), array([ 22,   8, 413]), array([ 22,   7, 413]), array([ 22,   6, 413]), array([ 22,   5, 413]), array([ 22,   4, 405]), array([ 22,   3, 384]), array([ 22,   2, 326]), array([ 22,   1, 194]), array([22,  0,  0]), array([ 21,  15, 413]), array([ 21,  14, 413]), array([ 21,  13, 413]), array([ 21,  12, 413]), array([ 21,  11, 413]), array([ 21,  10, 413]), array([ 21,   9, 413]), array([ 21,   8, 413]), array([ 21,   7, 413]), array([ 21,   6, 413]), array([ 21,   5, 413]), array([ 21,   4, 405]), array([ 21,   3, 384]), array([ 21,   2, 326]), array([ 21,   1, 194]), array([21,  0,  0]), array([ 20,  15, 413]), array([ 20,  14, 413]), array([ 20,  13, 413]), array([ 20,  12, 413]), array([ 20,  11, 413]), array([ 20,  10, 413]), array([ 20,   9, 413]), array([ 20,   8, 413]), array([ 20,   7, 413]), array([ 20,   6, 413]), array([ 20,   5, 413]), array([ 20,   4, 405]), array([ 20,   3, 384]), array([ 20,   2, 326]), array([ 20,   1, 194]), array([20,  0,  0]), array([ 19,  15, 413]), array([ 19,  14, 413]), array([ 19,  13, 413]), array([ 19,  12, 413]), array([ 19,  11, 413]), array([ 19,  10, 413]), array([ 19,   9, 413]), array([ 19,   8, 413]), array([ 19,   7, 413]), array([ 19,   6, 413]), array([ 19,   5, 413]), array([ 19,   4, 405]), array([ 19,   3, 384]), array([ 19,   2, 326]), array([ 19,   1, 194]), array([19,  0,  0]), array([ 18,  15, 413]), array([ 18,  14, 413]), array([ 18,  13, 413]), array([ 18,  12, 413]), array([ 18,  11, 413]), array([ 18,  10, 413]), array([ 18,   9, 413]), array([ 18,   8, 413]), array([ 18,   7, 413]), array([ 18,   6, 413]), array([ 18,   5, 413]), array([ 18,   4, 405]), array([ 18,   3, 384]), array([ 18,   2, 326]), array([ 18,   1, 194]), array([18,  0,  0]), array([ 17,  15, 413]), array([ 17,  14, 413]), array([ 17,  13, 413]), array([ 17,  12, 413]), array([ 17,  11, 413]), array([ 17,  10, 413]), array([ 17,   9, 413]), array([ 17,   8, 413]), array([ 17,   7, 413]), array([ 17,   6, 413]), array([ 17,   5, 413]), array([ 17,   4, 405]), array([ 17,   3, 384]), array([ 17,   2, 326]), array([ 17,   1, 194]), array([17,  0,  0]), array([ 16,  15, 413]), array([ 16,  14, 413]), array([ 16,  13, 413]), array([ 16,  12, 413]), array([ 16,  11, 413]), array([ 16,  10, 413]), array([ 16,   9, 413]), array([ 16,   8, 413]), array([ 16,   7, 413]), array([ 16,   6, 413]), array([ 16,   5, 413]), array([ 16,   4, 405]), array([ 16,   3, 384]), array([ 16,   2, 326]), array([ 16,   1, 194]), array([16,  0,  0]), array([ 15,  15, 413]), array([ 15,  14, 413]), array([ 15,  13, 413]), array([ 15,  12, 413]), array([ 15,  11, 413]), array([ 15,  10, 413]), array([ 15,   9, 413]), array([ 15,   8, 413]), array([ 15,   7, 413]), array([ 15,   6, 413]), array([ 15,   5, 413]), array([ 15,   4, 405]), array([ 15,   3, 384]), array([ 15,   2, 326]), array([ 15,   1, 194]), array([15,  0,  0]), array([ 14,  15, 413]), array([ 14,  14, 413]), array([ 14,  13, 413]), array([ 14,  12, 413]), array([ 14,  11, 413]), array([ 14,  10, 413]), array([ 14,   9, 413]), array([ 14,   8, 413]), array([ 14,   7, 413]), array([ 14,   6, 413]), array([ 14,   5, 413]), array([ 14,   4, 405]), array([ 14,   3, 384]), array([ 14,   2, 326]), array([ 14,   1, 194]), array([14,  0,  0]), array([ 13,  15, 413]), array([ 13,  14, 413]), array([ 13,  13, 413]), array([ 13,  12, 413]), array([ 13,  11, 413]), array([ 13,  10, 413]), array([ 13,   9, 413]), array([ 13,   8, 413]), array([ 13,   7, 413]), array([ 13,   6, 413]), array([ 13,   5, 413]), array([ 13,   4, 405]), array([ 13,   3, 384]), array([ 13,   2, 326]), array([ 13,   1, 194]), array([13,  0,  0])]\n"
               ]
            },
            {
               "name": "stderr",
               "output_type": "stream",
               "text": [
                  "\n"
               ]
            }
         ],
         "source": [
            "points = run_one_step(data, n_jobs, points, 13)\n",
            "print(points)"
         ]
      },
      {
         "cell_type": "code",
         "execution_count": 32,
         "metadata": {},
         "outputs": [
            {
               "name": "stderr",
               "output_type": "stream",
               "text": [
                  "100%|██████████| 16/16 [05:09<00:00, 19.37s/it]"
               ]
            },
            {
               "name": "stdout",
               "output_type": "stream",
               "text": [
                  "[array([ 22,  15, 413]), array([ 22,  14, 413]), array([ 22,  13, 413]), array([ 22,  12, 413]), array([ 22,  11, 413]), array([ 22,  10, 413]), array([ 22,   9, 413]), array([ 22,   8, 413]), array([ 22,   7, 413]), array([ 22,   6, 413]), array([ 22,   5, 413]), array([ 22,   4, 405]), array([ 22,   3, 384]), array([ 22,   2, 326]), array([ 22,   1, 194]), array([22,  0,  0]), array([ 21,  15, 413]), array([ 21,  14, 413]), array([ 21,  13, 413]), array([ 21,  12, 413]), array([ 21,  11, 413]), array([ 21,  10, 413]), array([ 21,   9, 413]), array([ 21,   8, 413]), array([ 21,   7, 413]), array([ 21,   6, 413]), array([ 21,   5, 413]), array([ 21,   4, 405]), array([ 21,   3, 384]), array([ 21,   2, 326]), array([ 21,   1, 194]), array([21,  0,  0]), array([ 20,  15, 413]), array([ 20,  14, 413]), array([ 20,  13, 413]), array([ 20,  12, 413]), array([ 20,  11, 413]), array([ 20,  10, 413]), array([ 20,   9, 413]), array([ 20,   8, 413]), array([ 20,   7, 413]), array([ 20,   6, 413]), array([ 20,   5, 413]), array([ 20,   4, 405]), array([ 20,   3, 384]), array([ 20,   2, 326]), array([ 20,   1, 194]), array([20,  0,  0]), array([ 19,  15, 413]), array([ 19,  14, 413]), array([ 19,  13, 413]), array([ 19,  12, 413]), array([ 19,  11, 413]), array([ 19,  10, 413]), array([ 19,   9, 413]), array([ 19,   8, 413]), array([ 19,   7, 413]), array([ 19,   6, 413]), array([ 19,   5, 413]), array([ 19,   4, 405]), array([ 19,   3, 384]), array([ 19,   2, 326]), array([ 19,   1, 194]), array([19,  0,  0]), array([ 18,  15, 413]), array([ 18,  14, 413]), array([ 18,  13, 413]), array([ 18,  12, 413]), array([ 18,  11, 413]), array([ 18,  10, 413]), array([ 18,   9, 413]), array([ 18,   8, 413]), array([ 18,   7, 413]), array([ 18,   6, 413]), array([ 18,   5, 413]), array([ 18,   4, 405]), array([ 18,   3, 384]), array([ 18,   2, 326]), array([ 18,   1, 194]), array([18,  0,  0]), array([ 17,  15, 413]), array([ 17,  14, 413]), array([ 17,  13, 413]), array([ 17,  12, 413]), array([ 17,  11, 413]), array([ 17,  10, 413]), array([ 17,   9, 413]), array([ 17,   8, 413]), array([ 17,   7, 413]), array([ 17,   6, 413]), array([ 17,   5, 413]), array([ 17,   4, 405]), array([ 17,   3, 384]), array([ 17,   2, 326]), array([ 17,   1, 194]), array([17,  0,  0]), array([ 16,  15, 413]), array([ 16,  14, 413]), array([ 16,  13, 413]), array([ 16,  12, 413]), array([ 16,  11, 413]), array([ 16,  10, 413]), array([ 16,   9, 413]), array([ 16,   8, 413]), array([ 16,   7, 413]), array([ 16,   6, 413]), array([ 16,   5, 413]), array([ 16,   4, 405]), array([ 16,   3, 384]), array([ 16,   2, 326]), array([ 16,   1, 194]), array([16,  0,  0]), array([ 15,  15, 413]), array([ 15,  14, 413]), array([ 15,  13, 413]), array([ 15,  12, 413]), array([ 15,  11, 413]), array([ 15,  10, 413]), array([ 15,   9, 413]), array([ 15,   8, 413]), array([ 15,   7, 413]), array([ 15,   6, 413]), array([ 15,   5, 413]), array([ 15,   4, 405]), array([ 15,   3, 384]), array([ 15,   2, 326]), array([ 15,   1, 194]), array([15,  0,  0]), array([ 14,  15, 413]), array([ 14,  14, 413]), array([ 14,  13, 413]), array([ 14,  12, 413]), array([ 14,  11, 413]), array([ 14,  10, 413]), array([ 14,   9, 413]), array([ 14,   8, 413]), array([ 14,   7, 413]), array([ 14,   6, 413]), array([ 14,   5, 413]), array([ 14,   4, 405]), array([ 14,   3, 384]), array([ 14,   2, 326]), array([ 14,   1, 194]), array([14,  0,  0]), array([ 13,  15, 413]), array([ 13,  14, 413]), array([ 13,  13, 413]), array([ 13,  12, 413]), array([ 13,  11, 413]), array([ 13,  10, 413]), array([ 13,   9, 413]), array([ 13,   8, 413]), array([ 13,   7, 413]), array([ 13,   6, 413]), array([ 13,   5, 413]), array([ 13,   4, 405]), array([ 13,   3, 384]), array([ 13,   2, 326]), array([ 13,   1, 194]), array([13,  0,  0]), array([ 12,  15, 413]), array([ 12,  14, 413]), array([ 12,  13, 413]), array([ 12,  12, 413]), array([ 12,  11, 413]), array([ 12,  10, 413]), array([ 12,   9, 413]), array([ 12,   8, 413]), array([ 12,   7, 413]), array([ 12,   6, 413]), array([ 12,   5, 413]), array([ 12,   4, 405]), array([ 12,   3, 384]), array([ 12,   2, 326]), array([ 12,   1, 194]), array([12,  0,  0])]\n"
               ]
            },
            {
               "name": "stderr",
               "output_type": "stream",
               "text": [
                  "\n"
               ]
            }
         ],
         "source": [
            "points = run_one_step(data, n_jobs, points, 12)\n",
            "print(points)"
         ]
      },
      {
         "cell_type": "code",
         "execution_count": 33,
         "metadata": {},
         "outputs": [
            {
               "name": "stderr",
               "output_type": "stream",
               "text": [
                  "100%|██████████| 16/16 [03:57<00:00, 14.81s/it]"
               ]
            },
            {
               "name": "stdout",
               "output_type": "stream",
               "text": [
                  "[array([ 22,  15, 413]), array([ 22,  14, 413]), array([ 22,  13, 413]), array([ 22,  12, 413]), array([ 22,  11, 413]), array([ 22,  10, 413]), array([ 22,   9, 413]), array([ 22,   8, 413]), array([ 22,   7, 413]), array([ 22,   6, 413]), array([ 22,   5, 413]), array([ 22,   4, 405]), array([ 22,   3, 384]), array([ 22,   2, 326]), array([ 22,   1, 194]), array([22,  0,  0]), array([ 21,  15, 413]), array([ 21,  14, 413]), array([ 21,  13, 413]), array([ 21,  12, 413]), array([ 21,  11, 413]), array([ 21,  10, 413]), array([ 21,   9, 413]), array([ 21,   8, 413]), array([ 21,   7, 413]), array([ 21,   6, 413]), array([ 21,   5, 413]), array([ 21,   4, 405]), array([ 21,   3, 384]), array([ 21,   2, 326]), array([ 21,   1, 194]), array([21,  0,  0]), array([ 20,  15, 413]), array([ 20,  14, 413]), array([ 20,  13, 413]), array([ 20,  12, 413]), array([ 20,  11, 413]), array([ 20,  10, 413]), array([ 20,   9, 413]), array([ 20,   8, 413]), array([ 20,   7, 413]), array([ 20,   6, 413]), array([ 20,   5, 413]), array([ 20,   4, 405]), array([ 20,   3, 384]), array([ 20,   2, 326]), array([ 20,   1, 194]), array([20,  0,  0]), array([ 19,  15, 413]), array([ 19,  14, 413]), array([ 19,  13, 413]), array([ 19,  12, 413]), array([ 19,  11, 413]), array([ 19,  10, 413]), array([ 19,   9, 413]), array([ 19,   8, 413]), array([ 19,   7, 413]), array([ 19,   6, 413]), array([ 19,   5, 413]), array([ 19,   4, 405]), array([ 19,   3, 384]), array([ 19,   2, 326]), array([ 19,   1, 194]), array([19,  0,  0]), array([ 18,  15, 413]), array([ 18,  14, 413]), array([ 18,  13, 413]), array([ 18,  12, 413]), array([ 18,  11, 413]), array([ 18,  10, 413]), array([ 18,   9, 413]), array([ 18,   8, 413]), array([ 18,   7, 413]), array([ 18,   6, 413]), array([ 18,   5, 413]), array([ 18,   4, 405]), array([ 18,   3, 384]), array([ 18,   2, 326]), array([ 18,   1, 194]), array([18,  0,  0]), array([ 17,  15, 413]), array([ 17,  14, 413]), array([ 17,  13, 413]), array([ 17,  12, 413]), array([ 17,  11, 413]), array([ 17,  10, 413]), array([ 17,   9, 413]), array([ 17,   8, 413]), array([ 17,   7, 413]), array([ 17,   6, 413]), array([ 17,   5, 413]), array([ 17,   4, 405]), array([ 17,   3, 384]), array([ 17,   2, 326]), array([ 17,   1, 194]), array([17,  0,  0]), array([ 16,  15, 413]), array([ 16,  14, 413]), array([ 16,  13, 413]), array([ 16,  12, 413]), array([ 16,  11, 413]), array([ 16,  10, 413]), array([ 16,   9, 413]), array([ 16,   8, 413]), array([ 16,   7, 413]), array([ 16,   6, 413]), array([ 16,   5, 413]), array([ 16,   4, 405]), array([ 16,   3, 384]), array([ 16,   2, 326]), array([ 16,   1, 194]), array([16,  0,  0]), array([ 15,  15, 413]), array([ 15,  14, 413]), array([ 15,  13, 413]), array([ 15,  12, 413]), array([ 15,  11, 413]), array([ 15,  10, 413]), array([ 15,   9, 413]), array([ 15,   8, 413]), array([ 15,   7, 413]), array([ 15,   6, 413]), array([ 15,   5, 413]), array([ 15,   4, 405]), array([ 15,   3, 384]), array([ 15,   2, 326]), array([ 15,   1, 194]), array([15,  0,  0]), array([ 14,  15, 413]), array([ 14,  14, 413]), array([ 14,  13, 413]), array([ 14,  12, 413]), array([ 14,  11, 413]), array([ 14,  10, 413]), array([ 14,   9, 413]), array([ 14,   8, 413]), array([ 14,   7, 413]), array([ 14,   6, 413]), array([ 14,   5, 413]), array([ 14,   4, 405]), array([ 14,   3, 384]), array([ 14,   2, 326]), array([ 14,   1, 194]), array([14,  0,  0]), array([ 13,  15, 413]), array([ 13,  14, 413]), array([ 13,  13, 413]), array([ 13,  12, 413]), array([ 13,  11, 413]), array([ 13,  10, 413]), array([ 13,   9, 413]), array([ 13,   8, 413]), array([ 13,   7, 413]), array([ 13,   6, 413]), array([ 13,   5, 413]), array([ 13,   4, 405]), array([ 13,   3, 384]), array([ 13,   2, 326]), array([ 13,   1, 194]), array([13,  0,  0]), array([ 12,  15, 413]), array([ 12,  14, 413]), array([ 12,  13, 413]), array([ 12,  12, 413]), array([ 12,  11, 413]), array([ 12,  10, 413]), array([ 12,   9, 413]), array([ 12,   8, 413]), array([ 12,   7, 413]), array([ 12,   6, 413]), array([ 12,   5, 413]), array([ 12,   4, 405]), array([ 12,   3, 384]), array([ 12,   2, 326]), array([ 12,   1, 194]), array([12,  0,  0]), array([ 11,  15, 413]), array([ 11,  14, 413]), array([ 11,  13, 413]), array([ 11,  12, 413]), array([ 11,  11, 413]), array([ 11,  10, 413]), array([ 11,   9, 413]), array([ 11,   8, 413]), array([ 11,   7, 413]), array([ 11,   6, 413]), array([ 11,   5, 413]), array([ 11,   4, 404]), array([ 11,   3, 379]), array([ 11,   2, 325]), array([ 11,   1, 180]), array([11,  0,  0])]\n"
               ]
            },
            {
               "name": "stderr",
               "output_type": "stream",
               "text": [
                  "\n"
               ]
            }
         ],
         "source": [
            "points = run_one_step(data, n_jobs, points, 11)\n",
            "print(points)"
         ]
      },
      {
         "cell_type": "code",
         "execution_count": 34,
         "metadata": {},
         "outputs": [
            {
               "name": "stderr",
               "output_type": "stream",
               "text": [
                  "100%|██████████| 16/16 [07:00<00:00, 26.31s/it]"
               ]
            },
            {
               "name": "stdout",
               "output_type": "stream",
               "text": [
                  "[array([ 22,  15, 413]), array([ 22,  14, 413]), array([ 22,  13, 413]), array([ 22,  12, 413]), array([ 22,  11, 413]), array([ 22,  10, 413]), array([ 22,   9, 413]), array([ 22,   8, 413]), array([ 22,   7, 413]), array([ 22,   6, 413]), array([ 22,   5, 413]), array([ 22,   4, 405]), array([ 22,   3, 384]), array([ 22,   2, 326]), array([ 22,   1, 194]), array([22,  0,  0]), array([ 21,  15, 413]), array([ 21,  14, 413]), array([ 21,  13, 413]), array([ 21,  12, 413]), array([ 21,  11, 413]), array([ 21,  10, 413]), array([ 21,   9, 413]), array([ 21,   8, 413]), array([ 21,   7, 413]), array([ 21,   6, 413]), array([ 21,   5, 413]), array([ 21,   4, 405]), array([ 21,   3, 384]), array([ 21,   2, 326]), array([ 21,   1, 194]), array([21,  0,  0]), array([ 20,  15, 413]), array([ 20,  14, 413]), array([ 20,  13, 413]), array([ 20,  12, 413]), array([ 20,  11, 413]), array([ 20,  10, 413]), array([ 20,   9, 413]), array([ 20,   8, 413]), array([ 20,   7, 413]), array([ 20,   6, 413]), array([ 20,   5, 413]), array([ 20,   4, 405]), array([ 20,   3, 384]), array([ 20,   2, 326]), array([ 20,   1, 194]), array([20,  0,  0]), array([ 19,  15, 413]), array([ 19,  14, 413]), array([ 19,  13, 413]), array([ 19,  12, 413]), array([ 19,  11, 413]), array([ 19,  10, 413]), array([ 19,   9, 413]), array([ 19,   8, 413]), array([ 19,   7, 413]), array([ 19,   6, 413]), array([ 19,   5, 413]), array([ 19,   4, 405]), array([ 19,   3, 384]), array([ 19,   2, 326]), array([ 19,   1, 194]), array([19,  0,  0]), array([ 18,  15, 413]), array([ 18,  14, 413]), array([ 18,  13, 413]), array([ 18,  12, 413]), array([ 18,  11, 413]), array([ 18,  10, 413]), array([ 18,   9, 413]), array([ 18,   8, 413]), array([ 18,   7, 413]), array([ 18,   6, 413]), array([ 18,   5, 413]), array([ 18,   4, 405]), array([ 18,   3, 384]), array([ 18,   2, 326]), array([ 18,   1, 194]), array([18,  0,  0]), array([ 17,  15, 413]), array([ 17,  14, 413]), array([ 17,  13, 413]), array([ 17,  12, 413]), array([ 17,  11, 413]), array([ 17,  10, 413]), array([ 17,   9, 413]), array([ 17,   8, 413]), array([ 17,   7, 413]), array([ 17,   6, 413]), array([ 17,   5, 413]), array([ 17,   4, 405]), array([ 17,   3, 384]), array([ 17,   2, 326]), array([ 17,   1, 194]), array([17,  0,  0]), array([ 16,  15, 413]), array([ 16,  14, 413]), array([ 16,  13, 413]), array([ 16,  12, 413]), array([ 16,  11, 413]), array([ 16,  10, 413]), array([ 16,   9, 413]), array([ 16,   8, 413]), array([ 16,   7, 413]), array([ 16,   6, 413]), array([ 16,   5, 413]), array([ 16,   4, 405]), array([ 16,   3, 384]), array([ 16,   2, 326]), array([ 16,   1, 194]), array([16,  0,  0]), array([ 15,  15, 413]), array([ 15,  14, 413]), array([ 15,  13, 413]), array([ 15,  12, 413]), array([ 15,  11, 413]), array([ 15,  10, 413]), array([ 15,   9, 413]), array([ 15,   8, 413]), array([ 15,   7, 413]), array([ 15,   6, 413]), array([ 15,   5, 413]), array([ 15,   4, 405]), array([ 15,   3, 384]), array([ 15,   2, 326]), array([ 15,   1, 194]), array([15,  0,  0]), array([ 14,  15, 413]), array([ 14,  14, 413]), array([ 14,  13, 413]), array([ 14,  12, 413]), array([ 14,  11, 413]), array([ 14,  10, 413]), array([ 14,   9, 413]), array([ 14,   8, 413]), array([ 14,   7, 413]), array([ 14,   6, 413]), array([ 14,   5, 413]), array([ 14,   4, 405]), array([ 14,   3, 384]), array([ 14,   2, 326]), array([ 14,   1, 194]), array([14,  0,  0]), array([ 13,  15, 413]), array([ 13,  14, 413]), array([ 13,  13, 413]), array([ 13,  12, 413]), array([ 13,  11, 413]), array([ 13,  10, 413]), array([ 13,   9, 413]), array([ 13,   8, 413]), array([ 13,   7, 413]), array([ 13,   6, 413]), array([ 13,   5, 413]), array([ 13,   4, 405]), array([ 13,   3, 384]), array([ 13,   2, 326]), array([ 13,   1, 194]), array([13,  0,  0]), array([ 12,  15, 413]), array([ 12,  14, 413]), array([ 12,  13, 413]), array([ 12,  12, 413]), array([ 12,  11, 413]), array([ 12,  10, 413]), array([ 12,   9, 413]), array([ 12,   8, 413]), array([ 12,   7, 413]), array([ 12,   6, 413]), array([ 12,   5, 413]), array([ 12,   4, 405]), array([ 12,   3, 384]), array([ 12,   2, 326]), array([ 12,   1, 194]), array([12,  0,  0]), array([ 11,  15, 413]), array([ 11,  14, 413]), array([ 11,  13, 413]), array([ 11,  12, 413]), array([ 11,  11, 413]), array([ 11,  10, 413]), array([ 11,   9, 413]), array([ 11,   8, 413]), array([ 11,   7, 413]), array([ 11,   6, 413]), array([ 11,   5, 413]), array([ 11,   4, 404]), array([ 11,   3, 379]), array([ 11,   2, 325]), array([ 11,   1, 180]), array([11,  0,  0]), array([ 10,  15, 413]), array([ 10,  14, 413]), array([ 10,  13, 413]), array([ 10,  12, 413]), array([ 10,  11, 413]), array([ 10,  10, 413]), array([ 10,   9, 413]), array([ 10,   8, 413]), array([ 10,   7, 413]), array([ 10,   6, 413]), array([ 10,   5, 413]), array([ 10,   4, 404]), array([ 10,   3, 379]), array([ 10,   2, 325]), array([ 10,   1, 180]), array([10,  0,  0])]\n"
               ]
            },
            {
               "name": "stderr",
               "output_type": "stream",
               "text": [
                  "\n"
               ]
            }
         ],
         "source": [
            "points = run_one_step(data, n_jobs, points, 10)\n",
            "print(points)"
         ]
      },
      {
         "cell_type": "code",
         "execution_count": 35,
         "metadata": {},
         "outputs": [
            {
               "name": "stderr",
               "output_type": "stream",
               "text": [
                  "100%|██████████| 16/16 [05:31<00:00, 20.69s/it]"
               ]
            },
            {
               "name": "stdout",
               "output_type": "stream",
               "text": [
                  "[array([ 22,  15, 413]), array([ 22,  14, 413]), array([ 22,  13, 413]), array([ 22,  12, 413]), array([ 22,  11, 413]), array([ 22,  10, 413]), array([ 22,   9, 413]), array([ 22,   8, 413]), array([ 22,   7, 413]), array([ 22,   6, 413]), array([ 22,   5, 413]), array([ 22,   4, 405]), array([ 22,   3, 384]), array([ 22,   2, 326]), array([ 22,   1, 194]), array([22,  0,  0]), array([ 21,  15, 413]), array([ 21,  14, 413]), array([ 21,  13, 413]), array([ 21,  12, 413]), array([ 21,  11, 413]), array([ 21,  10, 413]), array([ 21,   9, 413]), array([ 21,   8, 413]), array([ 21,   7, 413]), array([ 21,   6, 413]), array([ 21,   5, 413]), array([ 21,   4, 405]), array([ 21,   3, 384]), array([ 21,   2, 326]), array([ 21,   1, 194]), array([21,  0,  0]), array([ 20,  15, 413]), array([ 20,  14, 413]), array([ 20,  13, 413]), array([ 20,  12, 413]), array([ 20,  11, 413]), array([ 20,  10, 413]), array([ 20,   9, 413]), array([ 20,   8, 413]), array([ 20,   7, 413]), array([ 20,   6, 413]), array([ 20,   5, 413]), array([ 20,   4, 405]), array([ 20,   3, 384]), array([ 20,   2, 326]), array([ 20,   1, 194]), array([20,  0,  0]), array([ 19,  15, 413]), array([ 19,  14, 413]), array([ 19,  13, 413]), array([ 19,  12, 413]), array([ 19,  11, 413]), array([ 19,  10, 413]), array([ 19,   9, 413]), array([ 19,   8, 413]), array([ 19,   7, 413]), array([ 19,   6, 413]), array([ 19,   5, 413]), array([ 19,   4, 405]), array([ 19,   3, 384]), array([ 19,   2, 326]), array([ 19,   1, 194]), array([19,  0,  0]), array([ 18,  15, 413]), array([ 18,  14, 413]), array([ 18,  13, 413]), array([ 18,  12, 413]), array([ 18,  11, 413]), array([ 18,  10, 413]), array([ 18,   9, 413]), array([ 18,   8, 413]), array([ 18,   7, 413]), array([ 18,   6, 413]), array([ 18,   5, 413]), array([ 18,   4, 405]), array([ 18,   3, 384]), array([ 18,   2, 326]), array([ 18,   1, 194]), array([18,  0,  0]), array([ 17,  15, 413]), array([ 17,  14, 413]), array([ 17,  13, 413]), array([ 17,  12, 413]), array([ 17,  11, 413]), array([ 17,  10, 413]), array([ 17,   9, 413]), array([ 17,   8, 413]), array([ 17,   7, 413]), array([ 17,   6, 413]), array([ 17,   5, 413]), array([ 17,   4, 405]), array([ 17,   3, 384]), array([ 17,   2, 326]), array([ 17,   1, 194]), array([17,  0,  0]), array([ 16,  15, 413]), array([ 16,  14, 413]), array([ 16,  13, 413]), array([ 16,  12, 413]), array([ 16,  11, 413]), array([ 16,  10, 413]), array([ 16,   9, 413]), array([ 16,   8, 413]), array([ 16,   7, 413]), array([ 16,   6, 413]), array([ 16,   5, 413]), array([ 16,   4, 405]), array([ 16,   3, 384]), array([ 16,   2, 326]), array([ 16,   1, 194]), array([16,  0,  0]), array([ 15,  15, 413]), array([ 15,  14, 413]), array([ 15,  13, 413]), array([ 15,  12, 413]), array([ 15,  11, 413]), array([ 15,  10, 413]), array([ 15,   9, 413]), array([ 15,   8, 413]), array([ 15,   7, 413]), array([ 15,   6, 413]), array([ 15,   5, 413]), array([ 15,   4, 405]), array([ 15,   3, 384]), array([ 15,   2, 326]), array([ 15,   1, 194]), array([15,  0,  0]), array([ 14,  15, 413]), array([ 14,  14, 413]), array([ 14,  13, 413]), array([ 14,  12, 413]), array([ 14,  11, 413]), array([ 14,  10, 413]), array([ 14,   9, 413]), array([ 14,   8, 413]), array([ 14,   7, 413]), array([ 14,   6, 413]), array([ 14,   5, 413]), array([ 14,   4, 405]), array([ 14,   3, 384]), array([ 14,   2, 326]), array([ 14,   1, 194]), array([14,  0,  0]), array([ 13,  15, 413]), array([ 13,  14, 413]), array([ 13,  13, 413]), array([ 13,  12, 413]), array([ 13,  11, 413]), array([ 13,  10, 413]), array([ 13,   9, 413]), array([ 13,   8, 413]), array([ 13,   7, 413]), array([ 13,   6, 413]), array([ 13,   5, 413]), array([ 13,   4, 405]), array([ 13,   3, 384]), array([ 13,   2, 326]), array([ 13,   1, 194]), array([13,  0,  0]), array([ 12,  15, 413]), array([ 12,  14, 413]), array([ 12,  13, 413]), array([ 12,  12, 413]), array([ 12,  11, 413]), array([ 12,  10, 413]), array([ 12,   9, 413]), array([ 12,   8, 413]), array([ 12,   7, 413]), array([ 12,   6, 413]), array([ 12,   5, 413]), array([ 12,   4, 405]), array([ 12,   3, 384]), array([ 12,   2, 326]), array([ 12,   1, 194]), array([12,  0,  0]), array([ 11,  15, 413]), array([ 11,  14, 413]), array([ 11,  13, 413]), array([ 11,  12, 413]), array([ 11,  11, 413]), array([ 11,  10, 413]), array([ 11,   9, 413]), array([ 11,   8, 413]), array([ 11,   7, 413]), array([ 11,   6, 413]), array([ 11,   5, 413]), array([ 11,   4, 404]), array([ 11,   3, 379]), array([ 11,   2, 325]), array([ 11,   1, 180]), array([11,  0,  0]), array([ 10,  15, 413]), array([ 10,  14, 413]), array([ 10,  13, 413]), array([ 10,  12, 413]), array([ 10,  11, 413]), array([ 10,  10, 413]), array([ 10,   9, 413]), array([ 10,   8, 413]), array([ 10,   7, 413]), array([ 10,   6, 413]), array([ 10,   5, 413]), array([ 10,   4, 404]), array([ 10,   3, 379]), array([ 10,   2, 325]), array([ 10,   1, 180]), array([10,  0,  0]), array([  9,  15, 413]), array([  9,  14, 413]), array([  9,  13, 413]), array([  9,  12, 413]), array([  9,  11, 413]), array([  9,  10, 413]), array([  9,   9, 413]), array([  9,   8, 413]), array([  9,   7, 413]), array([  9,   6, 413]), array([  9,   5, 410]), array([  9,   4, 400]), array([  9,   3, 379]), array([  9,   2, 325]), array([  9,   1, 180]), array([9, 0, 0])]\n"
               ]
            },
            {
               "name": "stderr",
               "output_type": "stream",
               "text": [
                  "\n"
               ]
            }
         ],
         "source": [
            "points = run_one_step(data, n_jobs, points, 9)\n",
            "print(points)"
         ]
      },
      {
         "cell_type": "code",
         "execution_count": 42,
         "metadata": {},
         "outputs": [
            {
               "name": "stderr",
               "output_type": "stream",
               "text": [
                  "  0%|          | 0/16 [00:00<?, ?it/s]"
               ]
            },
            {
               "name": "stdout",
               "output_type": "stream",
               "text": [
                  "Gurobi Optimizer version 10.0.0 build v10.0.0rc2 (win64)\n",
                  "\n",
                  "CPU model: AMD Ryzen 5 5600H with Radeon Graphics, instruction set [SSE2|AVX|AVX2]\n",
                  "Thread count: 6 physical cores, 12 logical processors, using up to 12 threads\n",
                  "\n",
                  "Optimize a model with 45066 rows, 16733 columns and 117817 nonzeros\n",
                  "Model fingerprint: 0xd2f0dd91\n",
                  "Model has 151 general constraints\n",
                  "Variable types: 0 continuous, 16733 integer (16590 binary)\n",
                  "Coefficient statistics:\n",
                  "  Matrix range     [1e+00, 7e+01]\n",
                  "  Objective range  [1e+00, 1e+01]\n",
                  "  Bounds range     [1e+00, 2e+01]\n",
                  "  RHS range        [1e+00, 2e+01]\n",
                  "  GenCon rhs range [1e+00, 1e+00]\n",
                  "  GenCon coe range [1e+00, 1e+00]\n",
                  "Presolve removed 41627 rows and 13697 columns\n",
                  "Presolve time: 0.16s\n",
                  "Presolved: 3439 rows, 3036 columns, 17309 nonzeros\n",
                  "Variable types: 0 continuous, 3036 integer (2898 binary)\n",
                  "Found heuristic solution: objective -1.0000000\n",
                  "\n",
                  "Root relaxation: objective 4.446214e+03, 2971 iterations, 0.11 seconds (0.22 work units)\n",
                  "\n",
                  "    Nodes    |    Current Node    |     Objective Bounds      |     Work\n",
                  " Expl Unexpl |  Obj  Depth IntInf | Incumbent    BestBd   Gap | It/Node Time\n",
                  "\n",
                  "     0     0 4446.21429    0  249   -1.00000 4446.21429      -     -    0s\n",
                  "H    0     0                     676.0000000 4446.21429   558%     -    0s\n",
                  "H    0     0                    1738.0000000 4446.21429   156%     -    0s\n",
                  "H    0     0                    2667.0000000 4427.56925  66.0%     -    0s\n",
                  "     0     0 4427.56925    0  316 2667.00000 4427.56925  66.0%     -    0s\n",
                  "H    0     0                    2728.0000000 4427.56925  62.3%     -    0s\n",
                  "     0     0 4426.25497    0  299 2728.00000 4426.25497  62.3%     -    0s\n",
                  "     0     0 4426.25497    0  299 2728.00000 4426.25497  62.3%     -    0s\n",
                  "H    0     0                    2857.0000000 4426.25497  54.9%     -    0s\n",
                  "     0     0 4396.92339    0  337 2857.00000 4396.92339  53.9%     -    0s\n",
                  "     0     0 4395.66101    0  310 2857.00000 4395.66101  53.9%     -    1s\n",
                  "     0     0 4395.66101    0  300 2857.00000 4395.66101  53.9%     -    1s\n",
                  "     0     0 4394.58068    0  311 2857.00000 4394.58068  53.8%     -    1s\n",
                  "H    0     0                    3437.0000000 4394.58068  27.9%     -    1s\n",
                  "     0     0 4394.45390    0  311 3437.00000 4394.45390  27.9%     -    1s\n",
                  "     0     0 4394.45390    0  300 3437.00000 4394.45390  27.9%     -    1s\n"
               ]
            },
            {
               "ename": "KeyboardInterrupt",
               "evalue": "",
               "output_type": "error",
               "traceback": [
                  "\u001b[1;31m---------------------------------------------------------------------------\u001b[0m",
                  "\u001b[1;31mKeyboardInterrupt\u001b[0m                         Traceback (most recent call last)",
                  "File \u001b[1;32m~\\AppData\\Roaming\\Python\\Python39\\site-packages\\ipykernel\\iostream.py:518\u001b[0m, in \u001b[0;36mOutStream.write\u001b[1;34m(self, string)\u001b[0m\n\u001b[0;32m    509\u001b[0m         content \u001b[39m=\u001b[39m {\u001b[39m\"\u001b[39m\u001b[39mname\u001b[39m\u001b[39m\"\u001b[39m: \u001b[39mself\u001b[39m\u001b[39m.\u001b[39mname, \u001b[39m\"\u001b[39m\u001b[39mtext\u001b[39m\u001b[39m\"\u001b[39m: data}\n\u001b[0;32m    510\u001b[0m         \u001b[39mself\u001b[39m\u001b[39m.\u001b[39msession\u001b[39m.\u001b[39msend(\n\u001b[0;32m    511\u001b[0m             \u001b[39mself\u001b[39m\u001b[39m.\u001b[39mpub_thread,\n\u001b[0;32m    512\u001b[0m             \u001b[39m\"\u001b[39m\u001b[39mstream\u001b[39m\u001b[39m\"\u001b[39m,\n\u001b[1;32m   (...)\u001b[0m\n\u001b[0;32m    515\u001b[0m             ident\u001b[39m=\u001b[39m\u001b[39mself\u001b[39m\u001b[39m.\u001b[39mtopic,\n\u001b[0;32m    516\u001b[0m         )\n\u001b[1;32m--> 518\u001b[0m \u001b[39mdef\u001b[39;00m \u001b[39mwrite\u001b[39m(\u001b[39mself\u001b[39m, string: \u001b[39mstr\u001b[39m) \u001b[39m-\u001b[39m\u001b[39m>\u001b[39m Optional[\u001b[39mint\u001b[39m]:  \u001b[39m# type:ignore[override]\u001b[39;00m\n\u001b[0;32m    519\u001b[0m     \u001b[39m\"\"\"Write to current stream after encoding if necessary\u001b[39;00m\n\u001b[0;32m    520\u001b[0m \n\u001b[0;32m    521\u001b[0m \u001b[39m    Returns\u001b[39;00m\n\u001b[1;32m   (...)\u001b[0m\n\u001b[0;32m    525\u001b[0m \n\u001b[0;32m    526\u001b[0m \u001b[39m    \"\"\"\u001b[39;00m\n\u001b[0;32m    528\u001b[0m     \u001b[39mif\u001b[39;00m \u001b[39mnot\u001b[39;00m \u001b[39misinstance\u001b[39m(string, \u001b[39mstr\u001b[39m):\n",
                  "\u001b[1;31mKeyboardInterrupt\u001b[0m: "
               ]
            },
            {
               "name": "stderr",
               "output_type": "stream",
               "text": [
                  "Exception ignored in: 'gurobipy.logcallbackstub'\n",
                  "Traceback (most recent call last):\n",
                  "  File \"C:\\Users\\guilh\\AppData\\Roaming\\Python\\Python39\\site-packages\\ipykernel\\iostream.py\", line 518, in write\n",
                  "    def write(self, string: str) -> Optional[int]:  # type:ignore[override]\n",
                  "KeyboardInterrupt: \n"
               ]
            },
            {
               "name": "stdout",
               "output_type": "stream",
               "text": [
                  "     0     0 4370.38066    0  310 3437.00000 4370.38066  27.2%     -    1s\n",
                  "H    0     0                    3656.0000000 4369.86739  19.5%     -    1s\n",
                  "     0     0 4369.86739    0  278 3656.00000 4369.86739  19.5%     -    1s\n",
                  "     0     0 4369.61321    0  276 3656.00000 4369.61321  19.5%     -    1s\n",
                  "     0     0 4369.55121    0  274 3656.00000 4369.55121  19.5%     -    1s\n",
                  "     0     0 4369.55121    0  275 3656.00000 4369.55121  19.5%     -    1s\n",
                  "     0     0 4351.21923    0  311 3656.00000 4351.21923  19.0%     -    1s\n",
                  "     0     0 4350.93718    0  308 3656.00000 4350.93718  19.0%     -    1s\n",
                  "     0     0 4349.90571    0  295 3656.00000 4349.90571  19.0%     -    1s\n",
                  "     0     0 4349.06748    0  284 3656.00000 4349.06748  19.0%     -    1s\n",
                  "     0     0 4349.06748    0  298 3656.00000 4349.06748  19.0%     -    1s\n",
                  "H    0     0                    3687.0000000 4328.81329  17.4%     -    2s\n",
                  "     0     0 4328.81329    0  332 3687.00000 4328.81329  17.4%     -    2s\n",
                  "H    0     0                    3717.0000000 4327.95185  16.4%     -    2s\n",
                  "     0     0 4327.95185    0  331 3717.00000 4327.95185  16.4%     -    2s\n",
                  "     0     0 4327.95185    0  321 3717.00000 4327.95185  16.4%     -    2s\n",
                  "H    0     0                    3807.0000000 4327.95185  13.7%     -    2s\n",
                  "     0     0 4299.52897    0  328 3807.00000 4299.52897  12.9%     -    2s\n",
                  "     0     0 4297.22961    0  342 3807.00000 4297.22961  12.9%     -    2s\n",
                  "     0     0 4296.52487    0  315 3807.00000 4296.52487  12.9%     -    2s\n",
                  "     0     0 4296.48496    0  328 3807.00000 4296.48496  12.9%     -    2s\n",
                  "     0     0 4260.45563    0  356 3807.00000 4260.45563  11.9%     -    2s\n",
                  "     0     0 4259.14514    0  337 3807.00000 4259.14514  11.9%     -    2s\n",
                  "     0     0 4258.90503    0  331 3807.00000 4258.90503  11.9%     -    2s\n",
                  "     0     0 4258.60501    0  331 3807.00000 4258.60501  11.9%     -    2s\n",
                  "     0     0 4258.56665    0  322 3807.00000 4258.56665  11.9%     -    2s\n",
                  "     0     0 4247.81710    0  353 3807.00000 4247.81710  11.6%     -    2s\n",
                  "H    0     0                    3827.0000000 4247.81710  11.0%     -    2s\n",
                  "     0     0 4246.90050    0  361 3827.00000 4246.90050  11.0%     -    2s\n",
                  "     0     0 4246.74360    0  353 3827.00000 4246.74360  11.0%     -    2s\n",
                  "     0     0 4246.70975    0  343 3827.00000 4246.70975  11.0%     -    2s\n",
                  "     0     0 4239.60356    0  351 3827.00000 4239.60356  10.8%     -    3s\n",
                  "H    0     0                    3837.0000000 4235.72202  10.4%     -    3s\n",
                  "     0     0 4235.72202    0  340 3837.00000 4235.72202  10.4%     -    3s\n",
                  "     0     0 4235.12912    0  341 3837.00000 4235.12912  10.4%     -    3s\n",
                  "     0     0 4235.12400    0  345 3837.00000 4235.12400  10.4%     -    3s\n",
                  "     0     0 4229.66785    0  363 3837.00000 4229.66785  10.2%     -    3s\n",
                  "     0     0 4228.46138    0  376 3837.00000 4228.46138  10.2%     -    3s\n",
                  "     0     0 4228.13370    0  374 3837.00000 4228.13370  10.2%     -    3s\n",
                  "     0     0 4228.07878    0  374 3837.00000 4228.07878  10.2%     -    3s\n",
                  "     0     0 4221.34199    0  336 3837.00000 4221.34199  10.0%     -    3s\n",
                  "     0     0 4220.12219    0  347 3837.00000 4220.12219  10.0%     -    3s\n",
                  "     0     0 4219.93026    0  369 3837.00000 4219.93026  10.0%     -    3s\n",
                  "     0     0 4219.71179    0  415 3837.00000 4219.71179  10.0%     -    3s\n",
                  "     0     0 4219.17801    0  400 3837.00000 4219.17801  10.0%     -    3s\n",
                  "     0     0 4219.16820    0  414 3837.00000 4219.16820  10.0%     -    3s\n",
                  "     0     0 4217.43085    0  375 3837.00000 4217.43085  9.91%     -    3s\n",
                  "     0     0 4217.15989    0  387 3837.00000 4217.15989  9.91%     -    3s\n",
                  "     0     0 4216.95386    0  379 3837.00000 4216.95386  9.90%     -    3s\n",
                  "     0     0 4216.93821    0  387 3837.00000 4216.93821  9.90%     -    3s\n",
                  "     0     0 4215.42157    0  380 3837.00000 4215.42157  9.86%     -    3s\n",
                  "     0     0 4215.22814    0  392 3837.00000 4215.22814  9.86%     -    3s\n",
                  "     0     0 4215.10359    0  407 3837.00000 4215.10359  9.85%     -    3s\n",
                  "     0     0 4215.09867    0  396 3837.00000 4215.09867  9.85%     -    3s\n",
                  "     0     0 4214.66465    0  397 3837.00000 4214.66465  9.84%     -    3s\n",
                  "     0     0 4214.66465    0  353 3837.00000 4214.66465  9.84%     -    4s\n",
                  "     0     2 4214.66465    0  343 3837.00000 4214.66465  9.84%     -    4s\n",
                  "H   31    38                    4035.0000000 4210.63198  4.35%   332    4s\n",
                  "    48    58 4200.94744    9  253 4035.00000 4210.63198  4.35%   245    5s\n",
                  "H   66    71                    4036.0000000 4210.63198  4.33%   199    5s\n",
                  "H   71    71                    4066.0000000 4210.63198  3.56%   193    5s\n",
                  "H  101    99                    4096.0000000 4210.63198  2.80%   183    5s\n",
                  "  1628   719 4165.22637   13  198 4096.00000 4180.39766  2.06%   144   10s\n",
                  "  2512   965 4097.00000   55  293 4096.00000 4165.09202  1.69%   137   15s\n",
                  "  2527   976 4111.26007   16  241 4096.00000 4165.09202  1.69%   151   20s\n",
                  "  2620   999 4119.17516   36  192 4096.00000 4165.09202  1.69%   166   25s\n",
                  "* 2998   918              65    4115.0000000 4163.36146  1.18%   167   27s\n",
                  "H 3267   817                    4116.0000000 4161.97755  1.12%   172   28s\n",
                  "\n",
                  "Cutting planes:\n",
                  "  Learned: 2\n",
                  "  Gomory: 4\n",
                  "  Cover: 9\n",
                  "  Implied bound: 29\n",
                  "  Projected implied bound: 8\n",
                  "  Clique: 2\n",
                  "  MIR: 87\n",
                  "  StrongCG: 20\n",
                  "  Flow cover: 146\n",
                  "  GUB cover: 2\n",
                  "  Zero half: 11\n",
                  "  RLT: 1\n",
                  "  Relax-and-lift: 101\n",
                  "\n",
                  "Explored 3948 nodes (665455 simplex iterations) in 29.91 seconds (44.49 work units)\n",
                  "Thread count was 12 (of 12 available processors)\n",
                  "\n",
                  "Solution count 10: 4116 4115 4096 ... 3717\n",
                  "\n",
                  "Optimal solution found (tolerance 1.00e-04)\n",
                  "Best objective 4.116000000000e+03, best bound 4.116000000000e+03, gap 0.0000%\n"
               ]
            },
            {
               "name": "stderr",
               "output_type": "stream",
               "text": [
                  "  6%|▋         | 1/16 [00:30<07:41, 30.77s/it]"
               ]
            },
            {
               "name": "stdout",
               "output_type": "stream",
               "text": [
                  "Gurobi Optimizer version 10.0.0 build v10.0.0rc2 (win64)\n",
                  "\n",
                  "CPU model: AMD Ryzen 5 5600H with Radeon Graphics, instruction set [SSE2|AVX|AVX2]\n",
                  "Thread count: 6 physical cores, 12 logical processors, using up to 12 threads\n",
                  "\n",
                  "Optimize a model with 45066 rows, 16733 columns and 117817 nonzeros\n",
                  "Model fingerprint: 0x00ea1aac\n",
                  "Model has 151 general constraints\n",
                  "Variable types: 0 continuous, 16733 integer (16590 binary)\n",
                  "Coefficient statistics:\n",
                  "  Matrix range     [1e+00, 7e+01]\n",
                  "  Objective range  [1e+00, 1e+01]\n",
                  "  Bounds range     [1e+00, 2e+01]\n",
                  "  RHS range        [1e+00, 2e+01]\n",
                  "  GenCon rhs range [1e+00, 1e+00]\n",
                  "  GenCon coe range [1e+00, 1e+00]\n",
                  "Presolve removed 41627 rows and 13697 columns\n",
                  "Presolve time: 0.17s\n",
                  "Presolved: 3439 rows, 3036 columns, 17309 nonzeros\n",
                  "Variable types: 0 continuous, 3036 integer (2898 binary)\n",
                  "Found heuristic solution: objective -1.0000000\n",
                  "\n",
                  "Root relaxation: objective 4.446214e+03, 2971 iterations, 0.12 seconds (0.22 work units)\n",
                  "\n",
                  "    Nodes    |    Current Node    |     Objective Bounds      |     Work\n",
                  " Expl Unexpl |  Obj  Depth IntInf | Incumbent    BestBd   Gap | It/Node Time\n",
                  "\n",
                  "     0     0 4446.21429    0  249   -1.00000 4446.21429      -     -    0s\n",
                  "H    0     0                     676.0000000 4446.21429   558%     -    0s\n",
                  "H    0     0                    1738.0000000 4446.21429   156%     -    0s\n",
                  "H    0     0                    2667.0000000 4427.56925  66.0%     -    0s\n",
                  "     0     0 4427.56925    0  316 2667.00000 4427.56925  66.0%     -    0s\n",
                  "H    0     0                    2728.0000000 4427.56925  62.3%     -    0s\n",
                  "     0     0 4426.25497    0  299 2728.00000 4426.25497  62.3%     -    0s\n",
                  "     0     0 4426.25497    0  299 2728.00000 4426.25497  62.3%     -    0s\n",
                  "H    0     0                    2857.0000000 4426.25497  54.9%     -    0s\n",
                  "     0     0 4396.92339    0  337 2857.00000 4396.92339  53.9%     -    0s\n",
                  "     0     0 4395.66101    0  310 2857.00000 4395.66101  53.9%     -    1s\n",
                  "     0     0 4395.66101    0  300 2857.00000 4395.66101  53.9%     -    1s\n",
                  "     0     0 4394.58068    0  311 2857.00000 4394.58068  53.8%     -    1s\n",
                  "H    0     0                    3437.0000000 4394.58068  27.9%     -    1s\n",
                  "     0     0 4394.45390    0  311 3437.00000 4394.45390  27.9%     -    1s\n",
                  "     0     0 4394.45390    0  300 3437.00000 4394.45390  27.9%     -    1s\n",
                  "     0     0 4381.93621    0  307 3437.00000 4381.93621  27.5%     -    1s\n",
                  "     0     0 4370.38066    0  310 3437.00000 4370.38066  27.2%     -    1s\n",
                  "H    0     0                    3656.0000000 4369.86739  19.5%     -    1s\n",
                  "     0     0 4369.86739    0  278 3656.00000 4369.86739  19.5%     -    1s\n",
                  "     0     0 4369.61321    0  276 3656.00000 4369.61321  19.5%     -    1s\n",
                  "     0     0 4369.55121    0  274 3656.00000 4369.55121  19.5%     -    1s\n",
                  "     0     0 4369.55121    0  275 3656.00000 4369.55121  19.5%     -    1s\n",
                  "     0     0 4351.21923    0  311 3656.00000 4351.21923  19.0%     -    1s\n",
                  "     0     0 4350.93718    0  308 3656.00000 4350.93718  19.0%     -    1s\n",
                  "     0     0 4349.90571    0  295 3656.00000 4349.90571  19.0%     -    1s\n",
                  "     0     0 4349.06748    0  284 3656.00000 4349.06748  19.0%     -    1s\n",
                  "     0     0 4349.06748    0  298 3656.00000 4349.06748  19.0%     -    1s\n",
                  "H    0     0                    3687.0000000 4328.81329  17.4%     -    2s\n",
                  "     0     0 4328.81329    0  332 3687.00000 4328.81329  17.4%     -    2s\n",
                  "H    0     0                    3717.0000000 4327.95185  16.4%     -    2s\n",
                  "     0     0 4327.95185    0  331 3717.00000 4327.95185  16.4%     -    2s\n",
                  "     0     0 4327.95185    0  321 3717.00000 4327.95185  16.4%     -    2s\n",
                  "H    0     0                    3807.0000000 4327.95185  13.7%     -    2s\n",
                  "     0     0 4299.08602    0  322 3807.00000 4299.08602  12.9%     -    2s\n",
                  "     0     0 4297.47122    0  339 3807.00000 4297.47122  12.9%     -    2s\n",
                  "     0     0 4296.67385    0  331 3807.00000 4296.67385  12.9%     -    2s\n",
                  "     0     0 4296.62669    0  320 3807.00000 4296.62669  12.9%     -    2s\n",
                  "     0     0 4261.24263    0  332 3807.00000 4261.24263  11.9%     -    2s\n",
                  "     0     0 4259.22170    0  337 3807.00000 4259.22170  11.9%     -    2s\n",
                  "     0     0 4258.07017    0  304 3807.00000 4258.07017  11.8%     -    2s\n",
                  "     0     0 4257.92132    0  315 3807.00000 4257.92132  11.8%     -    2s\n",
                  "     0     0 4257.92132    0  318 3807.00000 4257.92132  11.8%     -    2s\n",
                  "     0     0 4249.71102    0  358 3807.00000 4249.71102  11.6%     -    2s\n",
                  "     0     0 4248.08667    0  377 3807.00000 4248.08667  11.6%     -    2s\n",
                  "     0     0 4247.76077    0  365 3807.00000 4247.76077  11.6%     -    2s\n",
                  "     0     0 4247.74001    0  365 3807.00000 4247.74001  11.6%     -    2s\n",
                  "     0     0 4238.51053    0  335 3807.00000 4238.51053  11.3%     -    3s\n",
                  "H    0     0                    3837.0000000 4234.99041  10.4%     -    3s\n",
                  "     0     0 4234.99041    0  351 3837.00000 4234.99041  10.4%     -    3s\n",
                  "     0     0 4234.54251    0  347 3837.00000 4234.54251  10.4%     -    3s\n",
                  "     0     0 4233.80277    0  356 3837.00000 4233.80277  10.3%     -    3s\n",
                  "     0     0 4233.76155    0  363 3837.00000 4233.76155  10.3%     -    3s\n",
                  "     0     0 4225.17386    0  408 3837.00000 4225.17386  10.1%     -    3s\n",
                  "     0     0 4222.06809    0  433 3837.00000 4222.06809  10.0%     -    3s\n",
                  "     0     0 4221.96482    0  433 3837.00000 4221.96482  10.0%     -    3s\n",
                  "     0     0 4221.92099    0  418 3837.00000 4221.92099  10.0%     -    3s\n",
                  "     0     0 4219.19260    0  397 3837.00000 4219.19260  10.0%     -    3s\n",
                  "     0     0 4218.34515    0  424 3837.00000 4218.34515  9.94%     -    3s\n",
                  "     0     0 4217.89290    0  414 3837.00000 4217.89290  9.93%     -    3s\n",
                  "     0     0 4217.69158    0  428 3837.00000 4217.69158  9.92%     -    3s\n",
                  "     0     0 4217.68454    0  441 3837.00000 4217.68454  9.92%     -    3s\n",
                  "     0     0 4215.64180    0  360 3837.00000 4215.64180  9.87%     -    3s\n",
                  "     0     0 4215.05519    0  367 3837.00000 4215.05519  9.85%     -    3s\n",
                  "     0     0 4213.66918    0  377 3837.00000 4213.66918  9.82%     -    3s\n",
                  "     0     0 4213.53386    0  369 3837.00000 4213.53386  9.81%     -    3s\n",
                  "     0     0 4213.49719    0  374 3837.00000 4213.49719  9.81%     -    3s\n",
                  "     0     0 4212.67246    0  363 3837.00000 4212.67246  9.79%     -    3s\n",
                  "     0     0 4212.15490    0  408 3837.00000 4212.15490  9.78%     -    3s\n",
                  "     0     0 4212.07511    0  389 3837.00000 4212.07511  9.78%     -    3s\n",
                  "     0     0 4210.99261    0  362 3837.00000 4210.99261  9.75%     -    3s\n",
                  "     0     0 4210.28018    0  333 3837.00000 4210.28018  9.73%     -    3s\n",
                  "     0     0 4209.96731    0  387 3837.00000 4209.96731  9.72%     -    4s\n",
                  "     0     0 4209.94595    0  332 3837.00000 4209.94595  9.72%     -    4s\n",
                  "     0     0 4209.75206    0  332 3837.00000 4209.75206  9.71%     -    4s\n",
                  "     0     0 4209.51553    0  356 3837.00000 4209.51553  9.71%     -    4s\n",
                  "     0     0 4209.45022    0  340 3837.00000 4209.45022  9.71%     -    4s\n",
                  "     0     0 4209.41687    0  351 3837.00000 4209.41687  9.71%     -    4s\n",
                  "     0     0 4209.41687    0  308 3837.00000 4209.41687  9.71%     -    4s\n",
                  "H    0     0                    3887.0000000 4209.41687  8.29%     -    4s\n",
                  "     0     2 4209.41687    0  296 3887.00000 4209.41687  8.29%     -    4s\n",
                  "    25    32 4198.90500    5  302 3887.00000 4206.32845  8.22%   325    5s\n",
                  "H   31    38                    3946.0000000 4206.32845  6.60%   287    5s\n",
                  "H   32    38                    4014.0000000 4206.32845  4.79%   282    5s\n",
                  "H   34    38                    4076.0000000 4206.32845  3.20%   268    5s\n",
                  "H  388   244                    4096.0000000 4204.96144  2.66%   153    8s\n",
                  "H  422   248                    4097.0000000 4204.96144  2.64%   160    8s\n",
                  "H  494   290                    4116.0000000 4204.96144  2.16%   160    9s\n",
                  "   517   292 4133.65889   16  287 4116.00000 4204.96144  2.16%   159   10s\n",
                  "\n",
                  "Cutting planes:\n",
                  "  Learned: 7\n",
                  "  Gomory: 26\n",
                  "  Cover: 809\n",
                  "  Implied bound: 152\n",
                  "  Clique: 209\n",
                  "  MIR: 923\n",
                  "  StrongCG: 311\n",
                  "  GUB cover: 103\n",
                  "  Inf proof: 1\n",
                  "  Zero half: 51\n",
                  "  RLT: 19\n",
                  "  Relax-and-lift: 541\n",
                  "\n",
                  "Explored 2804 nodes (384811 simplex iterations) in 14.45 seconds (23.77 work units)\n",
                  "Thread count was 12 (of 12 available processors)\n",
                  "\n",
                  "Solution count 10: 4116 4097 4096 ... 3717\n",
                  "\n",
                  "Optimal solution found (tolerance 1.00e-04)\n",
                  "Best objective 4.116000000000e+03, best bound 4.116000000000e+03, gap 0.0000%\n"
               ]
            },
            {
               "name": "stderr",
               "output_type": "stream",
               "text": [
                  " 12%|█▎        | 2/16 [00:46<05:03, 21.68s/it]"
               ]
            },
            {
               "name": "stdout",
               "output_type": "stream",
               "text": [
                  "Gurobi Optimizer version 10.0.0 build v10.0.0rc2 (win64)\n",
                  "\n",
                  "CPU model: AMD Ryzen 5 5600H with Radeon Graphics, instruction set [SSE2|AVX|AVX2]\n",
                  "Thread count: 6 physical cores, 12 logical processors, using up to 12 threads\n",
                  "\n",
                  "Optimize a model with 45066 rows, 16733 columns and 117817 nonzeros\n",
                  "Model fingerprint: 0x3c3dd4a6\n",
                  "Model has 151 general constraints\n",
                  "Variable types: 0 continuous, 16733 integer (16590 binary)\n",
                  "Coefficient statistics:\n",
                  "  Matrix range     [1e+00, 7e+01]\n",
                  "  Objective range  [1e+00, 1e+01]\n",
                  "  Bounds range     [1e+00, 2e+01]\n",
                  "  RHS range        [1e+00, 2e+01]\n",
                  "  GenCon rhs range [1e+00, 1e+00]\n",
                  "  GenCon coe range [1e+00, 1e+00]\n",
                  "Presolve removed 41627 rows and 13697 columns\n",
                  "Presolve time: 0.16s\n",
                  "Presolved: 3439 rows, 3036 columns, 17309 nonzeros\n",
                  "Variable types: 0 continuous, 3036 integer (2898 binary)\n",
                  "Found heuristic solution: objective -1.0000000\n",
                  "\n",
                  "Root relaxation: objective 4.446214e+03, 2971 iterations, 0.12 seconds (0.22 work units)\n",
                  "\n",
                  "    Nodes    |    Current Node    |     Objective Bounds      |     Work\n",
                  " Expl Unexpl |  Obj  Depth IntInf | Incumbent    BestBd   Gap | It/Node Time\n",
                  "\n",
                  "     0     0 4446.21429    0  249   -1.00000 4446.21429      -     -    0s\n",
                  "H    0     0                     676.0000000 4446.21429   558%     -    0s\n",
                  "H    0     0                    1738.0000000 4446.21429   156%     -    0s\n",
                  "H    0     0                    2667.0000000 4427.56925  66.0%     -    0s\n",
                  "     0     0 4427.56925    0  316 2667.00000 4427.56925  66.0%     -    0s\n",
                  "H    0     0                    2728.0000000 4427.56925  62.3%     -    0s\n",
                  "     0     0 4426.25497    0  299 2728.00000 4426.25497  62.3%     -    0s\n",
                  "     0     0 4426.25497    0  299 2728.00000 4426.25497  62.3%     -    0s\n",
                  "H    0     0                    2857.0000000 4426.25497  54.9%     -    0s\n",
                  "     0     0 4396.92339    0  337 2857.00000 4396.92339  53.9%     -    0s\n",
                  "     0     0 4395.66101    0  310 2857.00000 4395.66101  53.9%     -    0s\n",
                  "     0     0 4395.66101    0  300 2857.00000 4395.66101  53.9%     -    1s\n",
                  "     0     0 4394.58068    0  311 2857.00000 4394.58068  53.8%     -    1s\n",
                  "H    0     0                    3437.0000000 4394.58068  27.9%     -    1s\n",
                  "     0     0 4394.45390    0  311 3437.00000 4394.45390  27.9%     -    1s\n",
                  "     0     0 4394.45390    0  300 3437.00000 4394.45390  27.9%     -    1s\n",
                  "     0     0 4381.93621    0  307 3437.00000 4381.93621  27.5%     -    1s\n",
                  "     0     0 4370.38066    0  310 3437.00000 4370.38066  27.2%     -    1s\n",
                  "H    0     0                    3656.0000000 4369.86739  19.5%     -    1s\n",
                  "     0     0 4369.86739    0  278 3656.00000 4369.86739  19.5%     -    1s\n",
                  "     0     0 4369.61321    0  276 3656.00000 4369.61321  19.5%     -    1s\n",
                  "     0     0 4369.55121    0  274 3656.00000 4369.55121  19.5%     -    1s\n",
                  "     0     0 4369.55121    0  275 3656.00000 4369.55121  19.5%     -    1s\n",
                  "     0     0 4351.21923    0  311 3656.00000 4351.21923  19.0%     -    1s\n",
                  "     0     0 4350.93718    0  308 3656.00000 4350.93718  19.0%     -    1s\n",
                  "     0     0 4349.90571    0  295 3656.00000 4349.90571  19.0%     -    1s\n",
                  "     0     0 4349.06748    0  284 3656.00000 4349.06748  19.0%     -    1s\n",
                  "     0     0 4349.06748    0  298 3656.00000 4349.06748  19.0%     -    1s\n",
                  "H    0     0                    3687.0000000 4328.81329  17.4%     -    2s\n",
                  "     0     0 4328.81329    0  332 3687.00000 4328.81329  17.4%     -    2s\n",
                  "H    0     0                    3717.0000000 4327.95185  16.4%     -    2s\n",
                  "     0     0 4327.95185    0  331 3717.00000 4327.95185  16.4%     -    2s\n",
                  "     0     0 4327.95185    0  321 3717.00000 4327.95185  16.4%     -    2s\n",
                  "H    0     0                    3807.0000000 4327.95185  13.7%     -    2s\n",
                  "     0     0 4299.08602    0  322 3807.00000 4299.08602  12.9%     -    2s\n",
                  "     0     0 4297.47122    0  339 3807.00000 4297.47122  12.9%     -    2s\n",
                  "     0     0 4296.67385    0  331 3807.00000 4296.67385  12.9%     -    2s\n",
                  "     0     0 4296.62669    0  320 3807.00000 4296.62669  12.9%     -    2s\n",
                  "     0     0 4261.24263    0  332 3807.00000 4261.24263  11.9%     -    2s\n",
                  "     0     0 4259.22170    0  337 3807.00000 4259.22170  11.9%     -    2s\n",
                  "     0     0 4258.07017    0  304 3807.00000 4258.07017  11.8%     -    2s\n",
                  "     0     0 4257.92132    0  315 3807.00000 4257.92132  11.8%     -    2s\n",
                  "     0     0 4257.92132    0  318 3807.00000 4257.92132  11.8%     -    2s\n",
                  "     0     0 4249.71102    0  358 3807.00000 4249.71102  11.6%     -    2s\n",
                  "     0     0 4248.08667    0  377 3807.00000 4248.08667  11.6%     -    2s\n",
                  "     0     0 4247.76077    0  365 3807.00000 4247.76077  11.6%     -    2s\n",
                  "     0     0 4247.74001    0  365 3807.00000 4247.74001  11.6%     -    2s\n",
                  "     0     0 4238.51053    0  335 3807.00000 4238.51053  11.3%     -    3s\n",
                  "H    0     0                    3837.0000000 4234.99041  10.4%     -    3s\n",
                  "     0     0 4234.99041    0  351 3837.00000 4234.99041  10.4%     -    3s\n",
                  "     0     0 4234.54251    0  347 3837.00000 4234.54251  10.4%     -    3s\n",
                  "     0     0 4233.80277    0  356 3837.00000 4233.80277  10.3%     -    3s\n",
                  "     0     0 4233.76155    0  363 3837.00000 4233.76155  10.3%     -    3s\n",
                  "     0     0 4225.17386    0  408 3837.00000 4225.17386  10.1%     -    3s\n",
                  "     0     0 4222.06809    0  433 3837.00000 4222.06809  10.0%     -    3s\n",
                  "     0     0 4221.96482    0  433 3837.00000 4221.96482  10.0%     -    3s\n",
                  "     0     0 4221.92099    0  418 3837.00000 4221.92099  10.0%     -    3s\n",
                  "     0     0 4219.19260    0  397 3837.00000 4219.19260  10.0%     -    3s\n",
                  "     0     0 4218.34515    0  424 3837.00000 4218.34515  9.94%     -    3s\n",
                  "     0     0 4217.89290    0  414 3837.00000 4217.89290  9.93%     -    3s\n",
                  "     0     0 4217.69158    0  428 3837.00000 4217.69158  9.92%     -    3s\n",
                  "     0     0 4217.68454    0  441 3837.00000 4217.68454  9.92%     -    3s\n",
                  "     0     0 4215.64180    0  360 3837.00000 4215.64180  9.87%     -    3s\n",
                  "     0     0 4215.05519    0  367 3837.00000 4215.05519  9.85%     -    3s\n",
                  "     0     0 4213.66918    0  377 3837.00000 4213.66918  9.82%     -    3s\n",
                  "     0     0 4213.53386    0  369 3837.00000 4213.53386  9.81%     -    3s\n",
                  "     0     0 4213.49719    0  374 3837.00000 4213.49719  9.81%     -    3s\n",
                  "     0     0 4212.67246    0  363 3837.00000 4212.67246  9.79%     -    3s\n",
                  "     0     0 4212.15490    0  408 3837.00000 4212.15490  9.78%     -    3s\n",
                  "     0     0 4212.07511    0  389 3837.00000 4212.07511  9.78%     -    3s\n",
                  "     0     0 4210.99261    0  362 3837.00000 4210.99261  9.75%     -    4s\n",
                  "     0     0 4210.28018    0  333 3837.00000 4210.28018  9.73%     -    4s\n",
                  "     0     0 4209.96731    0  387 3837.00000 4209.96731  9.72%     -    4s\n",
                  "     0     0 4209.94595    0  332 3837.00000 4209.94595  9.72%     -    4s\n",
                  "     0     0 4209.75206    0  332 3837.00000 4209.75206  9.71%     -    4s\n",
                  "     0     0 4209.51553    0  356 3837.00000 4209.51553  9.71%     -    4s\n",
                  "     0     0 4209.45022    0  340 3837.00000 4209.45022  9.71%     -    4s\n",
                  "     0     0 4209.41687    0  351 3837.00000 4209.41687  9.71%     -    4s\n",
                  "     0     0 4209.41687    0  308 3837.00000 4209.41687  9.71%     -    4s\n",
                  "H    0     0                    3887.0000000 4209.41687  8.29%     -    4s\n",
                  "     0     2 4209.41687    0  296 3887.00000 4209.41687  8.29%     -    4s\n",
                  "     7    14 4206.40631    3  306 3887.00000 4206.40631  8.22%   382    5s\n",
                  "H   31    38                    3946.0000000 4206.32845  6.60%   287    5s\n",
                  "H   32    38                    4014.0000000 4206.32845  4.79%   282    5s\n",
                  "H   34    38                    4076.0000000 4206.32845  3.20%   268    5s\n",
                  "H  388   244                    4096.0000000 4204.96144  2.66%   153    8s\n",
                  "H  422   248                    4097.0000000 4204.96144  2.64%   160    8s\n",
                  "H  508   292                    4116.0000000 4204.96144  2.16%   160    9s\n",
                  "   544   302     cutoff   19      4116.00000 4204.96144  2.16%   160   10s\n",
                  "\n",
                  "Cutting planes:\n",
                  "  Learned: 7\n",
                  "  Gomory: 30\n",
                  "  Cover: 782\n",
                  "  Implied bound: 148\n",
                  "  Clique: 188\n",
                  "  MIR: 936\n",
                  "  StrongCG: 315\n",
                  "  GUB cover: 105\n",
                  "  Inf proof: 1\n",
                  "  Zero half: 48\n",
                  "  RLT: 19\n",
                  "  Relax-and-lift: 537\n",
                  "\n",
                  "Explored 2786 nodes (363402 simplex iterations) in 14.13 seconds (22.49 work units)\n",
                  "Thread count was 12 (of 12 available processors)\n",
                  "\n",
                  "Solution count 10: 4116 4097 4096 ... 3717\n",
                  "\n",
                  "Optimal solution found (tolerance 1.00e-04)\n",
                  "Best objective 4.116000000000e+03, best bound 4.116000000000e+03, gap 0.0000%\n"
               ]
            },
            {
               "name": "stderr",
               "output_type": "stream",
               "text": [
                  " 19%|█▉        | 3/16 [01:00<04:01, 18.58s/it]"
               ]
            },
            {
               "name": "stdout",
               "output_type": "stream",
               "text": [
                  "Gurobi Optimizer version 10.0.0 build v10.0.0rc2 (win64)\n",
                  "\n",
                  "CPU model: AMD Ryzen 5 5600H with Radeon Graphics, instruction set [SSE2|AVX|AVX2]\n",
                  "Thread count: 6 physical cores, 12 logical processors, using up to 12 threads\n",
                  "\n",
                  "Optimize a model with 45066 rows, 16733 columns and 117817 nonzeros\n",
                  "Model fingerprint: 0x792747ee\n",
                  "Model has 151 general constraints\n",
                  "Variable types: 0 continuous, 16733 integer (16590 binary)\n",
                  "Coefficient statistics:\n",
                  "  Matrix range     [1e+00, 7e+01]\n",
                  "  Objective range  [1e+00, 1e+01]\n",
                  "  Bounds range     [1e+00, 2e+01]\n",
                  "  RHS range        [1e+00, 2e+01]\n",
                  "  GenCon rhs range [1e+00, 1e+00]\n",
                  "  GenCon coe range [1e+00, 1e+00]\n",
                  "Presolve removed 41627 rows and 13697 columns\n",
                  "Presolve time: 0.15s\n",
                  "Presolved: 3439 rows, 3036 columns, 17309 nonzeros\n",
                  "Variable types: 0 continuous, 3036 integer (2898 binary)\n",
                  "Found heuristic solution: objective -1.0000000\n",
                  "\n",
                  "Root relaxation: objective 4.446214e+03, 2971 iterations, 0.12 seconds (0.22 work units)\n",
                  "\n",
                  "    Nodes    |    Current Node    |     Objective Bounds      |     Work\n",
                  " Expl Unexpl |  Obj  Depth IntInf | Incumbent    BestBd   Gap | It/Node Time\n",
                  "\n",
                  "     0     0 4446.21429    0  249   -1.00000 4446.21429      -     -    0s\n",
                  "H    0     0                     676.0000000 4446.21429   558%     -    0s\n",
                  "H    0     0                    1738.0000000 4446.21429   156%     -    0s\n",
                  "H    0     0                    2667.0000000 4427.56925  66.0%     -    0s\n",
                  "     0     0 4427.56925    0  316 2667.00000 4427.56925  66.0%     -    0s\n",
                  "H    0     0                    2728.0000000 4427.56925  62.3%     -    0s\n",
                  "     0     0 4426.25497    0  299 2728.00000 4426.25497  62.3%     -    0s\n",
                  "     0     0 4426.25497    0  299 2728.00000 4426.25497  62.3%     -    0s\n",
                  "H    0     0                    2857.0000000 4426.25497  54.9%     -    0s\n",
                  "     0     0 4396.92339    0  337 2857.00000 4396.92339  53.9%     -    0s\n",
                  "     0     0 4395.66101    0  310 2857.00000 4395.66101  53.9%     -    0s\n",
                  "     0     0 4395.66101    0  300 2857.00000 4395.66101  53.9%     -    0s\n",
                  "     0     0 4394.58068    0  311 2857.00000 4394.58068  53.8%     -    1s\n",
                  "H    0     0                    3437.0000000 4394.58068  27.9%     -    1s\n",
                  "     0     0 4394.45390    0  311 3437.00000 4394.45390  27.9%     -    1s\n",
                  "     0     0 4394.45390    0  300 3437.00000 4394.45390  27.9%     -    1s\n",
                  "     0     0 4381.93621    0  307 3437.00000 4381.93621  27.5%     -    1s\n",
                  "     0     0 4370.38066    0  310 3437.00000 4370.38066  27.2%     -    1s\n",
                  "H    0     0                    3656.0000000 4369.86739  19.5%     -    1s\n",
                  "     0     0 4369.86739    0  278 3656.00000 4369.86739  19.5%     -    1s\n",
                  "     0     0 4369.61321    0  276 3656.00000 4369.61321  19.5%     -    1s\n",
                  "     0     0 4369.55121    0  274 3656.00000 4369.55121  19.5%     -    1s\n",
                  "     0     0 4369.55121    0  275 3656.00000 4369.55121  19.5%     -    1s\n",
                  "     0     0 4350.79765    0  310 3656.00000 4350.79765  19.0%     -    1s\n",
                  "     0     0 4350.59110    0  301 3656.00000 4350.59110  19.0%     -    1s\n",
                  "     0     0 4348.64267    0  286 3656.00000 4348.64267  18.9%     -    1s\n",
                  "     0     0 4348.64267    0  279 3656.00000 4348.64267  18.9%     -    1s\n",
                  "H    0     0                    3687.0000000 4328.54116  17.4%     -    1s\n",
                  "     0     0 4328.54116    0  322 3687.00000 4328.54116  17.4%     -    1s\n",
                  "H    0     0                    3717.0000000 4327.82543  16.4%     -    2s\n",
                  "     0     0 4327.82543    0  333 3717.00000 4327.82543  16.4%     -    2s\n",
                  "H    0     0                    3807.0000000 4327.82543  13.7%     -    2s\n",
                  "     0     0 4327.82543    0  322 3807.00000 4327.82543  13.7%     -    2s\n",
                  "     0     0 4288.56234    0  349 3807.00000 4288.56234  12.6%     -    2s\n",
                  "H    0     0                    3837.0000000 4288.56234  11.8%     -    2s\n",
                  "     0     0 4288.23469    0  301 3837.00000 4288.23469  11.8%     -    2s\n",
                  "     0     0 4287.45270    0  304 3837.00000 4287.45270  11.7%     -    2s\n",
                  "     0     0 4287.40538    0  312 3837.00000 4287.40538  11.7%     -    2s\n",
                  "     0     0 4267.00422    0  326 3837.00000 4267.00422  11.2%     -    2s\n",
                  "     0     0 4258.57827    0  330 3837.00000 4258.57827  11.0%     -    2s\n",
                  "     0     0 4257.88385    0  339 3837.00000 4257.88385  11.0%     -    2s\n",
                  "     0     0 4257.87521    0  338 3837.00000 4257.87521  11.0%     -    2s\n",
                  "     0     0 4249.40173    0  346 3837.00000 4249.40173  10.7%     -    2s\n",
                  "     0     0 4248.44091    0  368 3837.00000 4248.44091  10.7%     -    2s\n",
                  "     0     0 4248.37000    0  354 3837.00000 4248.37000  10.7%     -    2s\n",
                  "     0     0 4237.51744    0  370 3837.00000 4237.51744  10.4%     -    2s\n",
                  "     0     0 4233.41749    0  381 3837.00000 4233.41749  10.3%     -    2s\n",
                  "     0     0 4232.98074    0  389 3837.00000 4232.98074  10.3%     -    2s\n",
                  "     0     0 4232.96801    0  406 3837.00000 4232.96801  10.3%     -    2s\n",
                  "     0     0 4227.32620    0  413 3837.00000 4227.32620  10.2%     -    3s\n",
                  "     0     0 4225.47112    0  339 3837.00000 4225.47112  10.1%     -    3s\n",
                  "     0     0 4224.09557    0  358 3837.00000 4224.09557  10.1%     -    3s\n",
                  "     0     0 4223.48056    0  370 3837.00000 4223.48056  10.1%     -    3s\n",
                  "     0     0 4223.44748    0  410 3837.00000 4223.44748  10.1%     -    3s\n",
                  "     0     0 4221.73423    0  365 3837.00000 4221.73423  10.0%     -    3s\n",
                  "     0     0 4221.12424    0  360 3837.00000 4221.12424  10.0%     -    3s\n",
                  "     0     0 4220.89348    0  362 3837.00000 4220.89348  10.0%     -    3s\n",
                  "     0     0 4220.70738    0  370 3837.00000 4220.70738  10.0%     -    3s\n",
                  "     0     0 4220.68033    0  358 3837.00000 4220.68033  10.0%     -    3s\n",
                  "     0     0 4218.76369    0  357 3837.00000 4218.76369  9.95%     -    3s\n",
                  "     0     0 4218.53180    0  398 3837.00000 4218.53180  9.94%     -    3s\n",
                  "     0     0 4218.40393    0  401 3837.00000 4218.40393  9.94%     -    3s\n",
                  "     0     0 4218.22169    0  406 3837.00000 4218.22169  9.94%     -    3s\n",
                  "     0     0 4218.20640    0  403 3837.00000 4218.20640  9.94%     -    3s\n",
                  "     0     0 4217.45342    0  356 3837.00000 4217.45342  9.92%     -    3s\n",
                  "     0     0 4217.23365    0  373 3837.00000 4217.23365  9.91%     -    3s\n",
                  "     0     0 4217.20504    0  410 3837.00000 4217.20504  9.91%     -    3s\n",
                  "     0     0 4216.68615    0  371 3837.00000 4216.68615  9.90%     -    3s\n",
                  "     0     0 4216.68615    0  342 3837.00000 4216.68615  9.90%     -    3s\n",
                  "     0     2 4216.68615    0  339 3837.00000 4216.68615  9.90%     -    4s\n",
                  "H   64    71                    4036.0000000 4206.28179  4.22%   260    5s\n",
                  "H  105    87                    4066.0000000 4206.28179  3.45%   209    5s\n",
                  "H  107    87                    4096.0000000 4206.28179  2.69%   212    5s\n",
                  "  1632   496     cutoff   12      4096.00000 4153.06982  1.39%   149   10s\n",
                  "* 1967   344              55    4116.0000000 4144.86156  0.70%   142   10s\n",
                  "\n",
                  "Cutting planes:\n",
                  "  Learned: 7\n",
                  "  Gomory: 27\n",
                  "  Cover: 663\n",
                  "  Implied bound: 148\n",
                  "  Clique: 140\n",
                  "  MIR: 970\n",
                  "  StrongCG: 258\n",
                  "  GUB cover: 107\n",
                  "  Inf proof: 7\n",
                  "  Zero half: 41\n",
                  "  RLT: 19\n",
                  "  Relax-and-lift: 494\n",
                  "\n",
                  "Explored 3629 nodes (425595 simplex iterations) in 12.04 seconds (19.40 work units)\n",
                  "Thread count was 12 (of 12 available processors)\n",
                  "\n",
                  "Solution count 10: 4116 4096 4066 ... 3437\n",
                  "\n",
                  "Optimal solution found (tolerance 1.00e-04)\n",
                  "Best objective 4.116000000000e+03, best bound 4.116000000000e+03, gap 0.0000%\n"
               ]
            },
            {
               "name": "stderr",
               "output_type": "stream",
               "text": [
                  " 25%|██▌       | 4/16 [01:13<03:15, 16.33s/it]"
               ]
            },
            {
               "name": "stdout",
               "output_type": "stream",
               "text": [
                  "Gurobi Optimizer version 10.0.0 build v10.0.0rc2 (win64)\n",
                  "\n",
                  "CPU model: AMD Ryzen 5 5600H with Radeon Graphics, instruction set [SSE2|AVX|AVX2]\n",
                  "Thread count: 6 physical cores, 12 logical processors, using up to 12 threads\n",
                  "\n",
                  "Optimize a model with 45066 rows, 16733 columns and 117817 nonzeros\n",
                  "Model fingerprint: 0x503e9949\n",
                  "Model has 151 general constraints\n",
                  "Variable types: 0 continuous, 16733 integer (16590 binary)\n",
                  "Coefficient statistics:\n",
                  "  Matrix range     [1e+00, 7e+01]\n",
                  "  Objective range  [1e+00, 1e+01]\n",
                  "  Bounds range     [1e+00, 2e+01]\n",
                  "  RHS range        [1e+00, 2e+01]\n",
                  "  GenCon rhs range [1e+00, 1e+00]\n",
                  "  GenCon coe range [1e+00, 1e+00]\n",
                  "Presolve removed 41627 rows and 13697 columns\n",
                  "Presolve time: 0.18s\n",
                  "Presolved: 3439 rows, 3036 columns, 17309 nonzeros\n",
                  "Variable types: 0 continuous, 3036 integer (2898 binary)\n",
                  "Found heuristic solution: objective -1.0000000\n",
                  "\n",
                  "Root relaxation: objective 4.446214e+03, 2971 iterations, 0.12 seconds (0.22 work units)\n",
                  "\n",
                  "    Nodes    |    Current Node    |     Objective Bounds      |     Work\n",
                  " Expl Unexpl |  Obj  Depth IntInf | Incumbent    BestBd   Gap | It/Node Time\n",
                  "\n",
                  "     0     0 4446.21429    0  249   -1.00000 4446.21429      -     -    0s\n",
                  "H    0     0                     676.0000000 4446.21429   558%     -    0s\n",
                  "H    0     0                    1738.0000000 4446.21429   156%     -    0s\n",
                  "H    0     0                    2667.0000000 4427.56925  66.0%     -    0s\n",
                  "     0     0 4427.56925    0  316 2667.00000 4427.56925  66.0%     -    0s\n",
                  "H    0     0                    2728.0000000 4427.56925  62.3%     -    0s\n",
                  "     0     0 4426.25497    0  299 2728.00000 4426.25497  62.3%     -    0s\n",
                  "     0     0 4426.25497    0  299 2728.00000 4426.25497  62.3%     -    0s\n",
                  "H    0     0                    2857.0000000 4426.25497  54.9%     -    0s\n",
                  "     0     0 4396.92339    0  337 2857.00000 4396.92339  53.9%     -    0s\n",
                  "     0     0 4395.66101    0  310 2857.00000 4395.66101  53.9%     -    1s\n",
                  "     0     0 4395.66101    0  300 2857.00000 4395.66101  53.9%     -    1s\n",
                  "     0     0 4394.58068    0  311 2857.00000 4394.58068  53.8%     -    1s\n",
                  "H    0     0                    3437.0000000 4394.58068  27.9%     -    1s\n",
                  "     0     0 4394.45390    0  311 3437.00000 4394.45390  27.9%     -    1s\n",
                  "     0     0 4394.45390    0  300 3437.00000 4394.45390  27.9%     -    1s\n",
                  "     0     0 4381.93621    0  307 3437.00000 4381.93621  27.5%     -    1s\n",
                  "     0     0 4370.38066    0  310 3437.00000 4370.38066  27.2%     -    1s\n",
                  "H    0     0                    3656.0000000 4369.86739  19.5%     -    1s\n",
                  "     0     0 4369.86739    0  278 3656.00000 4369.86739  19.5%     -    1s\n",
                  "     0     0 4369.61321    0  276 3656.00000 4369.61321  19.5%     -    1s\n",
                  "     0     0 4369.55121    0  274 3656.00000 4369.55121  19.5%     -    1s\n",
                  "     0     0 4369.55121    0  275 3656.00000 4369.55121  19.5%     -    1s\n",
                  "     0     0 4350.79765    0  310 3656.00000 4350.79765  19.0%     -    1s\n",
                  "     0     0 4350.59110    0  301 3656.00000 4350.59110  19.0%     -    1s\n",
                  "     0     0 4348.64267    0  286 3656.00000 4348.64267  18.9%     -    1s\n",
                  "     0     0 4348.64267    0  279 3656.00000 4348.64267  18.9%     -    1s\n",
                  "H    0     0                    3687.0000000 4328.54116  17.4%     -    2s\n",
                  "     0     0 4328.54116    0  322 3687.00000 4328.54116  17.4%     -    2s\n",
                  "H    0     0                    3717.0000000 4327.82543  16.4%     -    2s\n",
                  "     0     0 4327.82543    0  333 3717.00000 4327.82543  16.4%     -    2s\n",
                  "H    0     0                    3807.0000000 4327.82543  13.7%     -    2s\n",
                  "     0     0 4327.82543    0  322 3807.00000 4327.82543  13.7%     -    2s\n",
                  "     0     0 4288.56234    0  349 3807.00000 4288.56234  12.6%     -    2s\n",
                  "H    0     0                    3837.0000000 4288.56234  11.8%     -    2s\n",
                  "     0     0 4288.23469    0  301 3837.00000 4288.23469  11.8%     -    2s\n",
                  "     0     0 4287.45270    0  304 3837.00000 4287.45270  11.7%     -    2s\n",
                  "     0     0 4287.40538    0  312 3837.00000 4287.40538  11.7%     -    2s\n",
                  "     0     0 4267.00422    0  326 3837.00000 4267.00422  11.2%     -    2s\n",
                  "     0     0 4258.57827    0  330 3837.00000 4258.57827  11.0%     -    2s\n",
                  "     0     0 4257.88385    0  339 3837.00000 4257.88385  11.0%     -    2s\n",
                  "     0     0 4257.87521    0  338 3837.00000 4257.87521  11.0%     -    2s\n",
                  "     0     0 4249.40173    0  346 3837.00000 4249.40173  10.7%     -    2s\n",
                  "     0     0 4248.44091    0  368 3837.00000 4248.44091  10.7%     -    2s\n",
                  "     0     0 4248.37000    0  354 3837.00000 4248.37000  10.7%     -    2s\n",
                  "     0     0 4237.51744    0  370 3837.00000 4237.51744  10.4%     -    2s\n",
                  "     0     0 4233.41749    0  381 3837.00000 4233.41749  10.3%     -    2s\n",
                  "     0     0 4232.98074    0  389 3837.00000 4232.98074  10.3%     -    3s\n",
                  "     0     0 4232.96801    0  406 3837.00000 4232.96801  10.3%     -    3s\n",
                  "     0     0 4227.32620    0  413 3837.00000 4227.32620  10.2%     -    3s\n",
                  "     0     0 4225.47112    0  339 3837.00000 4225.47112  10.1%     -    3s\n",
                  "     0     0 4224.09557    0  358 3837.00000 4224.09557  10.1%     -    3s\n",
                  "     0     0 4223.48056    0  370 3837.00000 4223.48056  10.1%     -    3s\n",
                  "     0     0 4223.44748    0  410 3837.00000 4223.44748  10.1%     -    3s\n",
                  "     0     0 4221.73423    0  365 3837.00000 4221.73423  10.0%     -    3s\n",
                  "     0     0 4221.12424    0  360 3837.00000 4221.12424  10.0%     -    3s\n",
                  "     0     0 4220.89348    0  362 3837.00000 4220.89348  10.0%     -    3s\n",
                  "     0     0 4220.70738    0  370 3837.00000 4220.70738  10.0%     -    3s\n",
                  "     0     0 4220.68033    0  358 3837.00000 4220.68033  10.0%     -    3s\n",
                  "     0     0 4218.76369    0  357 3837.00000 4218.76369  9.95%     -    3s\n",
                  "     0     0 4218.53180    0  398 3837.00000 4218.53180  9.94%     -    3s\n",
                  "     0     0 4218.40393    0  401 3837.00000 4218.40393  9.94%     -    3s\n",
                  "     0     0 4218.22169    0  406 3837.00000 4218.22169  9.94%     -    3s\n",
                  "     0     0 4218.20640    0  403 3837.00000 4218.20640  9.94%     -    3s\n",
                  "     0     0 4217.45342    0  356 3837.00000 4217.45342  9.92%     -    3s\n",
                  "     0     0 4217.23365    0  373 3837.00000 4217.23365  9.91%     -    3s\n",
                  "     0     0 4217.20504    0  410 3837.00000 4217.20504  9.91%     -    3s\n",
                  "     0     0 4216.68615    0  371 3837.00000 4216.68615  9.90%     -    3s\n",
                  "     0     0 4216.68615    0  342 3837.00000 4216.68615  9.90%     -    4s\n",
                  "     0     2 4216.68615    0  339 3837.00000 4216.68615  9.90%     -    4s\n",
                  "H   64    71                    4036.0000000 4206.28179  4.22%   260    5s\n",
                  "H  105    87                    4066.0000000 4206.28179  3.45%   209    5s\n",
                  "H  107    87                    4096.0000000 4206.28179  2.69%   212    5s\n",
                  "  1790   595 4100.00000   12  176 4096.00000 4154.99232  1.44%   138   10s\n",
                  "H 3144   349                    4116.0000000 4126.35000  0.25%   122   12s\n",
                  "\n",
                  "Cutting planes:\n",
                  "  Learned: 7\n",
                  "  Gomory: 31\n",
                  "  Cover: 726\n",
                  "  Implied bound: 146\n",
                  "  Clique: 148\n",
                  "  MIR: 998\n",
                  "  StrongCG: 260\n",
                  "  GUB cover: 117\n",
                  "  Inf proof: 2\n",
                  "  Zero half: 43\n",
                  "  RLT: 20\n",
                  "  Relax-and-lift: 507\n",
                  "\n",
                  "Explored 4321 nodes (459414 simplex iterations) in 14.53 seconds (23.48 work units)\n",
                  "Thread count was 12 (of 12 available processors)\n",
                  "\n",
                  "Solution count 10: 4116 4096 4066 ... 3437\n",
                  "\n",
                  "Optimal solution found (tolerance 1.00e-04)\n",
                  "Best objective 4.116000000000e+03, best bound 4.116000000000e+03, gap 0.0000%\n"
               ]
            },
            {
               "name": "stderr",
               "output_type": "stream",
               "text": [
                  " 31%|███▏      | 5/16 [01:29<02:55, 15.95s/it]"
               ]
            },
            {
               "name": "stdout",
               "output_type": "stream",
               "text": [
                  "Gurobi Optimizer version 10.0.0 build v10.0.0rc2 (win64)\n",
                  "\n",
                  "CPU model: AMD Ryzen 5 5600H with Radeon Graphics, instruction set [SSE2|AVX|AVX2]\n",
                  "Thread count: 6 physical cores, 12 logical processors, using up to 12 threads\n",
                  "\n",
                  "Optimize a model with 45066 rows, 16733 columns and 117817 nonzeros\n",
                  "Model fingerprint: 0x8dcae56c\n",
                  "Model has 151 general constraints\n",
                  "Variable types: 0 continuous, 16733 integer (16590 binary)\n",
                  "Coefficient statistics:\n",
                  "  Matrix range     [1e+00, 7e+01]\n",
                  "  Objective range  [1e+00, 1e+01]\n",
                  "  Bounds range     [1e+00, 2e+01]\n",
                  "  RHS range        [1e+00, 2e+01]\n",
                  "  GenCon rhs range [1e+00, 1e+00]\n",
                  "  GenCon coe range [1e+00, 1e+00]\n",
                  "Presolve removed 41627 rows and 13697 columns\n",
                  "Presolve time: 0.17s\n",
                  "Presolved: 3439 rows, 3036 columns, 17309 nonzeros\n",
                  "Variable types: 0 continuous, 3036 integer (2898 binary)\n",
                  "Found heuristic solution: objective -1.0000000\n",
                  "\n",
                  "Root relaxation: objective 4.446214e+03, 2971 iterations, 0.12 seconds (0.22 work units)\n",
                  "\n",
                  "    Nodes    |    Current Node    |     Objective Bounds      |     Work\n",
                  " Expl Unexpl |  Obj  Depth IntInf | Incumbent    BestBd   Gap | It/Node Time\n",
                  "\n",
                  "     0     0 4446.21429    0  249   -1.00000 4446.21429      -     -    0s\n",
                  "H    0     0                     676.0000000 4446.21429   558%     -    0s\n",
                  "H    0     0                    1738.0000000 4446.21429   156%     -    0s\n",
                  "H    0     0                    2667.0000000 4427.56925  66.0%     -    0s\n",
                  "     0     0 4427.56925    0  316 2667.00000 4427.56925  66.0%     -    0s\n",
                  "H    0     0                    2728.0000000 4427.56925  62.3%     -    0s\n",
                  "     0     0 4426.25497    0  299 2728.00000 4426.25497  62.3%     -    0s\n",
                  "     0     0 4426.25497    0  299 2728.00000 4426.25497  62.3%     -    0s\n",
                  "H    0     0                    2857.0000000 4426.25497  54.9%     -    0s\n",
                  "     0     0 4396.92339    0  337 2857.00000 4396.92339  53.9%     -    0s\n",
                  "     0     0 4395.66101    0  310 2857.00000 4395.66101  53.9%     -    1s\n",
                  "     0     0 4395.66101    0  300 2857.00000 4395.66101  53.9%     -    1s\n",
                  "     0     0 4394.58068    0  311 2857.00000 4394.58068  53.8%     -    1s\n",
                  "H    0     0                    3437.0000000 4394.58068  27.9%     -    1s\n",
                  "     0     0 4394.45390    0  311 3437.00000 4394.45390  27.9%     -    1s\n",
                  "     0     0 4394.45390    0  300 3437.00000 4394.45390  27.9%     -    1s\n",
                  "     0     0 4381.93621    0  307 3437.00000 4381.93621  27.5%     -    1s\n",
                  "     0     0 4370.38066    0  310 3437.00000 4370.38066  27.2%     -    1s\n",
                  "H    0     0                    3656.0000000 4369.86739  19.5%     -    1s\n",
                  "     0     0 4369.86739    0  278 3656.00000 4369.86739  19.5%     -    1s\n",
                  "     0     0 4369.61321    0  276 3656.00000 4369.61321  19.5%     -    1s\n",
                  "     0     0 4369.55121    0  274 3656.00000 4369.55121  19.5%     -    1s\n",
                  "     0     0 4369.55121    0  275 3656.00000 4369.55121  19.5%     -    1s\n",
                  "     0     0 4350.79765    0  310 3656.00000 4350.79765  19.0%     -    1s\n",
                  "     0     0 4350.59110    0  301 3656.00000 4350.59110  19.0%     -    1s\n",
                  "     0     0 4348.64267    0  286 3656.00000 4348.64267  18.9%     -    1s\n",
                  "     0     0 4348.64267    0  279 3656.00000 4348.64267  18.9%     -    1s\n",
                  "H    0     0                    3687.0000000 4328.54116  17.4%     -    1s\n",
                  "     0     0 4328.54116    0  322 3687.00000 4328.54116  17.4%     -    1s\n",
                  "H    0     0                    3717.0000000 4327.82543  16.4%     -    2s\n",
                  "     0     0 4327.82543    0  333 3717.00000 4327.82543  16.4%     -    2s\n",
                  "H    0     0                    3807.0000000 4327.82543  13.7%     -    2s\n",
                  "     0     0 4327.82543    0  322 3807.00000 4327.82543  13.7%     -    2s\n",
                  "     0     0 4288.56234    0  349 3807.00000 4288.56234  12.6%     -    2s\n",
                  "H    0     0                    3837.0000000 4288.56234  11.8%     -    2s\n",
                  "     0     0 4288.23469    0  301 3837.00000 4288.23469  11.8%     -    2s\n",
                  "     0     0 4287.45270    0  304 3837.00000 4287.45270  11.7%     -    2s\n",
                  "     0     0 4287.40538    0  312 3837.00000 4287.40538  11.7%     -    2s\n",
                  "     0     0 4267.00422    0  326 3837.00000 4267.00422  11.2%     -    2s\n",
                  "     0     0 4258.57827    0  330 3837.00000 4258.57827  11.0%     -    2s\n",
                  "     0     0 4257.88385    0  339 3837.00000 4257.88385  11.0%     -    2s\n",
                  "     0     0 4257.87521    0  338 3837.00000 4257.87521  11.0%     -    2s\n",
                  "     0     0 4249.40173    0  346 3837.00000 4249.40173  10.7%     -    2s\n",
                  "     0     0 4248.44091    0  368 3837.00000 4248.44091  10.7%     -    2s\n",
                  "     0     0 4248.37000    0  354 3837.00000 4248.37000  10.7%     -    2s\n",
                  "     0     0 4237.51744    0  370 3837.00000 4237.51744  10.4%     -    2s\n",
                  "     0     0 4233.41749    0  381 3837.00000 4233.41749  10.3%     -    2s\n",
                  "     0     0 4232.98074    0  389 3837.00000 4232.98074  10.3%     -    2s\n",
                  "     0     0 4232.96801    0  406 3837.00000 4232.96801  10.3%     -    2s\n",
                  "     0     0 4227.32620    0  413 3837.00000 4227.32620  10.2%     -    3s\n",
                  "     0     0 4225.47112    0  339 3837.00000 4225.47112  10.1%     -    3s\n",
                  "     0     0 4224.09557    0  358 3837.00000 4224.09557  10.1%     -    3s\n",
                  "     0     0 4223.48056    0  370 3837.00000 4223.48056  10.1%     -    3s\n",
                  "     0     0 4223.44748    0  410 3837.00000 4223.44748  10.1%     -    3s\n",
                  "     0     0 4221.73423    0  365 3837.00000 4221.73423  10.0%     -    3s\n",
                  "     0     0 4221.12424    0  360 3837.00000 4221.12424  10.0%     -    3s\n",
                  "     0     0 4220.89348    0  362 3837.00000 4220.89348  10.0%     -    3s\n",
                  "     0     0 4220.70738    0  370 3837.00000 4220.70738  10.0%     -    3s\n",
                  "     0     0 4220.68033    0  358 3837.00000 4220.68033  10.0%     -    3s\n",
                  "     0     0 4218.76369    0  357 3837.00000 4218.76369  9.95%     -    3s\n",
                  "     0     0 4218.53180    0  398 3837.00000 4218.53180  9.94%     -    3s\n",
                  "     0     0 4218.40393    0  401 3837.00000 4218.40393  9.94%     -    3s\n",
                  "     0     0 4218.22169    0  406 3837.00000 4218.22169  9.94%     -    3s\n",
                  "     0     0 4218.20640    0  403 3837.00000 4218.20640  9.94%     -    3s\n",
                  "     0     0 4217.45342    0  356 3837.00000 4217.45342  9.92%     -    3s\n",
                  "     0     0 4217.23365    0  373 3837.00000 4217.23365  9.91%     -    3s\n",
                  "     0     0 4217.20504    0  410 3837.00000 4217.20504  9.91%     -    3s\n",
                  "     0     0 4216.68615    0  371 3837.00000 4216.68615  9.90%     -    3s\n",
                  "     0     0 4216.68615    0  342 3837.00000 4216.68615  9.90%     -    3s\n",
                  "     0     2 4216.68615    0  339 3837.00000 4216.68615  9.90%     -    4s\n",
                  "H   64    71                    4036.0000000 4206.28179  4.22%   260    5s\n",
                  "H  105    87                    4066.0000000 4206.28179  3.45%   209    5s\n",
                  "H  107    87                    4096.0000000 4206.28179  2.69%   212    5s\n",
                  "  1588   580 4127.74603   10  181 4096.00000 4161.66725  1.60%   142   10s\n",
                  "* 3499   574              89    4114.0000000 4120.11524  0.15%   117   13s\n",
                  "* 3660   574              57    4116.0000000 4119.97450  0.10%   114   13s\n",
                  "  5419   248 infeasible   31      4116.00000 4117.00000  0.02%   102   15s\n"
               ]
            },
            {
               "ename": "KeyboardInterrupt",
               "evalue": "",
               "output_type": "error",
               "traceback": [
                  "\u001b[1;31m---------------------------------------------------------------------------\u001b[0m",
                  "\u001b[1;31mKeyboardInterrupt\u001b[0m                         Traceback (most recent call last)",
                  "File \u001b[1;32m~\\AppData\\Roaming\\Python\\Python39\\site-packages\\ipykernel\\iostream.py:518\u001b[0m, in \u001b[0;36mOutStream.write\u001b[1;34m(self, string)\u001b[0m\n\u001b[0;32m    509\u001b[0m         content \u001b[39m=\u001b[39m {\u001b[39m\"\u001b[39m\u001b[39mname\u001b[39m\u001b[39m\"\u001b[39m: \u001b[39mself\u001b[39m\u001b[39m.\u001b[39mname, \u001b[39m\"\u001b[39m\u001b[39mtext\u001b[39m\u001b[39m\"\u001b[39m: data}\n\u001b[0;32m    510\u001b[0m         \u001b[39mself\u001b[39m\u001b[39m.\u001b[39msession\u001b[39m.\u001b[39msend(\n\u001b[0;32m    511\u001b[0m             \u001b[39mself\u001b[39m\u001b[39m.\u001b[39mpub_thread,\n\u001b[0;32m    512\u001b[0m             \u001b[39m\"\u001b[39m\u001b[39mstream\u001b[39m\u001b[39m\"\u001b[39m,\n\u001b[1;32m   (...)\u001b[0m\n\u001b[0;32m    515\u001b[0m             ident\u001b[39m=\u001b[39m\u001b[39mself\u001b[39m\u001b[39m.\u001b[39mtopic,\n\u001b[0;32m    516\u001b[0m         )\n\u001b[1;32m--> 518\u001b[0m \u001b[39mdef\u001b[39;00m \u001b[39mwrite\u001b[39m(\u001b[39mself\u001b[39m, string: \u001b[39mstr\u001b[39m) \u001b[39m-\u001b[39m\u001b[39m>\u001b[39m Optional[\u001b[39mint\u001b[39m]:  \u001b[39m# type:ignore[override]\u001b[39;00m\n\u001b[0;32m    519\u001b[0m     \u001b[39m\"\"\"Write to current stream after encoding if necessary\u001b[39;00m\n\u001b[0;32m    520\u001b[0m \n\u001b[0;32m    521\u001b[0m \u001b[39m    Returns\u001b[39;00m\n\u001b[1;32m   (...)\u001b[0m\n\u001b[0;32m    525\u001b[0m \n\u001b[0;32m    526\u001b[0m \u001b[39m    \"\"\"\u001b[39;00m\n\u001b[0;32m    528\u001b[0m     \u001b[39mif\u001b[39;00m \u001b[39mnot\u001b[39;00m \u001b[39misinstance\u001b[39m(string, \u001b[39mstr\u001b[39m):\n",
                  "\u001b[1;31mKeyboardInterrupt\u001b[0m: "
               ]
            },
            {
               "name": "stderr",
               "output_type": "stream",
               "text": [
                  "Exception ignored in: 'gurobipy.logcallbackstub'\n",
                  "Traceback (most recent call last):\n",
                  "  File \"C:\\Users\\guilh\\AppData\\Roaming\\Python\\Python39\\site-packages\\ipykernel\\iostream.py\", line 518, in write\n",
                  "    def write(self, string: str) -> Optional[int]:  # type:ignore[override]\n",
                  "KeyboardInterrupt: \n"
               ]
            },
            {
               "name": "stdout",
               "output_type": "stream",
               "text": [
                  "\n",
                  "Cutting planes:\n",
                  "  Learned: 7\n",
                  "  Gomory: 26\n",
                  "  Cover: 867\n",
                  "  Implied bound: 165\n",
                  "  Clique: 150\n",
                  "  MIR: 997\n",
                  "  StrongCG: 268\n",
                  "  GUB cover: 118\n",
                  "  Inf proof: 1\n",
                  "  Zero half: 39\n",
                  "  RLT: 19\n",
                  "  Relax-and-lift: 513\n",
                  "\n",
                  "Explored 10677 nodes (1023103 simplex iterations) in 21.53 seconds (33.10 work units)\n",
                  "Thread count was 12 (of 12 available processors)\n",
                  "\n",
                  "Solution count 10: 4116 4114 4096 ... 3656\n",
                  "\n",
                  "Optimal solution found (tolerance 1.00e-04)\n",
                  "Best objective 4.116000000000e+03, best bound 4.116000000000e+03, gap 0.0000%\n"
               ]
            },
            {
               "name": "stderr",
               "output_type": "stream",
               "text": [
                  " 38%|███▊      | 6/16 [01:51<03:01, 18.13s/it]"
               ]
            },
            {
               "name": "stdout",
               "output_type": "stream",
               "text": [
                  "Gurobi Optimizer version 10.0.0 build v10.0.0rc2 (win64)\n",
                  "\n",
                  "CPU model: AMD Ryzen 5 5600H with Radeon Graphics, instruction set [SSE2|AVX|AVX2]\n",
                  "Thread count: 6 physical cores, 12 logical processors, using up to 12 threads\n",
                  "\n",
                  "Optimize a model with 45066 rows, 16733 columns and 117817 nonzeros\n",
                  "Model fingerprint: 0xa3c395ad\n",
                  "Model has 151 general constraints\n",
                  "Variable types: 0 continuous, 16733 integer (16590 binary)\n",
                  "Coefficient statistics:\n",
                  "  Matrix range     [1e+00, 7e+01]\n",
                  "  Objective range  [1e+00, 1e+01]\n",
                  "  Bounds range     [1e+00, 2e+01]\n",
                  "  RHS range        [1e+00, 2e+01]\n",
                  "  GenCon rhs range [1e+00, 1e+00]\n",
                  "  GenCon coe range [1e+00, 1e+00]\n",
                  "Presolve removed 41627 rows and 13697 columns\n",
                  "Presolve time: 0.15s\n",
                  "Presolved: 3439 rows, 3036 columns, 17309 nonzeros\n",
                  "Variable types: 0 continuous, 3036 integer (2898 binary)\n",
                  "Found heuristic solution: objective -1.0000000\n",
                  "\n",
                  "Root relaxation: objective 4.446214e+03, 2971 iterations, 0.12 seconds (0.22 work units)\n",
                  "\n",
                  "    Nodes    |    Current Node    |     Objective Bounds      |     Work\n",
                  " Expl Unexpl |  Obj  Depth IntInf | Incumbent    BestBd   Gap | It/Node Time\n",
                  "\n",
                  "     0     0 4446.21429    0  249   -1.00000 4446.21429      -     -    0s\n",
                  "H    0     0                     676.0000000 4446.21429   558%     -    0s\n",
                  "H    0     0                    1738.0000000 4446.21429   156%     -    0s\n",
                  "H    0     0                    2667.0000000 4427.56925  66.0%     -    0s\n",
                  "     0     0 4427.56925    0  316 2667.00000 4427.56925  66.0%     -    0s\n",
                  "H    0     0                    2728.0000000 4427.56925  62.3%     -    0s\n",
                  "     0     0 4426.25497    0  299 2728.00000 4426.25497  62.3%     -    0s\n",
                  "     0     0 4426.25497    0  299 2728.00000 4426.25497  62.3%     -    0s\n",
                  "H    0     0                    2857.0000000 4426.25497  54.9%     -    0s\n",
                  "     0     0 4396.92339    0  337 2857.00000 4396.92339  53.9%     -    0s\n",
                  "     0     0 4395.66101    0  310 2857.00000 4395.66101  53.9%     -    0s\n",
                  "     0     0 4395.66101    0  300 2857.00000 4395.66101  53.9%     -    0s\n",
                  "     0     0 4394.58068    0  311 2857.00000 4394.58068  53.8%     -    1s\n",
                  "H    0     0                    3437.0000000 4394.58068  27.9%     -    1s\n",
                  "     0     0 4394.45390    0  311 3437.00000 4394.45390  27.9%     -    1s\n",
                  "     0     0 4394.45390    0  300 3437.00000 4394.45390  27.9%     -    1s\n",
                  "     0     0 4381.93621    0  307 3437.00000 4381.93621  27.5%     -    1s\n",
                  "     0     0 4370.38066    0  310 3437.00000 4370.38066  27.2%     -    1s\n",
                  "H    0     0                    3656.0000000 4369.86739  19.5%     -    1s\n",
                  "     0     0 4369.86739    0  278 3656.00000 4369.86739  19.5%     -    1s\n",
                  "     0     0 4369.61321    0  276 3656.00000 4369.61321  19.5%     -    1s\n",
                  "     0     0 4369.55121    0  274 3656.00000 4369.55121  19.5%     -    1s\n",
                  "     0     0 4369.55121    0  275 3656.00000 4369.55121  19.5%     -    1s\n",
                  "     0     0 4350.79765    0  318 3656.00000 4350.79765  19.0%     -    1s\n",
                  "     0     0 4350.59110    0  315 3656.00000 4350.59110  19.0%     -    1s\n",
                  "     0     0 4348.64267    0  301 3656.00000 4348.64267  18.9%     -    1s\n",
                  "     0     0 4348.64267    0  287 3656.00000 4348.64267  18.9%     -    1s\n",
                  "H    0     0                    3687.0000000 4325.81211  17.3%     -    1s\n",
                  "     0     0 4325.81211    0  361 3687.00000 4325.81211  17.3%     -    1s\n",
                  "H    0     0                    3717.0000000 4325.42357  16.4%     -    2s\n",
                  "     0     0 4325.42357    0  359 3717.00000 4325.42357  16.4%     -    2s\n",
                  "H    0     0                    3807.0000000 4325.40922  13.6%     -    2s\n",
                  "     0     0 4325.40922    0  361 3807.00000 4325.40922  13.6%     -    2s\n",
                  "     0     0 4302.91333    0  368 3807.00000 4302.91333  13.0%     -    2s\n",
                  "     0     0 4301.59474    0  372 3807.00000 4301.59474  13.0%     -    2s\n",
                  "     0     0 4301.57291    0  375 3807.00000 4301.57291  13.0%     -    2s\n",
                  "     0     0 4269.02866    0  345 3807.00000 4269.02866  12.1%     -    2s\n",
                  "     0     0 4268.53153    0  344 3807.00000 4268.53153  12.1%     -    2s\n",
                  "     0     0 4268.47394    0  349 3807.00000 4268.47394  12.1%     -    2s\n",
                  "     0     0 4257.14332    0  326 3807.00000 4257.14332  11.8%     -    2s\n",
                  "     0     0 4252.18345    0  382 3807.00000 4252.18345  11.7%     -    2s\n",
                  "     0     0 4251.46526    0  378 3807.00000 4251.46526  11.7%     -    2s\n",
                  "     0     0 4251.39047    0  368 3807.00000 4251.39047  11.7%     -    2s\n",
                  "     0     0 4251.38314    0  368 3807.00000 4251.38314  11.7%     -    2s\n",
                  "H    0     0                    3837.0000000 4236.67205  10.4%     -    2s\n",
                  "     0     0 4236.67205    0  346 3837.00000 4236.67205  10.4%     -    2s\n",
                  "     0     0 4234.69304    0  351 3837.00000 4234.69304  10.4%     -    3s\n",
                  "     0     0 4234.66920    0  360 3837.00000 4234.66920  10.4%     -    3s\n",
                  "     0     0 4228.52583    0  370 3837.00000 4228.52583  10.2%     -    3s\n",
                  "     0     0 4228.45774    0  360 3837.00000 4228.45774  10.2%     -    3s\n",
                  "     0     0 4224.18922    0  336 3837.00000 4224.18922  10.1%     -    3s\n",
                  "     0     0 4223.19556    0  369 3837.00000 4223.19556  10.1%     -    3s\n",
                  "     0     0 4223.05747    0  362 3837.00000 4223.05747  10.1%     -    3s\n",
                  "     0     0 4222.91901    0  380 3837.00000 4222.91901  10.1%     -    3s\n",
                  "     0     0 4222.44423    0  372 3837.00000 4222.44423  10.0%     -    3s\n",
                  "     0     0 4222.39052    0  406 3837.00000 4222.39052  10.0%     -    3s\n",
                  "     0     0 4220.14953    0  347 3837.00000 4220.14953  10.0%     -    3s\n",
                  "     0     0 4219.74223    0  401 3837.00000 4219.74223  10.0%     -    3s\n",
                  "     0     0 4219.72159    0  397 3837.00000 4219.72159  10.0%     -    3s\n",
                  "     0     0 4219.28611    0  342 3837.00000 4219.28611  10.0%     -    3s\n",
                  "     0     0 4219.28611    0  300 3837.00000 4219.28611  10.0%     -    3s\n",
                  "     0     2 4219.28611    0  290 3837.00000 4219.28611  10.0%     -    4s\n",
                  "H   33    38                    4016.0000000 4214.60026  4.95%   260    4s\n",
                  "H   68    66                    4046.0000000 4214.60026  4.17%   208    4s\n",
                  "H  105    85                    4076.0000000 4214.60026  3.40%   185    4s\n",
                  "   119   102 4183.24570   16  306 4076.00000 4214.60026  3.40%   184    5s\n",
                  "H  495   307                    4116.0000000 4209.33822  2.27%   166    7s\n",
                  "  1115   379     cutoff   15      4116.00000 4182.36229  1.61%   192   10s\n",
                  "  2412    81     cutoff   18      4116.00000 4140.58392  0.60%   184   15s\n",
                  "\n",
                  "Cutting planes:\n",
                  "  Learned: 10\n",
                  "  Gomory: 30\n",
                  "  Cover: 805\n",
                  "  Implied bound: 165\n",
                  "  Clique: 174\n",
                  "  MIR: 866\n",
                  "  StrongCG: 222\n",
                  "  GUB cover: 90\n",
                  "  Inf proof: 5\n",
                  "  Zero half: 28\n",
                  "  RLT: 12\n",
                  "  Relax-and-lift: 484\n",
                  "\n",
                  "Explored 3375 nodes (540366 simplex iterations) in 16.04 seconds (26.53 work units)\n",
                  "Thread count was 12 (of 12 available processors)\n",
                  "\n",
                  "Solution count 10: 4116 4076 4046 ... 3437\n",
                  "\n",
                  "Optimal solution found (tolerance 1.00e-04)\n",
                  "Best objective 4.116000000000e+03, best bound 4.116000000000e+03, gap 0.0000%\n"
               ]
            },
            {
               "name": "stderr",
               "output_type": "stream",
               "text": [
                  " 44%|████▍     | 7/16 [02:08<02:39, 17.73s/it]"
               ]
            },
            {
               "name": "stdout",
               "output_type": "stream",
               "text": [
                  "Gurobi Optimizer version 10.0.0 build v10.0.0rc2 (win64)\n",
                  "\n",
                  "CPU model: AMD Ryzen 5 5600H with Radeon Graphics, instruction set [SSE2|AVX|AVX2]\n",
                  "Thread count: 6 physical cores, 12 logical processors, using up to 12 threads\n",
                  "\n",
                  "Optimize a model with 45066 rows, 16733 columns and 117817 nonzeros\n",
                  "Model fingerprint: 0xb4a3b76d\n",
                  "Model has 151 general constraints\n",
                  "Variable types: 0 continuous, 16733 integer (16590 binary)\n",
                  "Coefficient statistics:\n",
                  "  Matrix range     [1e+00, 7e+01]\n",
                  "  Objective range  [1e+00, 1e+01]\n",
                  "  Bounds range     [1e+00, 2e+01]\n",
                  "  RHS range        [1e+00, 2e+01]\n",
                  "  GenCon rhs range [1e+00, 1e+00]\n",
                  "  GenCon coe range [1e+00, 1e+00]\n",
                  "Presolve removed 41627 rows and 13697 columns\n",
                  "Presolve time: 0.16s\n",
                  "Presolved: 3439 rows, 3036 columns, 17309 nonzeros\n",
                  "Variable types: 0 continuous, 3036 integer (2898 binary)\n",
                  "Found heuristic solution: objective -1.0000000\n",
                  "\n",
                  "Root relaxation: objective 4.446214e+03, 2971 iterations, 0.12 seconds (0.22 work units)\n",
                  "\n",
                  "    Nodes    |    Current Node    |     Objective Bounds      |     Work\n",
                  " Expl Unexpl |  Obj  Depth IntInf | Incumbent    BestBd   Gap | It/Node Time\n",
                  "\n",
                  "     0     0 4446.21429    0  249   -1.00000 4446.21429      -     -    0s\n",
                  "H    0     0                     676.0000000 4446.21429   558%     -    0s\n",
                  "H    0     0                    1738.0000000 4446.21429   156%     -    0s\n",
                  "H    0     0                    2667.0000000 4427.56925  66.0%     -    0s\n",
                  "     0     0 4427.56925    0  316 2667.00000 4427.56925  66.0%     -    0s\n",
                  "H    0     0                    2728.0000000 4427.56925  62.3%     -    0s\n",
                  "     0     0 4426.25497    0  299 2728.00000 4426.25497  62.3%     -    0s\n",
                  "     0     0 4426.25497    0  299 2728.00000 4426.25497  62.3%     -    0s\n",
                  "H    0     0                    2857.0000000 4426.25497  54.9%     -    0s\n",
                  "     0     0 4396.92339    0  337 2857.00000 4396.92339  53.9%     -    0s\n",
                  "     0     0 4395.66101    0  310 2857.00000 4395.66101  53.9%     -    1s\n",
                  "     0     0 4395.66101    0  300 2857.00000 4395.66101  53.9%     -    1s\n",
                  "     0     0 4394.58068    0  311 2857.00000 4394.58068  53.8%     -    1s\n",
                  "H    0     0                    3437.0000000 4394.58068  27.9%     -    1s\n",
                  "     0     0 4394.45390    0  311 3437.00000 4394.45390  27.9%     -    1s\n",
                  "     0     0 4394.45390    0  300 3437.00000 4394.45390  27.9%     -    1s\n",
                  "     0     0 4381.93621    0  307 3437.00000 4381.93621  27.5%     -    1s\n",
                  "H    0     0                    3587.0000000 4381.93621  22.2%     -    1s\n",
                  "     0     0 4370.38066    0  304 3587.00000 4370.38066  21.8%     -    1s\n",
                  "     0     0 4369.61321    0  290 3587.00000 4369.61321  21.8%     -    1s\n",
                  "     0     0 4369.55121    0  297 3587.00000 4369.55121  21.8%     -    1s\n",
                  "     0     0 4369.55121    0  301 3587.00000 4369.55121  21.8%     -    1s\n",
                  "     0     0 4351.28119    0  298 3587.00000 4351.28119  21.3%     -    1s\n",
                  "     0     0 4351.07556    0  299 3587.00000 4351.07556  21.3%     -    1s\n",
                  "     0     0 4351.07556    0  286 3587.00000 4351.07556  21.3%     -    1s\n",
                  "     0     0 4317.94620    0  324 3587.00000 4317.94620  20.4%     -    2s\n",
                  "     0     0 4316.16783    0  330 3587.00000 4316.16783  20.3%     -    2s\n",
                  "     0     0 4315.71981    0  319 3587.00000 4315.71981  20.3%     -    2s\n",
                  "     0     0 4315.60184    0  309 3587.00000 4315.60184  20.3%     -    2s\n",
                  "H    0     0                    3597.0000000 4315.54033  20.0%     -    2s\n",
                  "     0     0 4315.54033    0  316 3597.00000 4315.54033  20.0%     -    2s\n",
                  "     0     0 4315.54033    0  328 3597.00000 4315.54033  20.0%     -    2s\n",
                  "     0     0 4291.24129    0  302 3597.00000 4291.24129  19.3%     -    2s\n",
                  "H    0     0                    3737.0000000 4291.24129  14.8%     -    2s\n",
                  "H    0     0                    3807.0000000 4290.11708  12.7%     -    2s\n",
                  "H    0     0                    3837.0000000 4290.11708  11.8%     -    2s\n",
                  "H    0     0                    3855.0000000 4290.11708  11.3%     -    2s\n",
                  "     0     0 4290.11708    0  328 3855.00000 4290.11708  11.3%     -    2s\n",
                  "     0     0 4289.18570    0  293 3855.00000 4289.18570  11.3%     -    2s\n",
                  "     0     0 4288.68080    0  305 3855.00000 4288.68080  11.2%     -    2s\n",
                  "     0     0 4288.68080    0  301 3855.00000 4288.68080  11.2%     -    2s\n",
                  "     0     0 4276.40476    0  323 3855.00000 4276.40476  10.9%     -    2s\n",
                  "     0     0 4271.85672    0  326 3855.00000 4271.85672  10.8%     -    2s\n",
                  "     0     0 4271.65397    0  312 3855.00000 4271.65397  10.8%     -    2s\n",
                  "     0     0 4271.65397    0  304 3855.00000 4271.65397  10.8%     -    2s\n",
                  "     0     0 4251.15812    0  297 3855.00000 4251.15812  10.3%     -    2s\n",
                  "     0     0 4248.73834    0  301 3855.00000 4248.73834  10.2%     -    2s\n",
                  "     0     0 4248.34595    0  307 3855.00000 4248.34595  10.2%     -    2s\n",
                  "     0     0 4247.59458    0  336 3855.00000 4247.59458  10.2%     -    2s\n",
                  "     0     0 4247.58697    0  321 3855.00000 4247.58697  10.2%     -    2s\n",
                  "H    0     0                    3885.0000000 4239.16165  9.12%     -    3s\n",
                  "     0     0 4239.16165    0  350 3885.00000 4239.16165  9.12%     -    3s\n",
                  "     0     0 4236.96777    0  371 3885.00000 4236.96777  9.06%     -    3s\n",
                  "     0     0 4236.91167    0  345 3885.00000 4236.91167  9.06%     -    3s\n",
                  "     0     0 4231.45616    0  377 3885.00000 4231.45616  8.92%     -    3s\n",
                  "     0     0 4231.36911    0  391 3885.00000 4231.36911  8.92%     -    3s\n",
                  "     0     0 4231.36911    0  386 3885.00000 4231.36911  8.92%     -    3s\n",
                  "     0     0 4228.25571    0  415 3885.00000 4228.25571  8.84%     -    3s\n",
                  "     0     0 4227.48555    0  317 3885.00000 4227.48555  8.82%     -    3s\n",
                  "     0     0 4227.45114    0  372 3885.00000 4227.45114  8.81%     -    3s\n",
                  "     0     0 4224.79177    0  348 3885.00000 4224.79177  8.75%     -    3s\n",
                  "     0     0 4224.05438    0  388 3885.00000 4224.05438  8.73%     -    3s\n",
                  "     0     0 4223.97483    0  410 3885.00000 4223.97483  8.73%     -    3s\n",
                  "     0     0 4222.03054    0  409 3885.00000 4222.03054  8.68%     -    3s\n",
                  "     0     0 4221.88806    0  399 3885.00000 4221.88806  8.67%     -    3s\n",
                  "     0     0 4221.84368    0  387 3885.00000 4221.84368  8.67%     -    3s\n",
                  "     0     0 4220.51285    0  405 3885.00000 4220.51285  8.64%     -    3s\n",
                  "     0     0 4220.02332    0  334 3885.00000 4220.02332  8.62%     -    3s\n",
                  "     0     0 4220.02332    0  336 3885.00000 4220.02332  8.62%     -    3s\n",
                  "H    0     0                    3915.0000000 4219.77390  7.78%     -    3s\n",
                  "     0     0 4219.77390    0  311 3915.00000 4219.77390  7.78%     -    3s\n",
                  "     0     0 4219.70438    0  319 3915.00000 4219.70438  7.78%     -    3s\n",
                  "     0     0 4218.75293    0  326 3915.00000 4218.75293  7.76%     -    4s\n",
                  "     0     0 4218.75293    0  283 3915.00000 4218.75293  7.76%     -    4s\n",
                  "H    0     0                    3916.0000000 4218.75293  7.73%     -    4s\n",
                  "     0     2 4218.75293    0  283 3916.00000 4218.75293  7.73%     -    4s\n",
                  "    19    26 4213.03371    5  284 3916.00000 4214.50331  7.62%   272    5s\n",
                  "H   34    38                    3917.0000000 4214.50331  7.60%   210    5s\n",
                  "H  211   192                    3946.0000000 4214.50331  6.80%   161    6s\n",
                  "H  214   192                    3947.0000000 4214.50331  6.78%   165    6s\n",
                  "H  452   338                    3955.0000000 4214.50331  6.56%   167    7s\n",
                  "H  453   338                    4046.0000000 4214.50331  4.16%   167    7s\n",
                  "H  518   328                    4065.0000000 4211.57703  3.61%   170    8s\n",
                  "  1106   657 4181.07531   14  290 4065.00000 4201.70610  3.36%   131   10s\n",
                  "H 1288   531                    4095.0000000 4201.70610  2.61%   123   10s\n",
                  "  1301   526 4181.02674   16  407 4095.00000 4201.39879  2.60%   122   15s\n",
                  "H 1303   500                    4096.0000000 4200.68985  2.56%   122   15s\n",
                  "  1324   516 4162.76391   22  402 4096.00000 4198.21176  2.50%   151   20s\n",
                  "H 1376   518                    4115.0000000 4193.76689  1.91%   176   24s\n",
                  "H 1403   494                    4116.0000000 4193.76689  1.89%   179   24s\n",
                  "  1439   490 4122.85818   39  198 4116.00000 4193.76689  1.89%   178   25s\n",
                  "\n",
                  "Cutting planes:\n",
                  "  Learned: 6\n",
                  "  Gomory: 19\n",
                  "  Cover: 114\n",
                  "  Implied bound: 45\n",
                  "  Projected implied bound: 15\n",
                  "  Clique: 43\n",
                  "  MIR: 249\n",
                  "  StrongCG: 56\n",
                  "  Flow cover: 431\n",
                  "  GUB cover: 22\n",
                  "  Inf proof: 1\n",
                  "  Zero half: 9\n",
                  "  RLT: 10\n",
                  "  Relax-and-lift: 200\n",
                  "\n",
                  "Explored 1885 nodes (332314 simplex iterations) in 27.56 seconds (37.68 work units)\n",
                  "Thread count was 12 (of 12 available processors)\n",
                  "\n",
                  "Solution count 10: 4116 4115 4096 ... 3917\n",
                  "\n",
                  "Optimal solution found (tolerance 1.00e-04)\n",
                  "Best objective 4.116000000000e+03, best bound 4.116000000000e+03, gap 0.0000%\n"
               ]
            },
            {
               "name": "stderr",
               "output_type": "stream",
               "text": [
                  " 50%|█████     | 8/16 [02:36<02:48, 21.12s/it]"
               ]
            },
            {
               "name": "stdout",
               "output_type": "stream",
               "text": [
                  "Gurobi Optimizer version 10.0.0 build v10.0.0rc2 (win64)\n",
                  "\n",
                  "CPU model: AMD Ryzen 5 5600H with Radeon Graphics, instruction set [SSE2|AVX|AVX2]\n",
                  "Thread count: 6 physical cores, 12 logical processors, using up to 12 threads\n",
                  "\n",
                  "Optimize a model with 45066 rows, 16733 columns and 117817 nonzeros\n",
                  "Model fingerprint: 0x98519f90\n",
                  "Model has 151 general constraints\n",
                  "Variable types: 0 continuous, 16733 integer (16590 binary)\n",
                  "Coefficient statistics:\n",
                  "  Matrix range     [1e+00, 7e+01]\n",
                  "  Objective range  [1e+00, 1e+01]\n",
                  "  Bounds range     [1e+00, 2e+01]\n",
                  "  RHS range        [1e+00, 2e+01]\n",
                  "  GenCon rhs range [1e+00, 1e+00]\n",
                  "  GenCon coe range [1e+00, 1e+00]\n",
                  "Presolve removed 41627 rows and 13697 columns\n",
                  "Presolve time: 0.20s\n",
                  "Presolved: 3439 rows, 3036 columns, 17309 nonzeros\n",
                  "Variable types: 0 continuous, 3036 integer (2898 binary)\n",
                  "Found heuristic solution: objective -1.0000000\n",
                  "\n",
                  "Root relaxation: objective 4.446214e+03, 2955 iterations, 0.13 seconds (0.22 work units)\n",
                  "\n",
                  "    Nodes    |    Current Node    |     Objective Bounds      |     Work\n",
                  " Expl Unexpl |  Obj  Depth IntInf | Incumbent    BestBd   Gap | It/Node Time\n",
                  "\n",
                  "     0     0 4446.21429    0  273   -1.00000 4446.21429      -     -    0s\n",
                  "H    0     0                     946.0000000 4446.21429   370%     -    0s\n",
                  "H    0     0                    1198.0000000 4446.21429   271%     -    0s\n",
                  "H    0     0                    1598.0000000 4446.21429   178%     -    0s\n",
                  "H    0     0                    1897.0000000 4446.21429   134%     -    0s\n",
                  "H    0     0                    3156.0000000 4426.86925  40.3%     -    0s\n",
                  "     0     0 4426.86925    0  335 3156.00000 4426.86925  40.3%     -    0s\n",
                  "H    0     0                    3306.0000000 4426.86925  33.9%     -    0s\n",
                  "     0     0 4425.06986    0  328 3306.00000 4425.06986  33.8%     -    0s\n",
                  "     0     0 4425.06986    0  329 3306.00000 4425.06986  33.8%     -    0s\n",
                  "     0     0 4407.56990    0  339 3306.00000 4407.56990  33.3%     -    1s\n",
                  "     0     0 4406.30341    0  338 3306.00000 4406.30341  33.3%     -    1s\n",
                  "     0     0 4406.13280    0  310 3306.00000 4406.13280  33.3%     -    1s\n",
                  "     0     0 4406.13280    0  296 3306.00000 4406.13280  33.3%     -    1s\n",
                  "     0     0 4395.85272    0  307 3306.00000 4395.85272  33.0%     -    1s\n",
                  "H    0     0                    3337.0000000 4395.85272  31.7%     -    1s\n",
                  "     0     0 4392.77828    0  305 3337.00000 4392.77828  31.6%     -    1s\n",
                  "     0     0 4391.71217    0  316 3337.00000 4391.71217  31.6%     -    1s\n",
                  "H    0     0                    3606.0000000 4391.70164  21.8%     -    1s\n",
                  "     0     0 4391.70164    0  305 3606.00000 4391.70164  21.8%     -    1s\n",
                  "H    0     0                    3655.0000000 4391.70164  20.2%     -    1s\n",
                  "H    0     0                    3656.0000000 4357.06636  19.2%     -    2s\n",
                  "     0     0 4357.06636    0  308 3656.00000 4357.06636  19.2%     -    2s\n",
                  "H    0     0                    3735.0000000 4343.59889  16.3%     -    2s\n",
                  "H    0     0                    3736.0000000 4343.59889  16.3%     -    2s\n",
                  "     0     0 4343.59889    0  283 3736.00000 4343.59889  16.3%     -    2s\n",
                  "     0     0 4343.27589    0  312 3736.00000 4343.27589  16.3%     -    2s\n",
                  "     0     0 4343.27589    0  318 3736.00000 4343.27589  16.3%     -    2s\n",
                  "     0     0 4329.61533    0  318 3736.00000 4329.61533  15.9%     -    2s\n",
                  "H    0     0                    3826.0000000 4329.61533  13.2%     -    2s\n",
                  "     0     0 4318.27221    0  300 3826.00000 4318.27221  12.9%     -    2s\n",
                  "     0     0 4316.53263    0  325 3826.00000 4316.53263  12.8%     -    2s\n",
                  "     0     0 4315.97335    0  326 3826.00000 4315.97335  12.8%     -    2s\n",
                  "     0     0 4315.75219    0  318 3826.00000 4315.75219  12.8%     -    2s\n",
                  "     0     0 4315.75219    0  316 3826.00000 4315.75219  12.8%     -    2s\n",
                  "     0     0 4268.43129    0  321 3826.00000 4268.43129  11.6%     -    2s\n",
                  "     0     0 4265.40654    0  325 3826.00000 4265.40654  11.5%     -    2s\n",
                  "     0     0 4262.09092    0  323 3826.00000 4262.09092  11.4%     -    2s\n",
                  "     0     0 4261.34830    0  334 3826.00000 4261.34830  11.4%     -    2s\n",
                  "     0     0 4261.27918    0  357 3826.00000 4261.27918  11.4%     -    2s\n",
                  "     0     0 4261.27549    0  342 3826.00000 4261.27549  11.4%     -    2s\n",
                  "     0     0 4256.07363    0  366 3826.00000 4256.07363  11.2%     -    3s\n",
                  "     0     0 4255.88513    0  362 3826.00000 4255.88513  11.2%     -    3s\n",
                  "     0     0 4255.82806    0  362 3826.00000 4255.82806  11.2%     -    3s\n",
                  "     0     0 4254.96133    0  347 3826.00000 4254.96133  11.2%     -    3s\n",
                  "     0     0 4252.97166    0  382 3826.00000 4252.97166  11.2%     -    3s\n",
                  "     0     0 4252.60333    0  384 3826.00000 4252.60333  11.2%     -    3s\n",
                  "     0     0 4252.58621    0  370 3826.00000 4252.58621  11.1%     -    3s\n",
                  "     0     0 4239.52756    0  346 3826.00000 4239.52756  10.8%     -    3s\n",
                  "H    0     0                    4036.0000000 4239.52756  5.04%     -    3s\n",
                  "     0     0 4235.25827    0  358 4036.00000 4235.25827  4.94%     -    3s\n",
                  "     0     0 4234.50362    0  368 4036.00000 4234.50362  4.92%     -    3s\n",
                  "     0     0 4233.17241    0  390 4036.00000 4233.17241  4.89%     -    3s\n",
                  "     0     0 4232.71424    0  428 4036.00000 4232.71424  4.87%     -    3s\n",
                  "     0     0 4232.68576    0  410 4036.00000 4232.68576  4.87%     -    3s\n",
                  "     0     0 4228.94910    0  360 4036.00000 4228.94910  4.78%     -    4s\n",
                  "     0     0 4226.82179    0  329 4036.00000 4226.82179  4.73%     -    4s\n",
                  "     0     0 4226.54547    0  354 4036.00000 4226.54547  4.72%     -    4s\n",
                  "     0     0 4226.54177    0  353 4036.00000 4226.54177  4.72%     -    4s\n",
                  "     0     0 4224.44284    0  360 4036.00000 4224.44284  4.67%     -    4s\n",
                  "H    0     0                    4066.0000000 4224.44284  3.90%     -    4s\n",
                  "     0     0 4223.27594    0  366 4066.00000 4223.27594  3.87%     -    4s\n",
                  "     0     0 4222.80841    0  389 4066.00000 4222.80841  3.86%     -    4s\n",
                  "     0     0 4222.76116    0  396 4066.00000 4222.76116  3.86%     -    4s\n",
                  "     0     0 4222.55502    0  404 4066.00000 4222.55502  3.85%     -    4s\n",
                  "     0     0 4221.72185    0  377 4066.00000 4221.72185  3.83%     -    4s\n",
                  "     0     0 4221.45559    0  393 4066.00000 4221.45559  3.82%     -    4s\n",
                  "     0     0 4221.43141    0  397 4066.00000 4221.43141  3.82%     -    4s\n",
                  "     0     0 4220.69414    0  418 4066.00000 4220.69414  3.80%     -    4s\n",
                  "     0     0 4220.15765    0  342 4066.00000 4220.15765  3.79%     -    4s\n",
                  "     0     0 4220.03403    0  356 4066.00000 4220.03403  3.79%     -    4s\n",
                  "     0     0 4220.00505    0  356 4066.00000 4220.00505  3.79%     -    4s\n",
                  "     0     0 4219.56703    0  352 4066.00000 4219.56703  3.78%     -    5s\n",
                  "     0     0 4219.53704    0  360 4066.00000 4219.53704  3.78%     -    5s\n",
                  "     0     0 4218.74313    0  359 4066.00000 4218.74313  3.76%     -    5s\n",
                  "     0     0 4218.74313    0  305 4066.00000 4218.74313  3.76%     -    5s\n",
                  "     0     0 4218.74313    0  240 4066.00000 4218.74313  3.76%     -    5s\n",
                  "     0     0 4218.74313    0  366 4066.00000 4218.74313  3.76%     -    6s\n",
                  "     0     0 4218.74313    0  342 4066.00000 4218.74313  3.76%     -    6s\n",
                  "     0     0 4218.74313    0  373 4066.00000 4218.74313  3.76%     -    6s\n",
                  "     0     0 4218.74313    0  345 4066.00000 4218.74313  3.76%     -    6s\n",
                  "     0     0 4218.74313    0  395 4066.00000 4218.74313  3.76%     -    6s\n",
                  "     0     0 4218.74313    0  325 4066.00000 4218.74313  3.76%     -    6s\n",
                  "     0     0 4218.74313    0  320 4066.00000 4218.74313  3.76%     -    6s\n",
                  "     0     0 4218.74313    0  301 4066.00000 4218.74313  3.76%     -    6s\n",
                  "     0     0 4218.74313    0  323 4066.00000 4218.74313  3.76%     -    6s\n",
                  "     0     0 4218.74313    0  305 4066.00000 4218.74313  3.76%     -    6s\n",
                  "     0     0 4218.72542    0  314 4066.00000 4218.72542  3.76%     -    6s\n",
                  "     0     0 4218.67270    0  317 4066.00000 4218.67270  3.75%     -    6s\n",
                  "     0     0 4218.65788    0  314 4066.00000 4218.65788  3.75%     -    6s\n",
                  "     0     0 4218.65788    0  315 4066.00000 4218.65788  3.75%     -    6s\n",
                  "     0     0 4218.45277    0  355 4066.00000 4218.45277  3.75%     -    6s\n",
                  "     0     0 4218.45277    0  347 4066.00000 4218.45277  3.75%     -    6s\n",
                  "     0     0 4218.00660    0  336 4066.00000 4218.00660  3.74%     -    6s\n",
                  "     0     0 4217.65858    0  330 4066.00000 4217.65858  3.73%     -    6s\n",
                  "     0     0 4217.64825    0  324 4066.00000 4217.64825  3.73%     -    6s\n",
                  "     0     0 4217.63020    0  327 4066.00000 4217.63020  3.73%     -    6s\n",
                  "     0     0 4217.63020    0  329 4066.00000 4217.63020  3.73%     -    6s\n",
                  "     0     0 4215.83255    0  323 4066.00000 4215.83255  3.69%     -    6s\n",
                  "     0     0 4215.54895    0  341 4066.00000 4215.54895  3.68%     -    6s\n",
                  "     0     0 4215.41896    0  336 4066.00000 4215.41896  3.67%     -    6s\n",
                  "     0     0 4215.40737    0  340 4066.00000 4215.40737  3.67%     -    6s\n",
                  "     0     0 4215.39282    0  339 4066.00000 4215.39282  3.67%     -    6s\n",
                  "     0     0 4215.38744    0  340 4066.00000 4215.38744  3.67%     -    6s\n",
                  "     0     0 4215.38744    0  345 4066.00000 4215.38744  3.67%     -    6s\n",
                  "     0     0 4214.91041    0  334 4066.00000 4214.91041  3.66%     -    7s\n",
                  "H    0     0                    4096.0000000 4214.91041  2.90%     -    7s\n",
                  "     0     0 4212.67269    0  405 4096.00000 4212.67269  2.85%     -    7s\n",
                  "     0     0 4212.40869    0  396 4096.00000 4212.40869  2.84%     -    7s\n",
                  "     0     0 4212.36782    0  422 4096.00000 4212.36782  2.84%     -    7s\n",
                  "     0     0 4212.35642    0  418 4096.00000 4212.35642  2.84%     -    7s\n",
                  "     0     0 4212.32503    0  412 4096.00000 4212.32503  2.84%     -    7s\n",
                  "     0     0 4212.32363    0  415 4096.00000 4212.32363  2.84%     -    7s\n",
                  "     0     0 4210.33046    0  353 4096.00000 4210.33046  2.79%     -    7s\n",
                  "     0     0 4210.11816    0  342 4096.00000 4210.11816  2.79%     -    7s\n",
                  "     0     0 4210.05627    0  356 4096.00000 4210.05627  2.78%     -    7s\n",
                  "     0     0 4210.02780    0  362 4096.00000 4210.02780  2.78%     -    7s\n",
                  "     0     0 4210.01315    0  369 4096.00000 4210.01315  2.78%     -    7s\n",
                  "     0     0 4210.01295    0  365 4096.00000 4210.01295  2.78%     -    7s\n",
                  "     0     0 4209.86140    0  378 4096.00000 4209.86140  2.78%     -    7s\n",
                  "     0     0 4209.84809    0  368 4096.00000 4209.84809  2.78%     -    7s\n",
                  "     0     0 4209.84179    0  364 4096.00000 4209.84179  2.78%     -    7s\n",
                  "     0     0 4209.67522    0  360 4096.00000 4209.67522  2.78%     -    7s\n",
                  "     0     0 4209.47611    0  408 4096.00000 4209.47611  2.77%     -    7s\n",
                  "     0     0 4209.44730    0  410 4096.00000 4209.44730  2.77%     -    7s\n",
                  "     0     0 4209.43677    0  390 4096.00000 4209.43677  2.77%     -    7s\n",
                  "     0     0 4209.41119    0  365 4096.00000 4209.41119  2.77%     -    7s\n",
                  "     0     0 4209.40141    0  375 4096.00000 4209.40141  2.77%     -    7s\n",
                  "     0     0 4209.39752    0  367 4096.00000 4209.39752  2.77%     -    7s\n",
                  "     0     0 4209.14718    0  355 4096.00000 4209.14718  2.76%     -    7s\n",
                  "     0     0 4209.04417    0  367 4096.00000 4209.04417  2.76%     -    7s\n",
                  "     0     0 4208.96543    0  354 4096.00000 4208.96543  2.76%     -    7s\n",
                  "     0     0 4208.96245    0  349 4096.00000 4208.96245  2.76%     -    7s\n",
                  "     0     0 4208.77496    0  376 4096.00000 4208.77496  2.75%     -    7s\n",
                  "     0     0 4208.59996    0  381 4096.00000 4208.59996  2.75%     -    7s\n",
                  "     0     0 4208.54782    0  369 4096.00000 4208.54782  2.75%     -    7s\n",
                  "     0     0 4208.53495    0  351 4096.00000 4208.53495  2.75%     -    7s\n",
                  "     0     0 4208.53001    0  350 4096.00000 4208.53001  2.75%     -    7s\n",
                  "     0     0 4208.37619    0  364 4096.00000 4208.37619  2.74%     -    7s\n",
                  "     0     0 4208.35665    0  360 4096.00000 4208.35665  2.74%     -    7s\n",
                  "     0     0 4208.33952    0  356 4096.00000 4208.33952  2.74%     -    7s\n",
                  "     0     0 4208.32249    0  346 4096.00000 4208.32249  2.74%     -    7s\n",
                  "     0     0 4208.31111    0  367 4096.00000 4208.31111  2.74%     -    7s\n",
                  "     0     0 4208.28737    0  362 4096.00000 4208.28737  2.74%     -    8s\n",
                  "     0     0 4208.28595    0  363 4096.00000 4208.28595  2.74%     -    8s\n",
                  "     0     0 4208.20612    0  357 4096.00000 4208.20612  2.74%     -    8s\n",
                  "     0     0 4208.11782    0  350 4096.00000 4208.11782  2.74%     -    8s\n",
                  "     0     0 4208.11782    0  344 4096.00000 4208.11782  2.74%     -    8s\n",
                  "     0     0 4208.04985    0  353 4096.00000 4208.04985  2.74%     -    8s\n",
                  "     0     0 4208.02678    0  359 4096.00000 4208.02678  2.74%     -    8s\n",
                  "     0     0 4208.00771    0  363 4096.00000 4208.00771  2.73%     -    8s\n",
                  "     0     0 4208.00755    0  359 4096.00000 4208.00755  2.73%     -    8s\n",
                  "     0     0 4207.96733    0  367 4096.00000 4207.96733  2.73%     -    8s\n",
                  "     0     0 4207.96733    0  320 4096.00000 4207.96733  2.73%     -    8s\n",
                  "     0     0 4207.96733    0  250 4096.00000 4207.96733  2.73%     -    8s\n",
                  "     0     0 4207.96733    0  354 4096.00000 4207.96733  2.73%     -    9s\n",
                  "     0     0 4207.96733    0  320 4096.00000 4207.96733  2.73%     -    9s\n",
                  "     0     0 4207.96733    0  380 4096.00000 4207.96733  2.73%     -    9s\n",
                  "     0     0 4207.96733    0  382 4096.00000 4207.96733  2.73%     -    9s\n",
                  "     0     0 4207.96733    0  347 4096.00000 4207.96733  2.73%     -    9s\n",
                  "     0     0 4207.96733    0  317 4096.00000 4207.96733  2.73%     -    9s\n",
                  "     0     0 4207.96733    0  322 4096.00000 4207.96733  2.73%     -    9s\n",
                  "     0     0 4207.96733    0  328 4096.00000 4207.96733  2.73%     -    9s\n",
                  "     0     0 4207.96733    0  338 4096.00000 4207.96733  2.73%     -    9s\n",
                  "     0     0 4207.96733    0  319 4096.00000 4207.96733  2.73%     -    9s\n",
                  "     0     0 4207.96733    0  324 4096.00000 4207.96733  2.73%     -    9s\n",
                  "     0     0 4207.96494    0  322 4096.00000 4207.96494  2.73%     -    9s\n",
                  "     0     0 4207.96494    0  323 4096.00000 4207.96494  2.73%     -    9s\n",
                  "     0     0 4207.94281    0  351 4096.00000 4207.94281  2.73%     -    9s\n",
                  "     0     0 4207.93727    0  354 4096.00000 4207.93727  2.73%     -    9s\n",
                  "     0     0 4207.93727    0  357 4096.00000 4207.93727  2.73%     -    9s\n",
                  "     0     0 4206.59646    0  374 4096.00000 4206.59646  2.70%     -    9s\n",
                  "     0     0 4206.55944    0  346 4096.00000 4206.55944  2.70%     -    9s\n",
                  "     0     0 4206.55281    0  349 4096.00000 4206.55281  2.70%     -    9s\n",
                  "     0     0 4206.55145    0  343 4096.00000 4206.55145  2.70%     -    9s\n",
                  "     0     0 4206.04723    0  364 4096.00000 4206.04723  2.69%     -    9s\n",
                  "     0     0 4206.01084    0  338 4096.00000 4206.01084  2.69%     -    9s\n",
                  "     0     0 4206.00878    0  339 4096.00000 4206.00878  2.69%     -    9s\n",
                  "     0     0 4205.94358    0  394 4096.00000 4205.94358  2.68%     -    9s\n",
                  "     0     0 4205.67491    0  347 4096.00000 4205.67491  2.68%     -    9s\n",
                  "     0     0 4205.67130    0  341 4096.00000 4205.67130  2.68%     -    9s\n",
                  "     0     0 4205.51335    0  351 4096.00000 4205.51335  2.67%     -   10s\n",
                  "     0     0 4205.48242    0  365 4096.00000 4205.48242  2.67%     -   10s\n",
                  "     0     0 4205.47469    0  351 4096.00000 4205.47469  2.67%     -   10s\n",
                  "     0     0 4205.47469    0  356 4096.00000 4205.47469  2.67%     -   10s\n",
                  "     0     0 4205.46860    0  362 4096.00000 4205.46860  2.67%     -   10s\n",
                  "     0     0 4205.46860    0  318 4096.00000 4205.46860  2.67%     -   10s\n",
                  "     0     2 4205.46860    0  318 4096.00000 4205.46860  2.67%     -   10s\n",
                  "H   32    31                    4115.0000000 4204.40480  2.17%   310   10s\n",
                  "H  102    53                    4116.0000000 4204.40480  2.15%   188   10s\n",
                  "\n",
                  "Cutting planes:\n",
                  "  Learned: 2\n",
                  "  Gomory: 12\n",
                  "  Cover: 600\n",
                  "  Implied bound: 107\n",
                  "  Clique: 133\n",
                  "  MIR: 444\n",
                  "  StrongCG: 161\n",
                  "  GUB cover: 25\n",
                  "  Inf proof: 1\n",
                  "  Zero half: 15\n",
                  "  RLT: 19\n",
                  "  Relax-and-lift: 226\n",
                  "\n",
                  "Explored 1939 nodes (240216 simplex iterations) in 13.43 seconds (14.16 work units)\n",
                  "Thread count was 12 (of 12 available processors)\n",
                  "\n",
                  "Solution count 10: 4116 4115 4096 ... 3655\n",
                  "\n",
                  "Optimal solution found (tolerance 1.00e-04)\n",
                  "Best objective 4.116000000000e+03, best bound 4.116000000000e+03, gap 0.0000%\n"
               ]
            },
            {
               "name": "stderr",
               "output_type": "stream",
               "text": [
                  " 56%|█████▋    | 9/16 [02:51<02:13, 19.00s/it]"
               ]
            },
            {
               "name": "stdout",
               "output_type": "stream",
               "text": [
                  "Gurobi Optimizer version 10.0.0 build v10.0.0rc2 (win64)\n",
                  "\n",
                  "CPU model: AMD Ryzen 5 5600H with Radeon Graphics, instruction set [SSE2|AVX|AVX2]\n",
                  "Thread count: 6 physical cores, 12 logical processors, using up to 12 threads\n",
                  "\n",
                  "Optimize a model with 45066 rows, 16733 columns and 117817 nonzeros\n",
                  "Model fingerprint: 0x99d3cb03\n",
                  "Model has 151 general constraints\n",
                  "Variable types: 0 continuous, 16733 integer (16590 binary)\n",
                  "Coefficient statistics:\n",
                  "  Matrix range     [1e+00, 7e+01]\n",
                  "  Objective range  [1e+00, 1e+01]\n",
                  "  Bounds range     [1e+00, 2e+01]\n",
                  "  RHS range        [1e+00, 2e+01]\n",
                  "  GenCon rhs range [1e+00, 1e+00]\n",
                  "  GenCon coe range [1e+00, 1e+00]\n",
                  "Presolve removed 41627 rows and 13697 columns\n",
                  "Presolve time: 0.19s\n",
                  "Presolved: 3439 rows, 3036 columns, 17309 nonzeros\n",
                  "Variable types: 0 continuous, 3036 integer (2898 binary)\n",
                  "Found heuristic solution: objective -1.0000000\n",
                  "\n",
                  "Root relaxation: objective 4.446214e+03, 2955 iterations, 0.12 seconds (0.22 work units)\n",
                  "\n",
                  "    Nodes    |    Current Node    |     Objective Bounds      |     Work\n",
                  " Expl Unexpl |  Obj  Depth IntInf | Incumbent    BestBd   Gap | It/Node Time\n",
                  "\n",
                  "     0     0 4446.21429    0  265   -1.00000 4446.21429      -     -    0s\n",
                  "H    0     0                     207.0000000 4446.21429  2048%     -    0s\n",
                  "H    0     0                     817.0000000 4446.21429   444%     -    0s\n",
                  "H    0     0                     818.0000000 4446.21429   444%     -    0s\n",
                  "H    0     0                    1117.0000000 4446.21429   298%     -    0s\n",
                  "H    0     0                    2288.0000000 4426.95497  93.5%     -    0s\n",
                  "     0     0 4426.95497    0  327 2288.00000 4426.95497  93.5%     -    0s\n",
                  "H    0     0                    2787.0000000 4426.95497  58.8%     -    0s\n",
                  "     0     0 4426.25497    0  289 2787.00000 4426.25497  58.8%     -    1s\n",
                  "     0     0 4426.25497    0  287 2787.00000 4426.25497  58.8%     -    1s\n",
                  "     0     0 4404.25000    0  336 2787.00000 4404.25000  58.0%     -    1s\n",
                  "     0     0 4403.40159    0  289 2787.00000 4403.40159  58.0%     -    1s\n",
                  "     0     0 4403.16255    0  299 2787.00000 4403.16255  58.0%     -    1s\n",
                  "     0     0 4403.16255    0  292 2787.00000 4403.16255  58.0%     -    1s\n",
                  "     0     0 4392.81820    0  317 2787.00000 4392.81820  57.6%     -    1s\n",
                  "H    0     0                    2788.0000000 4392.81820  57.6%     -    1s\n",
                  "H    0     0                    2888.0000000 4392.55444  52.1%     -    1s\n",
                  "     0     0 4392.55444    0  308 2888.00000 4392.55444  52.1%     -    1s\n",
                  "     0     0 4392.55444    0  302 2888.00000 4392.55444  52.1%     -    1s\n",
                  "H    0     0                    3137.0000000 4348.27071  38.6%     -    1s\n",
                  "     0     0 4348.27071    0  310 3137.00000 4348.27071  38.6%     -    2s\n",
                  "     0     0 4348.27071    0  302 3137.00000 4348.27071  38.6%     -    2s\n",
                  "     0     0 4318.84127    0  338 3137.00000 4318.84127  37.7%     -    2s\n",
                  "H    0     0                    3138.0000000 4312.28379  37.4%     -    2s\n",
                  "     0     0 4312.28379    0  329 3138.00000 4312.28379  37.4%     -    2s\n",
                  "     0     0 4312.25437    0  330 3138.00000 4312.25437  37.4%     -    2s\n",
                  "     0     0 4300.57400    0  312 3138.00000 4300.57400  37.0%     -    2s\n",
                  "     0     0 4300.30958    0  331 3138.00000 4300.30958  37.0%     -    2s\n",
                  "     0     0 4300.28432    0  318 3138.00000 4300.28432  37.0%     -    2s\n",
                  "H    0     0                    3237.0000000 4281.26668  32.3%     -    2s\n",
                  "     0     0 4281.26668    0  323 3237.00000 4281.26668  32.3%     -    2s\n",
                  "H    0     0                    3426.0000000 4281.26668  25.0%     -    2s\n",
                  "     0     0 4280.68027    0  333 3426.00000 4280.68027  24.9%     -    2s\n",
                  "     0     0 4280.44117    0  341 3426.00000 4280.44117  24.9%     -    3s\n",
                  "     0     0 4280.31309    0  359 3426.00000 4280.31309  24.9%     -    3s\n",
                  "     0     0 4280.30892    0  342 3426.00000 4280.30892  24.9%     -    3s\n",
                  "     0     0 4271.49272    0  329 3426.00000 4271.49272  24.7%     -    3s\n",
                  "     0     0 4265.84768    0  316 3426.00000 4265.84768  24.5%     -    3s\n",
                  "H    0     0                    3438.0000000 4262.18563  24.0%     -    3s\n",
                  "     0     0 4262.18563    0  325 3438.00000 4262.18563  24.0%     -    3s\n",
                  "     0     0 4262.11856    0  354 3438.00000 4262.11856  24.0%     -    3s\n",
                  "     0     0 4262.11662    0  333 3438.00000 4262.11662  24.0%     -    3s\n",
                  "H    0     0                    3547.0000000 4256.85372  20.0%     -    3s\n",
                  "     0     0 4256.85372    0  350 3547.00000 4256.85372  20.0%     -    3s\n",
                  "     0     0 4255.43288    0  320 3547.00000 4255.43288  20.0%     -    3s\n",
                  "     0     0 4252.63275    0  357 3547.00000 4252.63275  19.9%     -    3s\n",
                  "     0     0 4252.40804    0  347 3547.00000 4252.40804  19.9%     -    3s\n",
                  "     0     0 4252.38707    0  349 3547.00000 4252.38707  19.9%     -    3s\n",
                  "     0     0 4243.96833    0  350 3547.00000 4243.96833  19.6%     -    3s\n",
                  "     0     0 4240.02655    0  357 3547.00000 4240.02655  19.5%     -    3s\n",
                  "     0     0 4238.55260    0  365 3547.00000 4238.55260  19.5%     -    3s\n",
                  "     0     0 4238.24291    0  388 3547.00000 4238.24291  19.5%     -    3s\n",
                  "     0     0 4238.21616    0  394 3547.00000 4238.21616  19.5%     -    4s\n",
                  "     0     0 4231.97712    0  381 3547.00000 4231.97712  19.3%     -    4s\n",
                  "     0     0 4231.09298    0  387 3547.00000 4231.09298  19.3%     -    4s\n",
                  "     0     0 4231.03075    0  379 3547.00000 4231.03075  19.3%     -    4s\n",
                  "     0     0 4227.70533    0  365 3547.00000 4227.70533  19.2%     -    4s\n",
                  "     0     0 4226.49276    0  370 3547.00000 4226.49276  19.2%     -    4s\n",
                  "     0     0 4226.13663    0  392 3547.00000 4226.13663  19.1%     -    4s\n",
                  "     0     0 4225.99741    0  369 3547.00000 4225.99741  19.1%     -    4s\n",
                  "     0     0 4223.40617    0  374 3547.00000 4223.40617  19.1%     -    4s\n",
                  "     0     0 4223.20586    0  392 3547.00000 4223.20586  19.1%     -    4s\n",
                  "     0     0 4223.12655    0  396 3547.00000 4223.12655  19.1%     -    4s\n",
                  "     0     0 4222.83476    0  369 3547.00000 4222.83476  19.1%     -    4s\n",
                  "     0     0 4222.74242    0  375 3547.00000 4222.74242  19.1%     -    4s\n",
                  "     0     0 4222.20242    0  427 3547.00000 4222.20242  19.0%     -    5s\n",
                  "     0     0 4222.20242    0  393 3547.00000 4222.20242  19.0%     -    5s\n",
                  "     0     2 4222.20242    0  379 3547.00000 4222.20242  19.0%     -    5s\n",
                  "H   31    38                    3607.0000000 4218.46518  17.0%   422    5s\n",
                  "H   33    38                    3686.0000000 4218.46518  14.4%   415    5s\n",
                  "H   34    38                    3977.0000000 4218.46518  6.07%   404    5s\n",
                  "H   65    72                    4007.0000000 4218.46518  5.28%   298    6s\n",
                  "H   74    80                    4086.0000000 4218.46518  3.24%   280    6s\n",
                  "H  113    91                    4116.0000000 4215.40066  2.41%   245    6s\n",
                  "   760   140     cutoff    7      4116.00000 4156.12554  0.97%   186   10s\n",
                  "\n",
                  "Cutting planes:\n",
                  "  Learned: 2\n",
                  "  Gomory: 27\n",
                  "  Cover: 673\n",
                  "  Implied bound: 119\n",
                  "  Clique: 135\n",
                  "  MIR: 995\n",
                  "  StrongCG: 308\n",
                  "  GUB cover: 97\n",
                  "  Inf proof: 5\n",
                  "  Zero half: 35\n",
                  "  RLT: 14\n",
                  "  Relax-and-lift: 435\n",
                  "\n",
                  "Explored 2751 nodes (357771 simplex iterations) in 13.72 seconds (17.72 work units)\n",
                  "Thread count was 12 (of 12 available processors)\n",
                  "\n",
                  "Solution count 10: 4116 4086 4007 ... 3237\n",
                  "\n",
                  "Optimal solution found (tolerance 1.00e-04)\n",
                  "Best objective 4.116000000000e+03, best bound 4.116000000000e+03, gap 0.0000%\n"
               ]
            },
            {
               "name": "stderr",
               "output_type": "stream",
               "text": [
                  " 62%|██████▎   | 10/16 [03:05<01:45, 17.62s/it]"
               ]
            },
            {
               "name": "stdout",
               "output_type": "stream",
               "text": [
                  "Gurobi Optimizer version 10.0.0 build v10.0.0rc2 (win64)\n",
                  "\n",
                  "CPU model: AMD Ryzen 5 5600H with Radeon Graphics, instruction set [SSE2|AVX|AVX2]\n",
                  "Thread count: 6 physical cores, 12 logical processors, using up to 12 threads\n",
                  "\n",
                  "Optimize a model with 45066 rows, 16733 columns and 117817 nonzeros\n",
                  "Model fingerprint: 0x4ef7a8b5\n",
                  "Model has 151 general constraints\n",
                  "Variable types: 0 continuous, 16733 integer (16590 binary)\n",
                  "Coefficient statistics:\n",
                  "  Matrix range     [1e+00, 7e+01]\n",
                  "  Objective range  [1e+00, 1e+01]\n",
                  "  Bounds range     [1e+00, 2e+01]\n",
                  "  RHS range        [1e+00, 2e+01]\n",
                  "  GenCon rhs range [1e+00, 1e+00]\n",
                  "  GenCon coe range [1e+00, 1e+00]\n",
                  "Presolve removed 41627 rows and 13697 columns\n",
                  "Presolve time: 0.17s\n",
                  "Presolved: 3439 rows, 3036 columns, 17309 nonzeros\n",
                  "Variable types: 0 continuous, 3036 integer (2898 binary)\n",
                  "Found heuristic solution: objective -1.0000000\n",
                  "\n",
                  "Root relaxation: objective 4.446214e+03, 2955 iterations, 0.13 seconds (0.22 work units)\n",
                  "\n",
                  "    Nodes    |    Current Node    |     Objective Bounds      |     Work\n",
                  " Expl Unexpl |  Obj  Depth IntInf | Incumbent    BestBd   Gap | It/Node Time\n",
                  "\n",
                  "     0     0 4446.21429    0  255   -1.00000 4446.21429      -     -    0s\n",
                  "H    0     0                    1107.0000000 4446.21429   302%     -    0s\n",
                  "H    0     0                    1417.0000000 4446.21429   214%     -    0s\n",
                  "H    0     0                    1418.0000000 4446.21429   214%     -    0s\n",
                  "H    0     0                    2718.0000000 4427.85497  62.9%     -    0s\n",
                  "     0     0 4427.85497    0  340 2718.00000 4427.85497  62.9%     -    0s\n",
                  "H    0     0                    2748.0000000 4427.85497  61.1%     -    0s\n",
                  "     0     0 4427.15497    0  330 2748.00000 4427.15497  61.1%     -    1s\n",
                  "     0     0 4426.11688    0  315 2748.00000 4426.11688  61.1%     -    1s\n",
                  "     0     0 4406.13856    0  346 2748.00000 4406.13856  60.3%     -    1s\n",
                  "     0     0 4404.81087    0  347 2748.00000 4404.81087  60.3%     -    1s\n",
                  "     0     0 4404.81087    0  338 2748.00000 4404.81087  60.3%     -    1s\n",
                  "H    0     0                    2947.0000000 4394.95932  49.1%     -    1s\n",
                  "H    0     0                    3397.0000000 4394.95932  29.4%     -    1s\n",
                  "H    0     0                    3487.0000000 4394.95932  26.0%     -    1s\n",
                  "     0     0 4394.95932    0  313 3487.00000 4394.95932  26.0%     -    1s\n",
                  "     0     0 4392.66471    0  300 3487.00000 4392.66471  26.0%     -    1s\n",
                  "     0     0 4389.77531    0  311 3487.00000 4389.77531  25.9%     -    1s\n",
                  "     0     0 4389.77531    0  306 3487.00000 4389.77531  25.9%     -    2s\n",
                  "     0     0 4358.18042    0  295 3487.00000 4358.18042  25.0%     -    2s\n",
                  "     0     0 4335.43175    0  301 3487.00000 4335.43175  24.3%     -    2s\n",
                  "     0     0 4330.70624    0  301 3487.00000 4330.70624  24.2%     -    2s\n",
                  "     0     0 4330.49187    0  297 3487.00000 4330.49187  24.2%     -    2s\n",
                  "     0     0 4330.49187    0  290 3487.00000 4330.49187  24.2%     -    2s\n",
                  "     0     0 4287.01806    0  339 3487.00000 4287.01806  22.9%     -    2s\n",
                  "H    0     0                    3577.0000000 4287.01806  19.8%     -    2s\n",
                  "     0     0 4285.36731    0  341 3577.00000 4285.36731  19.8%     -    2s\n",
                  "     0     0 4284.19218    0  379 3577.00000 4284.19218  19.8%     -    2s\n",
                  "     0     0 4284.05993    0  339 3577.00000 4284.05993  19.8%     -    2s\n",
                  "     0     0 4284.05992    0  340 3577.00000 4284.05992  19.8%     -    2s\n",
                  "H    0     0                    3727.0000000 4254.09444  14.1%     -    2s\n",
                  "     0     0 4254.09444    0  317 3727.00000 4254.09444  14.1%     -    2s\n",
                  "     0     0 4252.81417    0  331 3727.00000 4252.81417  14.1%     -    2s\n",
                  "     0     0 4252.40722    0  367 3727.00000 4252.40722  14.1%     -    2s\n",
                  "     0     0 4252.15661    0  345 3727.00000 4252.15661  14.1%     -    2s\n",
                  "     0     0 4252.12753    0  368 3727.00000 4252.12753  14.1%     -    2s\n",
                  "H    0     0                    3728.0000000 4237.96038  13.7%     -    3s\n",
                  "     0     0 4237.96038    0  347 3728.00000 4237.96038  13.7%     -    3s\n",
                  "H    0     0                    3887.0000000 4237.96038  9.03%     -    3s\n",
                  "     0     0 4235.65965    0  371 3887.00000 4235.65965  8.97%     -    3s\n",
                  "     0     0 4233.56751    0  378 3887.00000 4233.56751  8.92%     -    3s\n",
                  "     0     0 4233.15845    0  375 3887.00000 4233.15845  8.91%     -    3s\n",
                  "     0     0 4233.06799    0  412 3887.00000 4233.06799  8.90%     -    3s\n",
                  "     0     0 4233.00415    0  399 3887.00000 4233.00415  8.90%     -    3s\n",
                  "     0     0 4222.72971    0  348 3887.00000 4222.72971  8.64%     -    3s\n",
                  "     0     0 4221.43469    0  385 3887.00000 4221.43469  8.60%     -    3s\n",
                  "     0     0 4220.32092    0  371 3887.00000 4220.32092  8.58%     -    3s\n",
                  "     0     0 4220.17825    0  372 3887.00000 4220.17825  8.57%     -    3s\n",
                  "     0     0 4220.15992    0  368 3887.00000 4220.15992  8.57%     -    3s\n",
                  "     0     0 4217.82616    0  424 3887.00000 4217.82616  8.51%     -    3s\n",
                  "H    0     0                    3917.0000000 4217.82616  7.68%     -    3s\n",
                  "     0     0 4217.43138    0  394 3917.00000 4217.43138  7.67%     -    3s\n",
                  "     0     0 4217.33453    0  408 3917.00000 4217.33453  7.67%     -    3s\n",
                  "     0     0 4217.26474    0  377 3917.00000 4217.26474  7.67%     -    3s\n",
                  "     0     0 4215.40823    0  333 3917.00000 4215.40823  7.62%     -    4s\n",
                  "     0     0 4213.51593    0  416 3917.00000 4213.51593  7.57%     -    4s\n",
                  "     0     0 4213.05023    0  412 3917.00000 4213.05023  7.56%     -    4s\n",
                  "     0     0 4212.88221    0  419 3917.00000 4212.88221  7.55%     -    4s\n",
                  "     0     0 4212.80010    0  414 3917.00000 4212.80010  7.55%     -    4s\n",
                  "     0     0 4211.30297    0  339 3917.00000 4211.30297  7.51%     -    4s\n",
                  "     0     0 4210.74465    0  362 3917.00000 4210.74465  7.50%     -    4s\n",
                  "     0     0 4210.42466    0  358 3917.00000 4210.42466  7.49%     -    4s\n",
                  "     0     0 4210.35706    0  333 3917.00000 4210.35706  7.49%     -    4s\n",
                  "     0     0 4208.13146    0  297 3917.00000 4208.13146  7.43%     -    4s\n",
                  "     0     0 4207.30817    0  331 3917.00000 4207.30817  7.41%     -    4s\n",
                  "     0     0 4207.15650    0  353 3917.00000 4207.15650  7.41%     -    4s\n",
                  "     0     0 4207.08668    0  348 3917.00000 4207.08668  7.41%     -    4s\n",
                  "     0     0 4206.70808    0  345 3917.00000 4206.70808  7.40%     -    4s\n",
                  "     0     0 4204.24711    0  402 3917.00000 4204.24711  7.33%     -    4s\n",
                  "     0     0 4204.00064    0  428 3917.00000 4204.00064  7.33%     -    4s\n",
                  "     0     0 4203.53622    0  446 3917.00000 4203.53622  7.32%     -    4s\n",
                  "     0     0 4203.44688    0  462 3917.00000 4203.44688  7.31%     -    4s\n",
                  "     0     0 4199.97122    0  370 3917.00000 4199.97122  7.22%     -    5s\n",
                  "     0     0 4199.48100    0  369 3917.00000 4199.48100  7.21%     -    5s\n",
                  "     0     0 4199.30921    0  387 3917.00000 4199.30921  7.21%     -    5s\n",
                  "     0     0 4199.20074    0  387 3917.00000 4199.20074  7.20%     -    5s\n",
                  "     0     0 4199.12304    0  377 3917.00000 4199.12304  7.20%     -    5s\n",
                  "     0     0 4197.85484    0  392 3917.00000 4197.85484  7.17%     -    5s\n",
                  "     0     0 4197.45762    0  425 3917.00000 4197.45762  7.16%     -    5s\n",
                  "     0     0 4197.43712    0  427 3917.00000 4197.43712  7.16%     -    5s\n",
                  "     0     0 4196.78550    0  367 3917.00000 4196.78550  7.14%     -    5s\n",
                  "     0     0 4194.05447    0  388 3917.00000 4194.05447  7.07%     -    5s\n",
                  "     0     2 4194.05447    0  375 3917.00000 4194.05447  7.07%     -    6s\n",
                  "H   72    75                    3957.0000000 4192.55583  5.95%   252    7s\n",
                  "H  402   332                    3987.0000000 4192.55583  5.16%   137    9s\n",
                  "   588   367 4154.13916   10  263 3987.00000 4179.59271  4.83%   118   10s\n",
                  "  1363   892 4064.19493   54  445 3987.00000 4174.45770  4.70%  97.3   15s\n",
                  "H 1375   854                    4017.0000000 4171.59003  3.85%  96.5   17s\n",
                  "  1386   861 4081.41370   25  341 4017.00000 4170.12511  3.81%  95.7   20s\n",
                  "  1471   921 4103.27411   37  205 4017.00000 4168.82175  3.78%   152   25s\n",
                  "H 1473   875                    4027.0000000 4168.82175  3.52%   152   25s\n",
                  "  2463   976 4082.08474   54  267 4027.00000 4162.02228  3.35%   148   30s\n",
                  "  3867  1092 4050.16667   75  219 4027.00000 4142.32365  2.86%   162   35s\n",
                  "H 4018  1096                    4037.0000000 4142.00646  2.60%   166   36s\n",
                  "  4718  1286 infeasible   49      4037.00000 4134.92258  2.43%   174   40s\n",
                  "  5983  1703 4084.98548   55  233 4037.00000 4129.87459  2.30%   189   45s\n",
                  "  7749  2031 infeasible   61      4037.00000 4121.37539  2.09%   199   50s\n",
                  "  9259  2304 4108.72441   48  353 4037.00000 4119.03378  2.03%   205   55s\n",
                  "* 9577  1849              61    4057.0000000 4118.75894  1.52%   204   56s\n",
                  "*10315   953              58    4087.0000000 4117.78519  0.75%   203   57s\n",
                  "\n",
                  "Cutting planes:\n",
                  "  Learned: 14\n",
                  "  Gomory: 21\n",
                  "  Cover: 409\n",
                  "  Implied bound: 62\n",
                  "  Projected implied bound: 27\n",
                  "  Clique: 106\n",
                  "  MIR: 357\n",
                  "  StrongCG: 110\n",
                  "  Flow cover: 649\n",
                  "  GUB cover: 35\n",
                  "  Inf proof: 7\n",
                  "  Zero half: 17\n",
                  "  RLT: 14\n",
                  "  Relax-and-lift: 270\n",
                  "\n",
                  "Explored 11517 nodes (2227119 simplex iterations) in 58.70 seconds (99.04 work units)\n",
                  "Thread count was 12 (of 12 available processors)\n",
                  "\n",
                  "Solution count 10: 4087 4057 4037 ... 3728\n",
                  "\n",
                  "Optimal solution found (tolerance 1.00e-04)\n",
                  "Best objective 4.087000000000e+03, best bound 4.087000000000e+03, gap 0.0000%\n"
               ]
            },
            {
               "name": "stderr",
               "output_type": "stream",
               "text": [
                  " 69%|██████▉   | 11/16 [04:05<02:32, 30.47s/it]"
               ]
            },
            {
               "name": "stdout",
               "output_type": "stream",
               "text": [
                  "Gurobi Optimizer version 10.0.0 build v10.0.0rc2 (win64)\n",
                  "\n",
                  "CPU model: AMD Ryzen 5 5600H with Radeon Graphics, instruction set [SSE2|AVX|AVX2]\n",
                  "Thread count: 6 physical cores, 12 logical processors, using up to 12 threads\n",
                  "\n",
                  "Optimize a model with 45066 rows, 16733 columns and 117817 nonzeros\n",
                  "Model fingerprint: 0x256ccbb7\n",
                  "Model has 151 general constraints\n",
                  "Variable types: 0 continuous, 16733 integer (16590 binary)\n",
                  "Coefficient statistics:\n",
                  "  Matrix range     [1e+00, 7e+01]\n",
                  "  Objective range  [1e+00, 1e+01]\n",
                  "  Bounds range     [1e+00, 2e+01]\n",
                  "  RHS range        [1e+00, 2e+01]\n",
                  "  GenCon rhs range [1e+00, 1e+00]\n",
                  "  GenCon coe range [1e+00, 1e+00]\n",
                  "Presolve removed 41627 rows and 13697 columns\n",
                  "Presolve time: 0.16s\n",
                  "Presolved: 3439 rows, 3036 columns, 17309 nonzeros\n",
                  "Variable types: 0 continuous, 3036 integer (2898 binary)\n",
                  "Found heuristic solution: objective -1.0000000\n",
                  "\n",
                  "Root relaxation: objective 4.446214e+03, 2955 iterations, 0.13 seconds (0.22 work units)\n",
                  "\n",
                  "    Nodes    |    Current Node    |     Objective Bounds      |     Work\n",
                  " Expl Unexpl |  Obj  Depth IntInf | Incumbent    BestBd   Gap | It/Node Time\n",
                  "\n",
                  "     0     0 4446.21429    0  252   -1.00000 4446.21429      -     -    0s\n",
                  "H    0     0                     498.0000000 4446.21429   793%     -    0s\n",
                  "H    0     0                    1068.0000000 4446.21429   316%     -    0s\n",
                  "H    0     0                    2148.0000000 4427.56925   106%     -    0s\n",
                  "     0     0 4427.56925    0  335 2148.00000 4427.56925   106%     -    0s\n",
                  "H    0     0                    2328.0000000 4427.56925  90.2%     -    0s\n",
                  "     0     0 4408.65657    0  326 2328.00000 4408.65657  89.4%     -    0s\n",
                  "     0     0 4408.65657    0  329 2328.00000 4408.65657  89.4%     -    0s\n",
                  "     0     0 4408.65657    0  324 2328.00000 4408.65657  89.4%     -    0s\n",
                  "H    0     0                    2658.0000000 4395.49124  65.4%     -    1s\n",
                  "     0     0 4395.17174    0  299 2658.00000 4395.17174  65.4%     -    1s\n",
                  "     0     0 4392.95857    0  304 2658.00000 4392.95857  65.3%     -    1s\n",
                  "     0     0 4392.46666    0  280 2658.00000 4392.46666  65.3%     -    1s\n",
                  "     0     0 4392.46666    0  274 2658.00000 4392.46666  65.3%     -    1s\n",
                  "     0     0 4365.63770    0  296 2658.00000 4365.63770  64.2%     -    1s\n",
                  "H    0     0                    2839.0000000 4365.63770  53.8%     -    1s\n",
                  "     0     0 4360.73504    0  306 2839.00000 4360.73504  53.6%     -    1s\n",
                  "     0     0 4360.73504    0  284 2839.00000 4360.73504  53.6%     -    1s\n",
                  "H    0     0                    3178.0000000 4329.55980  36.2%     -    1s\n",
                  "     0     0 4329.55980    0  318 3178.00000 4329.55980  36.2%     -    1s\n",
                  "     0     0 4327.30165    0  302 3178.00000 4327.30165  36.2%     -    1s\n",
                  "     0     0 4325.23256    0  323 3178.00000 4325.23256  36.1%     -    1s\n",
                  "     0     0 4325.23256    0  315 3178.00000 4325.23256  36.1%     -    1s\n",
                  "     0     0 4308.36637    0  334 3178.00000 4308.36637  35.6%     -    2s\n",
                  "H    0     0                    3428.0000000 4305.26007  25.6%     -    2s\n",
                  "     0     0 4305.26007    0  315 3428.00000 4305.26007  25.6%     -    2s\n",
                  "H    0     0                    3458.0000000 4305.03798  24.5%     -    2s\n",
                  "     0     0 4305.03798    0  349 3458.00000 4305.03798  24.5%     -    2s\n",
                  "     0     0 4305.01772    0  348 3458.00000 4305.01772  24.5%     -    2s\n",
                  "H    0     0                    3548.0000000 4284.02868  20.7%     -    2s\n",
                  "     0     0 4284.02868    0  335 3548.00000 4284.02868  20.7%     -    2s\n",
                  "     0     0 4280.16361    0  335 3548.00000 4280.16361  20.6%     -    2s\n",
                  "     0     0 4277.84968    0  302 3548.00000 4277.84968  20.6%     -    2s\n",
                  "     0     0 4275.12031    0  365 3548.00000 4275.12031  20.5%     -    2s\n",
                  "     0     0 4275.01675    0  357 3548.00000 4275.01675  20.5%     -    2s\n",
                  "     0     0 4275.00909    0  361 3548.00000 4275.00909  20.5%     -    2s\n",
                  "H    0     0                    3578.0000000 4197.75536  17.3%     -    2s\n",
                  "     0     0 4197.75536    0  325 3578.00000 4197.75536  17.3%     -    2s\n",
                  "     0     0 4191.82197    0  308 3578.00000 4191.82197  17.2%     -    2s\n",
                  "     0     0 4190.38731    0  306 3578.00000 4190.38731  17.1%     -    2s\n",
                  "     0     0 4190.30910    0  313 3578.00000 4190.30910  17.1%     -    2s\n",
                  "H    0     0                    3638.0000000 4190.30910  15.2%     -    2s\n",
                  "     0     0 4176.49982    0  284 3638.00000 4176.49982  14.8%     -    2s\n",
                  "     0     0 4171.98095    0  339 3638.00000 4171.98095  14.7%     -    3s\n",
                  "     0     0 4171.23892    0  332 3638.00000 4171.23892  14.7%     -    3s\n",
                  "     0     0 4170.51834    0  329 3638.00000 4170.51834  14.6%     -    3s\n",
                  "     0     0 4170.47868    0  385 3638.00000 4170.47868  14.6%     -    3s\n",
                  "     0     0 4163.17362    0  309 3638.00000 4163.17362  14.4%     -    3s\n",
                  "     0     0 4160.22868    0  328 3638.00000 4160.22868  14.4%     -    3s\n",
                  "     0     0 4160.03556    0  334 3638.00000 4160.03556  14.3%     -    3s\n",
                  "     0     0 4160.03067    0  339 3638.00000 4160.03067  14.3%     -    3s\n",
                  "     0     0 4157.53661    0  354 3638.00000 4157.53661  14.3%     -    3s\n",
                  "     0     0 4155.09834    0  371 3638.00000 4155.09834  14.2%     -    3s\n",
                  "     0     0 4154.88244    0  373 3638.00000 4154.88244  14.2%     -    3s\n",
                  "H    0     0                    3808.0000000 4154.78588  9.11%     -    3s\n",
                  "     0     0 4154.78588    0  416 3808.00000 4154.78588  9.11%     -    3s\n",
                  "     0     0 4154.06080    0  432 3808.00000 4154.06080  9.09%     -    3s\n",
                  "     0     0 4153.78013    0  420 3808.00000 4153.78013  9.08%     -    3s\n",
                  "     0     0 4153.58192    0  466 3808.00000 4153.58192  9.08%     -    3s\n",
                  "     0     0 4153.57607    0  463 3808.00000 4153.57607  9.08%     -    3s\n",
                  "     0     0 4152.92814    0  468 3808.00000 4152.92814  9.06%     -    3s\n",
                  "     0     0 4152.92814    0  426 3808.00000 4152.92814  9.06%     -    3s\n",
                  "     0     2 4152.92814    0  409 3808.00000 4152.92814  9.06%     -    4s\n",
                  "    59    69 4041.94441    7  259 3808.00000 4149.19893  8.96%   374    5s\n",
                  "H   68    75                    3838.0000000 4149.19893  8.11%   345    5s\n",
                  "   974   747 3919.69345   50  180 3838.00000 4128.66683  7.57%   150   10s\n",
                  "  1324   914 3906.23404   43  484 3838.00000 4124.57699  7.47%   147   15s\n",
                  "  1335   922 4106.40493    9  277 3838.00000 4123.61707  7.44%   169   20s\n",
                  "  1558  1069 3905.29664   41  195 3838.00000 4122.21358  7.41%   197   25s\n",
                  "  2375  1218 4081.01261   34  234 3838.00000 4122.21344  7.41%   184   30s\n",
                  "  4346  1646 3960.12753   43  207 3838.00000 4099.04942  6.80%   173   35s\n",
                  "  7485  3086 3905.28000   54  137 3838.00000 4082.60800  6.37%   156   40s\n",
                  " 10447  4516 3858.00000   46   81 3838.00000 4078.21261  6.26%   149   45s\n",
                  " 11793  5023 3976.75191   44  226 3838.00000 4073.12910  6.13%   148   50s\n",
                  "H12957  5488                    3839.0000000 4073.12910  6.10%   148   53s\n",
                  " 13017  6447 3922.12375   42  167 3839.00000 4073.12910  6.10%   148   59s\n",
                  " 15268  6681     cutoff   99      3839.00000 4072.12711  6.07%   151   60s\n",
                  "*16669  6649              76    3868.0000000 4072.00000  5.27%   152   61s\n",
                  " 18338  7538 3964.26648   52  122 3868.00000 4070.58333  5.24%   151   65s\n",
                  "*18807  7447              77    3878.0000000 4070.41858  4.96%   151   65s\n",
                  "*19456  7061              70    3898.0000000 4070.02228  4.41%   150   66s\n",
                  "H19600  6785                    3908.0000000 4069.91069  4.14%   151   66s\n",
                  " 21242  7081 4002.52591   28  248 3908.00000 4068.03478  4.10%   150   70s\n",
                  " 24009  7567 3972.71749   49  242 3908.00000 4061.74959  3.93%   153   76s\n",
                  " 25766  7855 4049.50000   44  426 3908.00000 4059.78213  3.88%   154  101s\n",
                  " 25774  7860 4053.51903   42  468 3908.00000 4059.78213  3.88%   154  105s\n",
                  " 25779  7864 4011.00000   55  586 3908.00000 4059.78213  3.88%   154  111s\n",
                  " 25783  7866 3948.00000   62  551 3908.00000 4059.78213  3.88%   154  115s\n",
                  " 25789  7870 3980.26143   44  565 3908.00000 4059.78213  3.88%   154  120s\n",
                  " 25795  7874 4009.16729   49  562 3908.00000 4059.78213  3.88%   154  125s\n",
                  " 25801  7878 4022.54049   45  581 3908.00000 4059.78213  3.88%   154  130s\n",
                  " 25807  7882 4038.94979   45  557 3908.00000 4059.78213  3.88%   154  135s\n",
                  " 25814  7887 3949.00000   64  555 3908.00000 4059.78213  3.88%   154  140s\n",
                  " 25819  7890 3921.66926   46  565 3908.00000 4059.78213  3.88%   154  145s\n",
                  " 25826  7895 3999.42047   50  636 3908.00000 4059.78213  3.88%   154  150s\n",
                  " 25832  7899 4017.09007   43  595 3908.00000 4059.78213  3.88%   154  155s\n",
                  " 25838  7903 3979.89335   48  595 3908.00000 4059.78213  3.88%   154  160s\n",
                  " 25843  7906 3959.06172   90  603 3908.00000 4059.78213  3.88%   154  165s\n",
                  " 25849  7910 4051.50312   57  606 3908.00000 4059.78213  3.88%   154  170s\n",
                  " 25856  7915 3983.86453   43  586 3908.00000 4059.78213  3.88%   154  175s\n",
                  " 25862  7919 4052.25373   55  591 3908.00000 4059.78213  3.88%   154  180s\n",
                  " 25868  7923 3943.70980   51  632 3908.00000 4059.78213  3.88%   154  185s\n",
                  " 25875  7928 3941.05882   51  599 3908.00000 4059.78213  3.88%   154  190s\n",
                  " 25881  7932 4030.07682   62  642 3908.00000 4059.78213  3.88%   154  195s\n",
                  " 25887  7936 4059.03098   45  614 3908.00000 4059.78213  3.88%   153  200s\n",
                  " 25894  7940 3981.68282   37  622 3908.00000 4059.78213  3.88%   153  205s\n",
                  " 25900  7944 3952.04910   48  600 3908.00000 4059.78213  3.88%   153  210s\n",
                  " 25909  7950 3958.00000   51  616 3908.00000 4059.78213  3.88%   153  215s\n",
                  " 25927  7962 3953.60327   41  650 3908.00000 4059.78213  3.88%   153  220s\n",
                  " 25944  7974 3973.08790   35  643 3908.00000 4059.78213  3.88%   153  225s\n",
                  " 25957  7982 4051.85675   49  591 3908.00000 4059.78213  3.88%   153  230s\n",
                  " 25970  7991 4028.80249   49  640 3908.00000 4059.78213  3.88%   153  235s\n",
                  "H26044  7638                    3958.0000000 4059.78213  2.57%   160  239s\n",
                  " 26072  7656 infeasible   43      3958.00000 4059.78213  2.57%   160  240s\n",
                  " 26229  7649 4059.78213   39  404 3958.00000 4059.78213  2.57%   163  245s\n",
                  " 26516  7661 infeasible   45      3958.00000 4059.78213  2.57%   167  250s\n",
                  " 26780  7691 4048.05298   42  258 3958.00000 4059.78213  2.57%   171  255s\n",
                  " 27322  7707 3971.92178   43  228 3958.00000 4059.78213  2.57%   178  261s\n",
                  " 27602  7725 4023.30104   52  247 3958.00000 4059.78213  2.57%   182  265s\n",
                  " 28100  7715     cutoff   48      3958.00000 4059.78213  2.57%   187  271s\n",
                  " 28571  7670 infeasible   61      3958.00000 4059.78213  2.57%   192  275s\n",
                  " 29237  7566 3990.59499   52  275 3958.00000 4059.78213  2.57%   200  281s\n",
                  " 29734  7533 4039.72564   44  205 3958.00000 4059.78213  2.57%   203  285s\n",
                  " 30412  7402 4011.84054   41  149 3958.00000 4059.78213  2.57%   208  290s\n",
                  " 31532  7132 3972.89008   50  259 3958.00000 4058.68776  2.54%   213  297s\n",
                  " 32235  7074 4052.56996   47  308 3958.00000 4053.29772  2.41%   217  301s\n",
                  " 33636  6746 4007.29275   63  119 3958.00000 4050.70853  2.34%   220  306s\n",
                  " 34315  6549 4020.00000   58  149 3958.00000 4042.88551  2.14%   221  314s\n",
                  " 35022  6287 3991.53808   49  120 3958.00000 4041.00000  2.10%   222  317s\n",
                  " 36888  5738 infeasible   43      3958.00000 4032.34525  1.88%   223  322s\n",
                  " 38480  5203     cutoff   48      3958.00000 4022.85180  1.64%   226  327s\n",
                  " 39574  4845 3959.35634   61  143 3958.00000 4022.00000  1.62%   227  332s\n",
                  " 40037  4456 3980.08360   50  204 3958.00000 4021.00000  1.59%   227  336s\n",
                  " 43104  3081     cutoff   49      3958.00000 4010.75159  1.33%   228  341s\n",
                  " 45125  1937 3988.48054   52  228 3958.00000 4001.32472  1.09%   229  345s\n",
                  "\n",
                  "Cutting planes:\n",
                  "  Learned: 4\n",
                  "  Gomory: 7\n",
                  "  Cover: 27\n",
                  "  Implied bound: 18\n",
                  "  Clique: 15\n",
                  "  MIR: 150\n",
                  "  StrongCG: 10\n",
                  "  Flow cover: 340\n",
                  "  GUB cover: 8\n",
                  "  Zero half: 4\n",
                  "  RLT: 6\n",
                  "  Relax-and-lift: 64\n",
                  "\n",
                  "Explored 47889 nodes (10876542 simplex iterations) in 349.30 seconds (608.21 work units)\n",
                  "Thread count was 12 (of 12 available processors)\n",
                  "\n",
                  "Solution count 10: 3958 3908 3898 ... 3578\n",
                  "\n",
                  "Optimal solution found (tolerance 1.00e-04)\n",
                  "Best objective 3.958000000000e+03, best bound 3.958000000000e+03, gap 0.0000%\n"
               ]
            },
            {
               "name": "stderr",
               "output_type": "stream",
               "text": [
                  " 75%|███████▌  | 12/16 [09:55<08:30, 127.73s/it]"
               ]
            },
            {
               "name": "stdout",
               "output_type": "stream",
               "text": [
                  "Gurobi Optimizer version 10.0.0 build v10.0.0rc2 (win64)\n",
                  "\n",
                  "CPU model: AMD Ryzen 5 5600H with Radeon Graphics, instruction set [SSE2|AVX|AVX2]\n",
                  "Thread count: 6 physical cores, 12 logical processors, using up to 12 threads\n",
                  "\n",
                  "Optimize a model with 45066 rows, 16733 columns and 117817 nonzeros\n",
                  "Model fingerprint: 0x109f7b4b\n",
                  "Model has 151 general constraints\n",
                  "Variable types: 0 continuous, 16733 integer (16590 binary)\n",
                  "Coefficient statistics:\n",
                  "  Matrix range     [1e+00, 7e+01]\n",
                  "  Objective range  [1e+00, 1e+01]\n",
                  "  Bounds range     [1e+00, 2e+01]\n",
                  "  RHS range        [1e+00, 2e+01]\n",
                  "  GenCon rhs range [1e+00, 1e+00]\n",
                  "  GenCon coe range [1e+00, 1e+00]\n",
                  "Presolve removed 41627 rows and 13697 columns\n",
                  "Presolve time: 0.16s\n",
                  "Presolved: 3439 rows, 3036 columns, 17309 nonzeros\n",
                  "Variable types: 0 continuous, 3036 integer (2898 binary)\n",
                  "Found heuristic solution: objective -1.0000000\n",
                  "\n",
                  "Root relaxation: objective 4.446214e+03, 2855 iterations, 0.12 seconds (0.20 work units)\n",
                  "\n",
                  "    Nodes    |    Current Node    |     Objective Bounds      |     Work\n",
                  " Expl Unexpl |  Obj  Depth IntInf | Incumbent    BestBd   Gap | It/Node Time\n",
                  "\n",
                  "     0     0 4446.21429    0  267   -1.00000 4446.21429      -     -    0s\n",
                  "H    0     0                     799.0000000 4446.21429   456%     -    0s\n",
                  "H    0     0                     869.0000000 4446.21429   412%     -    0s\n",
                  "H    0     0                    1469.0000000 4446.21429   203%     -    0s\n",
                  "H    0     0                    1519.0000000 4446.21429   193%     -    0s\n",
                  "H    0     0                    2099.0000000 4418.04801   110%     -    0s\n",
                  "     0     0 4418.04801    0  311 2099.00000 4418.04801   110%     -    0s\n",
                  "H    0     0                    2279.0000000 4418.04801  93.9%     -    0s\n",
                  "H    0     0                    2489.0000000 4394.59309  76.6%     -    0s\n",
                  "     0     0 4387.04954    0  302 2489.00000 4387.04954  76.3%     -    0s\n",
                  "     0     0 4387.04954    0  288 2489.00000 4387.04954  76.3%     -    0s\n",
                  "     0     0 4335.09616    0  288 2489.00000 4335.09616  74.2%     -    1s\n",
                  "     0     0 4331.13591    0  306 2489.00000 4331.13591  74.0%     -    1s\n",
                  "     0     0 4331.13591    0  288 2489.00000 4331.13591  74.0%     -    1s\n",
                  "H    0     0                    2539.0000000 4299.30151  69.3%     -    1s\n",
                  "H    0     0                    2839.0000000 4299.30151  51.4%     -    1s\n",
                  "     0     0 4299.30151    0  255 2839.00000 4299.30151  51.4%     -    1s\n",
                  "     0     0 4292.13345    0  263 2839.00000 4292.13345  51.2%     -    1s\n",
                  "     0     0 4290.41931    0  284 2839.00000 4290.41931  51.1%     -    1s\n",
                  "     0     0 4290.41849    0  261 2839.00000 4290.41849  51.1%     -    1s\n",
                  "     0     0 4248.15640    0  327 2839.00000 4248.15640  49.6%     -    1s\n",
                  "     0     0 4243.56068    0  388 2839.00000 4243.56068  49.5%     -    1s\n",
                  "     0     0 4239.08589    0  362 2839.00000 4239.08589  49.3%     -    1s\n",
                  "     0     0 4237.84555    0  374 2839.00000 4237.84555  49.3%     -    1s\n",
                  "     0     0 4236.16499    0  395 2839.00000 4236.16499  49.2%     -    1s\n",
                  "     0     0 4236.02103    0  373 2839.00000 4236.02103  49.2%     -    1s\n",
                  "     0     0 4236.02021    0  372 2839.00000 4236.02021  49.2%     -    1s\n",
                  "H    0     0                    3140.0000000 4177.63245  33.0%     -    1s\n",
                  "     0     0 4177.63245    0  319 3140.00000 4177.63245  33.0%     -    1s\n",
                  "H    0     0                    3141.0000000 4169.92025  32.8%     -    2s\n",
                  "     0     0 4169.92025    0  348 3141.00000 4169.92025  32.8%     -    2s\n",
                  "H    0     0                    3241.0000000 4169.74470  28.7%     -    2s\n",
                  "     0     0 4169.74470    0  362 3241.00000 4169.74470  28.7%     -    2s\n",
                  "     0     0 4169.30651    0  351 3241.00000 4169.30651  28.6%     -    2s\n",
                  "     0     0 4169.25551    0  381 3241.00000 4169.25551  28.6%     -    2s\n",
                  "     0     0 4134.41527    0  370 3241.00000 4134.41527  27.6%     -    2s\n",
                  "     0     0 4128.70505    0  411 3241.00000 4128.70505  27.4%     -    2s\n",
                  "     0     0 4126.24143    0  431 3241.00000 4126.24143  27.3%     -    2s\n",
                  "     0     0 4126.01819    0  436 3241.00000 4126.01819  27.3%     -    2s\n",
                  "     0     0 4126.01766    0  441 3241.00000 4126.01766  27.3%     -    2s\n",
                  "     0     0 4100.32540    0  404 3241.00000 4100.32540  26.5%     -    2s\n",
                  "     0     0 4095.36817    0  446 3241.00000 4095.36817  26.4%     -    2s\n",
                  "     0     0 4093.88256    0  442 3241.00000 4093.88256  26.3%     -    2s\n",
                  "     0     0 4093.75845    0  448 3241.00000 4093.75845  26.3%     -    2s\n",
                  "     0     0 4087.26853    0  390 3241.00000 4087.26853  26.1%     -    3s\n",
                  "     0     0 4085.69310    0  440 3241.00000 4085.69310  26.1%     -    3s\n",
                  "     0     0 4084.08550    0  438 3241.00000 4084.08550  26.0%     -    3s\n",
                  "     0     0 4082.83404    0  428 3241.00000 4082.83404  26.0%     -    3s\n",
                  "     0     0 4082.42777    0  421 3241.00000 4082.42777  26.0%     -    3s\n",
                  "     0     0 4082.37547    0  431 3241.00000 4082.37547  26.0%     -    3s\n",
                  "     0     0 4075.34781    0  436 3241.00000 4075.34781  25.7%     -    3s\n",
                  "H    0     0                    3399.0000000 4075.34781  19.9%     -    3s\n",
                  "     0     0 4074.49418    0  450 3399.00000 4074.49418  19.9%     -    3s\n",
                  "     0     0 4074.32260    0  466 3399.00000 4074.32260  19.9%     -    3s\n",
                  "     0     0 4074.25696    0  473 3399.00000 4074.25696  19.9%     -    3s\n",
                  "     0     0 4069.78785    0  445 3399.00000 4069.78785  19.7%     -    3s\n",
                  "     0     0 4068.24527    0  467 3399.00000 4068.24527  19.7%     -    3s\n",
                  "     0     0 4066.03807    0  482 3399.00000 4066.03807  19.6%     -    3s\n",
                  "     0     0 4065.72753    0  487 3399.00000 4065.72753  19.6%     -    4s\n",
                  "     0     0 4065.08909    0  441 3399.00000 4065.08909  19.6%     -    4s\n",
                  "     0     0 4064.78128    0  462 3399.00000 4064.78128  19.6%     -    4s\n",
                  "     0     0 4064.55325    0  471 3399.00000 4064.55325  19.6%     -    4s\n",
                  "     0     0 4064.49221    0  513 3399.00000 4064.49221  19.6%     -    4s\n",
                  "     0     0 4054.01942    0  445 3399.00000 4054.01942  19.3%     -    4s\n",
                  "     0     0 4050.37958    0  424 3399.00000 4050.37958  19.2%     -    4s\n",
                  "     0     0 4049.50798    0  460 3399.00000 4049.50798  19.1%     -    4s\n",
                  "     0     0 4048.61018    0  431 3399.00000 4048.61018  19.1%     -    4s\n",
                  "     0     0 4046.29815    0  447 3399.00000 4046.29815  19.0%     -    4s\n",
                  "     0     0 4046.01314    0  456 3399.00000 4046.01314  19.0%     -    4s\n",
                  "     0     0 4046.01170    0  460 3399.00000 4046.01170  19.0%     -    4s\n",
                  "     0     0 4040.56785    0  399 3399.00000 4040.56785  18.9%     -    4s\n",
                  "     0     0 4038.62077    0  409 3399.00000 4038.62077  18.8%     -    4s\n",
                  "     0     0 4036.23896    0  424 3399.00000 4036.23896  18.7%     -    4s\n",
                  "     0     0 4036.00472    0  455 3399.00000 4036.00472  18.7%     -    4s\n",
                  "     0     0 4035.96037    0  472 3399.00000 4035.96037  18.7%     -    4s\n",
                  "     0     0 4034.95786    0  426 3399.00000 4034.95786  18.7%     -    4s\n",
                  "     0     0 4034.28252    0  456 3399.00000 4034.28252  18.7%     -    5s\n",
                  "     0     0 4033.97605    0  460 3399.00000 4033.97605  18.7%     -    5s\n",
                  "     0     0 4033.77522    0  446 3399.00000 4033.77522  18.7%     -    5s\n",
                  "     0     0 4033.65858    0  435 3399.00000 4033.65858  18.7%     -    5s\n",
                  "     0     0 4031.20932    0  406 3399.00000 4031.20932  18.6%     -    5s\n",
                  "     0     0 4027.67383    0  428 3399.00000 4027.67383  18.5%     -    5s\n",
                  "     0     0 4024.66818    0  428 3399.00000 4024.66818  18.4%     -    5s\n",
                  "     0     0 4024.17527    0  442 3399.00000 4024.17527  18.4%     -    5s\n",
                  "     0     0 4023.89355    0  456 3399.00000 4023.89355  18.4%     -    5s\n",
                  "     0     0 4023.65334    0  438 3399.00000 4023.65334  18.4%     -    5s\n",
                  "     0     0 4023.28322    0  439 3399.00000 4023.28322  18.4%     -    5s\n",
                  "     0     0 4023.23069    0  447 3399.00000 4023.23069  18.4%     -    5s\n",
                  "     0     0 4017.72759    0  433 3399.00000 4017.72759  18.2%     -    5s\n",
                  "     0     0 4014.76133    0  431 3399.00000 4014.76133  18.1%     -    5s\n",
                  "     0     0 4014.48185    0  431 3399.00000 4014.48185  18.1%     -    5s\n",
                  "     0     0 4014.39153    0  449 3399.00000 4014.39153  18.1%     -    5s\n",
                  "     0     0 4013.18377    0  409 3399.00000 4013.18377  18.1%     -    5s\n",
                  "     0     0 4012.27198    0  460 3399.00000 4012.27198  18.0%     -    5s\n",
                  "     0     0 4011.39132    0  469 3399.00000 4011.39132  18.0%     -    5s\n",
                  "     0     0 4010.81901    0  473 3399.00000 4010.81901  18.0%     -    5s\n",
                  "     0     0 4010.77821    0  474 3399.00000 4010.77821  18.0%     -    5s\n",
                  "     0     0 4009.30044    0  482 3399.00000 4009.30044  18.0%     -    5s\n",
                  "     0     0 4008.64403    0  475 3399.00000 4008.64403  17.9%     -    6s\n",
                  "     0     0 4006.26835    0  477 3399.00000 4006.26835  17.9%     -    6s\n",
                  "     0     0 4005.91446    0  499 3399.00000 4005.91446  17.9%     -    6s\n",
                  "     0     0 4005.68168    0  505 3399.00000 4005.68168  17.8%     -    6s\n",
                  "     0     0 4005.64907    0  530 3399.00000 4005.64907  17.8%     -    6s\n",
                  "     0     0 4004.98496    0  483 3399.00000 4004.98496  17.8%     -    6s\n",
                  "     0     0 4004.83197    0  479 3399.00000 4004.83197  17.8%     -    6s\n",
                  "     0     0 4004.19720    0  491 3399.00000 4004.19720  17.8%     -    6s\n",
                  "     0     0 4004.19720    0  440 3399.00000 4004.19720  17.8%     -    6s\n",
                  "     0     2 4004.19720    0  429 3399.00000 4004.19720  17.8%     -    8s\n",
                  "H   32    39                    3459.0000000 3995.97501  15.5%   532    8s\n",
                  "H   99   100                    3489.0000000 3995.97501  14.5%   497    9s\n",
                  "   121   121 3756.61781   17  321 3489.00000 3995.97501  14.5%   511   10s\n",
                  "   620   372 3597.47550   16  319 3489.00000 3990.45543  14.4%   370   15s\n",
                  "  1677   879 3903.99880    7  377 3489.00000 3950.80050  13.2%   291   20s\n",
                  "  2551  1128 3646.00500   11  440 3489.00000 3929.14513  12.6%   270   26s\n",
                  "  2562  1135 3753.56868   14  543 3489.00000 3929.14513  12.6%   269   30s\n",
                  "  2598  1167 3929.14513   31  385 3489.00000 3929.14513  12.6%   288   35s\n",
                  "H 3089  1251                    3509.0000000 3929.14513  12.0%   285   39s\n",
                  "H 3091  1193                    3539.0000000 3929.14513  11.0%   285   39s\n",
                  "  3151  1214 3689.00000   71  135 3539.00000 3929.14513  11.0%   286   40s\n",
                  "  3974  1322 3856.86343   39  288 3539.00000 3929.14513  11.0%   270   45s\n",
                  "  5138  1405 3884.07622   36  298 3539.00000 3929.10791  11.0%   258   50s\n",
                  "  6548  1815 infeasible   50      3539.00000 3919.75015  10.8%   249   55s\n",
                  "  8261  2513 3676.00000   46  196 3539.00000 3904.36479  10.3%   242   60s\n",
                  " 10165  3094 3587.51319   42  148 3539.00000 3892.77898  10.0%   235   65s\n",
                  " 11486  3573 3678.99845   52  158 3539.00000 3884.44219  9.76%   233   70s\n",
                  "*12730  3846              62    3559.0000000 3883.00131  9.10%   231   72s\n",
                  " 13905  4209 3693.80891   46  221 3559.00000 3874.69941  8.87%   229   76s\n",
                  " 15044  4529 infeasible   45      3559.00000 3866.97352  8.65%   229   80s\n",
                  " 17158  4956 infeasible   46      3559.00000 3860.16458  8.46%   227   86s\n",
                  "H18440  4608                    3619.0000000 3854.73458  6.51%   227   89s\n",
                  " 18749  4570 infeasible   37      3619.00000 3853.00000  6.47%   228   91s\n",
                  " 20620  4782     cutoff   48      3619.00000 3842.12229  6.17%   227   96s\n",
                  "*21376  4782              94    3629.0000000 3838.99424  5.79%   226   97s\n",
                  "H22068  4116                    3659.0000000 3833.97508  4.78%   225   99s\n",
                  " 22786  4015 3732.69809   40  186 3659.00000 3826.65508  4.58%   223  101s\n",
                  " 24941  3733 infeasible   42      3659.00000 3804.93607  3.99%   221  105s\n",
                  " 27259  3535 3679.06015   57  105 3659.00000 3784.11699  3.42%   216  110s\n",
                  " 30998  2944 infeasible   49      3659.00000 3761.27421  2.80%   205  115s\n",
                  " 34458  1940 3690.00000   62   88 3659.00000 3732.98390  2.02%   197  120s\n",
                  " 37655   483 infeasible   44      3659.00000 3702.00000  1.18%   188  125s\n",
                  "*38115    89              65    3679.0000000 3702.00000  0.63%   186  125s\n",
                  "\n",
                  "Cutting planes:\n",
                  "  Learned: 3\n",
                  "  Gomory: 10\n",
                  "  Cover: 27\n",
                  "  Implied bound: 23\n",
                  "  Projected implied bound: 9\n",
                  "  Clique: 32\n",
                  "  MIR: 106\n",
                  "  StrongCG: 11\n",
                  "  Flow cover: 97\n",
                  "  GUB cover: 23\n",
                  "  Zero half: 13\n",
                  "  RLT: 3\n",
                  "  Relax-and-lift: 96\n",
                  "\n",
                  "Explored 40007 nodes (7195724 simplex iterations) in 126.05 seconds (268.09 work units)\n",
                  "Thread count was 12 (of 12 available processors)\n",
                  "\n",
                  "Solution count 10: 3679 3659 3629 ... 3399\n",
                  "\n",
                  "Optimal solution found (tolerance 1.00e-04)\n",
                  "Best objective 3.679000000000e+03, best bound 3.679000000000e+03, gap 0.0000%\n"
               ]
            },
            {
               "name": "stderr",
               "output_type": "stream",
               "text": [
                  " 81%|████████▏ | 13/16 [12:02<06:22, 127.46s/it]"
               ]
            },
            {
               "name": "stdout",
               "output_type": "stream",
               "text": [
                  "Gurobi Optimizer version 10.0.0 build v10.0.0rc2 (win64)\n",
                  "\n",
                  "CPU model: AMD Ryzen 5 5600H with Radeon Graphics, instruction set [SSE2|AVX|AVX2]\n",
                  "Thread count: 6 physical cores, 12 logical processors, using up to 12 threads\n",
                  "\n",
                  "Optimize a model with 45066 rows, 16733 columns and 117817 nonzeros\n",
                  "Model fingerprint: 0x51b9e567\n",
                  "Model has 151 general constraints\n",
                  "Variable types: 0 continuous, 16733 integer (16590 binary)\n",
                  "Coefficient statistics:\n",
                  "  Matrix range     [1e+00, 7e+01]\n",
                  "  Objective range  [1e+00, 1e+01]\n",
                  "  Bounds range     [1e+00, 2e+01]\n",
                  "  RHS range        [1e+00, 2e+01]\n",
                  "  GenCon rhs range [1e+00, 1e+00]\n",
                  "  GenCon coe range [1e+00, 1e+00]\n",
                  "Presolve removed 41627 rows and 13697 columns\n",
                  "Presolve time: 0.17s\n",
                  "Presolved: 3439 rows, 3036 columns, 17309 nonzeros\n",
                  "Variable types: 0 continuous, 3036 integer (2898 binary)\n",
                  "Found heuristic solution: objective -1.0000000\n",
                  "\n",
                  "Root relaxation: objective 4.446214e+03, 2855 iterations, 0.11 seconds (0.20 work units)\n",
                  "\n",
                  "    Nodes    |    Current Node    |     Objective Bounds      |     Work\n",
                  " Expl Unexpl |  Obj  Depth IntInf | Incumbent    BestBd   Gap | It/Node Time\n",
                  "\n",
                  "     0     0 4446.21429    0  264   -1.00000 4446.21429      -     -    0s\n",
                  "H    0     0                      -0.0000000 4446.21429      -     -    0s\n",
                  "H    0     0                    1260.0000000 4446.21429   253%     -    0s\n",
                  "H    0     0                    1290.0000000 4446.21429   245%     -    0s\n",
                  "H    0     0                    1690.0000000 4446.21429   163%     -    0s\n",
                  "H    0     0                    2140.0000000 4362.89242   104%     -    0s\n",
                  "     0     0 4362.89242    0  330 2140.00000 4362.89242   104%     -    0s\n",
                  "H    0     0                    2141.0000000 4362.89242   104%     -    0s\n",
                  "     0     0 4362.89242    0  300 2141.00000 4362.89242   104%     -    0s\n",
                  "     0     0 4252.17763    0  321 2141.00000 4252.17763  98.6%     -    0s\n",
                  "     0     0 4233.20750    0  258 2141.00000 4233.20750  97.7%     -    1s\n",
                  "     0     0 4233.04113    0  265 2141.00000 4233.04113  97.7%     -    1s\n",
                  "     0     0 4232.97676    0  270 2141.00000 4232.97676  97.7%     -    1s\n",
                  "     0     0 4232.95634    0  268 2141.00000 4232.95634  97.7%     -    1s\n",
                  "     0     0 4192.90628    0  306 2141.00000 4192.90628  95.8%     -    1s\n",
                  "     0     0 4189.03796    0  286 2141.00000 4189.03796  95.7%     -    1s\n",
                  "H    0     0                    2191.0000000 4187.20434  91.1%     -    1s\n",
                  "     0     0 4187.20434    0  326 2191.00000 4187.20434  91.1%     -    1s\n",
                  "     0     0 4187.19317    0  333 2191.00000 4187.19317  91.1%     -    1s\n",
                  "     0     0 4113.08849    0  352 2191.00000 4113.08849  87.7%     -    1s\n",
                  "     0     0 4097.82896    0  322 2191.00000 4097.82896  87.0%     -    1s\n",
                  "     0     0 4094.73797    0  336 2191.00000 4094.73797  86.9%     -    1s\n",
                  "     0     0 4093.29837    0  320 2191.00000 4093.29837  86.8%     -    1s\n",
                  "     0     0 4092.61233    0  345 2191.00000 4092.61233  86.8%     -    1s\n",
                  "     0     0 4092.51409    0  345 2191.00000 4092.51409  86.8%     -    1s\n",
                  "     0     0 3993.12421    0  348 2191.00000 3993.12421  82.3%     -    1s\n",
                  "H    0     0                    2540.0000000 3993.12421  57.2%     -    1s\n",
                  "     0     0 3971.85043    0  376 2540.00000 3971.85043  56.4%     -    2s\n",
                  "     0     0 3965.26856    0  422 2540.00000 3965.26856  56.1%     -    2s\n",
                  "     0     0 3951.91933    0  419 2540.00000 3951.91933  55.6%     -    2s\n",
                  "     0     0 3950.99211    0  420 2540.00000 3950.99211  55.6%     -    2s\n",
                  "     0     0 3950.89288    0  425 2540.00000 3950.89288  55.5%     -    2s\n",
                  "     0     0 3887.23581    0  397 2540.00000 3887.23581  53.0%     -    2s\n",
                  "     0     0 3869.18663    0  399 2540.00000 3869.18663  52.3%     -    2s\n",
                  "     0     0 3861.44071    0  420 2540.00000 3861.44071  52.0%     -    2s\n",
                  "     0     0 3859.47568    0  402 2540.00000 3859.47568  51.9%     -    2s\n",
                  "     0     0 3857.19590    0  423 2540.00000 3857.19590  51.9%     -    2s\n",
                  "     0     0 3857.08825    0  424 2540.00000 3857.08825  51.9%     -    2s\n",
                  "     0     0 3804.13622    0  392 2540.00000 3804.13622  49.8%     -    2s\n",
                  "     0     0 3793.34187    0  376 2540.00000 3793.34187  49.3%     -    2s\n",
                  "     0     0 3792.04451    0  415 2540.00000 3792.04451  49.3%     -    2s\n",
                  "     0     0 3791.79855    0  395 2540.00000 3791.79855  49.3%     -    2s\n",
                  "     0     0 3758.20755    0  415 2540.00000 3758.20755  48.0%     -    2s\n",
                  "     0     0 3753.60711    0  411 2540.00000 3753.60711  47.8%     -    3s\n",
                  "     0     0 3751.81197    0  417 2540.00000 3751.81197  47.7%     -    3s\n",
                  "     0     0 3749.63133    0  444 2540.00000 3749.63133  47.6%     -    3s\n",
                  "     0     0 3747.22665    0  485 2540.00000 3747.22665  47.5%     -    3s\n",
                  "     0     0 3747.12095    0  496 2540.00000 3747.12095  47.5%     -    3s\n",
                  "     0     0 3724.27155    0  372 2540.00000 3724.27155  46.6%     -    3s\n",
                  "     0     0 3716.31063    0  408 2540.00000 3716.31063  46.3%     -    3s\n",
                  "     0     0 3712.88290    0  400 2540.00000 3712.88290  46.2%     -    3s\n",
                  "     0     0 3710.92587    0  424 2540.00000 3710.92587  46.1%     -    3s\n",
                  "     0     0 3707.90148    0  440 2540.00000 3707.90148  46.0%     -    3s\n",
                  "     0     0 3705.17942    0  441 2540.00000 3705.17942  45.9%     -    3s\n",
                  "     0     0 3704.77601    0  435 2540.00000 3704.77601  45.9%     -    3s\n",
                  "     0     0 3704.70142    0  434 2540.00000 3704.70142  45.9%     -    3s\n",
                  "     0     0 3686.05157    0  437 2540.00000 3686.05157  45.1%     -    3s\n",
                  "     0     0 3682.07109    0  450 2540.00000 3682.07109  45.0%     -    3s\n",
                  "     0     0 3680.21941    0  449 2540.00000 3680.21941  44.9%     -    3s\n",
                  "     0     0 3679.70702    0  460 2540.00000 3679.70702  44.9%     -    3s\n",
                  "     0     0 3677.48509    0  463 2540.00000 3677.48509  44.8%     -    3s\n",
                  "     0     0 3677.10020    0  505 2540.00000 3677.10020  44.8%     -    3s\n",
                  "     0     0 3677.08697    0  523 2540.00000 3677.08697  44.8%     -    3s\n",
                  "     0     0 3626.77406    0  355 2540.00000 3626.77406  42.8%     -    4s\n",
                  "H    0     0                    2660.0000000 3626.77406  36.3%     -    4s\n",
                  "     0     0 3613.37581    0  379 2660.00000 3613.37581  35.8%     -    4s\n",
                  "     0     0 3610.94682    0  370 2660.00000 3610.94682  35.7%     -    4s\n",
                  "     0     0 3610.11689    0  408 2660.00000 3610.11689  35.7%     -    4s\n",
                  "     0     0 3604.10642    0  389 2660.00000 3604.10642  35.5%     -    4s\n",
                  "     0     0 3603.16465    0  391 2660.00000 3603.16465  35.5%     -    4s\n",
                  "     0     0 3601.98260    0  364 2660.00000 3601.98260  35.4%     -    4s\n",
                  "     0     0 3601.13514    0  421 2660.00000 3601.13514  35.4%     -    4s\n",
                  "     0     0 3600.85596    0  398 2660.00000 3600.85596  35.4%     -    4s\n",
                  "     0     0 3512.47894    0  323 2660.00000 3512.47894  32.0%     -    4s\n",
                  "     0     0 3503.06564    0  293 2660.00000 3503.06564  31.7%     -    4s\n",
                  "     0     0 3500.31565    0  306 2660.00000 3500.31565  31.6%     -    4s\n",
                  "     0     0 3498.79872    0  342 2660.00000 3498.79872  31.5%     -    4s\n",
                  "     0     0 3497.41813    0  352 2660.00000 3497.41813  31.5%     -    4s\n",
                  "     0     0 3497.21544    0  358 2660.00000 3497.21544  31.5%     -    4s\n",
                  "     0     0 3492.38368    0  369 2660.00000 3492.38368  31.3%     -    4s\n",
                  "H    0     0                    2690.0000000 3492.38368  29.8%     -    4s\n",
                  "     0     0 3492.24493    0  370 2690.00000 3492.24493  29.8%     -    4s\n",
                  "     0     0 3488.40663    0  372 2690.00000 3488.40663  29.7%     -    4s\n",
                  "     0     0 3487.00000    0  298 2690.00000 3487.00000  29.6%     -    4s\n",
                  "     0     2 3487.00000    0  256 2690.00000 3487.00000  29.6%     -    5s\n",
                  "H   93    90                    2810.0000000 3419.42153  21.7%   302    7s\n",
                  "*  241   176              35    2840.0000000 3390.33871  19.4%   179    7s\n",
                  "*  435   271              23    2850.0000000 3389.84265  18.9%   137    7s\n",
                  "  1684   766 3239.81299   14   64 2850.00000 3240.47440  13.7%   102   10s\n",
                  "H 1733   599                    2980.0000000 3240.23306  8.73%   100   10s\n",
                  "* 2275   693              35    2990.0000000 3224.10465  7.83%  95.5   10s\n",
                  "  4824   692 infeasible   19      2990.00000 3144.74327  5.18%  88.1   15s\n",
                  "* 5965   279              13    3010.0000000 3090.00000  2.66%  87.3   16s\n",
                  "\n",
                  "Cutting planes:\n",
                  "  Learned: 5\n",
                  "  Gomory: 19\n",
                  "  Cover: 1242\n",
                  "  Implied bound: 113\n",
                  "  Clique: 297\n",
                  "  MIR: 924\n",
                  "  StrongCG: 257\n",
                  "  GUB cover: 194\n",
                  "  Inf proof: 9\n",
                  "  Zero half: 28\n",
                  "  RLT: 11\n",
                  "  Relax-and-lift: 554\n",
                  "\n",
                  "Explored 6620 nodes (590688 simplex iterations) in 17.16 seconds (24.59 work units)\n",
                  "Thread count was 12 (of 12 available processors)\n",
                  "\n",
                  "Solution count 10: 3010 2990 2980 ... 2191\n",
                  "\n",
                  "Optimal solution found (tolerance 1.00e-04)\n",
                  "Best objective 3.010000000000e+03, best bound 3.010000000000e+03, gap 0.0000%\n"
               ]
            },
            {
               "name": "stderr",
               "output_type": "stream",
               "text": [
                  " 88%|████████▊ | 14/16 [12:20<03:08, 94.41s/it] "
               ]
            },
            {
               "name": "stdout",
               "output_type": "stream",
               "text": [
                  "Gurobi Optimizer version 10.0.0 build v10.0.0rc2 (win64)\n",
                  "\n",
                  "CPU model: AMD Ryzen 5 5600H with Radeon Graphics, instruction set [SSE2|AVX|AVX2]\n",
                  "Thread count: 6 physical cores, 12 logical processors, using up to 12 threads\n",
                  "\n",
                  "Optimize a model with 45066 rows, 16733 columns and 117817 nonzeros\n",
                  "Model fingerprint: 0xa6c969ab\n",
                  "Model has 151 general constraints\n",
                  "Variable types: 0 continuous, 16733 integer (16590 binary)\n",
                  "Coefficient statistics:\n",
                  "  Matrix range     [1e+00, 7e+01]\n",
                  "  Objective range  [1e+00, 1e+01]\n",
                  "  Bounds range     [1e+00, 2e+01]\n",
                  "  RHS range        [1e+00, 2e+01]\n",
                  "  GenCon rhs range [1e+00, 1e+00]\n",
                  "  GenCon coe range [1e+00, 1e+00]\n",
                  "Presolve removed 41627 rows and 13697 columns\n",
                  "Presolve time: 0.19s\n",
                  "Presolved: 3439 rows, 3036 columns, 17309 nonzeros\n",
                  "Variable types: 0 continuous, 3036 integer (2899 binary)\n",
                  "Found heuristic solution: objective -1.0000000\n",
                  "\n",
                  "Root relaxation: objective 4.446214e+03, 3078 iterations, 0.11 seconds (0.19 work units)\n",
                  "\n",
                  "    Nodes    |    Current Node    |     Objective Bounds      |     Work\n",
                  " Expl Unexpl |  Obj  Depth IntInf | Incumbent    BestBd   Gap | It/Node Time\n",
                  "\n",
                  "     0     0 4446.21429    0  271   -1.00000 4446.21429      -     -    0s\n",
                  "H    0     0                     281.0000000 4446.21429  1482%     -    0s\n",
                  "H    0     0                     493.0000000 4446.21429   802%     -    0s\n",
                  "H    0     0                    1001.0000000 4084.78404   308%     -    1s\n",
                  "H    0     0                    1391.0000000 4084.78404   194%     -    1s\n",
                  "     0     0 4078.98044    0  340 1391.00000 4078.98044   193%     -    1s\n",
                  "     0     0 4078.80494    0  319 1391.00000 4078.80494   193%     -    1s\n",
                  "     0     0 4078.80102    0  322 1391.00000 4078.80102   193%     -    1s\n",
                  "H    0     0                    1541.0000000 4078.80102   165%     -    1s\n",
                  "     0     0 3501.15756    0  224 1541.00000 3501.15756   127%     -    1s\n",
                  "H    0     0                    1641.0000000 3471.37780   112%     -    1s\n",
                  "     0     0 3471.37780    0  251 1641.00000 3471.37780   112%     -    1s\n",
                  "     0     0 3461.47383    0  249 1641.00000 3461.47383   111%     -    1s\n",
                  "     0     0 3460.27878    0  241 1641.00000 3460.27878   111%     -    1s\n",
                  "     0     0 3458.60469    0  275 1641.00000 3458.60469   111%     -    1s\n",
                  "     0     0 3458.12068    0  280 1641.00000 3458.12068   111%     -    1s\n",
                  "     0     0 3458.12068    0  279 1641.00000 3458.12068   111%     -    1s\n",
                  "H    0     0                    1691.0000000 3458.12068   105%     -    1s\n",
                  "     0     0 2947.94776    0  300 1691.00000 2947.94776  74.3%     -    2s\n",
                  "     0     0 2894.88665    0  322 1691.00000 2894.88665  71.2%     -    2s\n",
                  "     0     0 2890.76904    0  337 1691.00000 2890.76904  71.0%     -    2s\n",
                  "     0     0 2884.93745    0  301 1691.00000 2884.93745  70.6%     -    2s\n",
                  "     0     0 2884.45934    0  305 1691.00000 2884.45934  70.6%     -    2s\n",
                  "     0     0 2884.29587    0  312 1691.00000 2884.29587  70.6%     -    2s\n",
                  "     0     0 2677.44929    0  240 1691.00000 2677.44929  58.3%     -    2s\n",
                  "     0     0 2653.34495    0  245 1691.00000 2653.34495  56.9%     -    2s\n",
                  "     0     0 2636.15932    0  246 1691.00000 2636.15932  55.9%     -    2s\n",
                  "     0     0 2629.89561    0  250 1691.00000 2629.89561  55.5%     -    2s\n",
                  "     0     0 2626.54553    0  246 1691.00000 2626.54553  55.3%     -    2s\n",
                  "     0     0 2626.44839    0  241 1691.00000 2626.44839  55.3%     -    2s\n",
                  "     0     0 2617.37429    0  268 1691.00000 2617.37429  54.8%     -    2s\n",
                  "     0     0 2614.01003    0  277 1691.00000 2614.01003  54.6%     -    2s\n",
                  "     0     0 2614.01003    0  280 1691.00000 2614.01003  54.6%     -    2s\n",
                  "     0     0 2605.86853    0  291 1691.00000 2605.86853  54.1%     -    2s\n",
                  "     0     0 2605.55081    0  285 1691.00000 2605.55081  54.1%     -    2s\n",
                  "     0     0 2591.64683    0  264 1691.00000 2591.64683  53.3%     -    2s\n",
                  "     0     0 2590.08593    0  266 1691.00000 2590.08593  53.2%     -    2s\n",
                  "     0     0 2588.07886    0  292 1691.00000 2588.07886  53.1%     -    2s\n",
                  "     0     0 2587.72795    0  289 1691.00000 2587.72795  53.0%     -    2s\n",
                  "     0     0 2575.67245    0  265 1691.00000 2575.67245  52.3%     -    2s\n",
                  "     0     0 2566.49434    0  276 1691.00000 2566.49434  51.8%     -    2s\n",
                  "     0     0 2561.95688    0  283 1691.00000 2561.95688  51.5%     -    2s\n",
                  "     0     0 2561.69830    0  287 1691.00000 2561.69830  51.5%     -    2s\n",
                  "     0     0 2476.50841    0  201 1691.00000 2476.50841  46.5%     -    2s\n",
                  "     0     0 2444.97826    0  228 1691.00000 2444.97826  44.6%     -    2s\n",
                  "     0     0 2434.54890    0  209 1691.00000 2434.54890  44.0%     -    2s\n",
                  "     0     0 2431.97918    0  225 1691.00000 2431.97918  43.8%     -    3s\n",
                  "     0     0 2431.03735    0  229 1691.00000 2431.03735  43.8%     -    3s\n",
                  "     0     0 2429.41060    0  211 1691.00000 2429.41060  43.7%     -    3s\n",
                  "     0     0 2428.12748    0  230 1691.00000 2428.12748  43.6%     -    3s\n",
                  "     0     0 2428.11328    0  236 1691.00000 2428.11328  43.6%     -    3s\n",
                  "     0     0 2299.80603    0  199 1691.00000 2299.80603  36.0%     -    3s\n",
                  "     0     0 2231.70330    0  182 1691.00000 2231.70330  32.0%     -    3s\n",
                  "     0     0 2166.75429    0  192 1691.00000 2166.75429  28.1%     -    3s\n",
                  "     0     0 2154.12093    0  188 1691.00000 2154.12093  27.4%     -    3s\n",
                  "     0     0 2144.82088    0  200 1691.00000 2144.82088  26.8%     -    3s\n",
                  "     0     0 2140.35805    0  174 1691.00000 2140.35805  26.6%     -    3s\n",
                  "     0     0 2139.00000    0  192 1691.00000 2139.00000  26.5%     -    3s\n",
                  "     0     0 2138.60902    0  256 1691.00000 2138.60902  26.5%     -    3s\n",
                  "     0     0 2138.42825    0  246 1691.00000 2138.42825  26.5%     -    3s\n",
                  "H    0     0                    1701.0000000 2138.42825  25.7%     -    3s\n",
                  "     0     0 2133.89778    0  226 1701.00000 2133.89778  25.4%     -    3s\n",
                  "     0     0 2133.71332    0  233 1701.00000 2133.71332  25.4%     -    3s\n",
                  "     0     0 2125.40515    0  202 1701.00000 2125.40515  25.0%     -    3s\n",
                  "     0     0 2119.70121    0  200 1701.00000 2119.70121  24.6%     -    3s\n",
                  "     0     0 2119.00000    0  236 1701.00000 2119.00000  24.6%     -    3s\n",
                  "     0     0 2102.87122    0  189 1701.00000 2102.87122  23.6%     -    3s\n",
                  "     0     0 2091.09110    0  156 1701.00000 2091.09110  22.9%     -    3s\n",
                  "     0     0 2089.00703    0  149 1701.00000 2089.00703  22.8%     -    3s\n",
                  "     0     0 2087.73105    0  174 1701.00000 2087.73105  22.7%     -    3s\n",
                  "     0     0 2087.12328    0  202 1701.00000 2087.12328  22.7%     -    3s\n",
                  "     0     0 2025.28013    0  144 1701.00000 2025.28013  19.1%     -    3s\n",
                  "     0     0 2009.98686    0  175 1701.00000 2009.98686  18.2%     -    3s\n",
                  "     0     0 2008.40219    0  200 1701.00000 2008.40219  18.1%     -    3s\n",
                  "     0     0 2008.04235    0  191 1701.00000 2008.04235  18.1%     -    3s\n",
                  "     0     0 1999.52018    0  172 1701.00000 1999.52018  17.5%     -    3s\n",
                  "     0     0 1985.55109    0  222 1701.00000 1985.55109  16.7%     -    3s\n",
                  "     0     0 1985.43919    0  241 1701.00000 1985.43919  16.7%     -    4s\n",
                  "     0     0 1979.95305    0  219 1701.00000 1979.95305  16.4%     -    4s\n",
                  "     0     0 1979.00000    0  113 1701.00000 1979.00000  16.3%     -    4s\n",
                  "     0     0 1979.00000    0  171 1701.00000 1979.00000  16.3%     -    4s\n",
                  "     0     0 1979.00000    0  176 1701.00000 1979.00000  16.3%     -    4s\n",
                  "     0     0 1979.00000    0  108 1701.00000 1979.00000  16.3%     -    4s\n",
                  "H    0     0                    1761.0000000 1979.00000  12.4%     -    4s\n",
                  "     0     0 1979.00000    0  190 1761.00000 1979.00000  12.4%     -    4s\n",
                  "     0     0 1978.99060    0  179 1761.00000 1978.99060  12.4%     -    4s\n",
                  "     0     0 1978.99060    0  179 1761.00000 1978.99060  12.4%     -    4s\n",
                  "     0     2 1978.00000    0  178 1761.00000 1978.00000  12.3%     -    4s\n",
                  "    30    18 1868.67001    7   51 1761.00000 1972.36636  12.0%   138    5s\n",
                  "\n",
                  "Cutting planes:\n",
                  "  Gomory: 21\n",
                  "  Lift-and-project: 3\n",
                  "  Cover: 385\n",
                  "  Implied bound: 101\n",
                  "  Clique: 91\n",
                  "  MIR: 140\n",
                  "  StrongCG: 38\n",
                  "  Flow cover: 1\n",
                  "  GUB cover: 25\n",
                  "  Inf proof: 4\n",
                  "  Zero half: 9\n",
                  "  RLT: 13\n",
                  "  Relax-and-lift: 89\n",
                  "\n",
                  "Explored 5037 nodes (88203 simplex iterations) in 6.15 seconds (5.29 work units)\n",
                  "Thread count was 12 (of 12 available processors)\n",
                  "\n",
                  "Solution count 10: 1761 1701 1691 ... -1\n",
                  "\n",
                  "Optimal solution found (tolerance 1.00e-04)\n",
                  "Best objective 1.761000000000e+03, best bound 1.761000000000e+03, gap 0.0000%\n"
               ]
            },
            {
               "name": "stderr",
               "output_type": "stream",
               "text": [
                  " 94%|█████████▍| 15/16 [12:27<01:08, 68.04s/it]"
               ]
            },
            {
               "name": "stdout",
               "output_type": "stream",
               "text": [
                  "Gurobi Optimizer version 10.0.0 build v10.0.0rc2 (win64)\n",
                  "\n",
                  "CPU model: AMD Ryzen 5 5600H with Radeon Graphics, instruction set [SSE2|AVX|AVX2]\n",
                  "Thread count: 6 physical cores, 12 logical processors, using up to 12 threads\n",
                  "\n",
                  "Optimize a model with 45066 rows, 16733 columns and 117817 nonzeros\n",
                  "Model fingerprint: 0xb272fdc5\n",
                  "Model has 151 general constraints\n",
                  "Variable types: 0 continuous, 16733 integer (16590 binary)\n",
                  "Coefficient statistics:\n",
                  "  Matrix range     [1e+00, 7e+01]\n",
                  "  Objective range  [1e+00, 1e+01]\n",
                  "  Bounds range     [1e+00, 2e+01]\n",
                  "  RHS range        [1e+00, 2e+01]\n",
                  "  GenCon rhs range [1e+00, 1e+00]\n",
                  "  GenCon coe range [1e+00, 1e+00]\n",
                  "Presolve removed 45066 rows and 16733 columns\n",
                  "Presolve time: 0.06s\n",
                  "Presolve: All rows and columns removed\n",
                  "\n",
                  "Explored 0 nodes (0 simplex iterations) in 0.07 seconds (0.09 work units)\n",
                  "Thread count was 1 (of 12 available processors)\n",
                  "\n",
                  "Solution count 1: -0 \n",
                  "No other solutions better than -0\n",
                  "\n",
                  "Optimal solution found (tolerance 1.00e-04)\n",
                  "Best objective -0.000000000000e+00, best bound -0.000000000000e+00, gap 0.0000%\n"
               ]
            },
            {
               "name": "stderr",
               "output_type": "stream",
               "text": [
                  "100%|██████████| 16/16 [12:28<00:00, 46.76s/it]"
               ]
            },
            {
               "name": "stdout",
               "output_type": "stream",
               "text": [
                  "[array([ 22,  15, 413]), array([ 22,  14, 413]), array([ 22,  13, 413]), array([ 22,  12, 413]), array([ 22,  11, 413]), array([ 22,  10, 413]), array([ 22,   9, 413]), array([ 22,   8, 413]), array([ 22,   7, 413]), array([ 22,   6, 413]), array([ 22,   5, 413]), array([ 22,   4, 405]), array([ 22,   3, 384]), array([ 22,   2, 326]), array([ 22,   1, 194]), array([22,  0,  0]), array([ 21,  15, 413]), array([ 21,  14, 413]), array([ 21,  13, 413]), array([ 21,  12, 413]), array([ 21,  11, 413]), array([ 21,  10, 413]), array([ 21,   9, 413]), array([ 21,   8, 413]), array([ 21,   7, 413]), array([ 21,   6, 413]), array([ 21,   5, 413]), array([ 21,   4, 405]), array([ 21,   3, 384]), array([ 21,   2, 326]), array([ 21,   1, 194]), array([21,  0,  0]), array([ 20,  15, 413]), array([ 20,  14, 413]), array([ 20,  13, 413]), array([ 20,  12, 413]), array([ 20,  11, 413]), array([ 20,  10, 413]), array([ 20,   9, 413]), array([ 20,   8, 413]), array([ 20,   7, 413]), array([ 20,   6, 413]), array([ 20,   5, 413]), array([ 20,   4, 405]), array([ 20,   3, 384]), array([ 20,   2, 326]), array([ 20,   1, 194]), array([20,  0,  0]), array([ 19,  15, 413]), array([ 19,  14, 413]), array([ 19,  13, 413]), array([ 19,  12, 413]), array([ 19,  11, 413]), array([ 19,  10, 413]), array([ 19,   9, 413]), array([ 19,   8, 413]), array([ 19,   7, 413]), array([ 19,   6, 413]), array([ 19,   5, 413]), array([ 19,   4, 405]), array([ 19,   3, 384]), array([ 19,   2, 326]), array([ 19,   1, 194]), array([19,  0,  0]), array([ 18,  15, 413]), array([ 18,  14, 413]), array([ 18,  13, 413]), array([ 18,  12, 413]), array([ 18,  11, 413]), array([ 18,  10, 413]), array([ 18,   9, 413]), array([ 18,   8, 413]), array([ 18,   7, 413]), array([ 18,   6, 413]), array([ 18,   5, 413]), array([ 18,   4, 405]), array([ 18,   3, 384]), array([ 18,   2, 326]), array([ 18,   1, 194]), array([18,  0,  0]), array([ 17,  15, 413]), array([ 17,  14, 413]), array([ 17,  13, 413]), array([ 17,  12, 413]), array([ 17,  11, 413]), array([ 17,  10, 413]), array([ 17,   9, 413]), array([ 17,   8, 413]), array([ 17,   7, 413]), array([ 17,   6, 413]), array([ 17,   5, 413]), array([ 17,   4, 405]), array([ 17,   3, 384]), array([ 17,   2, 326]), array([ 17,   1, 194]), array([17,  0,  0]), array([ 16,  15, 413]), array([ 16,  14, 413]), array([ 16,  13, 413]), array([ 16,  12, 413]), array([ 16,  11, 413]), array([ 16,  10, 413]), array([ 16,   9, 413]), array([ 16,   8, 413]), array([ 16,   7, 413]), array([ 16,   6, 413]), array([ 16,   5, 413]), array([ 16,   4, 405]), array([ 16,   3, 384]), array([ 16,   2, 326]), array([ 16,   1, 194]), array([16,  0,  0]), array([ 15,  15, 413]), array([ 15,  14, 413]), array([ 15,  13, 413]), array([ 15,  12, 413]), array([ 15,  11, 413]), array([ 15,  10, 413]), array([ 15,   9, 413]), array([ 15,   8, 413]), array([ 15,   7, 413]), array([ 15,   6, 413]), array([ 15,   5, 413]), array([ 15,   4, 405]), array([ 15,   3, 384]), array([ 15,   2, 326]), array([ 15,   1, 194]), array([15,  0,  0]), array([ 14,  15, 413]), array([ 14,  14, 413]), array([ 14,  13, 413]), array([ 14,  12, 413]), array([ 14,  11, 413]), array([ 14,  10, 413]), array([ 14,   9, 413]), array([ 14,   8, 413]), array([ 14,   7, 413]), array([ 14,   6, 413]), array([ 14,   5, 413]), array([ 14,   4, 405]), array([ 14,   3, 384]), array([ 14,   2, 326]), array([ 14,   1, 194]), array([14,  0,  0]), array([ 13,  15, 413]), array([ 13,  14, 413]), array([ 13,  13, 413]), array([ 13,  12, 413]), array([ 13,  11, 413]), array([ 13,  10, 413]), array([ 13,   9, 413]), array([ 13,   8, 413]), array([ 13,   7, 413]), array([ 13,   6, 413]), array([ 13,   5, 413]), array([ 13,   4, 405]), array([ 13,   3, 384]), array([ 13,   2, 326]), array([ 13,   1, 194]), array([13,  0,  0]), array([ 12,  15, 413]), array([ 12,  14, 413]), array([ 12,  13, 413]), array([ 12,  12, 413]), array([ 12,  11, 413]), array([ 12,  10, 413]), array([ 12,   9, 413]), array([ 12,   8, 413]), array([ 12,   7, 413]), array([ 12,   6, 413]), array([ 12,   5, 413]), array([ 12,   4, 405]), array([ 12,   3, 384]), array([ 12,   2, 326]), array([ 12,   1, 194]), array([12,  0,  0]), array([ 11,  15, 413]), array([ 11,  14, 413]), array([ 11,  13, 413]), array([ 11,  12, 413]), array([ 11,  11, 413]), array([ 11,  10, 413]), array([ 11,   9, 413]), array([ 11,   8, 413]), array([ 11,   7, 413]), array([ 11,   6, 413]), array([ 11,   5, 413]), array([ 11,   4, 404]), array([ 11,   3, 379]), array([ 11,   2, 325]), array([ 11,   1, 180]), array([11,  0,  0]), array([ 10,  15, 413]), array([ 10,  14, 413]), array([ 10,  13, 413]), array([ 10,  12, 413]), array([ 10,  11, 413]), array([ 10,  10, 413]), array([ 10,   9, 413]), array([ 10,   8, 413]), array([ 10,   7, 413]), array([ 10,   6, 413]), array([ 10,   5, 413]), array([ 10,   4, 404]), array([ 10,   3, 379]), array([ 10,   2, 325]), array([ 10,   1, 180]), array([10,  0,  0]), array([  9,  15, 413]), array([  9,  14, 413]), array([  9,  13, 413]), array([  9,  12, 413]), array([  9,  11, 413]), array([  9,  10, 413]), array([  9,   9, 413]), array([  9,   8, 413]), array([  9,   7, 413]), array([  9,   6, 413]), array([  9,   5, 410]), array([  9,   4, 400]), array([  9,   3, 379]), array([  9,   2, 325]), array([  9,   1, 180]), array([9, 0, 0]), array([  8,  15, 413]), array([  8,  14, 413]), array([  8,  13, 413]), array([  8,  12, 413]), array([  8,  11, 413]), array([  8,  10, 413]), array([  8,   9, 413]), array([  8,   8, 413]), array([  8,   7, 413]), array([  8,   6, 413]), array([  8,   5, 410]), array([  8,   4, 397]), array([  8,  15, 413]), array([  8,  14, 413]), array([  8,  13, 413]), array([  8,  12, 413]), array([  8,  11, 413]), array([  8,  10, 413]), array([  8,   9, 413]), array([  8,   8, 413]), array([  8,   7, 413]), array([  8,   6, 413]), array([  8,   5, 410]), array([  8,   4, 397]), array([  8,   3, 369]), array([  8,   2, 302]), array([  8,   1, 177]), array([8, 0, 0])]\n"
               ]
            },
            {
               "name": "stderr",
               "output_type": "stream",
               "text": [
                  "\n"
               ]
            }
         ],
         "source": [
            "points = run_one_step(data, n_jobs, points, 8)\n",
            "print(points)"
         ]
      },
      {
         "cell_type": "code",
         "execution_count": 24,
         "metadata": {},
         "outputs": [
            {
               "name": "stdout",
               "output_type": "stream",
               "text": [
                  "[]\n"
               ]
            }
         ],
         "source": [
            "print(points)"
         ]
      },
      {
         "cell_type": "code",
         "execution_count": 26,
         "metadata": {},
         "outputs": [
            {
               "name": "stderr",
               "output_type": "stream",
               "text": [
                  "  0%|          | 0/16 [00:00<?, ?it/s]"
               ]
            },
            {
               "name": "stdout",
               "output_type": "stream",
               "text": [
                  "Set parameter Username\n",
                  "Academic license - for non-commercial use only - expires 2023-12-10\n",
                  "Gurobi Optimizer version 10.0.0 build v10.0.0rc2 (win64)\n",
                  "\n",
                  "CPU model: AMD Ryzen 5 5600H with Radeon Graphics, instruction set [SSE2|AVX|AVX2]\n",
                  "Thread count: 6 physical cores, 12 logical processors, using up to 12 threads\n",
                  "\n",
                  "Optimize a model with 45066 rows, 16733 columns and 117817 nonzeros\n",
                  "Model fingerprint: 0xd651384f\n",
                  "Model has 151 general constraints\n",
                  "Variable types: 0 continuous, 16733 integer (16590 binary)\n",
                  "Coefficient statistics:\n",
                  "  Matrix range     [1e+00, 7e+01]\n",
                  "  Objective range  [1e+00, 1e+01]\n",
                  "  Bounds range     [1e+00, 2e+01]\n",
                  "  RHS range        [1e+00, 2e+01]\n",
                  "  GenCon rhs range [1e+00, 1e+00]\n",
                  "  GenCon coe range [1e+00, 1e+00]\n",
                  "Presolve removed 41627 rows and 13697 columns\n",
                  "Presolve time: 0.31s\n",
                  "Presolved: 3439 rows, 3036 columns, 17309 nonzeros\n",
                  "Variable types: 0 continuous, 3036 integer (2898 binary)\n",
                  "Found heuristic solution: objective -1.0000000\n",
                  "\n",
                  "Root relaxation: objective 4.446214e+03, 2953 iterations, 0.21 seconds (0.23 work units)\n",
                  "\n",
                  "    Nodes    |    Current Node    |     Objective Bounds      |     Work\n",
                  " Expl Unexpl |  Obj  Depth IntInf | Incumbent    BestBd   Gap | It/Node Time\n",
                  "\n",
                  "     0     0 4446.21429    0  266   -1.00000 4446.21429      -     -    0s\n",
                  "H    0     0                     997.0000000 4446.21429   346%     -    0s\n",
                  "H    0     0                    1177.0000000 4446.21429   278%     -    0s\n",
                  "H    0     0                    2238.0000000 4426.95497  97.8%     -    1s\n",
                  "     0     0 4426.95497    0  323 2238.00000 4426.95497  97.8%     -    1s\n",
                  "H    0     0                    2389.0000000 4426.95497  85.3%     -    1s\n",
                  "     0     0 4426.25497    0  294 2389.00000 4426.25497  85.3%     -    1s\n",
                  "     0     0 4426.25497    0  292 2389.00000 4426.25497  85.3%     -    1s\n",
                  "     0     0 4394.16512    0  324 2389.00000 4394.16512  83.9%     -    1s\n",
                  "H    0     0                    2539.0000000 4394.16512  73.1%     -    1s\n",
                  "     0     0 4393.83234    0  325 2539.00000 4393.83234  73.1%     -    1s\n",
                  "     0     0 4393.39195    0  310 2539.00000 4393.39195  73.0%     -    1s\n",
                  "     0     0 4393.39195    0  295 2539.00000 4393.39195  73.0%     -    1s\n",
                  "     0     0 4356.98816    0  302 2539.00000 4356.98816  71.6%     -    2s\n",
                  "H    0     0                    2578.0000000 4351.16256  68.8%     -    2s\n",
                  "     0     0 4351.16256    0  282 2578.00000 4351.16256  68.8%     -    2s\n",
                  "     0     0 4350.00987    0  280 2578.00000 4350.00987  68.7%     -    2s\n",
                  "H    0     0                    2637.0000000 4349.84270  65.0%     -    2s\n",
                  "     0     0 4349.84270    0  297 2637.00000 4349.84270  65.0%     -    2s\n",
                  "     0     0 4349.62194    0  276 2637.00000 4349.62194  64.9%     -    2s\n",
                  "H    0     0                    2668.0000000 4349.15890  63.0%     -    2s\n",
                  "     0     0 4349.15890    0  314 2668.00000 4349.15890  63.0%     -    2s\n",
                  "     0     0 4349.15636    0  314 2668.00000 4349.15636  63.0%     -    2s\n",
                  "H    0     0                    2758.0000000 4325.22175  56.8%     -    2s\n",
                  "H    0     0                    3358.0000000 4325.22175  28.8%     -    2s\n",
                  "     0     0 4325.22175    0  294 3358.00000 4325.22175  28.8%     -    2s\n",
                  "H    0     0                    3388.0000000 4322.36291  27.6%     -    2s\n",
                  "     0     0 4322.36291    0  327 3388.00000 4322.36291  27.6%     -    2s\n",
                  "     0     0 4321.52908    0  325 3388.00000 4321.52908  27.6%     -    2s\n",
                  "     0     0 4321.41386    0  323 3388.00000 4321.41386  27.6%     -    2s\n",
                  "     0     0 4321.41386    0  321 3388.00000 4321.41386  27.6%     -    2s\n",
                  "     0     0 4316.51025    0  332 3388.00000 4316.51025  27.4%     -    3s\n",
                  "     0     0 4312.37248    0  308 3388.00000 4312.37248  27.3%     -    3s\n",
                  "     0     0 4312.15245    0  319 3388.00000 4312.15245  27.3%     -    3s\n",
                  "     0     0 4312.15245    0  307 3388.00000 4312.15245  27.3%     -    3s\n",
                  "H    0     0                    3537.0000000 4312.15245  21.9%     -    3s\n",
                  "     0     0 4269.30553    0  326 3537.00000 4269.30553  20.7%     -    3s\n",
                  "     0     0 4266.78333    0  278 3537.00000 4266.78333  20.6%     -    3s\n",
                  "     0     0 4266.15857    0  334 3537.00000 4266.15857  20.6%     -    3s\n",
                  "     0     0 4265.91713    0  277 3537.00000 4265.91713  20.6%     -    3s\n",
                  "     0     0 4265.84761    0  307 3537.00000 4265.84761  20.6%     -    3s\n",
                  "     0     0 4265.83269    0  295 3537.00000 4265.83269  20.6%     -    3s\n",
                  "     0     0 4256.16609    0  338 3537.00000 4256.16609  20.3%     -    3s\n",
                  "H    0     0                    3767.0000000 4254.50518  12.9%     -    4s\n",
                  "     0     0 4254.50518    0  341 3767.00000 4254.50518  12.9%     -    4s\n",
                  "     0     0 4253.49700    0  341 3767.00000 4253.49700  12.9%     -    4s\n",
                  "     0     0 4252.84817    0  330 3767.00000 4252.84817  12.9%     -    4s\n",
                  "     0     0 4252.09056    0  337 3767.00000 4252.09056  12.9%     -    4s\n",
                  "     0     0 4251.73667    0  366 3767.00000 4251.73667  12.9%     -    4s\n",
                  "     0     0 4251.67478    0  359 3767.00000 4251.67478  12.9%     -    4s\n",
                  "     0     0 4239.53332    0  334 3767.00000 4239.53332  12.5%     -    4s\n",
                  "     0     0 4236.20148    0  360 3767.00000 4236.20148  12.5%     -    4s\n",
                  "     0     0 4235.50832    0  402 3767.00000 4235.50832  12.4%     -    4s\n",
                  "     0     0 4235.34118    0  386 3767.00000 4235.34118  12.4%     -    4s\n",
                  "     0     0 4235.26095    0  383 3767.00000 4235.26095  12.4%     -    4s\n",
                  "     0     0 4235.18175    0  388 3767.00000 4235.18175  12.4%     -    4s\n",
                  "     0     0 4235.18175    0  388 3767.00000 4235.18175  12.4%     -    4s\n",
                  "     0     0 4230.92114    0  403 3767.00000 4230.92114  12.3%     -    4s\n",
                  "H    0     0                    3866.0000000 4230.92114  9.44%     -    5s\n",
                  "     0     0 4230.49170    0  397 3866.00000 4230.49170  9.43%     -    5s\n",
                  "     0     0 4230.31629    0  410 3866.00000 4230.31629  9.42%     -    5s\n",
                  "     0     0 4230.24422    0  442 3866.00000 4230.24422  9.42%     -    5s\n",
                  "     0     0 4224.56132    0  399 3866.00000 4224.56132  9.27%     -    5s\n",
                  "H    0     0                    3867.0000000 4224.56132  9.25%     -    5s\n",
                  "     0     0 4223.61479    0  398 3867.00000 4223.61479  9.22%     -    5s\n",
                  "     0     0 4223.40858    0  381 3867.00000 4223.40858  9.22%     -    5s\n",
                  "     0     0 4223.38402    0  384 3867.00000 4223.38402  9.22%     -    5s\n",
                  "H    0     0                    3877.0000000 4222.14203  8.90%     -    5s\n",
                  "     0     0 4222.14203    0  301 3877.00000 4222.14203  8.90%     -    5s\n",
                  "     0     0 4221.64050    0  387 3877.00000 4221.64050  8.89%     -    5s\n",
                  "     0     0 4221.62630    0  327 3877.00000 4221.62630  8.89%     -    5s\n",
                  "     0     0 4221.36888    0  351 3877.00000 4221.36888  8.88%     -    5s\n",
                  "     0     0 4221.36888    0  325 3877.00000 4221.36888  8.88%     -    6s\n",
                  "     0     2 4221.36888    0  317 3877.00000 4221.36888  8.88%     -    6s\n",
                  "H   69    75                    3986.0000000 4218.47070  5.83%   278    8s\n",
                  "H   72    75                    4017.0000000 4218.47070  5.02%   271    8s\n",
                  "H   97    96                    4047.0000000 4218.47070  4.24%   250    9s\n",
                  "   176   142 4099.72727   36  143 4047.00000 4218.47070  4.24%   216   10s\n",
                  "  1285   770 4161.40012   27  286 4047.00000 4201.87306  3.83%   134   16s\n",
                  "  1305   783 4138.74948   10  421 4047.00000 4197.54899  3.72%   132   20s\n",
                  "  1336   805 4173.53805   17  336 4047.00000 4195.79907  3.68%   158   25s\n",
                  "H 1409   796                    4066.0000000 4194.91570  3.17%   178   26s\n",
                  "H 1464   758                    4067.0000000 4194.91570  3.15%   180   27s\n",
                  "H 1468   721                    4096.0000000 4194.91570  2.41%   180   27s\n",
                  "H 1524   669                    4097.0000000 4193.01314  2.34%   178   27s\n",
                  "  1942   673 4137.15328   46  202 4097.00000 4191.83065  2.31%   170   30s\n",
                  "  3731   320 4101.81107   51  212 4097.00000 4130.92105  0.83%   131   35s\n",
                  " 13046  2916 infeasible   60      4097.00000 4099.00000  0.05%  52.7   40s\n",
                  " 22939  4344 4099.00000   68   83 4097.00000 4099.00000  0.05%  39.0   45s\n",
                  " 34661  7195 4098.00000   62   94 4097.00000 4099.00000  0.05%  32.1   50s\n",
                  " 39525  8276 infeasible   77      4097.00000 4099.00000  0.05%  30.6   64s\n",
                  " 42534  8619 4098.98938   71  107 4097.00000 4099.00000  0.05%  29.6   65s\n",
                  " 53272 10836     cutoff   84      4097.00000 4099.00000  0.05%  27.5   70s\n",
                  " 63480 12344     cutoff   62      4097.00000 4099.00000  0.05%  25.8   75s\n",
                  " 72757 11206 4098.00000   69   26 4097.00000 4098.00000  0.02%  24.9   80s\n",
                  " 87624 10856 infeasible   83      4097.00000 4098.00000  0.02%  23.1   85s\n",
                  " 102533 10671 4098.00000   72   46 4097.00000 4098.00000  0.02%  21.7   90s\n",
                  " 115592 10556     cutoff   84      4097.00000 4098.00000  0.02%  20.7   95s\n",
                  " 130708 10175     cutoff   79      4097.00000 4098.00000  0.02%  19.9  100s\n",
                  " 144042  9986 4098.00000   81   25 4097.00000 4098.00000  0.02%  19.2  105s\n",
                  " 159951  9327 infeasible   75      4097.00000 4098.00000  0.02%  18.6  110s\n",
                  " 174194  8616 infeasible   87      4097.00000 4098.00000  0.02%  18.2  115s\n",
                  " 189572  8131 4098.00000   79   38 4097.00000 4098.00000  0.02%  17.7  121s\n",
                  " 206879  7726     cutoff   90      4097.00000 4098.00000  0.02%  17.2  125s\n",
                  " 222886  7063 4098.00000   84   44 4097.00000 4098.00000  0.02%  16.8  130s\n",
                  " 237988  6757     cutoff   84      4097.00000 4098.00000  0.02%  16.5  135s\n",
                  " 252416  6537     cutoff   94      4097.00000 4098.00000  0.02%  16.3  140s\n",
                  " 269987  6404 4098.00000   67   22 4097.00000 4098.00000  0.02%  16.2  145s\n",
                  " 285247  6201 4098.00000   93   32 4097.00000 4098.00000  0.02%  16.2  150s\n",
                  " 298133  5996 4098.00000   89   29 4097.00000 4098.00000  0.02%  16.3  155s\n",
                  " 314377  5890 4098.00000   79   50 4097.00000 4098.00000  0.02%  16.2  160s\n",
                  " 327412  5782 infeasible   76      4097.00000 4098.00000  0.02%  16.1  165s\n",
                  " 343166  5578 4098.00000   81   42 4097.00000 4098.00000  0.02%  16.0  170s\n",
                  " 359548  5443 infeasible   72      4097.00000 4098.00000  0.02%  15.8  175s\n",
                  " 366573  5215 4098.00000   78   33 4097.00000 4098.00000  0.02%  15.8  180s\n",
                  " 381215  5168 infeasible   87      4097.00000 4098.00000  0.02%  15.8  185s\n",
                  " 394667  5203     cutoff   62      4097.00000 4098.00000  0.02%  15.7  190s\n",
                  " 413168  4922 4098.00000   76   43 4097.00000 4098.00000  0.02%  15.7  195s\n",
                  " 428065  4994     cutoff   78      4097.00000 4098.00000  0.02%  15.6  200s\n",
                  " 442103  4950     cutoff   71      4097.00000 4098.00000  0.02%  15.5  205s\n",
                  " 455541  4818     cutoff   65      4097.00000 4098.00000  0.02%  15.5  210s\n",
                  " 469570  4828     cutoff   63      4097.00000 4098.00000  0.02%  15.5  215s\n",
                  " 484106  4847 4098.00000   77   26 4097.00000 4098.00000  0.02%  15.4  220s\n",
                  " 492316  4854 4098.00000   73   60 4097.00000 4098.00000  0.02%  15.5  225s\n",
                  " 507211  4938     cutoff   84      4097.00000 4098.00000  0.02%  15.4  230s\n",
                  " 522805  4755 infeasible   90      4097.00000 4098.00000  0.02%  15.4  235s\n",
                  " 540770  4865 infeasible   69      4097.00000 4098.00000  0.02%  15.3  240s\n",
                  " 554596  4832 4098.00000   68   62 4097.00000 4098.00000  0.02%  15.3  245s\n",
                  " 572243  4559 4098.00000   83   40 4097.00000 4098.00000  0.02%  15.3  250s\n",
                  " 589390  4418     cutoff   98      4097.00000 4098.00000  0.02%  15.2  255s\n",
                  " 594606  4191 4098.00000   88   43 4097.00000 4098.00000  0.02%  15.2  260s\n",
                  " 602587  4067 infeasible   83      4097.00000 4098.00000  0.02%  15.2  267s\n",
                  " 615937  4501 4098.00000   83   32 4097.00000 4098.00000  0.02%  15.1  270s\n",
                  " 636386  4359 4098.00000   94   32 4097.00000 4098.00000  0.02%  15.0  275s\n",
                  " 653857  4414 infeasible  105      4097.00000 4098.00000  0.02%  14.9  280s\n",
                  " 672905  4297     cutoff   72      4097.00000 4098.00000  0.02%  14.8  285s\n",
                  " 688608  4392 4098.00000   84   24 4097.00000 4098.00000  0.02%  14.7  290s\n",
                  " 704956  4116 4098.00000   80   39 4097.00000 4098.00000  0.02%  14.7  295s\n",
                  " 721170  4121     cutoff   72      4097.00000 4098.00000  0.02%  14.7  300s\n",
                  " 737892  4060 4098.00000   90   49 4097.00000 4098.00000  0.02%  14.8  305s\n",
                  " 755071  3939     cutoff   65      4097.00000 4098.00000  0.02%  14.7  310s\n",
                  " 770406  3674     cutoff   78      4097.00000 4098.00000  0.02%  14.7  315s\n",
                  " 788999  3463     cutoff   69      4097.00000 4098.00000  0.02%  14.7  320s\n",
                  " 805101  3758     cutoff   92      4097.00000 4098.00000  0.02%  14.7  325s\n",
                  " 821441  3739 4098.00000   59   57 4097.00000 4098.00000  0.02%  14.6  330s\n",
                  " 840117  3713 4098.00000   85   48 4097.00000 4098.00000  0.02%  14.4  335s\n",
                  " 859868  3922 4098.00000   83   38 4097.00000 4098.00000  0.02%  14.3  340s\n",
                  " 876398  3914     cutoff   79      4097.00000 4098.00000  0.02%  14.2  345s\n",
                  " 893733  3777 4098.00000   79   40 4097.00000 4098.00000  0.02%  14.1  350s\n",
                  " 912520  3644 4098.00000   68   26 4097.00000 4098.00000  0.02%  14.1  355s\n",
                  " 923909  3814 4098.00000   82   36 4097.00000 4098.00000  0.02%  14.1  360s\n",
                  " 938338  3492     cutoff   88      4097.00000 4098.00000  0.02%  14.0  365s\n",
                  " 954956  3522     cutoff   65      4097.00000 4098.00000  0.02%  14.0  370s\n",
                  " 970053  3543     cutoff   95      4097.00000 4098.00000  0.02%  13.9  375s\n",
                  " 983678  3377 4098.00000   65   48 4097.00000 4098.00000  0.02%  13.9  380s\n",
                  " 997846  3221 4098.00000   57   73 4097.00000 4098.00000  0.02%  13.9  385s\n",
                  " 1011588  3165 4098.00000   72   40 4097.00000 4098.00000  0.02%  13.9  390s\n",
                  " 1024420  3264 4098.00000   81   37 4097.00000 4098.00000  0.02%  13.9  395s\n",
                  " 1037139  3103 4098.00000   73   74 4097.00000 4098.00000  0.02%  14.0  400s\n",
                  " 1050319  3077 4098.00000   97   38 4097.00000 4098.00000  0.02%  13.9  405s\n",
                  " 1056588  2920 4098.00000   69   63 4097.00000 4098.00000  0.02%  13.9  410s\n",
                  " 1069841  2874 4098.00000   98   26 4097.00000 4098.00000  0.02%  14.0  415s\n",
                  " 1077156  2636 4098.00000   81   37 4097.00000 4098.00000  0.02%  14.0  421s\n",
                  " 1092715  2742     cutoff  104      4097.00000 4098.00000  0.02%  14.0  425s\n",
                  " 1105437  2721 4098.00000   91   50 4097.00000 4098.00000  0.02%  14.1  430s\n",
                  " 1122944  2560     cutoff   97      4097.00000 4098.00000  0.02%  14.1  435s\n",
                  " 1138174  2549 infeasible   92      4097.00000 4098.00000  0.02%  14.1  440s\n",
                  " 1153605  2397 infeasible   81      4097.00000 4098.00000  0.02%  14.1  445s\n",
                  " 1159198  2332     cutoff   65      4097.00000 4098.00000  0.02%  14.1  450s\n",
                  " 1178058  2300 4098.00000   82   39 4097.00000 4098.00000  0.02%  14.1  455s\n",
                  " 1191594  2306     cutoff   89      4097.00000 4098.00000  0.02%  14.1  460s\n",
                  " 1205866  2269     cutoff   55      4097.00000 4098.00000  0.02%  14.1  465s\n",
                  " 1223232  2254     cutoff   79      4097.00000 4098.00000  0.02%  14.1  470s\n",
                  " 1239143  2311     cutoff   92      4097.00000 4098.00000  0.02%  14.1  475s\n",
                  " 1255114  2190 infeasible   77      4097.00000 4098.00000  0.02%  14.1  480s\n",
                  " 1269800  2009     cutoff   64      4097.00000 4098.00000  0.02%  14.1  485s\n",
                  " 1280595  2022 4098.00000   78   31 4097.00000 4098.00000  0.02%  14.1  491s\n",
                  " 1288817  1996 4098.00000   72   50 4097.00000 4098.00000  0.02%  14.1  495s\n",
                  " 1305860  1990 4098.00000   84   61 4097.00000 4098.00000  0.02%  14.1  500s\n",
                  " 1322441  1873 infeasible   86      4097.00000 4098.00000  0.02%  14.0  505s\n",
                  " 1338512  1854 4098.00000   98   22 4097.00000 4098.00000  0.02%  14.0  510s\n",
                  " 1357851  2027 4098.00000   80   84 4097.00000 4098.00000  0.02%  14.0  515s\n",
                  " 1372672  1864 infeasible   87      4097.00000 4098.00000  0.02%  14.0  520s\n",
                  " 1388841  1836 infeasible   80      4097.00000 4098.00000  0.02%  14.0  525s\n",
                  " 1406218  1779 infeasible   93      4097.00000 4098.00000  0.02%  14.0  530s\n",
                  " 1421960  1697 4098.00000   62   29 4097.00000 4098.00000  0.02%  14.0  535s\n",
                  " 1436620  1680 4098.00000   67   62 4097.00000 4098.00000  0.02%  14.0  540s\n",
                  " 1454261  1601 4098.00000   88   35 4097.00000 4098.00000  0.02%  14.0  545s\n",
                  " 1470023  1518 infeasible   79      4097.00000 4098.00000  0.02%  14.0  550s\n",
                  " 1486958  1384     cutoff   78      4097.00000 4098.00000  0.02%  14.0  555s\n",
                  " 1503168  1289 infeasible   77      4097.00000 4098.00000  0.02%  14.0  560s\n",
                  " 1520188  1229 4098.00000   69  105 4097.00000 4098.00000  0.02%  14.0  565s\n",
                  " 1526480  1173     cutoff   85      4097.00000 4098.00000  0.02%  14.0  570s\n",
                  " 1540958  1187 infeasible   96      4097.00000 4098.00000  0.02%  14.0  575s\n",
                  " 1554952  1072 4098.00000   51   93 4097.00000 4098.00000  0.02%  14.0  580s\n",
                  " 1571338  1078     cutoff   83      4097.00000 4098.00000  0.02%  14.0  585s\n",
                  " 1588305   980     cutoff   96      4097.00000 4098.00000  0.02%  14.0  590s\n",
                  " 1604304  1046     cutoff   73      4097.00000 4098.00000  0.02%  14.0  595s\n",
                  " 1621510  1022 4098.00000   83   21 4097.00000 4098.00000  0.02%  13.9  600s\n",
                  " 1638323   922     cutoff   87      4097.00000 4098.00000  0.02%  13.9  605s\n",
                  " 1651881   859     cutoff   60      4097.00000 4098.00000  0.02%  14.0  610s\n",
                  " 1665798   841     cutoff   67      4097.00000 4098.00000  0.02%  14.0  615s\n",
                  " 1682383   822     cutoff   57      4097.00000 4098.00000  0.02%  14.0  620s\n",
                  " 1694700   803     cutoff   98      4097.00000 4098.00000  0.02%  14.0  625s\n",
                  " 1708658   727 4098.00000   62   74 4097.00000 4098.00000  0.02%  14.0  630s\n",
                  " 1725492   546 infeasible   68      4097.00000 4098.00000  0.02%  13.9  635s\n",
                  " 1734192   431 4098.00000   56   45 4097.00000 4098.00000  0.02%  14.0  640s\n",
                  " 1747894   428 4098.00000   65   34 4097.00000 4098.00000  0.02%  14.0  645s\n",
                  "\n",
                  "Cutting planes:\n",
                  "  Learned: 2\n",
                  "  Gomory: 6\n",
                  "  Cover: 37\n",
                  "  Implied bound: 32\n",
                  "  Clique: 6\n",
                  "  MIR: 68\n",
                  "  StrongCG: 9\n",
                  "  Flow cover: 100\n",
                  "  GUB cover: 10\n",
                  "  Zero half: 5\n",
                  "  RLT: 9\n",
                  "  Relax-and-lift: 91\n",
                  "\n",
                  "Explored 1758420 nodes (24564641 simplex iterations) in 648.79 seconds (673.68 work units)\n",
                  "Thread count was 12 (of 12 available processors)\n",
                  "\n",
                  "Solution count 10: 4097 4096 4067 ... 3866\n",
                  "\n",
                  "Optimal solution found (tolerance 1.00e-04)\n",
                  "Best objective 4.097000000000e+03, best bound 4.097000000000e+03, gap 0.0000%\n"
               ]
            },
            {
               "name": "stderr",
               "output_type": "stream",
               "text": [
                  "  6%|▋         | 1/16 [10:50<2:42:35, 650.35s/it]"
               ]
            },
            {
               "name": "stdout",
               "output_type": "stream",
               "text": [
                  "Gurobi Optimizer version 10.0.0 build v10.0.0rc2 (win64)\n",
                  "\n",
                  "CPU model: AMD Ryzen 5 5600H with Radeon Graphics, instruction set [SSE2|AVX|AVX2]\n",
                  "Thread count: 6 physical cores, 12 logical processors, using up to 12 threads\n",
                  "\n",
                  "Optimize a model with 45066 rows, 16733 columns and 117817 nonzeros\n",
                  "Model fingerprint: 0xa6e287db\n",
                  "Model has 151 general constraints\n",
                  "Variable types: 0 continuous, 16733 integer (16590 binary)\n",
                  "Coefficient statistics:\n",
                  "  Matrix range     [1e+00, 7e+01]\n",
                  "  Objective range  [1e+00, 1e+01]\n",
                  "  Bounds range     [1e+00, 2e+01]\n",
                  "  RHS range        [1e+00, 2e+01]\n",
                  "  GenCon rhs range [1e+00, 1e+00]\n",
                  "  GenCon coe range [1e+00, 1e+00]\n",
                  "Presolve removed 41627 rows and 13697 columns\n",
                  "Presolve time: 0.19s\n",
                  "Presolved: 3439 rows, 3036 columns, 17309 nonzeros\n",
                  "Variable types: 0 continuous, 3036 integer (2898 binary)\n",
                  "Found heuristic solution: objective -1.0000000\n",
                  "\n",
                  "Root relaxation: objective 4.446214e+03, 2953 iterations, 0.15 seconds (0.23 work units)\n",
                  "\n",
                  "    Nodes    |    Current Node    |     Objective Bounds      |     Work\n",
                  " Expl Unexpl |  Obj  Depth IntInf | Incumbent    BestBd   Gap | It/Node Time\n",
                  "\n",
                  "     0     0 4446.21429    0  266   -1.00000 4446.21429      -     -    0s\n",
                  "H    0     0                     997.0000000 4446.21429   346%     -    0s\n",
                  "H    0     0                    1177.0000000 4446.21429   278%     -    0s\n",
                  "H    0     0                    2238.0000000 4426.95497  97.8%     -    0s\n",
                  "     0     0 4426.95497    0  323 2238.00000 4426.95497  97.8%     -    0s\n",
                  "H    0     0                    2389.0000000 4426.95497  85.3%     -    0s\n",
                  "     0     0 4426.25497    0  294 2389.00000 4426.25497  85.3%     -    0s\n",
                  "     0     0 4426.25497    0  292 2389.00000 4426.25497  85.3%     -    0s\n",
                  "     0     0 4394.16512    0  324 2389.00000 4394.16512  83.9%     -    1s\n",
                  "H    0     0                    2539.0000000 4394.16512  73.1%     -    1s\n",
                  "     0     0 4393.83234    0  325 2539.00000 4393.83234  73.1%     -    1s\n",
                  "     0     0 4393.39195    0  310 2539.00000 4393.39195  73.0%     -    1s\n",
                  "     0     0 4393.39195    0  295 2539.00000 4393.39195  73.0%     -    1s\n",
                  "     0     0 4356.98816    0  302 2539.00000 4356.98816  71.6%     -    1s\n",
                  "H    0     0                    2578.0000000 4351.16256  68.8%     -    1s\n",
                  "     0     0 4351.16256    0  282 2578.00000 4351.16256  68.8%     -    1s\n",
                  "     0     0 4350.00987    0  280 2578.00000 4350.00987  68.7%     -    1s\n",
                  "H    0     0                    2637.0000000 4349.84270  65.0%     -    1s\n",
                  "     0     0 4349.84270    0  297 2637.00000 4349.84270  65.0%     -    1s\n",
                  "     0     0 4349.62194    0  276 2637.00000 4349.62194  64.9%     -    1s\n",
                  "H    0     0                    2668.0000000 4349.15890  63.0%     -    1s\n",
                  "     0     0 4349.15890    0  314 2668.00000 4349.15890  63.0%     -    1s\n",
                  "     0     0 4349.15636    0  314 2668.00000 4349.15636  63.0%     -    1s\n",
                  "H    0     0                    2758.0000000 4325.22175  56.8%     -    1s\n",
                  "H    0     0                    3358.0000000 4325.22175  28.8%     -    1s\n",
                  "     0     0 4325.22175    0  294 3358.00000 4325.22175  28.8%     -    1s\n",
                  "H    0     0                    3388.0000000 4322.36291  27.6%     -    2s\n",
                  "     0     0 4322.36291    0  327 3388.00000 4322.36291  27.6%     -    2s\n",
                  "     0     0 4321.52908    0  325 3388.00000 4321.52908  27.6%     -    2s\n",
                  "     0     0 4321.41386    0  323 3388.00000 4321.41386  27.6%     -    2s\n",
                  "     0     0 4321.41386    0  321 3388.00000 4321.41386  27.6%     -    2s\n",
                  "     0     0 4316.51025    0  332 3388.00000 4316.51025  27.4%     -    2s\n",
                  "     0     0 4312.37248    0  308 3388.00000 4312.37248  27.3%     -    2s\n",
                  "     0     0 4312.15245    0  319 3388.00000 4312.15245  27.3%     -    2s\n",
                  "     0     0 4312.15245    0  307 3388.00000 4312.15245  27.3%     -    2s\n",
                  "H    0     0                    3537.0000000 4312.15245  21.9%     -    2s\n",
                  "     0     0 4269.30553    0  326 3537.00000 4269.30553  20.7%     -    2s\n",
                  "     0     0 4266.78333    0  278 3537.00000 4266.78333  20.6%     -    2s\n",
                  "     0     0 4266.15857    0  334 3537.00000 4266.15857  20.6%     -    2s\n",
                  "     0     0 4265.91713    0  277 3537.00000 4265.91713  20.6%     -    2s\n",
                  "     0     0 4265.84761    0  307 3537.00000 4265.84761  20.6%     -    2s\n",
                  "     0     0 4265.83269    0  295 3537.00000 4265.83269  20.6%     -    2s\n",
                  "     0     0 4256.16609    0  338 3537.00000 4256.16609  20.3%     -    2s\n",
                  "H    0     0                    3767.0000000 4254.50518  12.9%     -    3s\n",
                  "     0     0 4254.50518    0  341 3767.00000 4254.50518  12.9%     -    3s\n",
                  "     0     0 4253.49700    0  341 3767.00000 4253.49700  12.9%     -    3s\n",
                  "     0     0 4252.84817    0  330 3767.00000 4252.84817  12.9%     -    3s\n",
                  "     0     0 4252.09056    0  337 3767.00000 4252.09056  12.9%     -    3s\n",
                  "     0     0 4251.73667    0  366 3767.00000 4251.73667  12.9%     -    3s\n",
                  "     0     0 4251.67478    0  359 3767.00000 4251.67478  12.9%     -    3s\n",
                  "     0     0 4239.53332    0  334 3767.00000 4239.53332  12.5%     -    3s\n",
                  "     0     0 4236.20148    0  360 3767.00000 4236.20148  12.5%     -    3s\n",
                  "     0     0 4235.50832    0  402 3767.00000 4235.50832  12.4%     -    3s\n",
                  "     0     0 4235.34118    0  386 3767.00000 4235.34118  12.4%     -    3s\n",
                  "     0     0 4235.26095    0  383 3767.00000 4235.26095  12.4%     -    3s\n",
                  "     0     0 4235.18175    0  388 3767.00000 4235.18175  12.4%     -    3s\n",
                  "     0     0 4235.18175    0  388 3767.00000 4235.18175  12.4%     -    3s\n",
                  "     0     0 4230.92114    0  403 3767.00000 4230.92114  12.3%     -    3s\n",
                  "H    0     0                    3866.0000000 4230.92114  9.44%     -    3s\n",
                  "     0     0 4230.49170    0  397 3866.00000 4230.49170  9.43%     -    3s\n",
                  "     0     0 4230.31629    0  410 3866.00000 4230.31629  9.42%     -    3s\n",
                  "     0     0 4230.24422    0  442 3866.00000 4230.24422  9.42%     -    3s\n",
                  "     0     0 4224.56132    0  399 3866.00000 4224.56132  9.27%     -    3s\n",
                  "H    0     0                    3867.0000000 4224.56132  9.25%     -    3s\n",
                  "     0     0 4223.61479    0  398 3867.00000 4223.61479  9.22%     -    4s\n",
                  "     0     0 4223.40858    0  381 3867.00000 4223.40858  9.22%     -    4s\n",
                  "     0     0 4223.38402    0  384 3867.00000 4223.38402  9.22%     -    4s\n",
                  "H    0     0                    3877.0000000 4222.14203  8.90%     -    4s\n",
                  "     0     0 4222.14203    0  301 3877.00000 4222.14203  8.90%     -    4s\n",
                  "     0     0 4221.64050    0  387 3877.00000 4221.64050  8.89%     -    4s\n",
                  "     0     0 4221.62630    0  327 3877.00000 4221.62630  8.89%     -    4s\n",
                  "     0     0 4221.36888    0  351 3877.00000 4221.36888  8.88%     -    4s\n",
                  "     0     0 4221.36888    0  325 3877.00000 4221.36888  8.88%     -    4s\n",
                  "     0     2 4221.36888    0  317 3877.00000 4221.36888  8.88%     -    4s\n",
                  "    25    32 4140.25189    5  306 3877.00000 4218.47070  8.81%   390    5s\n",
                  "H   69    75                    3986.0000000 4218.47070  5.83%   278    6s\n",
                  "H   72    75                    4017.0000000 4218.47070  5.02%   271    6s\n",
                  "H   97    96                    4047.0000000 4218.47070  4.24%   250    7s\n",
                  "   910   615 4048.00000   66   47 4047.00000 4207.48369  3.97%   139   10s\n",
                  "  1289   777 4144.15749   21  388 4047.00000 4193.05162  3.61%   126   15s\n",
                  "  1308   791 4048.00000   28  242 4047.00000 4193.05162  3.61%   154   20s\n",
                  "  1515   846 4193.05162   33  282 4047.00000 4193.05162  3.61%   169   25s\n",
                  "  2104   898 4101.00000   46  153 4047.00000 4193.05162  3.61%   155   30s\n",
                  "H 2112   824                    4066.0000000 4193.05162  3.12%   155   30s\n",
                  "* 2644   759              68    4067.0000000 4180.00000  2.78%   144   31s\n",
                  "* 2847   607             115    4096.0000000 4178.51582  2.01%   138   31s\n",
                  "H 3896   471                    4097.0000000 4147.85799  1.24%   126   33s\n",
                  "  5820   802 4098.00000   62   77 4097.00000 4100.00000  0.07%   101   35s\n",
                  " 16982  2733 infeasible   85      4097.00000 4099.00000  0.05%  55.6   40s\n"
               ]
            },
            {
               "ename": "KeyboardInterrupt",
               "evalue": "",
               "output_type": "error",
               "traceback": [
                  "\u001b[1;31m---------------------------------------------------------------------------\u001b[0m",
                  "\u001b[1;31mKeyboardInterrupt\u001b[0m                         Traceback (most recent call last)",
                  "File \u001b[1;32m~\\AppData\\Roaming\\Python\\Python39\\site-packages\\ipykernel\\iostream.py:518\u001b[0m, in \u001b[0;36mOutStream.write\u001b[1;34m(self, string)\u001b[0m\n\u001b[0;32m    509\u001b[0m         content \u001b[39m=\u001b[39m {\u001b[39m\"\u001b[39m\u001b[39mname\u001b[39m\u001b[39m\"\u001b[39m: \u001b[39mself\u001b[39m\u001b[39m.\u001b[39mname, \u001b[39m\"\u001b[39m\u001b[39mtext\u001b[39m\u001b[39m\"\u001b[39m: data}\n\u001b[0;32m    510\u001b[0m         \u001b[39mself\u001b[39m\u001b[39m.\u001b[39msession\u001b[39m.\u001b[39msend(\n\u001b[0;32m    511\u001b[0m             \u001b[39mself\u001b[39m\u001b[39m.\u001b[39mpub_thread,\n\u001b[0;32m    512\u001b[0m             \u001b[39m\"\u001b[39m\u001b[39mstream\u001b[39m\u001b[39m\"\u001b[39m,\n\u001b[1;32m   (...)\u001b[0m\n\u001b[0;32m    515\u001b[0m             ident\u001b[39m=\u001b[39m\u001b[39mself\u001b[39m\u001b[39m.\u001b[39mtopic,\n\u001b[0;32m    516\u001b[0m         )\n\u001b[1;32m--> 518\u001b[0m \u001b[39mdef\u001b[39;00m \u001b[39mwrite\u001b[39m(\u001b[39mself\u001b[39m, string: \u001b[39mstr\u001b[39m) \u001b[39m-\u001b[39m\u001b[39m>\u001b[39m Optional[\u001b[39mint\u001b[39m]:  \u001b[39m# type:ignore[override]\u001b[39;00m\n\u001b[0;32m    519\u001b[0m     \u001b[39m\"\"\"Write to current stream after encoding if necessary\u001b[39;00m\n\u001b[0;32m    520\u001b[0m \n\u001b[0;32m    521\u001b[0m \u001b[39m    Returns\u001b[39;00m\n\u001b[1;32m   (...)\u001b[0m\n\u001b[0;32m    525\u001b[0m \n\u001b[0;32m    526\u001b[0m \u001b[39m    \"\"\"\u001b[39;00m\n\u001b[0;32m    528\u001b[0m     \u001b[39mif\u001b[39;00m \u001b[39mnot\u001b[39;00m \u001b[39misinstance\u001b[39m(string, \u001b[39mstr\u001b[39m):\n",
                  "\u001b[1;31mKeyboardInterrupt\u001b[0m: "
               ]
            },
            {
               "name": "stderr",
               "output_type": "stream",
               "text": [
                  "Exception ignored in: 'gurobipy.logcallbackstub'\n",
                  "Traceback (most recent call last):\n",
                  "  File \"C:\\Users\\guilh\\AppData\\Roaming\\Python\\Python39\\site-packages\\ipykernel\\iostream.py\", line 518, in write\n",
                  "    def write(self, string: str) -> Optional[int]:  # type:ignore[override]\n",
                  "KeyboardInterrupt: \n"
               ]
            },
            {
               "name": "stdout",
               "output_type": "stream",
               "text": [
                  " 39243  6394 infeasible   81      4097.00000 4099.00000  0.05%  42.2   50s\n"
               ]
            }
         ],
         "source": [
            "points = run_one_step(data, n_jobs, points, 7)\n",
            "print(points)"
         ]
      },
      {
         "cell_type": "code",
         "execution_count": null,
         "metadata": {},
         "outputs": [],
         "source": [
            "points = run_one_step(data, n_jobs, points, 6)\n",
            "print(points)"
         ]
      },
      {
         "cell_type": "code",
         "execution_count": null,
         "metadata": {},
         "outputs": [],
         "source": [
            "points = run_one_step(data, n_jobs, points, 5)\n",
            "print(points)"
         ]
      },
      {
         "cell_type": "code",
         "execution_count": null,
         "metadata": {},
         "outputs": [],
         "source": [
            "points = run_one_step(data, n_jobs, points, 4)\n",
            "print(points)"
         ]
      },
      {
         "cell_type": "code",
         "execution_count": null,
         "metadata": {},
         "outputs": [],
         "source": [
            "points = run_one_step(data, n_jobs, points, 3)\n",
            "print(points)"
         ]
      },
      {
         "cell_type": "code",
         "execution_count": null,
         "metadata": {},
         "outputs": [],
         "source": [
            "points = run_one_step(data, n_jobs, points, 2)\n",
            "print(points)"
         ]
      },
      {
         "cell_type": "code",
         "execution_count": null,
         "metadata": {},
         "outputs": [],
         "source": [
            "points = run_one_step(data, n_jobs, points, 1)\n",
            "print(points)"
         ]
      },
      {
         "cell_type": "code",
         "execution_count": null,
         "metadata": {},
         "outputs": [],
         "source": [
            "points = run_one_step(data, n_jobs, points, 0)\n",
            "print(points)"
         ]
      },
      {
         "cell_type": "code",
         "execution_count": null,
         "metadata": {},
         "outputs": [
            {
               "name": "stderr",
               "output_type": "stream",
               "text": [
                  "  0%|          | 0/23 [00:00<?, ?it/s]"
               ]
            },
            {
               "name": "stdout",
               "output_type": "stream",
               "text": [
                  "15  /  15\n",
                  "Set parameter Username\n",
                  "Academic license - for non-commercial use only - expires 2023-12-10\n"
               ]
            },
            {
               "name": "stderr",
               "output_type": "stream",
               "text": [
                  "  0%|          | 0/16 [00:32<?, ?it/s]\n",
                  "  0%|          | 0/23 [00:32<?, ?it/s]\n"
               ]
            },
            {
               "ename": "KeyboardInterrupt",
               "evalue": "",
               "output_type": "error",
               "traceback": [
                  "\u001b[1;31m---------------------------------------------------------------------------\u001b[0m",
                  "\u001b[1;31mKeyboardInterrupt\u001b[0m                         Traceback (most recent call last)",
                  "Cell \u001b[1;32mIn [23], line 4\u001b[0m\n\u001b[0;32m      2\u001b[0m data \u001b[39m=\u001b[39m load_data(dataset)\n\u001b[0;32m      3\u001b[0m n_staff, horizon, n_qualifs, n_jobs \u001b[39m=\u001b[39m get_dims(data)\n\u001b[1;32m----> 4\u001b[0m points \u001b[39m=\u001b[39m main(dataset)\n\u001b[0;32m      5\u001b[0m \u001b[39mprint\u001b[39m(points)\n",
                  "Cell \u001b[1;32mIn [22], line 6\u001b[0m, in \u001b[0;36mmain\u001b[1;34m(dataset)\u001b[0m\n\u001b[0;32m      4\u001b[0m points \u001b[39m=\u001b[39m []\n\u001b[0;32m      5\u001b[0m \u001b[39mfor\u001b[39;00m i \u001b[39min\u001b[39;00m tqdm(\u001b[39mrange\u001b[39m(horizon, \u001b[39m-\u001b[39m\u001b[39m1\u001b[39m, \u001b[39m-\u001b[39m\u001b[39m1\u001b[39m)):\n\u001b[1;32m----> 6\u001b[0m     points \u001b[39m=\u001b[39m run_one_step(data, n_jobs, points, i)\n\u001b[0;32m      7\u001b[0m     \u001b[39mprint\u001b[39m(points)\n\u001b[0;32m      8\u001b[0m points \u001b[39m=\u001b[39m np\u001b[39m.\u001b[39marray(points)\n",
                  "Cell \u001b[1;32mIn [21], line 8\u001b[0m, in \u001b[0;36mrun_one_step\u001b[1;34m(data, n_jobs, points, step)\u001b[0m\n\u001b[0;32m      6\u001b[0m model\u001b[39m.\u001b[39maddConstr(max_days \u001b[39m<\u001b[39m\u001b[39m=\u001b[39m step)\n\u001b[0;32m      7\u001b[0m model\u001b[39m.\u001b[39mupdate()\n\u001b[1;32m----> 8\u001b[0m model\u001b[39m.\u001b[39;49moptimize()\n\u001b[0;32m      9\u001b[0m point \u001b[39m=\u001b[39m np\u001b[39m.\u001b[39marray([\u001b[39mround\u001b[39m(step), \u001b[39mround\u001b[39m(j), \u001b[39mround\u001b[39m(profit\u001b[39m.\u001b[39mX)])\n\u001b[0;32m     10\u001b[0m points\u001b[39m.\u001b[39mappend(point)\n",
                  "\u001b[1;31mKeyboardInterrupt\u001b[0m: "
               ]
            }
         ],
         "source": [
            "points = np.array(points)"
         ]
      },
      {
         "attachments": {},
         "cell_type": "markdown",
         "metadata": {},
         "source": [
            "# Visualisation"
         ]
      },
      {
         "cell_type": "code",
         "execution_count": 25,
         "metadata": {},
         "outputs": [
            {
               "name": "stdout",
               "output_type": "stream",
               "text": [
                  "[array([ 22,  15, 413]), array([ 22,  14, 413]), array([ 22,  13, 413]), array([ 22,  12, 413]), array([ 22,  11, 413]), array([ 22,  10, 413]), array([ 22,   9, 413]), array([ 22,   8, 413]), array([ 22,   7, 413]), array([ 22,   6, 413]), array([ 22,   5, 413]), array([ 22,   4, 405]), array([ 22,   3, 384]), array([ 22,   2, 326]), array([ 22,   1, 194]), array([22,  0,  0]), array([ 21,  15, 413]), array([ 21,  14, 413]), array([ 21,  13, 413]), array([ 21,  12, 413]), array([ 21,  11, 413]), array([ 21,  10, 413]), array([ 21,   9, 413]), array([ 21,   8, 413]), array([ 21,   7, 413]), array([ 21,   6, 413]), array([ 21,   5, 413]), array([ 21,   4, 405]), array([ 21,   3, 384]), array([ 21,   2, 326]), array([ 21,   1, 194]), array([21,  0,  0]), array([ 20,  15, 413]), array([ 20,  14, 413]), array([ 20,  13, 413]), array([ 20,  12, 413]), array([ 20,  11, 413]), array([ 20,  10, 413]), array([ 20,   9, 413]), array([ 20,   8, 413]), array([ 20,   7, 413]), array([ 20,   6, 413]), array([ 20,   5, 413]), array([ 20,   4, 405]), array([ 20,   3, 384]), array([ 20,   2, 326]), array([ 20,   1, 194]), array([20,  0,  0]), array([ 19,  15, 413]), array([ 19,  14, 413]), array([ 19,  13, 413]), array([ 19,  12, 413]), array([ 19,  11, 413]), array([ 19,  10, 413]), array([ 19,   9, 413]), array([ 19,   8, 413]), array([ 19,   7, 413]), array([ 19,   6, 413]), array([ 19,   5, 413]), array([ 19,   4, 405]), array([ 19,   3, 384]), array([ 19,   2, 326]), array([ 19,   1, 194]), array([19,  0,  0]), array([ 18,  15, 413]), array([ 18,  14, 413]), array([ 18,  13, 413]), array([ 18,  12, 413]), array([ 18,  11, 413]), array([ 18,  10, 413]), array([ 18,   9, 413]), array([ 18,   8, 413]), array([ 18,   7, 413]), array([ 18,   6, 413]), array([ 18,   5, 413]), array([ 18,   4, 405]), array([ 18,   3, 384]), array([ 18,   2, 326]), array([ 18,   1, 194]), array([18,  0,  0]), array([ 17,  15, 413]), array([ 17,  14, 413]), array([ 17,  13, 413]), array([ 17,  12, 413]), array([ 17,  11, 413]), array([ 17,  10, 413]), array([ 17,   9, 413]), array([ 17,   8, 413]), array([ 17,   7, 413]), array([ 17,   6, 413]), array([ 17,   5, 413]), array([ 17,   4, 405]), array([ 17,   3, 384]), array([ 17,   2, 326]), array([ 17,   1, 194]), array([17,  0,  0]), array([ 16,  15, 413]), array([ 16,  14, 413]), array([ 16,  13, 413]), array([ 16,  12, 413]), array([ 16,  11, 413]), array([ 16,  10, 413]), array([ 16,   9, 413]), array([ 16,   8, 413]), array([ 16,   7, 413]), array([ 16,   6, 413]), array([ 16,   5, 413]), array([ 16,   4, 405]), array([ 16,   3, 384]), array([ 16,   2, 326]), array([ 16,   1, 194]), array([16,  0,  0]), array([ 15,  15, 413]), array([ 15,  14, 413]), array([ 15,  13, 413]), array([ 15,  12, 413]), array([ 15,  11, 413]), array([ 15,  10, 413]), array([ 15,   9, 413]), array([ 15,   8, 413]), array([ 15,   7, 413]), array([ 15,   6, 413]), array([ 15,   5, 413]), array([ 15,   4, 405]), array([ 15,   3, 384]), array([ 15,   2, 326]), array([ 15,   1, 194]), array([15,  0,  0]), array([ 14,  15, 413]), array([ 14,  14, 413]), array([ 14,  13, 413]), array([ 14,  12, 413]), array([ 14,  11, 413]), array([ 14,  10, 413]), array([ 14,   9, 413]), array([ 14,   8, 413]), array([ 14,   7, 413]), array([ 14,   6, 413]), array([ 14,   5, 413]), array([ 14,   4, 405]), array([ 14,   3, 384]), array([ 14,   2, 326]), array([ 14,   1, 194]), array([14,  0,  0]), array([ 13,  15, 413]), array([ 13,  14, 413]), array([ 13,  13, 413]), array([ 13,  12, 413]), array([ 13,  11, 413]), array([ 13,  10, 413]), array([ 13,   9, 413]), array([ 13,   8, 413]), array([ 13,   7, 413]), array([ 13,   6, 413]), array([ 13,   5, 413]), array([ 13,   4, 405]), array([ 13,   3, 384]), array([ 13,   2, 326]), array([ 13,   1, 194]), array([13,  0,  0]), array([ 12,  15, 413]), array([ 12,  14, 413]), array([ 12,  13, 413]), array([ 12,  12, 413]), array([ 12,  11, 413]), array([ 12,  10, 413]), array([ 12,   9, 413]), array([ 12,   8, 413]), array([ 12,   7, 413]), array([ 12,   6, 413]), array([ 12,   5, 413]), array([ 12,   4, 405]), array([ 12,   3, 384]), array([ 12,   2, 326]), array([ 12,   1, 194]), array([12,  0,  0]), array([ 11,  15, 413]), array([ 11,  14, 413]), array([ 11,  13, 413]), array([ 11,  12, 413]), array([ 11,  11, 413]), array([ 11,  10, 413]), array([ 11,   9, 413]), array([ 11,   8, 413]), array([ 11,   7, 413]), array([ 11,   6, 413]), array([ 11,   5, 413]), array([ 11,   4, 404]), array([ 11,   3, 379]), array([ 11,   2, 325]), array([ 11,   1, 180]), array([11,  0,  0]), array([ 10,  15, 413]), array([ 10,  14, 413]), array([ 10,  13, 413]), array([ 10,  12, 413]), array([ 10,  11, 413]), array([ 10,  10, 413]), array([ 10,   9, 413]), array([ 10,   8, 413]), array([ 10,   7, 413]), array([ 10,   6, 413]), array([ 10,   5, 413]), array([ 10,   4, 404]), array([ 10,   3, 379]), array([ 10,   2, 325]), array([ 10,   1, 180]), array([10,  0,  0]), array([  9,  15, 413]), array([  9,  14, 413]), array([  9,  13, 413]), array([  9,  12, 413]), array([  9,  11, 413]), array([  9,  10, 413]), array([  9,   9, 413]), array([  9,   8, 413]), array([  9,   7, 413]), array([  9,   6, 413]), array([  9,   5, 410]), array([  9,   4, 400]), array([  9,   3, 379]), array([  9,   2, 325]), array([  9,   1, 180]), array([9, 0, 0]), array([  8,  15, 413]), array([  8,  14, 413]), array([  8,  13, 413]), array([  8,  12, 413]), array([  8,  11, 413]), array([  8,  10, 413]), array([  8,   9, 413]), array([  8,   8, 413]), array([  8,   7, 413]), array([  8,   6, 413]), array([  8,   5, 410]), array([  8,   4, 397]), array([  8,   3, 369]), array([  8,   2, 302]), array([  8,   1, 177]), array([8, 0, 0])]\n"
               ]
            }
         ],
         "source": [
            "points = [array([ 22,  15, 413]), array([ 22,  14, 413]), array([ 22,  13, 413]), array([ 22,  12, 413]), array([ 22,  11, 413]), array([ 22,  10, 413]), array([ 22,   9, 413]), array([ 22,   8, 413]), array([ 22,   7, 413]), array([ 22,   6, 413]), array([ 22,   5, 413]), array([ 22,   4, 405]), array([ 22,   3, 384]), array([ 22,   2, 326]), array([ 22,   1, 194]), array([22,  0,  0]), array([ 21,  15, 413]), array([ 21,  14, 413]), array([ 21,  13, 413]), array([ 21,  12, 413]), array([ 21,  11, 413]), array([ 21,  10, 413]), array([ 21,   9, 413]), array([ 21,   8, 413]), array([ 21,   7, 413]), array([ 21,   6, 413]), array([ 21,   5, 413]), array([ 21,   4, 405]), array([ 21,   3, 384]), array([ 21,   2, 326]), array([ 21,   1, 194]), array([21,  0,  0]), array([ 20,  15, 413]), array([ 20,  14, 413]), array([ 20,  13, 413]), array([ 20,  12, 413]), array([ 20,  11, 413]), array([ 20,  10, 413]), array([ 20,   9, 413]), array([ 20,   8, 413]), array([ 20,   7, 413]), array([ 20,   6, 413]), array([ 20,   5, 413]), array([ 20,   4, 405]), array([ 20,   3, 384]), array([ 20,   2, 326]), array([ 20,   1, 194]), array([20,  0,  0]), array([ 19,  15, 413]), array([ 19,  14, 413]), array([ 19,  13, 413]), array([ 19,  12, 413]), array([ 19,  11, 413]), array([ 19,  10, 413]), array([ 19,   9, 413]), array([ 19,   8, 413]), array([ 19,   7, 413]), array([ 19,   6, 413]), array([ 19,   5, 413]), array([ 19,   4, 405]), array([ 19,   3, 384]), array([ 19,   2, 326]), array([ 19,   1, 194]), array([19,  0,  0]), array([ 18,  15, 413]), array([ 18,  14, 413]), array([ 18,  13, 413]), array([ 18,  12, 413]), array([ 18,  11, 413]), array([ 18,  10, 413]), array([ 18,   9, 413]), array([ 18,   8, 413]), array([ 18,   7, 413]), array([ 18,   6, 413]), array([ 18,   5, 413]), array([ 18,   4, 405]), array([ 18,   3, 384]), array([ 18,   2, 326]), array([ 18,   1, 194]), array([18,  0,  0]), array([ 17,  15, 413]), array([ 17,  14, 413]), array([ 17,  13, 413]), array([ 17,  12, 413]), array([ 17,  11, 413]), array([ 17,  10, 413]), array([ 17,   9, 413]), array([ 17,   8, 413]), array([ 17,   7, 413]), array([ 17,   6, 413]), array([ 17,   5, 413]), array([ 17,   4, 405]), array([ 17,   3, 384]), array([ 17,   2, 326]), array([ 17,   1, 194]), array([17,  0,  0]), array([ 16,  15, 413]), array([ 16,  14, 413]), array([ 16,  13, 413]), array([ 16,  12, 413]), array([ 16,  11, 413]), array([ 16,  10, 413]), array([ 16,   9, 413]), array([ 16,   8, 413]), array([ 16,   7, 413]), array([ 16,   6, 413]), array([ 16,   5, 413]), array([ 16,   4, 405]), array([ 16,   3, 384]), array([ 16,   2, 326]), array([ 16,   1, 194]), array([16,  0,  0]), array([ 15,  15, 413]), array([ 15,  14, 413]), array([ 15,  13, 413]), array([ 15,  12, 413]), array([ 15,  11, 413]), array([ 15,  10, 413]), array([ 15,   9, 413]), array([ 15,   8, 413]), array([ 15,   7, 413]), array([ 15,   6, 413]), array([ 15,   5, 413]), array([ 15,   4, 405]), array([ 15,   3, 384]), array([ 15,   2, 326]), array([ 15,   1, 194]), array([15,  0,  0]), array([ 14,  15, 413]), array([ 14,  14, 413]), array([ 14,  13, 413]), array([ 14,  12, 413]), array([ 14,  11, 413]), array([ 14,  10, 413]), array([ 14,   9, 413]), array([ 14,   8, 413]), array([ 14,   7, 413]), array([ 14,   6, 413]), array([ 14,   5, 413]), array([ 14,   4, 405]), array([ 14,   3, 384]), array([ 14,   2, 326]), array([ 14,   1, 194]), array([14,  0,  0]), array([ 13,  15, 413]), array([ 13,  14, 413]), array([ 13,  13, 413]), array([ 13,  12, 413]), array([ 13,  11, 413]), array([ 13,  10, 413]), array([ 13,   9, 413]), array([ 13,   8, 413]), array([ 13,   7, 413]), array([ 13,   6, 413]), array([ 13,   5, 413]), array([ 13,   4, 405]), array([ 13,   3, 384]), array([ 13,   2, 326]), array([ 13,   1, 194]), array([13,  0,  0]), array([ 12,  15, 413]), array([ 12,  14, 413]), array([ 12,  13, 413]), array([ 12,  12, 413]), array([ 12,  11, 413]), array([ 12,  10, 413]), array([ 12,   9, 413]), array([ 12,   8, 413]), array([ 12,   7, 413]), array([ 12,   6, 413]), array([ 12,   5, 413]), array([ 12,   4, 405]), array([ 12,   3, 384]), array([ 12,   2, 326]), array([ 12,   1, 194]), array([12,  0,  0]), array([ 11,  15, 413]), array([ 11,  14, 413]), array([ 11,  13, 413]), array([ 11,  12, 413]), array([ 11,  11, 413]), array([ 11,  10, 413]), array([ 11,   9, 413]), array([ 11,   8, 413]), array([ 11,   7, 413]), array([ 11,   6, 413]), array([ 11,   5, 413]), array([ 11,   4, 404]), array([ 11,   3, 379]), array([ 11,   2, 325]), array([ 11,   1, 180]), array([11,  0,  0]), array([ 10,  15, 413]), array([ 10,  14, 413]), array([ 10,  13, 413]), array([ 10,  12, 413]), array([ 10,  11, 413]), array([ 10,  10, 413]), array([ 10,   9, 413]), array([ 10,   8, 413]), array([ 10,   7, 413]), array([ 10,   6, 413]), array([ 10,   5, 413]), array([ 10,   4, 404]), array([ 10,   3, 379]), array([ 10,   2, 325]), array([ 10,   1, 180]), array([10,  0,  0]), array([  9,  15, 413]), array([  9,  14, 413]), array([  9,  13, 413]), array([  9,  12, 413]), array([  9,  11, 413]), array([  9,  10, 413]), array([  9,   9, 413]), array([  9,   8, 413]), array([  9,   7, 413]), array([  9,   6, 413]), array([  9,   5, 410]), array([  9,   4, 400]), array([  9,   3, 379]), array([  9,   2, 325]), array([  9,   1, 180]), array([9, 0, 0]), array([  8,  15, 413]), array([  8,  14, 413]), array([  8,  13, 413]), array([  8,  12, 413]), array([  8,  11, 413]), array([  8,  10, 413]), array([  8,   9, 413]), array([  8,   8, 413]), array([  8,   7, 413]), array([  8,   6, 413]), array([  8,   5, 410]), array([  8,   4, 397]), array([  8,   3, 369]), array([  8,   2, 302]), array([  8,   1, 177]), array([8, 0, 0])]\n",
            "# points = array(points)\n",
            "print(points)"
         ]
      },
      {
         "cell_type": "code",
         "execution_count": 14,
         "metadata": {},
         "outputs": [
            {
               "name": "stdout",
               "output_type": "stream",
               "text": [
                  "[[15. 14. 13. 12. 11. 10.  9.  8.  7.  6.  5.  4.  3.  2.  1.  0.]\n",
                  " [15. 14. 13. 12. 11. 10.  9.  8.  7.  6.  5.  4.  3.  2.  1.  0.]\n",
                  " [15. 14. 13. 12. 11. 10.  9.  8.  7.  6.  5.  4.  3.  2.  1.  0.]\n",
                  " [15. 14. 13. 12. 11. 10.  9.  8.  7.  6.  5.  4.  3.  2.  1.  0.]\n",
                  " [15. 14. 13. 12. 11. 10.  9.  8.  7.  6.  5.  4.  3.  2.  1.  0.]\n",
                  " [15. 14. 13. 12. 11. 10.  9.  8.  7.  6.  5.  4.  3.  2.  1.  0.]\n",
                  " [15. 14. 13. 12. 11. 10.  9.  8.  7.  6.  5.  4.  3.  2.  1.  0.]\n",
                  " [15. 14. 13. 12. 11. 10.  9.  8.  7.  6.  5.  4.  3.  2.  1.  0.]\n",
                  " [15. 14. 13. 12. 11. 10.  9.  8.  7.  6.  5.  4.  3.  2.  1.  0.]\n",
                  " [15. 14. 13. 12. 11. 10.  9.  8.  7.  6.  5.  4.  3.  2.  1.  0.]\n",
                  " [15. 14. 13. 12. 11. 10.  9.  8.  7.  6.  5.  4.  3.  2.  1.  0.]\n",
                  " [15. 14. 13. 12. 11. 10.  9.  8.  7.  6.  5.  4.  3.  2.  1.  0.]\n",
                  " [15. 14. 13. 12. 11. 10.  9.  8.  7.  6.  5.  4.  3.  2.  1.  0.]\n",
                  " [15. 14. 13. 12. 11. 10.  9.  8.  7.  6.  5.  4.  3.  2.  1.  0.]\n",
                  " [15. 14. 13. 12. 11. 10.  9.  8.  7.  6.  5.  4.  3.  2.  1.  0.]]\n",
                  "[[22. 22. 22. 22. 22. 22. 22. 22. 22. 22. 22. 22. 22. 22. 22. 22.]\n",
                  " [21. 21. 21. 21. 21. 21. 21. 21. 21. 21. 21. 21. 21. 21. 21. 21.]\n",
                  " [20. 20. 20. 20. 20. 20. 20. 20. 20. 20. 20. 20. 20. 20. 20. 20.]\n",
                  " [19. 19. 19. 19. 19. 19. 19. 19. 19. 19. 19. 19. 19. 19. 19. 19.]\n",
                  " [18. 18. 18. 18. 18. 18. 18. 18. 18. 18. 18. 18. 18. 18. 18. 18.]\n",
                  " [17. 17. 17. 17. 17. 17. 17. 17. 17. 17. 17. 17. 17. 17. 17. 17.]\n",
                  " [16. 16. 16. 16. 16. 16. 16. 16. 16. 16. 16. 16. 16. 16. 16. 16.]\n",
                  " [15. 15. 15. 15. 15. 15. 15. 15. 15. 15. 15. 15. 15. 15. 15. 15.]\n",
                  " [14. 14. 14. 14. 14. 14. 14. 14. 14. 14. 14. 14. 14. 14. 14. 14.]\n",
                  " [13. 13. 13. 13. 13. 13. 13. 13. 13. 13. 13. 13. 13. 13. 13. 13.]\n",
                  " [12. 12. 12. 12. 12. 12. 12. 12. 12. 12. 12. 12. 12. 12. 12. 12.]\n",
                  " [11. 11. 11. 11. 11. 11. 11. 11. 11. 11. 11. 11. 11. 11. 11. 11.]\n",
                  " [10. 10. 10. 10. 10. 10. 10. 10. 10. 10. 10. 10. 10. 10. 10. 10.]\n",
                  " [ 9.  9.  9.  9.  9.  9.  9.  9.  9.  9.  9.  9.  9.  9.  9.  9.]\n",
                  " [ 8.  8.  8.  8.  8.  8.  8.  8.  8.  8.  8.  8.  8.  8.  8.  8.]]\n",
                  "[[413 413 413 413 413 413 413 413 413 413 413 405 384 326 194   0]\n",
                  " [413 413 413 413 413 413 413 413 413 413 413 405 384 326 194   0]\n",
                  " [413 413 413 413 413 413 413 413 413 413 413 405 384 326 194   0]\n",
                  " [413 413 413 413 413 413 413 413 413 413 413 405 384 326 194   0]\n",
                  " [413 413 413 413 413 413 413 413 413 413 413 405 384 326 194   0]\n",
                  " [413 413 413 413 413 413 413 413 413 413 413 405 384 326 194   0]\n",
                  " [413 413 413 413 413 413 413 413 413 413 413 405 384 326 194   0]\n",
                  " [413 413 413 413 413 413 413 413 413 413 413 405 384 326 194   0]\n",
                  " [413 413 413 413 413 413 413 413 413 413 413 405 384 326 194   0]\n",
                  " [413 413 413 413 413 413 413 413 413 413 413 405 384 326 194   0]\n",
                  " [413 413 413 413 413 413 413 413 413 413 413 405 384 326 194   0]\n",
                  " [413 413 413 413 413 413 413 413 413 413 413 404 379 325 180   0]\n",
                  " [413 413 413 413 413 413 413 413 413 413 413 404 379 325 180   0]\n",
                  " [413 413 413 413 413 413 413 413 413 413 410 400 379 325 180   0]\n",
                  " [413 413 413 413 413 413 413 413 413 413 410 397 369 302 177   0]]\n"
               ]
            },
            {
               "data": {
                  "application/vnd.plotly.v1+json": {
                     "config": {
                        "plotlyServerURL": "https://plotly.com"
                     },
                     "data": [
                        {
                           "type": "surface",
                           "x": [
                              [
                                 15,
                                 14,
                                 13,
                                 12,
                                 11,
                                 10,
                                 9,
                                 8,
                                 7,
                                 6,
                                 5,
                                 4,
                                 3,
                                 2,
                                 1,
                                 0
                              ],
                              [
                                 15,
                                 14,
                                 13,
                                 12,
                                 11,
                                 10,
                                 9,
                                 8,
                                 7,
                                 6,
                                 5,
                                 4,
                                 3,
                                 2,
                                 1,
                                 0
                              ],
                              [
                                 15,
                                 14,
                                 13,
                                 12,
                                 11,
                                 10,
                                 9,
                                 8,
                                 7,
                                 6,
                                 5,
                                 4,
                                 3,
                                 2,
                                 1,
                                 0
                              ],
                              [
                                 15,
                                 14,
                                 13,
                                 12,
                                 11,
                                 10,
                                 9,
                                 8,
                                 7,
                                 6,
                                 5,
                                 4,
                                 3,
                                 2,
                                 1,
                                 0
                              ],
                              [
                                 15,
                                 14,
                                 13,
                                 12,
                                 11,
                                 10,
                                 9,
                                 8,
                                 7,
                                 6,
                                 5,
                                 4,
                                 3,
                                 2,
                                 1,
                                 0
                              ],
                              [
                                 15,
                                 14,
                                 13,
                                 12,
                                 11,
                                 10,
                                 9,
                                 8,
                                 7,
                                 6,
                                 5,
                                 4,
                                 3,
                                 2,
                                 1,
                                 0
                              ],
                              [
                                 15,
                                 14,
                                 13,
                                 12,
                                 11,
                                 10,
                                 9,
                                 8,
                                 7,
                                 6,
                                 5,
                                 4,
                                 3,
                                 2,
                                 1,
                                 0
                              ],
                              [
                                 15,
                                 14,
                                 13,
                                 12,
                                 11,
                                 10,
                                 9,
                                 8,
                                 7,
                                 6,
                                 5,
                                 4,
                                 3,
                                 2,
                                 1,
                                 0
                              ],
                              [
                                 15,
                                 14,
                                 13,
                                 12,
                                 11,
                                 10,
                                 9,
                                 8,
                                 7,
                                 6,
                                 5,
                                 4,
                                 3,
                                 2,
                                 1,
                                 0
                              ],
                              [
                                 15,
                                 14,
                                 13,
                                 12,
                                 11,
                                 10,
                                 9,
                                 8,
                                 7,
                                 6,
                                 5,
                                 4,
                                 3,
                                 2,
                                 1,
                                 0
                              ],
                              [
                                 15,
                                 14,
                                 13,
                                 12,
                                 11,
                                 10,
                                 9,
                                 8,
                                 7,
                                 6,
                                 5,
                                 4,
                                 3,
                                 2,
                                 1,
                                 0
                              ],
                              [
                                 15,
                                 14,
                                 13,
                                 12,
                                 11,
                                 10,
                                 9,
                                 8,
                                 7,
                                 6,
                                 5,
                                 4,
                                 3,
                                 2,
                                 1,
                                 0
                              ],
                              [
                                 15,
                                 14,
                                 13,
                                 12,
                                 11,
                                 10,
                                 9,
                                 8,
                                 7,
                                 6,
                                 5,
                                 4,
                                 3,
                                 2,
                                 1,
                                 0
                              ],
                              [
                                 15,
                                 14,
                                 13,
                                 12,
                                 11,
                                 10,
                                 9,
                                 8,
                                 7,
                                 6,
                                 5,
                                 4,
                                 3,
                                 2,
                                 1,
                                 0
                              ],
                              [
                                 15,
                                 14,
                                 13,
                                 12,
                                 11,
                                 10,
                                 9,
                                 8,
                                 7,
                                 6,
                                 5,
                                 4,
                                 3,
                                 2,
                                 1,
                                 0
                              ]
                           ],
                           "y": [
                              [
                                 22,
                                 22,
                                 22,
                                 22,
                                 22,
                                 22,
                                 22,
                                 22,
                                 22,
                                 22,
                                 22,
                                 22,
                                 22,
                                 22,
                                 22,
                                 22
                              ],
                              [
                                 21,
                                 21,
                                 21,
                                 21,
                                 21,
                                 21,
                                 21,
                                 21,
                                 21,
                                 21,
                                 21,
                                 21,
                                 21,
                                 21,
                                 21,
                                 21
                              ],
                              [
                                 20,
                                 20,
                                 20,
                                 20,
                                 20,
                                 20,
                                 20,
                                 20,
                                 20,
                                 20,
                                 20,
                                 20,
                                 20,
                                 20,
                                 20,
                                 20
                              ],
                              [
                                 19,
                                 19,
                                 19,
                                 19,
                                 19,
                                 19,
                                 19,
                                 19,
                                 19,
                                 19,
                                 19,
                                 19,
                                 19,
                                 19,
                                 19,
                                 19
                              ],
                              [
                                 18,
                                 18,
                                 18,
                                 18,
                                 18,
                                 18,
                                 18,
                                 18,
                                 18,
                                 18,
                                 18,
                                 18,
                                 18,
                                 18,
                                 18,
                                 18
                              ],
                              [
                                 17,
                                 17,
                                 17,
                                 17,
                                 17,
                                 17,
                                 17,
                                 17,
                                 17,
                                 17,
                                 17,
                                 17,
                                 17,
                                 17,
                                 17,
                                 17
                              ],
                              [
                                 16,
                                 16,
                                 16,
                                 16,
                                 16,
                                 16,
                                 16,
                                 16,
                                 16,
                                 16,
                                 16,
                                 16,
                                 16,
                                 16,
                                 16,
                                 16
                              ],
                              [
                                 15,
                                 15,
                                 15,
                                 15,
                                 15,
                                 15,
                                 15,
                                 15,
                                 15,
                                 15,
                                 15,
                                 15,
                                 15,
                                 15,
                                 15,
                                 15
                              ],
                              [
                                 14,
                                 14,
                                 14,
                                 14,
                                 14,
                                 14,
                                 14,
                                 14,
                                 14,
                                 14,
                                 14,
                                 14,
                                 14,
                                 14,
                                 14,
                                 14
                              ],
                              [
                                 13,
                                 13,
                                 13,
                                 13,
                                 13,
                                 13,
                                 13,
                                 13,
                                 13,
                                 13,
                                 13,
                                 13,
                                 13,
                                 13,
                                 13,
                                 13
                              ],
                              [
                                 12,
                                 12,
                                 12,
                                 12,
                                 12,
                                 12,
                                 12,
                                 12,
                                 12,
                                 12,
                                 12,
                                 12,
                                 12,
                                 12,
                                 12,
                                 12
                              ],
                              [
                                 11,
                                 11,
                                 11,
                                 11,
                                 11,
                                 11,
                                 11,
                                 11,
                                 11,
                                 11,
                                 11,
                                 11,
                                 11,
                                 11,
                                 11,
                                 11
                              ],
                              [
                                 10,
                                 10,
                                 10,
                                 10,
                                 10,
                                 10,
                                 10,
                                 10,
                                 10,
                                 10,
                                 10,
                                 10,
                                 10,
                                 10,
                                 10,
                                 10
                              ],
                              [
                                 9,
                                 9,
                                 9,
                                 9,
                                 9,
                                 9,
                                 9,
                                 9,
                                 9,
                                 9,
                                 9,
                                 9,
                                 9,
                                 9,
                                 9,
                                 9
                              ],
                              [
                                 8,
                                 8,
                                 8,
                                 8,
                                 8,
                                 8,
                                 8,
                                 8,
                                 8,
                                 8,
                                 8,
                                 8,
                                 8,
                                 8,
                                 8,
                                 8
                              ]
                           ],
                           "z": [
                              [
                                 413,
                                 413,
                                 413,
                                 413,
                                 413,
                                 413,
                                 413,
                                 413,
                                 413,
                                 413,
                                 413,
                                 405,
                                 384,
                                 326,
                                 194,
                                 0
                              ],
                              [
                                 413,
                                 413,
                                 413,
                                 413,
                                 413,
                                 413,
                                 413,
                                 413,
                                 413,
                                 413,
                                 413,
                                 405,
                                 384,
                                 326,
                                 194,
                                 0
                              ],
                              [
                                 413,
                                 413,
                                 413,
                                 413,
                                 413,
                                 413,
                                 413,
                                 413,
                                 413,
                                 413,
                                 413,
                                 405,
                                 384,
                                 326,
                                 194,
                                 0
                              ],
                              [
                                 413,
                                 413,
                                 413,
                                 413,
                                 413,
                                 413,
                                 413,
                                 413,
                                 413,
                                 413,
                                 413,
                                 405,
                                 384,
                                 326,
                                 194,
                                 0
                              ],
                              [
                                 413,
                                 413,
                                 413,
                                 413,
                                 413,
                                 413,
                                 413,
                                 413,
                                 413,
                                 413,
                                 413,
                                 405,
                                 384,
                                 326,
                                 194,
                                 0
                              ],
                              [
                                 413,
                                 413,
                                 413,
                                 413,
                                 413,
                                 413,
                                 413,
                                 413,
                                 413,
                                 413,
                                 413,
                                 405,
                                 384,
                                 326,
                                 194,
                                 0
                              ],
                              [
                                 413,
                                 413,
                                 413,
                                 413,
                                 413,
                                 413,
                                 413,
                                 413,
                                 413,
                                 413,
                                 413,
                                 405,
                                 384,
                                 326,
                                 194,
                                 0
                              ],
                              [
                                 413,
                                 413,
                                 413,
                                 413,
                                 413,
                                 413,
                                 413,
                                 413,
                                 413,
                                 413,
                                 413,
                                 405,
                                 384,
                                 326,
                                 194,
                                 0
                              ],
                              [
                                 413,
                                 413,
                                 413,
                                 413,
                                 413,
                                 413,
                                 413,
                                 413,
                                 413,
                                 413,
                                 413,
                                 405,
                                 384,
                                 326,
                                 194,
                                 0
                              ],
                              [
                                 413,
                                 413,
                                 413,
                                 413,
                                 413,
                                 413,
                                 413,
                                 413,
                                 413,
                                 413,
                                 413,
                                 405,
                                 384,
                                 326,
                                 194,
                                 0
                              ],
                              [
                                 413,
                                 413,
                                 413,
                                 413,
                                 413,
                                 413,
                                 413,
                                 413,
                                 413,
                                 413,
                                 413,
                                 405,
                                 384,
                                 326,
                                 194,
                                 0
                              ],
                              [
                                 413,
                                 413,
                                 413,
                                 413,
                                 413,
                                 413,
                                 413,
                                 413,
                                 413,
                                 413,
                                 413,
                                 404,
                                 379,
                                 325,
                                 180,
                                 0
                              ],
                              [
                                 413,
                                 413,
                                 413,
                                 413,
                                 413,
                                 413,
                                 413,
                                 413,
                                 413,
                                 413,
                                 413,
                                 404,
                                 379,
                                 325,
                                 180,
                                 0
                              ],
                              [
                                 413,
                                 413,
                                 413,
                                 413,
                                 413,
                                 413,
                                 413,
                                 413,
                                 413,
                                 413,
                                 410,
                                 400,
                                 379,
                                 325,
                                 180,
                                 0
                              ],
                              [
                                 413,
                                 413,
                                 413,
                                 413,
                                 413,
                                 413,
                                 413,
                                 413,
                                 413,
                                 413,
                                 410,
                                 397,
                                 369,
                                 302,
                                 177,
                                 0
                              ]
                           ]
                        }
                     ],
                     "layout": {
                        "scene": {
                           "xaxis": {
                              "title": {
                                 "text": "Jobs"
                              }
                           },
                           "yaxis": {
                              "title": {
                                 "text": "Days"
                              }
                           },
                           "zaxis": {
                              "title": {
                                 "text": "Benefit"
                              }
                           }
                        },
                        "template": {
                           "data": {
                              "bar": [
                                 {
                                    "error_x": {
                                       "color": "#2a3f5f"
                                    },
                                    "error_y": {
                                       "color": "#2a3f5f"
                                    },
                                    "marker": {
                                       "line": {
                                          "color": "#E5ECF6",
                                          "width": 0.5
                                       },
                                       "pattern": {
                                          "fillmode": "overlay",
                                          "size": 10,
                                          "solidity": 0.2
                                       }
                                    },
                                    "type": "bar"
                                 }
                              ],
                              "barpolar": [
                                 {
                                    "marker": {
                                       "line": {
                                          "color": "#E5ECF6",
                                          "width": 0.5
                                       },
                                       "pattern": {
                                          "fillmode": "overlay",
                                          "size": 10,
                                          "solidity": 0.2
                                       }
                                    },
                                    "type": "barpolar"
                                 }
                              ],
                              "carpet": [
                                 {
                                    "aaxis": {
                                       "endlinecolor": "#2a3f5f",
                                       "gridcolor": "white",
                                       "linecolor": "white",
                                       "minorgridcolor": "white",
                                       "startlinecolor": "#2a3f5f"
                                    },
                                    "baxis": {
                                       "endlinecolor": "#2a3f5f",
                                       "gridcolor": "white",
                                       "linecolor": "white",
                                       "minorgridcolor": "white",
                                       "startlinecolor": "#2a3f5f"
                                    },
                                    "type": "carpet"
                                 }
                              ],
                              "choropleth": [
                                 {
                                    "colorbar": {
                                       "outlinewidth": 0,
                                       "ticks": ""
                                    },
                                    "type": "choropleth"
                                 }
                              ],
                              "contour": [
                                 {
                                    "colorbar": {
                                       "outlinewidth": 0,
                                       "ticks": ""
                                    },
                                    "colorscale": [
                                       [
                                          0,
                                          "#0d0887"
                                       ],
                                       [
                                          0.1111111111111111,
                                          "#46039f"
                                       ],
                                       [
                                          0.2222222222222222,
                                          "#7201a8"
                                       ],
                                       [
                                          0.3333333333333333,
                                          "#9c179e"
                                       ],
                                       [
                                          0.4444444444444444,
                                          "#bd3786"
                                       ],
                                       [
                                          0.5555555555555556,
                                          "#d8576b"
                                       ],
                                       [
                                          0.6666666666666666,
                                          "#ed7953"
                                       ],
                                       [
                                          0.7777777777777778,
                                          "#fb9f3a"
                                       ],
                                       [
                                          0.8888888888888888,
                                          "#fdca26"
                                       ],
                                       [
                                          1,
                                          "#f0f921"
                                       ]
                                    ],
                                    "type": "contour"
                                 }
                              ],
                              "contourcarpet": [
                                 {
                                    "colorbar": {
                                       "outlinewidth": 0,
                                       "ticks": ""
                                    },
                                    "type": "contourcarpet"
                                 }
                              ],
                              "heatmap": [
                                 {
                                    "colorbar": {
                                       "outlinewidth": 0,
                                       "ticks": ""
                                    },
                                    "colorscale": [
                                       [
                                          0,
                                          "#0d0887"
                                       ],
                                       [
                                          0.1111111111111111,
                                          "#46039f"
                                       ],
                                       [
                                          0.2222222222222222,
                                          "#7201a8"
                                       ],
                                       [
                                          0.3333333333333333,
                                          "#9c179e"
                                       ],
                                       [
                                          0.4444444444444444,
                                          "#bd3786"
                                       ],
                                       [
                                          0.5555555555555556,
                                          "#d8576b"
                                       ],
                                       [
                                          0.6666666666666666,
                                          "#ed7953"
                                       ],
                                       [
                                          0.7777777777777778,
                                          "#fb9f3a"
                                       ],
                                       [
                                          0.8888888888888888,
                                          "#fdca26"
                                       ],
                                       [
                                          1,
                                          "#f0f921"
                                       ]
                                    ],
                                    "type": "heatmap"
                                 }
                              ],
                              "heatmapgl": [
                                 {
                                    "colorbar": {
                                       "outlinewidth": 0,
                                       "ticks": ""
                                    },
                                    "colorscale": [
                                       [
                                          0,
                                          "#0d0887"
                                       ],
                                       [
                                          0.1111111111111111,
                                          "#46039f"
                                       ],
                                       [
                                          0.2222222222222222,
                                          "#7201a8"
                                       ],
                                       [
                                          0.3333333333333333,
                                          "#9c179e"
                                       ],
                                       [
                                          0.4444444444444444,
                                          "#bd3786"
                                       ],
                                       [
                                          0.5555555555555556,
                                          "#d8576b"
                                       ],
                                       [
                                          0.6666666666666666,
                                          "#ed7953"
                                       ],
                                       [
                                          0.7777777777777778,
                                          "#fb9f3a"
                                       ],
                                       [
                                          0.8888888888888888,
                                          "#fdca26"
                                       ],
                                       [
                                          1,
                                          "#f0f921"
                                       ]
                                    ],
                                    "type": "heatmapgl"
                                 }
                              ],
                              "histogram": [
                                 {
                                    "marker": {
                                       "pattern": {
                                          "fillmode": "overlay",
                                          "size": 10,
                                          "solidity": 0.2
                                       }
                                    },
                                    "type": "histogram"
                                 }
                              ],
                              "histogram2d": [
                                 {
                                    "colorbar": {
                                       "outlinewidth": 0,
                                       "ticks": ""
                                    },
                                    "colorscale": [
                                       [
                                          0,
                                          "#0d0887"
                                       ],
                                       [
                                          0.1111111111111111,
                                          "#46039f"
                                       ],
                                       [
                                          0.2222222222222222,
                                          "#7201a8"
                                       ],
                                       [
                                          0.3333333333333333,
                                          "#9c179e"
                                       ],
                                       [
                                          0.4444444444444444,
                                          "#bd3786"
                                       ],
                                       [
                                          0.5555555555555556,
                                          "#d8576b"
                                       ],
                                       [
                                          0.6666666666666666,
                                          "#ed7953"
                                       ],
                                       [
                                          0.7777777777777778,
                                          "#fb9f3a"
                                       ],
                                       [
                                          0.8888888888888888,
                                          "#fdca26"
                                       ],
                                       [
                                          1,
                                          "#f0f921"
                                       ]
                                    ],
                                    "type": "histogram2d"
                                 }
                              ],
                              "histogram2dcontour": [
                                 {
                                    "colorbar": {
                                       "outlinewidth": 0,
                                       "ticks": ""
                                    },
                                    "colorscale": [
                                       [
                                          0,
                                          "#0d0887"
                                       ],
                                       [
                                          0.1111111111111111,
                                          "#46039f"
                                       ],
                                       [
                                          0.2222222222222222,
                                          "#7201a8"
                                       ],
                                       [
                                          0.3333333333333333,
                                          "#9c179e"
                                       ],
                                       [
                                          0.4444444444444444,
                                          "#bd3786"
                                       ],
                                       [
                                          0.5555555555555556,
                                          "#d8576b"
                                       ],
                                       [
                                          0.6666666666666666,
                                          "#ed7953"
                                       ],
                                       [
                                          0.7777777777777778,
                                          "#fb9f3a"
                                       ],
                                       [
                                          0.8888888888888888,
                                          "#fdca26"
                                       ],
                                       [
                                          1,
                                          "#f0f921"
                                       ]
                                    ],
                                    "type": "histogram2dcontour"
                                 }
                              ],
                              "mesh3d": [
                                 {
                                    "colorbar": {
                                       "outlinewidth": 0,
                                       "ticks": ""
                                    },
                                    "type": "mesh3d"
                                 }
                              ],
                              "parcoords": [
                                 {
                                    "line": {
                                       "colorbar": {
                                          "outlinewidth": 0,
                                          "ticks": ""
                                       }
                                    },
                                    "type": "parcoords"
                                 }
                              ],
                              "pie": [
                                 {
                                    "automargin": true,
                                    "type": "pie"
                                 }
                              ],
                              "scatter": [
                                 {
                                    "fillpattern": {
                                       "fillmode": "overlay",
                                       "size": 10,
                                       "solidity": 0.2
                                    },
                                    "type": "scatter"
                                 }
                              ],
                              "scatter3d": [
                                 {
                                    "line": {
                                       "colorbar": {
                                          "outlinewidth": 0,
                                          "ticks": ""
                                       }
                                    },
                                    "marker": {
                                       "colorbar": {
                                          "outlinewidth": 0,
                                          "ticks": ""
                                       }
                                    },
                                    "type": "scatter3d"
                                 }
                              ],
                              "scattercarpet": [
                                 {
                                    "marker": {
                                       "colorbar": {
                                          "outlinewidth": 0,
                                          "ticks": ""
                                       }
                                    },
                                    "type": "scattercarpet"
                                 }
                              ],
                              "scattergeo": [
                                 {
                                    "marker": {
                                       "colorbar": {
                                          "outlinewidth": 0,
                                          "ticks": ""
                                       }
                                    },
                                    "type": "scattergeo"
                                 }
                              ],
                              "scattergl": [
                                 {
                                    "marker": {
                                       "colorbar": {
                                          "outlinewidth": 0,
                                          "ticks": ""
                                       }
                                    },
                                    "type": "scattergl"
                                 }
                              ],
                              "scattermapbox": [
                                 {
                                    "marker": {
                                       "colorbar": {
                                          "outlinewidth": 0,
                                          "ticks": ""
                                       }
                                    },
                                    "type": "scattermapbox"
                                 }
                              ],
                              "scatterpolar": [
                                 {
                                    "marker": {
                                       "colorbar": {
                                          "outlinewidth": 0,
                                          "ticks": ""
                                       }
                                    },
                                    "type": "scatterpolar"
                                 }
                              ],
                              "scatterpolargl": [
                                 {
                                    "marker": {
                                       "colorbar": {
                                          "outlinewidth": 0,
                                          "ticks": ""
                                       }
                                    },
                                    "type": "scatterpolargl"
                                 }
                              ],
                              "scatterternary": [
                                 {
                                    "marker": {
                                       "colorbar": {
                                          "outlinewidth": 0,
                                          "ticks": ""
                                       }
                                    },
                                    "type": "scatterternary"
                                 }
                              ],
                              "surface": [
                                 {
                                    "colorbar": {
                                       "outlinewidth": 0,
                                       "ticks": ""
                                    },
                                    "colorscale": [
                                       [
                                          0,
                                          "#0d0887"
                                       ],
                                       [
                                          0.1111111111111111,
                                          "#46039f"
                                       ],
                                       [
                                          0.2222222222222222,
                                          "#7201a8"
                                       ],
                                       [
                                          0.3333333333333333,
                                          "#9c179e"
                                       ],
                                       [
                                          0.4444444444444444,
                                          "#bd3786"
                                       ],
                                       [
                                          0.5555555555555556,
                                          "#d8576b"
                                       ],
                                       [
                                          0.6666666666666666,
                                          "#ed7953"
                                       ],
                                       [
                                          0.7777777777777778,
                                          "#fb9f3a"
                                       ],
                                       [
                                          0.8888888888888888,
                                          "#fdca26"
                                       ],
                                       [
                                          1,
                                          "#f0f921"
                                       ]
                                    ],
                                    "type": "surface"
                                 }
                              ],
                              "table": [
                                 {
                                    "cells": {
                                       "fill": {
                                          "color": "#EBF0F8"
                                       },
                                       "line": {
                                          "color": "white"
                                       }
                                    },
                                    "header": {
                                       "fill": {
                                          "color": "#C8D4E3"
                                       },
                                       "line": {
                                          "color": "white"
                                       }
                                    },
                                    "type": "table"
                                 }
                              ]
                           },
                           "layout": {
                              "annotationdefaults": {
                                 "arrowcolor": "#2a3f5f",
                                 "arrowhead": 0,
                                 "arrowwidth": 1
                              },
                              "autotypenumbers": "strict",
                              "coloraxis": {
                                 "colorbar": {
                                    "outlinewidth": 0,
                                    "ticks": ""
                                 }
                              },
                              "colorscale": {
                                 "diverging": [
                                    [
                                       0,
                                       "#8e0152"
                                    ],
                                    [
                                       0.1,
                                       "#c51b7d"
                                    ],
                                    [
                                       0.2,
                                       "#de77ae"
                                    ],
                                    [
                                       0.3,
                                       "#f1b6da"
                                    ],
                                    [
                                       0.4,
                                       "#fde0ef"
                                    ],
                                    [
                                       0.5,
                                       "#f7f7f7"
                                    ],
                                    [
                                       0.6,
                                       "#e6f5d0"
                                    ],
                                    [
                                       0.7,
                                       "#b8e186"
                                    ],
                                    [
                                       0.8,
                                       "#7fbc41"
                                    ],
                                    [
                                       0.9,
                                       "#4d9221"
                                    ],
                                    [
                                       1,
                                       "#276419"
                                    ]
                                 ],
                                 "sequential": [
                                    [
                                       0,
                                       "#0d0887"
                                    ],
                                    [
                                       0.1111111111111111,
                                       "#46039f"
                                    ],
                                    [
                                       0.2222222222222222,
                                       "#7201a8"
                                    ],
                                    [
                                       0.3333333333333333,
                                       "#9c179e"
                                    ],
                                    [
                                       0.4444444444444444,
                                       "#bd3786"
                                    ],
                                    [
                                       0.5555555555555556,
                                       "#d8576b"
                                    ],
                                    [
                                       0.6666666666666666,
                                       "#ed7953"
                                    ],
                                    [
                                       0.7777777777777778,
                                       "#fb9f3a"
                                    ],
                                    [
                                       0.8888888888888888,
                                       "#fdca26"
                                    ],
                                    [
                                       1,
                                       "#f0f921"
                                    ]
                                 ],
                                 "sequentialminus": [
                                    [
                                       0,
                                       "#0d0887"
                                    ],
                                    [
                                       0.1111111111111111,
                                       "#46039f"
                                    ],
                                    [
                                       0.2222222222222222,
                                       "#7201a8"
                                    ],
                                    [
                                       0.3333333333333333,
                                       "#9c179e"
                                    ],
                                    [
                                       0.4444444444444444,
                                       "#bd3786"
                                    ],
                                    [
                                       0.5555555555555556,
                                       "#d8576b"
                                    ],
                                    [
                                       0.6666666666666666,
                                       "#ed7953"
                                    ],
                                    [
                                       0.7777777777777778,
                                       "#fb9f3a"
                                    ],
                                    [
                                       0.8888888888888888,
                                       "#fdca26"
                                    ],
                                    [
                                       1,
                                       "#f0f921"
                                    ]
                                 ]
                              },
                              "colorway": [
                                 "#636efa",
                                 "#EF553B",
                                 "#00cc96",
                                 "#ab63fa",
                                 "#FFA15A",
                                 "#19d3f3",
                                 "#FF6692",
                                 "#B6E880",
                                 "#FF97FF",
                                 "#FECB52"
                              ],
                              "font": {
                                 "color": "#2a3f5f"
                              },
                              "geo": {
                                 "bgcolor": "white",
                                 "lakecolor": "white",
                                 "landcolor": "#E5ECF6",
                                 "showlakes": true,
                                 "showland": true,
                                 "subunitcolor": "white"
                              },
                              "hoverlabel": {
                                 "align": "left"
                              },
                              "hovermode": "closest",
                              "mapbox": {
                                 "style": "light"
                              },
                              "paper_bgcolor": "white",
                              "plot_bgcolor": "#E5ECF6",
                              "polar": {
                                 "angularaxis": {
                                    "gridcolor": "white",
                                    "linecolor": "white",
                                    "ticks": ""
                                 },
                                 "bgcolor": "#E5ECF6",
                                 "radialaxis": {
                                    "gridcolor": "white",
                                    "linecolor": "white",
                                    "ticks": ""
                                 }
                              },
                              "scene": {
                                 "xaxis": {
                                    "backgroundcolor": "#E5ECF6",
                                    "gridcolor": "white",
                                    "gridwidth": 2,
                                    "linecolor": "white",
                                    "showbackground": true,
                                    "ticks": "",
                                    "zerolinecolor": "white"
                                 },
                                 "yaxis": {
                                    "backgroundcolor": "#E5ECF6",
                                    "gridcolor": "white",
                                    "gridwidth": 2,
                                    "linecolor": "white",
                                    "showbackground": true,
                                    "ticks": "",
                                    "zerolinecolor": "white"
                                 },
                                 "zaxis": {
                                    "backgroundcolor": "#E5ECF6",
                                    "gridcolor": "white",
                                    "gridwidth": 2,
                                    "linecolor": "white",
                                    "showbackground": true,
                                    "ticks": "",
                                    "zerolinecolor": "white"
                                 }
                              },
                              "shapedefaults": {
                                 "line": {
                                    "color": "#2a3f5f"
                                 }
                              },
                              "ternary": {
                                 "aaxis": {
                                    "gridcolor": "white",
                                    "linecolor": "white",
                                    "ticks": ""
                                 },
                                 "baxis": {
                                    "gridcolor": "white",
                                    "linecolor": "white",
                                    "ticks": ""
                                 },
                                 "bgcolor": "#E5ECF6",
                                 "caxis": {
                                    "gridcolor": "white",
                                    "linecolor": "white",
                                    "ticks": ""
                                 }
                              },
                              "title": {
                                 "x": 0.05
                              },
                              "xaxis": {
                                 "automargin": true,
                                 "gridcolor": "white",
                                 "linecolor": "white",
                                 "ticks": "",
                                 "title": {
                                    "standoff": 15
                                 },
                                 "zerolinecolor": "white",
                                 "zerolinewidth": 2
                              },
                              "yaxis": {
                                 "automargin": true,
                                 "gridcolor": "white",
                                 "linecolor": "white",
                                 "ticks": "",
                                 "title": {
                                    "standoff": 15
                                 },
                                 "zerolinecolor": "white",
                                 "zerolinewidth": 2
                              }
                           }
                        }
                     }
                  }
               },
               "metadata": {},
               "output_type": "display_data"
            }
         ],
         "source": [
            "Z = np.array(points[:,2]).reshape(15,15+1)\n",
            "\n",
            "X = np.linspace(22, 8, 15)\n",
            "Y = np.linspace(15, 0, 15 +1)\n",
            "X, Y = np.meshgrid(Y, X)\n",
            "\n",
            "print(X)\n",
            "print(Y)\n",
            "print(Z)\n",
            "\n",
            "\n",
            "fig = go.Figure(data=[go.Surface(x=X, y=Y, z=Z)])\n",
            "fig.update_layout(scene=dict(xaxis_title=\"Jobs\", yaxis_title=\"Days\", zaxis_title=\"Benefit\"))\n",
            "fig.show()"
         ]
      },
      {
         "cell_type": "code",
         "execution_count": null,
         "metadata": {},
         "outputs": [],
         "source": []
      }
   ],
   "metadata": {
      "kernelspec": {
         "display_name": "base",
         "language": "python",
         "name": "python3"
      },
      "language_info": {
         "codemirror_mode": {
            "name": "ipython",
            "version": 3
         },
         "file_extension": ".py",
         "mimetype": "text/x-python",
         "name": "python",
         "nbconvert_exporter": "python",
         "pygments_lexer": "ipython3",
         "version": "3.9.13"
      },
      "orig_nbformat": 4,
      "vscode": {
         "interpreter": {
            "hash": "b28994c5a928968583f09e2df007a98e881f3ff9338db31e6d108d2714b0f296"
         }
      }
   },
   "nbformat": 4,
   "nbformat_minor": 2
}
