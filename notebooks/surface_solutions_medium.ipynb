{
   "cells": [
      {
         "cell_type": "code",
         "execution_count": 2,
         "metadata": {},
         "outputs": [],
         "source": [
            "from tqdm import tqdm\n",
            "import time\n",
            "import json\n",
            "from enum import Enum\n",
            "from gurobipy import Model, GRB, quicksum, max_\n",
            "import pandas as pd\n",
            "from random import randint\n",
            "import plotly.graph_objs as go\n",
            "import numpy as np\n",
            "from numpy import array\n"
         ]
      },
      {
         "cell_type": "code",
         "execution_count": 3,
         "metadata": {},
         "outputs": [],
         "source": [
            "class DATASET(Enum):\n",
            "    TOY = \"toy\"\n",
            "    MEDIUM = \"medium\"\n",
            "    LARGE = \"large\""
         ]
      },
      {
         "attachments": {},
         "cell_type": "markdown",
         "metadata": {},
         "source": [
            "# Fonctions pour préparer le modèle\n"
         ]
      },
      {
         "cell_type": "code",
         "execution_count": 4,
         "metadata": {},
         "outputs": [],
         "source": [
            "def load_data(name):\n",
            "    \"\"\"name must be an instance of DATASET like DATASET.TOY for example\"\"\"\n",
            "    if not isinstance(name, DATASET):\n",
            "        raise TypeError(\"direction must be an instance of DATASET Enum\")\n",
            "    with open(f\"../data/{name.value}_instance.json\", \"r\") as f:\n",
            "        data = json.load(f)\n",
            "    return data\n",
            "\n",
            "\n",
            "def get_dims(data):\n",
            "    return (\n",
            "        len(data[\"staff\"]),\n",
            "        data[\"horizon\"],\n",
            "        len(data[\"qualifications\"]),\n",
            "        len(data[\"jobs\"]),\n",
            "    )\n",
            "\n",
            "def get_qualification_index(list_qualifications, qualification): # qualification is \"A\", \"B\", \"C\" ...\n",
            "    return list_qualifications.index(qualification)"
         ]
      },
      {
         "cell_type": "code",
         "execution_count": 5,
         "metadata": {},
         "outputs": [],
         "source": [
            "def init_model():\n",
            "    m = Model(\"Project modelling\")\n",
            "    return m"
         ]
      },
      {
         "cell_type": "code",
         "execution_count": 6,
         "metadata": {},
         "outputs": [],
         "source": [
            "def create_decision_variables(model, n_staff, horizon, n_qualifs, n_jobs):\n",
            "    X = model.addVars(n_staff, horizon, n_qualifs, n_jobs, vtype=GRB.BINARY, name=\"assignements\")\n",
            "    # profit \n",
            "    profit = model.addVar(lb =0, vtype = GRB.INTEGER, name = \"profit\")\n",
            "    J = model.addVars(n_jobs, vtype=GRB.BINARY, name=\"completion\")\n",
            "    E_D = model.addVars(n_jobs, lb=0, ub=horizon, vtype=GRB.INTEGER, name=\"end_dates\")\n",
            "    L = model.addVars(n_jobs, lb=0, ub=horizon + 1, vtype=GRB.INTEGER, name=\"n_days_late\")\n",
            "\n",
            "    # for max_days\n",
            "    S_D = model.addVars(n_jobs, lb=0, ub=horizon, vtype=GRB.INTEGER, name=\"start_dates\")\n",
            "    spans = model.addVars(n_jobs, lb=0, ub=horizon, vtype=GRB.INTEGER, name=\"spans\")\n",
            "    max_days = model.addVar(lb=0, ub=horizon, vtype=GRB.INTEGER, name=\"max_jobs\")\n",
            "\n",
            "    # for max_jobs \n",
            "    n_jobs_per_person = model.addVars(n_staff, lb=0, ub=n_jobs, vtype=GRB.INTEGER, name=\"n_jobs_per_person\")\n",
            "    jobs_worked_on_by_person = model.addVars(n_staff, n_jobs, vtype=GRB.BINARY, name=\"jobs_worked_on_by_person\")\n",
            "    n_worked_days_per_job_and_person = model.addVars(n_staff, n_jobs,lb=0, ub=horizon, vtype=GRB.INTEGER, name=\"n_worked_days_per_job_and_person\")\n",
            "    max_jobs = model.addVar(lb=0, ub=n_jobs, vtype=GRB.INTEGER, name=\"max_jobs\")\n",
            "    \n",
            "    return model, X, J, S_D, E_D, L, n_jobs_per_person, jobs_worked_on_by_person, n_worked_days_per_job_and_person, max_jobs, max_days, spans, profit\n"
         ]
      },
      {
         "cell_type": "code",
         "execution_count": 7,
         "metadata": {},
         "outputs": [],
         "source": [
            "def add_constraints_start_dates(model, X, S_D, n_staff, horizon, n_qualifs, n_jobs):\n",
            "    model.addConstrs(\n",
            "        S_D[l] <= X[i, j, k, l] * j + (1 - X[i, j, k, l]) * horizon\n",
            "        for i in range(n_staff)\n",
            "        for j in range(horizon) \n",
            "        for k in range(n_qualifs)\n",
            "        for l in range(n_jobs)\n",
            "    )"
         ]
      },
      {
         "cell_type": "code",
         "execution_count": 8,
         "metadata": {},
         "outputs": [],
         "source": [
            "def add_constraints_end_dates(model, X, E_D, n_staff, horizon, n_qualifs, n_jobs):\n",
            "    model.addConstrs(\n",
            "        X[i, j, k, l] * j <= E_D[l] \n",
            "        for i in range(n_staff)\n",
            "        for j in range(horizon)\n",
            "        for k in range(n_qualifs)\n",
            "        for l in range(n_jobs)\n",
            "    )"
         ]
      },
      {
         "cell_type": "code",
         "execution_count": 9,
         "metadata": {},
         "outputs": [],
         "source": [
            "def add_constraints_lateness(model, E_D, L, jobs, n_staff, horizon, n_qualifs, n_jobs):\n",
            "    model.addConstrs(\n",
            "        E_D[l] +1 - jobs[l][\"due_date\"] <= L[l] for l in range(n_jobs)\n",
            "    )"
         ]
      },
      {
         "cell_type": "code",
         "execution_count": 10,
         "metadata": {},
         "outputs": [],
         "source": [
            "def add_constraints_worked_days_below_required_days(model, X, jobs, qualifications, n_staff, horizon, n_jobs):\n",
            "    model.addConstrs(quicksum(X[i,j,get_qualification_index(qualifications, k),l] for i in range(n_staff) for j in range(horizon)) <= jobs[l][\"working_days_per_qualification\"][k] \n",
            "                     for l in range(n_jobs) \n",
            "                     for k in jobs[l][\"working_days_per_qualification\"].keys())\n",
            "    "
         ]
      },
      {
         "cell_type": "code",
         "execution_count": 11,
         "metadata": {},
         "outputs": [],
         "source": [
            "def add_constraints_worked_days_above_required_days(model, X, J, jobs, qualifications, n_staff, horizon, n_jobs):\n",
            "    model.addConstrs(quicksum(X[i,j,get_qualification_index(qualifications, k),l] for i in range(n_staff) for j in range(horizon)) >= J[l]* jobs[l][\"working_days_per_qualification\"][k] \n",
            "                     for l in range(n_jobs) \n",
            "                     for k in jobs[l][\"working_days_per_qualification\"].keys())\n"
         ]
      },
      {
         "cell_type": "code",
         "execution_count": 12,
         "metadata": {},
         "outputs": [],
         "source": [
            "def add_constraints_employees_working_only_one_day(model, X, J, data, n_staff, n_jobs, horizon, n_qualifs):\n",
            "    model.addConstrs(quicksum(X[i,j,k,l] for l in range(n_jobs) for k in range (n_qualifs)) <= 1 \n",
            "                     for i in range(n_staff) \n",
            "                     for j in range(horizon))"
         ]
      },
      {
         "cell_type": "code",
         "execution_count": 13,
         "metadata": {},
         "outputs": [],
         "source": [
            "def in_qualification(data, i, k):\n",
            "    return data[\"qualifications\"][k] in data[\"staff\"][i][\"qualifications\"]\n",
            "\n",
            "\n",
            "def add_qualification_constraints(model, n_staff, horizon, n_qualifs, n_jobs, X, data):\n",
            "    model.addConstrs(\n",
            "        X[i, j, k, l] == 0\n",
            "        for i in range(n_staff)\n",
            "        for j in range(horizon)\n",
            "        for k in range(n_qualifs)\n",
            "        for l in range(n_jobs)\n",
            "        if not in_qualification(data, i, k)\n",
            "    )\n",
            "\n",
            "\n",
            "def in_vacation(i, j, data):\n",
            "    data = {l: data[\"staff\"][l] for l in range(len(data[\"staff\"]))}\n",
            "    data = data[i][\"vacations\"]\n",
            "    return j in data\n",
            "\n",
            "\n",
            "def add_vacation_constraints(model, n_staff, horizon, n_qualifs, n_jobs, X, data):\n",
            "    model.addConstrs(\n",
            "        X[i, j, k, l] == 0\n",
            "        for i in range(n_staff)\n",
            "        for j in range(horizon)\n",
            "        for k in range(n_qualifs)\n",
            "        for l in range(n_jobs)\n",
            "        if in_vacation(i, j, data)\n",
            "    )"
         ]
      },
      {
         "cell_type": "code",
         "execution_count": 14,
         "metadata": {},
         "outputs": [],
         "source": [
            "def add_constraint_profit(model, J, L, profit, jobs):\n",
            "    model.addConstr(profit == quicksum( (J[index_job] * job[\"gain\"] - job[\"daily_penalty\"] * L[index_job]) for index_job, job in enumerate(jobs)))"
         ]
      },
      {
         "cell_type": "code",
         "execution_count": 15,
         "metadata": {},
         "outputs": [],
         "source": [
            "def add_constraints_n_worked_days_per_jobs_person(model, X, n_worked_days_per_job_and_person, n_staff, n_jobs, horizon, n_qualifs):\n",
            "    model.addConstrs( n_worked_days_per_job_and_person[i, l] == quicksum( X[i,j,k,l] for j in range(horizon) for k in range(n_qualifs)) \n",
            "        for i in range(n_staff) \n",
            "        for l in range(n_jobs)\n",
            "    )\n",
            "\n",
            "def add_constraints_jobs_worked_on_by_person(model, jobs_worked_on_by_person, n_worked_days_per_job_and_person, n_staff, n_jobs):\n",
            "    model.addConstrs((jobs_worked_on_by_person[i, l] == 0) >> (n_worked_days_per_job_and_person[i,l] == 0) \n",
            "        for i in range(n_staff) \n",
            "        for l in range(n_jobs)\n",
            "    ) \n",
            "    model.addConstrs((jobs_worked_on_by_person[i, l] == 1) >> (n_worked_days_per_job_and_person[i,l] >= 1) \n",
            "        for i in range(n_staff) \n",
            "        for l in range(n_jobs)\n",
            "    )\n",
            "\n",
            "def add_constraints_n_jobs_per_person(model, n_jobs_per_person, jobs_worked_on_by_person, n_staff, n_jobs):\n",
            "    model.addConstrs(n_jobs_per_person[i] == quicksum( jobs_worked_on_by_person[i, l] for l in range(n_jobs) ) for i in range(n_staff))\n",
            "\n",
            "def add_constraint_max_jobs(model, max_jobs, n_jobs_per_person, jobs_worked_on_by_person, n_staff):\n",
            "    model.addConstr(max_jobs == max_([n_jobs_per_person[i] for i in range(n_staff)]))"
         ]
      },
      {
         "cell_type": "code",
         "execution_count": 16,
         "metadata": {},
         "outputs": [],
         "source": [
            "def add_constraint_spans(model, spans, E_D, S_D, n_jobs):\n",
            "    model.addConstrs((spans[l] == (E_D[l] - S_D[l])+1) for l in range(n_jobs))\n",
            "\n",
            "def add_constraint_max_days(model, max_days, spans, n_jobs):\n",
            "    for l in range(n_jobs):\n",
            "        model.addConstr(max_days >= spans[l]) "
         ]
      },
      {
         "cell_type": "code",
         "execution_count": 17,
         "metadata": {},
         "outputs": [],
         "source": [
            "def add_profit_as_first_objective(model, profit):\n",
            "    model.setObjective(\n",
            "        profit,\n",
            "        GRB.MAXIMIZE\n",
            "    )\n",
            "    return model, profit\n"
         ]
      },
      {
         "cell_type": "code",
         "execution_count": 18,
         "metadata": {},
         "outputs": [],
         "source": [
            "def add_minimax_jobs_as_second_objective(model, max_jobs):\n",
            "    model.setObjective(\n",
            "        max_jobs,\n",
            "        GRB.MINIMIZE\n",
            "    )\n",
            "    return model"
         ]
      },
      {
         "cell_type": "code",
         "execution_count": 19,
         "metadata": {},
         "outputs": [],
         "source": [
            "def add_minimax_days_spent_as_third_objective(model, max_days):\n",
            "    model.setObjective(\n",
            "        max_days,\n",
            "        GRB.MINIMIZE\n",
            "    )\n",
            "    return model"
         ]
      },
      {
         "cell_type": "code",
         "execution_count": 20,
         "metadata": {},
         "outputs": [],
         "source": [
            "def add_mono_objective(model, profit, max_days, max_jobs):\n",
            "    model.setObjective(\n",
            "        10 * profit - max_days - max_jobs,\n",
            "        GRB.MAXIMIZE\n",
            "    )\n",
            "    return model, profit, max_days, max_jobs"
         ]
      },
      {
         "attachments": {},
         "cell_type": "markdown",
         "metadata": {},
         "source": [
            "# Surface"
         ]
      },
      {
         "cell_type": "code",
         "execution_count": 21,
         "metadata": {},
         "outputs": [],
         "source": [
            "def prepare_model(data):\n",
            "    n_staff, horizon, n_qualifs, n_jobs = get_dims(data)\n",
            "\n",
            "    # Instanciation du modèle\n",
            "    model = init_model()\n",
            "    \n",
            "    # Création des variables : binaires dans X et J, entières de 0 à horizon + 3\n",
            "    model, X, J, S_D, E_D, L, n_jobs_per_person, jobs_worked_on_by_person, n_worked_days_per_job_and_person, max_jobs, max_days, spans, profit = create_decision_variables(model, n_staff, horizon, n_qualifs, n_jobs)\n",
            "    \n",
            "    # maj du modèle\n",
            "    model.update()\n",
            "    \n",
            "    # Ajout des constraintes\n",
            "    add_constraints_employees_working_only_one_day(model, X ,J,data,n_staff,n_jobs,horizon, n_qualifs)\n",
            "    add_qualification_constraints(model, n_staff, horizon, n_qualifs, n_jobs, X, data)\n",
            "    add_vacation_constraints(model, n_staff, horizon, n_qualifs, n_jobs, X, data)\n",
            "    \n",
            "    add_constraints_start_dates(model, X, S_D, n_staff, horizon, n_qualifs, n_jobs)\n",
            "    add_constraints_end_dates(model, X, E_D, n_staff, horizon, n_qualifs, n_jobs)\n",
            "    add_constraints_lateness(model, E_D, L, data[\"jobs\"], n_staff, horizon, n_qualifs, n_jobs)\n",
            "    \n",
            "    add_constraints_worked_days_below_required_days(model, X, data[\"jobs\"], data[\"qualifications\"], n_staff, horizon, n_jobs)\n",
            "    add_constraints_worked_days_above_required_days(model, X , J, data[\"jobs\"], data[\"qualifications\"], n_staff, horizon, n_jobs)\n",
            "    \n",
            "    add_constraints_n_worked_days_per_jobs_person(model, X, n_worked_days_per_job_and_person, n_staff, n_jobs, horizon, n_qualifs)\n",
            "    add_constraints_jobs_worked_on_by_person(model, jobs_worked_on_by_person, n_worked_days_per_job_and_person, n_staff, n_jobs)\n",
            "    add_constraints_n_jobs_per_person(model, n_jobs_per_person, jobs_worked_on_by_person, n_staff, n_jobs)\n",
            "    add_constraint_spans(model, spans, E_D, S_D, n_jobs)\n",
            "    \n",
            "    add_constraint_profit(model, J, L, profit, data[\"jobs\"])\n",
            "    add_constraint_max_jobs(model, max_jobs, n_jobs_per_person, jobs_worked_on_by_person, n_staff)\n",
            "    add_constraint_max_days(model, max_days, spans, n_jobs)\n",
            "    \n",
            "    \n",
            "    # Fonction Objectif\n",
            "    model, profit = add_profit_as_first_objective(model, profit)\n",
            "    \n",
            "    # maj du modèle\n",
            "    model.update()\n",
            "    \n",
            "    # Paramétrage (mode mute)\n",
            "    model.params.outputflag = 0\n",
            "\n",
            "    return model, profit, max_days, max_jobs"
         ]
      },
      {
         "cell_type": "code",
         "execution_count": 22,
         "metadata": {},
         "outputs": [],
         "source": [
            "def run_one_step(data, n_jobs, points, step):\n",
            "    for j in tqdm(range(n_jobs, -1, -1)):\n",
            "        model, profit, max_days, max_jobs = prepare_model(data)\n",
            "        model.addConstr(max_jobs <= j)\n",
            "        model.addConstr(max_days <= step)\n",
            "        model.update()\n",
            "        model.optimize()\n",
            "        point = np.array([round(step), round(j), round(profit.X)])\n",
            "        points.append(point)\n",
            "    return points"
         ]
      },
      {
         "cell_type": "code",
         "execution_count": 23,
         "metadata": {},
         "outputs": [],
         "source": [
            "def main(data):\n",
            "    n_staff, horizon, n_qualifs, n_jobs = get_dims(data)\n",
            "    points = []\n",
            "    for i in tqdm(range(horizon, -1,-1)):\n",
            "        for j in range(n_jobs, -1, -1):\n",
            "            print(j, \" / \", n_jobs)\n",
            "            model, profit, max_days, max_jobs = prepare_model(data)\n",
            "            model.addConstr(max_jobs <= j)\n",
            "            model.addConstr(max_days <= i)\n",
            "            model.update()\n",
            "            model.optimize()\n",
            "            point = np.array([round(i), round(j), round(profit.X)])\n",
            "            points.append(point)\n",
            "    return points"
         ]
      },
      {
         "attachments": {},
         "cell_type": "markdown",
         "metadata": {},
         "source": [
            "# Computing points"
         ]
      },
      {
         "attachments": {},
         "cell_type": "markdown",
         "metadata": {},
         "source": [
            "Pour calculer la surface par étape : une cellule = une contrainte max_days <= t , une boucle for contrainte max_jobs <= j"
         ]
      },
      {
         "attachments": {},
         "cell_type": "markdown",
         "metadata": {},
         "source": [
            "Le tout met très longtemps à tourner"
         ]
      },
      {
         "cell_type": "code",
         "execution_count": 24,
         "metadata": {},
         "outputs": [],
         "source": [
            "dataset = DATASET.MEDIUM\n",
            "data = load_data(dataset)\n",
            "n_staff, horizon, n_qualifs, n_jobs = get_dims(data)\n",
            "points = []   \n",
            "    "
         ]
      },
      {
         "cell_type": "code",
         "execution_count": null,
         "metadata": {},
         "outputs": [],
         "source": [
            "points = run_one_step(data, n_jobs, points, 22)\n"
         ]
      },
      {
         "cell_type": "code",
         "execution_count": null,
         "metadata": {},
         "outputs": [],
         "source": [
            "points = run_one_step(data, n_jobs, points, 21)\n"
         ]
      },
      {
         "cell_type": "code",
         "execution_count": null,
         "metadata": {},
         "outputs": [],
         "source": [
            "points = run_one_step(data, n_jobs, points, 20)\n"
         ]
      },
      {
         "cell_type": "code",
         "execution_count": null,
         "metadata": {},
         "outputs": [],
         "source": [
            "points = run_one_step(data, n_jobs, points, 19)\n"
         ]
      },
      {
         "cell_type": "code",
         "execution_count": null,
         "metadata": {},
         "outputs": [],
         "source": [
            "points = run_one_step(data, n_jobs, points, 18)\n"
         ]
      },
      {
         "cell_type": "code",
         "execution_count": null,
         "metadata": {},
         "outputs": [],
         "source": [
            "points = run_one_step(data, n_jobs, points, 17)\n"
         ]
      },
      {
         "cell_type": "code",
         "execution_count": null,
         "metadata": {},
         "outputs": [],
         "source": [
            "points = run_one_step(data, n_jobs, points, 16)\n"
         ]
      },
      {
         "cell_type": "code",
         "execution_count": null,
         "metadata": {},
         "outputs": [],
         "source": [
            "points = run_one_step(data, n_jobs, points, 15)\n"
         ]
      },
      {
         "cell_type": "code",
         "execution_count": null,
         "metadata": {},
         "outputs": [],
         "source": [
            "points = run_one_step(data, n_jobs, points, 14)\n"
         ]
      },
      {
         "cell_type": "code",
         "execution_count": null,
         "metadata": {},
         "outputs": [],
         "source": [
            "points = run_one_step(data, n_jobs, points, 13)\n"
         ]
      },
      {
         "cell_type": "code",
         "execution_count": null,
         "metadata": {},
         "outputs": [],
         "source": [
            "points = run_one_step(data, n_jobs, points, 12)\n"
         ]
      },
      {
         "cell_type": "code",
         "execution_count": null,
         "metadata": {},
         "outputs": [],
         "source": [
            "points = run_one_step(data, n_jobs, points, 11)"
         ]
      },
      {
         "cell_type": "code",
         "execution_count": null,
         "metadata": {},
         "outputs": [],
         "source": [
            "points = run_one_step(data, n_jobs, points, 10)\n"
         ]
      },
      {
         "cell_type": "code",
         "execution_count": null,
         "metadata": {},
         "outputs": [],
         "source": [
            "points = run_one_step(data, n_jobs, points, 9)\n"
         ]
      },
      {
         "cell_type": "code",
         "execution_count": null,
         "metadata": {},
         "outputs": [],
         "source": [
            "points = run_one_step(data, n_jobs, points, 8)\n"
         ]
      },
      {
         "cell_type": "code",
         "execution_count": null,
         "metadata": {},
         "outputs": [],
         "source": [
            "points = run_one_step(data, n_jobs, points, 7)\n"
         ]
      },
      {
         "cell_type": "code",
         "execution_count": null,
         "metadata": {},
         "outputs": [],
         "source": [
            "points = run_one_step(data, n_jobs, points, 6)\n"
         ]
      },
      {
         "cell_type": "code",
         "execution_count": null,
         "metadata": {},
         "outputs": [],
         "source": [
            "points = run_one_step(data, n_jobs, points, 5)\n"
         ]
      },
      {
         "cell_type": "code",
         "execution_count": null,
         "metadata": {},
         "outputs": [],
         "source": [
            "points = run_one_step(data, n_jobs, points, 4)\n"
         ]
      },
      {
         "cell_type": "code",
         "execution_count": null,
         "metadata": {},
         "outputs": [],
         "source": [
            "points = run_one_step(data, n_jobs, points, 3)\n"
         ]
      },
      {
         "cell_type": "code",
         "execution_count": null,
         "metadata": {},
         "outputs": [],
         "source": [
            "points = run_one_step(data, n_jobs, points, 2)\n"
         ]
      },
      {
         "cell_type": "code",
         "execution_count": null,
         "metadata": {},
         "outputs": [],
         "source": [
            "points = run_one_step(data, n_jobs, points, 1)\n"
         ]
      },
      {
         "cell_type": "code",
         "execution_count": null,
         "metadata": {},
         "outputs": [],
         "source": [
            "points = run_one_step(data, n_jobs, points, 0)\n"
         ]
      },
      {
         "cell_type": "code",
         "execution_count": null,
         "metadata": {},
         "outputs": [],
         "source": [
            "points = np.array(points)"
         ]
      },
      {
         "attachments": {},
         "cell_type": "markdown",
         "metadata": {},
         "source": [
            "# Compute with main"
         ]
      },
      {
         "attachments": {},
         "cell_type": "markdown",
         "metadata": {},
         "source": [
            "Ne pas Run !! Met très longtemps !"
         ]
      },
      {
         "cell_type": "code",
         "execution_count": null,
         "metadata": {},
         "outputs": [],
         "source": [
            "dataset = DATASET.MEDIUM\n",
            "data = load_data(dataset)\n",
            "n_staff, horizon, n_qualifs, n_jobs = get_dims(data)\n",
            "points = main(data)"
         ]
      },
      {
         "attachments": {},
         "cell_type": "markdown",
         "metadata": {},
         "source": [
            "# Visualisation"
         ]
      },
      {
         "attachments": {},
         "cell_type": "markdown",
         "metadata": {},
         "source": [
            "Grâce au calcul de surface étape par étape, j'ai réussi à aller jusqu'à max_days <= 8, et à récupérer les résultats, que j'ai mis ici."
         ]
      },
      {
         "cell_type": "code",
         "execution_count": 25,
         "metadata": {},
         "outputs": [
            {
               "name": "stdout",
               "output_type": "stream",
               "text": [
                  "[[ 22  15 413]\n",
                  " [ 22  14 413]\n",
                  " [ 22  13 413]\n",
                  " [ 22  12 413]\n",
                  " [ 22  11 413]\n",
                  " [ 22  10 413]\n",
                  " [ 22   9 413]\n",
                  " [ 22   8 413]\n",
                  " [ 22   7 413]\n",
                  " [ 22   6 413]\n",
                  " [ 22   5 413]\n",
                  " [ 22   4 405]\n",
                  " [ 22   3 384]\n",
                  " [ 22   2 326]\n",
                  " [ 22   1 194]\n",
                  " [ 22   0   0]\n",
                  " [ 21  15 413]\n",
                  " [ 21  14 413]\n",
                  " [ 21  13 413]\n",
                  " [ 21  12 413]\n",
                  " [ 21  11 413]\n",
                  " [ 21  10 413]\n",
                  " [ 21   9 413]\n",
                  " [ 21   8 413]\n",
                  " [ 21   7 413]\n",
                  " [ 21   6 413]\n",
                  " [ 21   5 413]\n",
                  " [ 21   4 405]\n",
                  " [ 21   3 384]\n",
                  " [ 21   2 326]\n",
                  " [ 21   1 194]\n",
                  " [ 21   0   0]\n",
                  " [ 20  15 413]\n",
                  " [ 20  14 413]\n",
                  " [ 20  13 413]\n",
                  " [ 20  12 413]\n",
                  " [ 20  11 413]\n",
                  " [ 20  10 413]\n",
                  " [ 20   9 413]\n",
                  " [ 20   8 413]\n",
                  " [ 20   7 413]\n",
                  " [ 20   6 413]\n",
                  " [ 20   5 413]\n",
                  " [ 20   4 405]\n",
                  " [ 20   3 384]\n",
                  " [ 20   2 326]\n",
                  " [ 20   1 194]\n",
                  " [ 20   0   0]\n",
                  " [ 19  15 413]\n",
                  " [ 19  14 413]\n",
                  " [ 19  13 413]\n",
                  " [ 19  12 413]\n",
                  " [ 19  11 413]\n",
                  " [ 19  10 413]\n",
                  " [ 19   9 413]\n",
                  " [ 19   8 413]\n",
                  " [ 19   7 413]\n",
                  " [ 19   6 413]\n",
                  " [ 19   5 413]\n",
                  " [ 19   4 405]\n",
                  " [ 19   3 384]\n",
                  " [ 19   2 326]\n",
                  " [ 19   1 194]\n",
                  " [ 19   0   0]\n",
                  " [ 18  15 413]\n",
                  " [ 18  14 413]\n",
                  " [ 18  13 413]\n",
                  " [ 18  12 413]\n",
                  " [ 18  11 413]\n",
                  " [ 18  10 413]\n",
                  " [ 18   9 413]\n",
                  " [ 18   8 413]\n",
                  " [ 18   7 413]\n",
                  " [ 18   6 413]\n",
                  " [ 18   5 413]\n",
                  " [ 18   4 405]\n",
                  " [ 18   3 384]\n",
                  " [ 18   2 326]\n",
                  " [ 18   1 194]\n",
                  " [ 18   0   0]\n",
                  " [ 17  15 413]\n",
                  " [ 17  14 413]\n",
                  " [ 17  13 413]\n",
                  " [ 17  12 413]\n",
                  " [ 17  11 413]\n",
                  " [ 17  10 413]\n",
                  " [ 17   9 413]\n",
                  " [ 17   8 413]\n",
                  " [ 17   7 413]\n",
                  " [ 17   6 413]\n",
                  " [ 17   5 413]\n",
                  " [ 17   4 405]\n",
                  " [ 17   3 384]\n",
                  " [ 17   2 326]\n",
                  " [ 17   1 194]\n",
                  " [ 17   0   0]\n",
                  " [ 16  15 413]\n",
                  " [ 16  14 413]\n",
                  " [ 16  13 413]\n",
                  " [ 16  12 413]\n",
                  " [ 16  11 413]\n",
                  " [ 16  10 413]\n",
                  " [ 16   9 413]\n",
                  " [ 16   8 413]\n",
                  " [ 16   7 413]\n",
                  " [ 16   6 413]\n",
                  " [ 16   5 413]\n",
                  " [ 16   4 405]\n",
                  " [ 16   3 384]\n",
                  " [ 16   2 326]\n",
                  " [ 16   1 194]\n",
                  " [ 16   0   0]\n",
                  " [ 15  15 413]\n",
                  " [ 15  14 413]\n",
                  " [ 15  13 413]\n",
                  " [ 15  12 413]\n",
                  " [ 15  11 413]\n",
                  " [ 15  10 413]\n",
                  " [ 15   9 413]\n",
                  " [ 15   8 413]\n",
                  " [ 15   7 413]\n",
                  " [ 15   6 413]\n",
                  " [ 15   5 413]\n",
                  " [ 15   4 405]\n",
                  " [ 15   3 384]\n",
                  " [ 15   2 326]\n",
                  " [ 15   1 194]\n",
                  " [ 15   0   0]\n",
                  " [ 14  15 413]\n",
                  " [ 14  14 413]\n",
                  " [ 14  13 413]\n",
                  " [ 14  12 413]\n",
                  " [ 14  11 413]\n",
                  " [ 14  10 413]\n",
                  " [ 14   9 413]\n",
                  " [ 14   8 413]\n",
                  " [ 14   7 413]\n",
                  " [ 14   6 413]\n",
                  " [ 14   5 413]\n",
                  " [ 14   4 405]\n",
                  " [ 14   3 384]\n",
                  " [ 14   2 326]\n",
                  " [ 14   1 194]\n",
                  " [ 14   0   0]\n",
                  " [ 13  15 413]\n",
                  " [ 13  14 413]\n",
                  " [ 13  13 413]\n",
                  " [ 13  12 413]\n",
                  " [ 13  11 413]\n",
                  " [ 13  10 413]\n",
                  " [ 13   9 413]\n",
                  " [ 13   8 413]\n",
                  " [ 13   7 413]\n",
                  " [ 13   6 413]\n",
                  " [ 13   5 413]\n",
                  " [ 13   4 405]\n",
                  " [ 13   3 384]\n",
                  " [ 13   2 326]\n",
                  " [ 13   1 194]\n",
                  " [ 13   0   0]\n",
                  " [ 12  15 413]\n",
                  " [ 12  14 413]\n",
                  " [ 12  13 413]\n",
                  " [ 12  12 413]\n",
                  " [ 12  11 413]\n",
                  " [ 12  10 413]\n",
                  " [ 12   9 413]\n",
                  " [ 12   8 413]\n",
                  " [ 12   7 413]\n",
                  " [ 12   6 413]\n",
                  " [ 12   5 413]\n",
                  " [ 12   4 405]\n",
                  " [ 12   3 384]\n",
                  " [ 12   2 326]\n",
                  " [ 12   1 194]\n",
                  " [ 12   0   0]\n",
                  " [ 11  15 413]\n",
                  " [ 11  14 413]\n",
                  " [ 11  13 413]\n",
                  " [ 11  12 413]\n",
                  " [ 11  11 413]\n",
                  " [ 11  10 413]\n",
                  " [ 11   9 413]\n",
                  " [ 11   8 413]\n",
                  " [ 11   7 413]\n",
                  " [ 11   6 413]\n",
                  " [ 11   5 413]\n",
                  " [ 11   4 404]\n",
                  " [ 11   3 379]\n",
                  " [ 11   2 325]\n",
                  " [ 11   1 180]\n",
                  " [ 11   0   0]\n",
                  " [ 10  15 413]\n",
                  " [ 10  14 413]\n",
                  " [ 10  13 413]\n",
                  " [ 10  12 413]\n",
                  " [ 10  11 413]\n",
                  " [ 10  10 413]\n",
                  " [ 10   9 413]\n",
                  " [ 10   8 413]\n",
                  " [ 10   7 413]\n",
                  " [ 10   6 413]\n",
                  " [ 10   5 413]\n",
                  " [ 10   4 404]\n",
                  " [ 10   3 379]\n",
                  " [ 10   2 325]\n",
                  " [ 10   1 180]\n",
                  " [ 10   0   0]\n",
                  " [  9  15 413]\n",
                  " [  9  14 413]\n",
                  " [  9  13 413]\n",
                  " [  9  12 413]\n",
                  " [  9  11 413]\n",
                  " [  9  10 413]\n",
                  " [  9   9 413]\n",
                  " [  9   8 413]\n",
                  " [  9   7 413]\n",
                  " [  9   6 413]\n",
                  " [  9   5 410]\n",
                  " [  9   4 400]\n",
                  " [  9   3 379]\n",
                  " [  9   2 325]\n",
                  " [  9   1 180]\n",
                  " [  9   0   0]\n",
                  " [  8  15 413]\n",
                  " [  8  14 413]\n",
                  " [  8  13 413]\n",
                  " [  8  12 413]\n",
                  " [  8  11 413]\n",
                  " [  8  10 413]\n",
                  " [  8   9 413]\n",
                  " [  8   8 413]\n",
                  " [  8   7 413]\n",
                  " [  8   6 413]\n",
                  " [  8   5 410]\n",
                  " [  8   4 397]\n",
                  " [  8   3 369]\n",
                  " [  8   2 302]\n",
                  " [  8   1 177]\n",
                  " [  8   0   0]]\n"
               ]
            }
         ],
         "source": [
            "points = [array([ 22,  15, 413]), array([ 22,  14, 413]), array([ 22,  13, 413]), array([ 22,  12, 413]), array([ 22,  11, 413]), array([ 22,  10, 413]), array([ 22,   9, 413]), array([ 22,   8, 413]), array([ 22,   7, 413]), array([ 22,   6, 413]), array([ 22,   5, 413]), array([ 22,   4, 405]), array([ 22,   3, 384]), array([ 22,   2, 326]), array([ 22,   1, 194]), array([22,  0,  0]), array([ 21,  15, 413]), array([ 21,  14, 413]), array([ 21,  13, 413]), array([ 21,  12, 413]), array([ 21,  11, 413]), array([ 21,  10, 413]), array([ 21,   9, 413]), array([ 21,   8, 413]), array([ 21,   7, 413]), array([ 21,   6, 413]), array([ 21,   5, 413]), array([ 21,   4, 405]), array([ 21,   3, 384]), array([ 21,   2, 326]), array([ 21,   1, 194]), array([21,  0,  0]), array([ 20,  15, 413]), array([ 20,  14, 413]), array([ 20,  13, 413]), array([ 20,  12, 413]), array([ 20,  11, 413]), array([ 20,  10, 413]), array([ 20,   9, 413]), array([ 20,   8, 413]), array([ 20,   7, 413]), array([ 20,   6, 413]), array([ 20,   5, 413]), array([ 20,   4, 405]), array([ 20,   3, 384]), array([ 20,   2, 326]), array([ 20,   1, 194]), array([20,  0,  0]), array([ 19,  15, 413]), array([ 19,  14, 413]), array([ 19,  13, 413]), array([ 19,  12, 413]), array([ 19,  11, 413]), array([ 19,  10, 413]), array([ 19,   9, 413]), array([ 19,   8, 413]), array([ 19,   7, 413]), array([ 19,   6, 413]), array([ 19,   5, 413]), array([ 19,   4, 405]), array([ 19,   3, 384]), array([ 19,   2, 326]), array([ 19,   1, 194]), array([19,  0,  0]), array([ 18,  15, 413]), array([ 18,  14, 413]), array([ 18,  13, 413]), array([ 18,  12, 413]), array([ 18,  11, 413]), array([ 18,  10, 413]), array([ 18,   9, 413]), array([ 18,   8, 413]), array([ 18,   7, 413]), array([ 18,   6, 413]), array([ 18,   5, 413]), array([ 18,   4, 405]), array([ 18,   3, 384]), array([ 18,   2, 326]), array([ 18,   1, 194]), array([18,  0,  0]), array([ 17,  15, 413]), array([ 17,  14, 413]), array([ 17,  13, 413]), array([ 17,  12, 413]), array([ 17,  11, 413]), array([ 17,  10, 413]), array([ 17,   9, 413]), array([ 17,   8, 413]), array([ 17,   7, 413]), array([ 17,   6, 413]), array([ 17,   5, 413]), array([ 17,   4, 405]), array([ 17,   3, 384]), array([ 17,   2, 326]), array([ 17,   1, 194]), array([17,  0,  0]), array([ 16,  15, 413]), array([ 16,  14, 413]), array([ 16,  13, 413]), array([ 16,  12, 413]), array([ 16,  11, 413]), array([ 16,  10, 413]), array([ 16,   9, 413]), array([ 16,   8, 413]), array([ 16,   7, 413]), array([ 16,   6, 413]), array([ 16,   5, 413]), array([ 16,   4, 405]), array([ 16,   3, 384]), array([ 16,   2, 326]), array([ 16,   1, 194]), array([16,  0,  0]), array([ 15,  15, 413]), array([ 15,  14, 413]), array([ 15,  13, 413]), array([ 15,  12, 413]), array([ 15,  11, 413]), array([ 15,  10, 413]), array([ 15,   9, 413]), array([ 15,   8, 413]), array([ 15,   7, 413]), array([ 15,   6, 413]), array([ 15,   5, 413]), array([ 15,   4, 405]), array([ 15,   3, 384]), array([ 15,   2, 326]), array([ 15,   1, 194]), array([15,  0,  0]), array([ 14,  15, 413]), array([ 14,  14, 413]), array([ 14,  13, 413]), array([ 14,  12, 413]), array([ 14,  11, 413]), array([ 14,  10, 413]), array([ 14,   9, 413]), array([ 14,   8, 413]), array([ 14,   7, 413]), array([ 14,   6, 413]), array([ 14,   5, 413]), array([ 14,   4, 405]), array([ 14,   3, 384]), array([ 14,   2, 326]), array([ 14,   1, 194]), array([14,  0,  0]), array([ 13,  15, 413]), array([ 13,  14, 413]), array([ 13,  13, 413]), array([ 13,  12, 413]), array([ 13,  11, 413]), array([ 13,  10, 413]), array([ 13,   9, 413]), array([ 13,   8, 413]), array([ 13,   7, 413]), array([ 13,   6, 413]), array([ 13,   5, 413]), array([ 13,   4, 405]), array([ 13,   3, 384]), array([ 13,   2, 326]), array([ 13,   1, 194]), array([13,  0,  0]), array([ 12,  15, 413]), array([ 12,  14, 413]), array([ 12,  13, 413]), array([ 12,  12, 413]), array([ 12,  11, 413]), array([ 12,  10, 413]), array([ 12,   9, 413]), array([ 12,   8, 413]), array([ 12,   7, 413]), array([ 12,   6, 413]), array([ 12,   5, 413]), array([ 12,   4, 405]), array([ 12,   3, 384]), array([ 12,   2, 326]), array([ 12,   1, 194]), array([12,  0,  0]), array([ 11,  15, 413]), array([ 11,  14, 413]), array([ 11,  13, 413]), array([ 11,  12, 413]), array([ 11,  11, 413]), array([ 11,  10, 413]), array([ 11,   9, 413]), array([ 11,   8, 413]), array([ 11,   7, 413]), array([ 11,   6, 413]), array([ 11,   5, 413]), array([ 11,   4, 404]), array([ 11,   3, 379]), array([ 11,   2, 325]), array([ 11,   1, 180]), array([11,  0,  0]), array([ 10,  15, 413]), array([ 10,  14, 413]), array([ 10,  13, 413]), array([ 10,  12, 413]), array([ 10,  11, 413]), array([ 10,  10, 413]), array([ 10,   9, 413]), array([ 10,   8, 413]), array([ 10,   7, 413]), array([ 10,   6, 413]), array([ 10,   5, 413]), array([ 10,   4, 404]), array([ 10,   3, 379]), array([ 10,   2, 325]), array([ 10,   1, 180]), array([10,  0,  0]), array([  9,  15, 413]), array([  9,  14, 413]), array([  9,  13, 413]), array([  9,  12, 413]), array([  9,  11, 413]), array([  9,  10, 413]), array([  9,   9, 413]), array([  9,   8, 413]), array([  9,   7, 413]), array([  9,   6, 413]), array([  9,   5, 410]), array([  9,   4, 400]), array([  9,   3, 379]), array([  9,   2, 325]), array([  9,   1, 180]), array([9, 0, 0]), array([  8,  15, 413]), array([  8,  14, 413]), array([  8,  13, 413]), array([  8,  12, 413]), array([  8,  11, 413]), array([  8,  10, 413]), array([  8,   9, 413]), array([  8,   8, 413]), array([  8,   7, 413]), array([  8,   6, 413]), array([  8,   5, 410]), array([  8,   4, 397]), array([  8,   3, 369]), array([  8,   2, 302]), array([  8,   1, 177]), array([8, 0, 0])]\n",
            "points = array(points)\n",
            "print(points)"
         ]
      },
      {
         "cell_type": "code",
         "execution_count": 29,
         "metadata": {},
         "outputs": [
            {
               "data": {
                  "application/vnd.plotly.v1+json": {
                     "config": {
                        "plotlyServerURL": "https://plotly.com"
                     },
                     "data": [
                        {
                           "type": "surface",
                           "x": [
                              [
                                 22,
                                 21,
                                 20,
                                 19,
                                 18,
                                 17,
                                 16,
                                 15,
                                 14,
                                 13,
                                 12,
                                 11,
                                 10,
                                 9,
                                 8
                              ],
                              [
                                 22,
                                 21,
                                 20,
                                 19,
                                 18,
                                 17,
                                 16,
                                 15,
                                 14,
                                 13,
                                 12,
                                 11,
                                 10,
                                 9,
                                 8
                              ],
                              [
                                 22,
                                 21,
                                 20,
                                 19,
                                 18,
                                 17,
                                 16,
                                 15,
                                 14,
                                 13,
                                 12,
                                 11,
                                 10,
                                 9,
                                 8
                              ],
                              [
                                 22,
                                 21,
                                 20,
                                 19,
                                 18,
                                 17,
                                 16,
                                 15,
                                 14,
                                 13,
                                 12,
                                 11,
                                 10,
                                 9,
                                 8
                              ],
                              [
                                 22,
                                 21,
                                 20,
                                 19,
                                 18,
                                 17,
                                 16,
                                 15,
                                 14,
                                 13,
                                 12,
                                 11,
                                 10,
                                 9,
                                 8
                              ],
                              [
                                 22,
                                 21,
                                 20,
                                 19,
                                 18,
                                 17,
                                 16,
                                 15,
                                 14,
                                 13,
                                 12,
                                 11,
                                 10,
                                 9,
                                 8
                              ],
                              [
                                 22,
                                 21,
                                 20,
                                 19,
                                 18,
                                 17,
                                 16,
                                 15,
                                 14,
                                 13,
                                 12,
                                 11,
                                 10,
                                 9,
                                 8
                              ],
                              [
                                 22,
                                 21,
                                 20,
                                 19,
                                 18,
                                 17,
                                 16,
                                 15,
                                 14,
                                 13,
                                 12,
                                 11,
                                 10,
                                 9,
                                 8
                              ],
                              [
                                 22,
                                 21,
                                 20,
                                 19,
                                 18,
                                 17,
                                 16,
                                 15,
                                 14,
                                 13,
                                 12,
                                 11,
                                 10,
                                 9,
                                 8
                              ],
                              [
                                 22,
                                 21,
                                 20,
                                 19,
                                 18,
                                 17,
                                 16,
                                 15,
                                 14,
                                 13,
                                 12,
                                 11,
                                 10,
                                 9,
                                 8
                              ],
                              [
                                 22,
                                 21,
                                 20,
                                 19,
                                 18,
                                 17,
                                 16,
                                 15,
                                 14,
                                 13,
                                 12,
                                 11,
                                 10,
                                 9,
                                 8
                              ],
                              [
                                 22,
                                 21,
                                 20,
                                 19,
                                 18,
                                 17,
                                 16,
                                 15,
                                 14,
                                 13,
                                 12,
                                 11,
                                 10,
                                 9,
                                 8
                              ],
                              [
                                 22,
                                 21,
                                 20,
                                 19,
                                 18,
                                 17,
                                 16,
                                 15,
                                 14,
                                 13,
                                 12,
                                 11,
                                 10,
                                 9,
                                 8
                              ],
                              [
                                 22,
                                 21,
                                 20,
                                 19,
                                 18,
                                 17,
                                 16,
                                 15,
                                 14,
                                 13,
                                 12,
                                 11,
                                 10,
                                 9,
                                 8
                              ],
                              [
                                 22,
                                 21,
                                 20,
                                 19,
                                 18,
                                 17,
                                 16,
                                 15,
                                 14,
                                 13,
                                 12,
                                 11,
                                 10,
                                 9,
                                 8
                              ],
                              [
                                 22,
                                 21,
                                 20,
                                 19,
                                 18,
                                 17,
                                 16,
                                 15,
                                 14,
                                 13,
                                 12,
                                 11,
                                 10,
                                 9,
                                 8
                              ]
                           ],
                           "y": [
                              [
                                 15,
                                 15,
                                 15,
                                 15,
                                 15,
                                 15,
                                 15,
                                 15,
                                 15,
                                 15,
                                 15,
                                 15,
                                 15,
                                 15,
                                 15
                              ],
                              [
                                 14,
                                 14,
                                 14,
                                 14,
                                 14,
                                 14,
                                 14,
                                 14,
                                 14,
                                 14,
                                 14,
                                 14,
                                 14,
                                 14,
                                 14
                              ],
                              [
                                 13,
                                 13,
                                 13,
                                 13,
                                 13,
                                 13,
                                 13,
                                 13,
                                 13,
                                 13,
                                 13,
                                 13,
                                 13,
                                 13,
                                 13
                              ],
                              [
                                 12,
                                 12,
                                 12,
                                 12,
                                 12,
                                 12,
                                 12,
                                 12,
                                 12,
                                 12,
                                 12,
                                 12,
                                 12,
                                 12,
                                 12
                              ],
                              [
                                 11,
                                 11,
                                 11,
                                 11,
                                 11,
                                 11,
                                 11,
                                 11,
                                 11,
                                 11,
                                 11,
                                 11,
                                 11,
                                 11,
                                 11
                              ],
                              [
                                 10,
                                 10,
                                 10,
                                 10,
                                 10,
                                 10,
                                 10,
                                 10,
                                 10,
                                 10,
                                 10,
                                 10,
                                 10,
                                 10,
                                 10
                              ],
                              [
                                 9,
                                 9,
                                 9,
                                 9,
                                 9,
                                 9,
                                 9,
                                 9,
                                 9,
                                 9,
                                 9,
                                 9,
                                 9,
                                 9,
                                 9
                              ],
                              [
                                 8,
                                 8,
                                 8,
                                 8,
                                 8,
                                 8,
                                 8,
                                 8,
                                 8,
                                 8,
                                 8,
                                 8,
                                 8,
                                 8,
                                 8
                              ],
                              [
                                 7,
                                 7,
                                 7,
                                 7,
                                 7,
                                 7,
                                 7,
                                 7,
                                 7,
                                 7,
                                 7,
                                 7,
                                 7,
                                 7,
                                 7
                              ],
                              [
                                 6,
                                 6,
                                 6,
                                 6,
                                 6,
                                 6,
                                 6,
                                 6,
                                 6,
                                 6,
                                 6,
                                 6,
                                 6,
                                 6,
                                 6
                              ],
                              [
                                 5,
                                 5,
                                 5,
                                 5,
                                 5,
                                 5,
                                 5,
                                 5,
                                 5,
                                 5,
                                 5,
                                 5,
                                 5,
                                 5,
                                 5
                              ],
                              [
                                 4,
                                 4,
                                 4,
                                 4,
                                 4,
                                 4,
                                 4,
                                 4,
                                 4,
                                 4,
                                 4,
                                 4,
                                 4,
                                 4,
                                 4
                              ],
                              [
                                 3,
                                 3,
                                 3,
                                 3,
                                 3,
                                 3,
                                 3,
                                 3,
                                 3,
                                 3,
                                 3,
                                 3,
                                 3,
                                 3,
                                 3
                              ],
                              [
                                 2,
                                 2,
                                 2,
                                 2,
                                 2,
                                 2,
                                 2,
                                 2,
                                 2,
                                 2,
                                 2,
                                 2,
                                 2,
                                 2,
                                 2
                              ],
                              [
                                 1,
                                 1,
                                 1,
                                 1,
                                 1,
                                 1,
                                 1,
                                 1,
                                 1,
                                 1,
                                 1,
                                 1,
                                 1,
                                 1,
                                 1
                              ],
                              [
                                 0,
                                 0,
                                 0,
                                 0,
                                 0,
                                 0,
                                 0,
                                 0,
                                 0,
                                 0,
                                 0,
                                 0,
                                 0,
                                 0,
                                 0
                              ]
                           ],
                           "z": [
                              [
                                 413,
                                 413,
                                 413,
                                 413,
                                 413,
                                 413,
                                 413,
                                 413,
                                 413,
                                 413,
                                 413,
                                 413,
                                 413,
                                 413,
                                 413
                              ],
                              [
                                 413,
                                 413,
                                 413,
                                 413,
                                 413,
                                 413,
                                 413,
                                 413,
                                 413,
                                 413,
                                 413,
                                 413,
                                 413,
                                 413,
                                 413
                              ],
                              [
                                 413,
                                 413,
                                 413,
                                 413,
                                 413,
                                 413,
                                 413,
                                 413,
                                 413,
                                 413,
                                 413,
                                 413,
                                 413,
                                 413,
                                 413
                              ],
                              [
                                 413,
                                 413,
                                 413,
                                 413,
                                 413,
                                 413,
                                 413,
                                 413,
                                 413,
                                 413,
                                 413,
                                 413,
                                 413,
                                 413,
                                 413
                              ],
                              [
                                 413,
                                 413,
                                 413,
                                 413,
                                 413,
                                 413,
                                 413,
                                 413,
                                 413,
                                 413,
                                 413,
                                 413,
                                 413,
                                 413,
                                 413
                              ],
                              [
                                 413,
                                 413,
                                 413,
                                 413,
                                 413,
                                 413,
                                 413,
                                 413,
                                 413,
                                 413,
                                 413,
                                 413,
                                 413,
                                 413,
                                 413
                              ],
                              [
                                 413,
                                 413,
                                 413,
                                 413,
                                 413,
                                 413,
                                 413,
                                 413,
                                 413,
                                 413,
                                 413,
                                 413,
                                 413,
                                 413,
                                 413
                              ],
                              [
                                 413,
                                 413,
                                 413,
                                 413,
                                 413,
                                 413,
                                 413,
                                 413,
                                 413,
                                 413,
                                 413,
                                 413,
                                 413,
                                 413,
                                 413
                              ],
                              [
                                 413,
                                 413,
                                 413,
                                 413,
                                 413,
                                 413,
                                 413,
                                 413,
                                 413,
                                 413,
                                 413,
                                 413,
                                 413,
                                 413,
                                 413
                              ],
                              [
                                 413,
                                 413,
                                 413,
                                 413,
                                 413,
                                 413,
                                 413,
                                 413,
                                 413,
                                 413,
                                 413,
                                 413,
                                 413,
                                 413,
                                 413
                              ],
                              [
                                 413,
                                 413,
                                 413,
                                 413,
                                 413,
                                 413,
                                 413,
                                 413,
                                 413,
                                 413,
                                 413,
                                 413,
                                 413,
                                 410,
                                 410
                              ],
                              [
                                 405,
                                 405,
                                 405,
                                 405,
                                 405,
                                 405,
                                 405,
                                 405,
                                 405,
                                 405,
                                 405,
                                 404,
                                 404,
                                 400,
                                 397
                              ],
                              [
                                 384,
                                 384,
                                 384,
                                 384,
                                 384,
                                 384,
                                 384,
                                 384,
                                 384,
                                 384,
                                 384,
                                 379,
                                 379,
                                 379,
                                 369
                              ],
                              [
                                 326,
                                 326,
                                 326,
                                 326,
                                 326,
                                 326,
                                 326,
                                 326,
                                 326,
                                 326,
                                 326,
                                 325,
                                 325,
                                 325,
                                 302
                              ],
                              [
                                 194,
                                 194,
                                 194,
                                 194,
                                 194,
                                 194,
                                 194,
                                 194,
                                 194,
                                 194,
                                 194,
                                 180,
                                 180,
                                 180,
                                 177
                              ],
                              [
                                 0,
                                 0,
                                 0,
                                 0,
                                 0,
                                 0,
                                 0,
                                 0,
                                 0,
                                 0,
                                 0,
                                 0,
                                 0,
                                 0,
                                 0
                              ]
                           ]
                        }
                     ],
                     "layout": {
                        "scene": {
                           "xaxis": {
                              "title": {
                                 "text": "Days"
                              }
                           },
                           "yaxis": {
                              "title": {
                                 "text": "Jobs"
                              }
                           },
                           "zaxis": {
                              "title": {
                                 "text": "Benefit"
                              }
                           }
                        },
                        "template": {
                           "data": {
                              "bar": [
                                 {
                                    "error_x": {
                                       "color": "#2a3f5f"
                                    },
                                    "error_y": {
                                       "color": "#2a3f5f"
                                    },
                                    "marker": {
                                       "line": {
                                          "color": "#E5ECF6",
                                          "width": 0.5
                                       },
                                       "pattern": {
                                          "fillmode": "overlay",
                                          "size": 10,
                                          "solidity": 0.2
                                       }
                                    },
                                    "type": "bar"
                                 }
                              ],
                              "barpolar": [
                                 {
                                    "marker": {
                                       "line": {
                                          "color": "#E5ECF6",
                                          "width": 0.5
                                       },
                                       "pattern": {
                                          "fillmode": "overlay",
                                          "size": 10,
                                          "solidity": 0.2
                                       }
                                    },
                                    "type": "barpolar"
                                 }
                              ],
                              "carpet": [
                                 {
                                    "aaxis": {
                                       "endlinecolor": "#2a3f5f",
                                       "gridcolor": "white",
                                       "linecolor": "white",
                                       "minorgridcolor": "white",
                                       "startlinecolor": "#2a3f5f"
                                    },
                                    "baxis": {
                                       "endlinecolor": "#2a3f5f",
                                       "gridcolor": "white",
                                       "linecolor": "white",
                                       "minorgridcolor": "white",
                                       "startlinecolor": "#2a3f5f"
                                    },
                                    "type": "carpet"
                                 }
                              ],
                              "choropleth": [
                                 {
                                    "colorbar": {
                                       "outlinewidth": 0,
                                       "ticks": ""
                                    },
                                    "type": "choropleth"
                                 }
                              ],
                              "contour": [
                                 {
                                    "colorbar": {
                                       "outlinewidth": 0,
                                       "ticks": ""
                                    },
                                    "colorscale": [
                                       [
                                          0,
                                          "#0d0887"
                                       ],
                                       [
                                          0.1111111111111111,
                                          "#46039f"
                                       ],
                                       [
                                          0.2222222222222222,
                                          "#7201a8"
                                       ],
                                       [
                                          0.3333333333333333,
                                          "#9c179e"
                                       ],
                                       [
                                          0.4444444444444444,
                                          "#bd3786"
                                       ],
                                       [
                                          0.5555555555555556,
                                          "#d8576b"
                                       ],
                                       [
                                          0.6666666666666666,
                                          "#ed7953"
                                       ],
                                       [
                                          0.7777777777777778,
                                          "#fb9f3a"
                                       ],
                                       [
                                          0.8888888888888888,
                                          "#fdca26"
                                       ],
                                       [
                                          1,
                                          "#f0f921"
                                       ]
                                    ],
                                    "type": "contour"
                                 }
                              ],
                              "contourcarpet": [
                                 {
                                    "colorbar": {
                                       "outlinewidth": 0,
                                       "ticks": ""
                                    },
                                    "type": "contourcarpet"
                                 }
                              ],
                              "heatmap": [
                                 {
                                    "colorbar": {
                                       "outlinewidth": 0,
                                       "ticks": ""
                                    },
                                    "colorscale": [
                                       [
                                          0,
                                          "#0d0887"
                                       ],
                                       [
                                          0.1111111111111111,
                                          "#46039f"
                                       ],
                                       [
                                          0.2222222222222222,
                                          "#7201a8"
                                       ],
                                       [
                                          0.3333333333333333,
                                          "#9c179e"
                                       ],
                                       [
                                          0.4444444444444444,
                                          "#bd3786"
                                       ],
                                       [
                                          0.5555555555555556,
                                          "#d8576b"
                                       ],
                                       [
                                          0.6666666666666666,
                                          "#ed7953"
                                       ],
                                       [
                                          0.7777777777777778,
                                          "#fb9f3a"
                                       ],
                                       [
                                          0.8888888888888888,
                                          "#fdca26"
                                       ],
                                       [
                                          1,
                                          "#f0f921"
                                       ]
                                    ],
                                    "type": "heatmap"
                                 }
                              ],
                              "heatmapgl": [
                                 {
                                    "colorbar": {
                                       "outlinewidth": 0,
                                       "ticks": ""
                                    },
                                    "colorscale": [
                                       [
                                          0,
                                          "#0d0887"
                                       ],
                                       [
                                          0.1111111111111111,
                                          "#46039f"
                                       ],
                                       [
                                          0.2222222222222222,
                                          "#7201a8"
                                       ],
                                       [
                                          0.3333333333333333,
                                          "#9c179e"
                                       ],
                                       [
                                          0.4444444444444444,
                                          "#bd3786"
                                       ],
                                       [
                                          0.5555555555555556,
                                          "#d8576b"
                                       ],
                                       [
                                          0.6666666666666666,
                                          "#ed7953"
                                       ],
                                       [
                                          0.7777777777777778,
                                          "#fb9f3a"
                                       ],
                                       [
                                          0.8888888888888888,
                                          "#fdca26"
                                       ],
                                       [
                                          1,
                                          "#f0f921"
                                       ]
                                    ],
                                    "type": "heatmapgl"
                                 }
                              ],
                              "histogram": [
                                 {
                                    "marker": {
                                       "pattern": {
                                          "fillmode": "overlay",
                                          "size": 10,
                                          "solidity": 0.2
                                       }
                                    },
                                    "type": "histogram"
                                 }
                              ],
                              "histogram2d": [
                                 {
                                    "colorbar": {
                                       "outlinewidth": 0,
                                       "ticks": ""
                                    },
                                    "colorscale": [
                                       [
                                          0,
                                          "#0d0887"
                                       ],
                                       [
                                          0.1111111111111111,
                                          "#46039f"
                                       ],
                                       [
                                          0.2222222222222222,
                                          "#7201a8"
                                       ],
                                       [
                                          0.3333333333333333,
                                          "#9c179e"
                                       ],
                                       [
                                          0.4444444444444444,
                                          "#bd3786"
                                       ],
                                       [
                                          0.5555555555555556,
                                          "#d8576b"
                                       ],
                                       [
                                          0.6666666666666666,
                                          "#ed7953"
                                       ],
                                       [
                                          0.7777777777777778,
                                          "#fb9f3a"
                                       ],
                                       [
                                          0.8888888888888888,
                                          "#fdca26"
                                       ],
                                       [
                                          1,
                                          "#f0f921"
                                       ]
                                    ],
                                    "type": "histogram2d"
                                 }
                              ],
                              "histogram2dcontour": [
                                 {
                                    "colorbar": {
                                       "outlinewidth": 0,
                                       "ticks": ""
                                    },
                                    "colorscale": [
                                       [
                                          0,
                                          "#0d0887"
                                       ],
                                       [
                                          0.1111111111111111,
                                          "#46039f"
                                       ],
                                       [
                                          0.2222222222222222,
                                          "#7201a8"
                                       ],
                                       [
                                          0.3333333333333333,
                                          "#9c179e"
                                       ],
                                       [
                                          0.4444444444444444,
                                          "#bd3786"
                                       ],
                                       [
                                          0.5555555555555556,
                                          "#d8576b"
                                       ],
                                       [
                                          0.6666666666666666,
                                          "#ed7953"
                                       ],
                                       [
                                          0.7777777777777778,
                                          "#fb9f3a"
                                       ],
                                       [
                                          0.8888888888888888,
                                          "#fdca26"
                                       ],
                                       [
                                          1,
                                          "#f0f921"
                                       ]
                                    ],
                                    "type": "histogram2dcontour"
                                 }
                              ],
                              "mesh3d": [
                                 {
                                    "colorbar": {
                                       "outlinewidth": 0,
                                       "ticks": ""
                                    },
                                    "type": "mesh3d"
                                 }
                              ],
                              "parcoords": [
                                 {
                                    "line": {
                                       "colorbar": {
                                          "outlinewidth": 0,
                                          "ticks": ""
                                       }
                                    },
                                    "type": "parcoords"
                                 }
                              ],
                              "pie": [
                                 {
                                    "automargin": true,
                                    "type": "pie"
                                 }
                              ],
                              "scatter": [
                                 {
                                    "fillpattern": {
                                       "fillmode": "overlay",
                                       "size": 10,
                                       "solidity": 0.2
                                    },
                                    "type": "scatter"
                                 }
                              ],
                              "scatter3d": [
                                 {
                                    "line": {
                                       "colorbar": {
                                          "outlinewidth": 0,
                                          "ticks": ""
                                       }
                                    },
                                    "marker": {
                                       "colorbar": {
                                          "outlinewidth": 0,
                                          "ticks": ""
                                       }
                                    },
                                    "type": "scatter3d"
                                 }
                              ],
                              "scattercarpet": [
                                 {
                                    "marker": {
                                       "colorbar": {
                                          "outlinewidth": 0,
                                          "ticks": ""
                                       }
                                    },
                                    "type": "scattercarpet"
                                 }
                              ],
                              "scattergeo": [
                                 {
                                    "marker": {
                                       "colorbar": {
                                          "outlinewidth": 0,
                                          "ticks": ""
                                       }
                                    },
                                    "type": "scattergeo"
                                 }
                              ],
                              "scattergl": [
                                 {
                                    "marker": {
                                       "colorbar": {
                                          "outlinewidth": 0,
                                          "ticks": ""
                                       }
                                    },
                                    "type": "scattergl"
                                 }
                              ],
                              "scattermapbox": [
                                 {
                                    "marker": {
                                       "colorbar": {
                                          "outlinewidth": 0,
                                          "ticks": ""
                                       }
                                    },
                                    "type": "scattermapbox"
                                 }
                              ],
                              "scatterpolar": [
                                 {
                                    "marker": {
                                       "colorbar": {
                                          "outlinewidth": 0,
                                          "ticks": ""
                                       }
                                    },
                                    "type": "scatterpolar"
                                 }
                              ],
                              "scatterpolargl": [
                                 {
                                    "marker": {
                                       "colorbar": {
                                          "outlinewidth": 0,
                                          "ticks": ""
                                       }
                                    },
                                    "type": "scatterpolargl"
                                 }
                              ],
                              "scatterternary": [
                                 {
                                    "marker": {
                                       "colorbar": {
                                          "outlinewidth": 0,
                                          "ticks": ""
                                       }
                                    },
                                    "type": "scatterternary"
                                 }
                              ],
                              "surface": [
                                 {
                                    "colorbar": {
                                       "outlinewidth": 0,
                                       "ticks": ""
                                    },
                                    "colorscale": [
                                       [
                                          0,
                                          "#0d0887"
                                       ],
                                       [
                                          0.1111111111111111,
                                          "#46039f"
                                       ],
                                       [
                                          0.2222222222222222,
                                          "#7201a8"
                                       ],
                                       [
                                          0.3333333333333333,
                                          "#9c179e"
                                       ],
                                       [
                                          0.4444444444444444,
                                          "#bd3786"
                                       ],
                                       [
                                          0.5555555555555556,
                                          "#d8576b"
                                       ],
                                       [
                                          0.6666666666666666,
                                          "#ed7953"
                                       ],
                                       [
                                          0.7777777777777778,
                                          "#fb9f3a"
                                       ],
                                       [
                                          0.8888888888888888,
                                          "#fdca26"
                                       ],
                                       [
                                          1,
                                          "#f0f921"
                                       ]
                                    ],
                                    "type": "surface"
                                 }
                              ],
                              "table": [
                                 {
                                    "cells": {
                                       "fill": {
                                          "color": "#EBF0F8"
                                       },
                                       "line": {
                                          "color": "white"
                                       }
                                    },
                                    "header": {
                                       "fill": {
                                          "color": "#C8D4E3"
                                       },
                                       "line": {
                                          "color": "white"
                                       }
                                    },
                                    "type": "table"
                                 }
                              ]
                           },
                           "layout": {
                              "annotationdefaults": {
                                 "arrowcolor": "#2a3f5f",
                                 "arrowhead": 0,
                                 "arrowwidth": 1
                              },
                              "autotypenumbers": "strict",
                              "coloraxis": {
                                 "colorbar": {
                                    "outlinewidth": 0,
                                    "ticks": ""
                                 }
                              },
                              "colorscale": {
                                 "diverging": [
                                    [
                                       0,
                                       "#8e0152"
                                    ],
                                    [
                                       0.1,
                                       "#c51b7d"
                                    ],
                                    [
                                       0.2,
                                       "#de77ae"
                                    ],
                                    [
                                       0.3,
                                       "#f1b6da"
                                    ],
                                    [
                                       0.4,
                                       "#fde0ef"
                                    ],
                                    [
                                       0.5,
                                       "#f7f7f7"
                                    ],
                                    [
                                       0.6,
                                       "#e6f5d0"
                                    ],
                                    [
                                       0.7,
                                       "#b8e186"
                                    ],
                                    [
                                       0.8,
                                       "#7fbc41"
                                    ],
                                    [
                                       0.9,
                                       "#4d9221"
                                    ],
                                    [
                                       1,
                                       "#276419"
                                    ]
                                 ],
                                 "sequential": [
                                    [
                                       0,
                                       "#0d0887"
                                    ],
                                    [
                                       0.1111111111111111,
                                       "#46039f"
                                    ],
                                    [
                                       0.2222222222222222,
                                       "#7201a8"
                                    ],
                                    [
                                       0.3333333333333333,
                                       "#9c179e"
                                    ],
                                    [
                                       0.4444444444444444,
                                       "#bd3786"
                                    ],
                                    [
                                       0.5555555555555556,
                                       "#d8576b"
                                    ],
                                    [
                                       0.6666666666666666,
                                       "#ed7953"
                                    ],
                                    [
                                       0.7777777777777778,
                                       "#fb9f3a"
                                    ],
                                    [
                                       0.8888888888888888,
                                       "#fdca26"
                                    ],
                                    [
                                       1,
                                       "#f0f921"
                                    ]
                                 ],
                                 "sequentialminus": [
                                    [
                                       0,
                                       "#0d0887"
                                    ],
                                    [
                                       0.1111111111111111,
                                       "#46039f"
                                    ],
                                    [
                                       0.2222222222222222,
                                       "#7201a8"
                                    ],
                                    [
                                       0.3333333333333333,
                                       "#9c179e"
                                    ],
                                    [
                                       0.4444444444444444,
                                       "#bd3786"
                                    ],
                                    [
                                       0.5555555555555556,
                                       "#d8576b"
                                    ],
                                    [
                                       0.6666666666666666,
                                       "#ed7953"
                                    ],
                                    [
                                       0.7777777777777778,
                                       "#fb9f3a"
                                    ],
                                    [
                                       0.8888888888888888,
                                       "#fdca26"
                                    ],
                                    [
                                       1,
                                       "#f0f921"
                                    ]
                                 ]
                              },
                              "colorway": [
                                 "#636efa",
                                 "#EF553B",
                                 "#00cc96",
                                 "#ab63fa",
                                 "#FFA15A",
                                 "#19d3f3",
                                 "#FF6692",
                                 "#B6E880",
                                 "#FF97FF",
                                 "#FECB52"
                              ],
                              "font": {
                                 "color": "#2a3f5f"
                              },
                              "geo": {
                                 "bgcolor": "white",
                                 "lakecolor": "white",
                                 "landcolor": "#E5ECF6",
                                 "showlakes": true,
                                 "showland": true,
                                 "subunitcolor": "white"
                              },
                              "hoverlabel": {
                                 "align": "left"
                              },
                              "hovermode": "closest",
                              "mapbox": {
                                 "style": "light"
                              },
                              "paper_bgcolor": "white",
                              "plot_bgcolor": "#E5ECF6",
                              "polar": {
                                 "angularaxis": {
                                    "gridcolor": "white",
                                    "linecolor": "white",
                                    "ticks": ""
                                 },
                                 "bgcolor": "#E5ECF6",
                                 "radialaxis": {
                                    "gridcolor": "white",
                                    "linecolor": "white",
                                    "ticks": ""
                                 }
                              },
                              "scene": {
                                 "xaxis": {
                                    "backgroundcolor": "#E5ECF6",
                                    "gridcolor": "white",
                                    "gridwidth": 2,
                                    "linecolor": "white",
                                    "showbackground": true,
                                    "ticks": "",
                                    "zerolinecolor": "white"
                                 },
                                 "yaxis": {
                                    "backgroundcolor": "#E5ECF6",
                                    "gridcolor": "white",
                                    "gridwidth": 2,
                                    "linecolor": "white",
                                    "showbackground": true,
                                    "ticks": "",
                                    "zerolinecolor": "white"
                                 },
                                 "zaxis": {
                                    "backgroundcolor": "#E5ECF6",
                                    "gridcolor": "white",
                                    "gridwidth": 2,
                                    "linecolor": "white",
                                    "showbackground": true,
                                    "ticks": "",
                                    "zerolinecolor": "white"
                                 }
                              },
                              "shapedefaults": {
                                 "line": {
                                    "color": "#2a3f5f"
                                 }
                              },
                              "ternary": {
                                 "aaxis": {
                                    "gridcolor": "white",
                                    "linecolor": "white",
                                    "ticks": ""
                                 },
                                 "baxis": {
                                    "gridcolor": "white",
                                    "linecolor": "white",
                                    "ticks": ""
                                 },
                                 "bgcolor": "#E5ECF6",
                                 "caxis": {
                                    "gridcolor": "white",
                                    "linecolor": "white",
                                    "ticks": ""
                                 }
                              },
                              "title": {
                                 "x": 0.05
                              },
                              "xaxis": {
                                 "automargin": true,
                                 "gridcolor": "white",
                                 "linecolor": "white",
                                 "ticks": "",
                                 "title": {
                                    "standoff": 15
                                 },
                                 "zerolinecolor": "white",
                                 "zerolinewidth": 2
                              },
                              "yaxis": {
                                 "automargin": true,
                                 "gridcolor": "white",
                                 "linecolor": "white",
                                 "ticks": "",
                                 "title": {
                                    "standoff": 15
                                 },
                                 "zerolinecolor": "white",
                                 "zerolinewidth": 2
                              }
                           }
                        }
                     }
                  }
               },
               "metadata": {},
               "output_type": "display_data"
            }
         ],
         "source": [
            "Z = np.array(points[:,2]).reshape(15 ,n_jobs+1)\n",
            "\n",
            "X = np.linspace(horizon,8, 15)\n",
            "Y = np.linspace(n_jobs,0,n_jobs +1)\n",
            "X, Y = np.meshgrid(X, Y)\n",
            "\n",
            "\n",
            "fig = go.Figure(data=[go.Surface(x=X, y=Y, z=Z.T)])\n",
            "fig.update_layout(scene=dict(xaxis_title=\"Days\", yaxis_title=\"Jobs\", zaxis_title=\"Benefit\"))\n",
            "fig.show()"
         ]
      },
      {
         "cell_type": "code",
         "execution_count": null,
         "metadata": {},
         "outputs": [],
         "source": []
      }
   ],
   "metadata": {
      "kernelspec": {
         "display_name": "base",
         "language": "python",
         "name": "python3"
      },
      "language_info": {
         "codemirror_mode": {
            "name": "ipython",
            "version": 3
         },
         "file_extension": ".py",
         "mimetype": "text/x-python",
         "name": "python",
         "nbconvert_exporter": "python",
         "pygments_lexer": "ipython3",
         "version": "3.9.13"
      },
      "orig_nbformat": 4,
      "vscode": {
         "interpreter": {
            "hash": "b28994c5a928968583f09e2df007a98e881f3ff9338db31e6d108d2714b0f296"
         }
      }
   },
   "nbformat": 4,
   "nbformat_minor": 2
}
